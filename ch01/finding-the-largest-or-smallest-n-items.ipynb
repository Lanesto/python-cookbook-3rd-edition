{
 "metadata": {
  "language_info": {
   "codemirror_mode": {
    "name": "ipython",
    "version": 3
   },
   "file_extension": ".py",
   "mimetype": "text/x-python",
   "name": "python",
   "nbconvert_exporter": "python",
   "pygments_lexer": "ipython3",
   "version": "3.9.1-final"
  },
  "orig_nbformat": 2,
  "kernelspec": {
   "name": "python3",
   "display_name": "Python 3",
   "language": "python"
  }
 },
 "nbformat": 4,
 "nbformat_minor": 2,
 "cells": [
  {
   "cell_type": "code",
   "execution_count": 1,
   "metadata": {},
   "outputs": [],
   "source": [
    "%load_ext pycodestyle_magic\n",
    "%load_ext mypy_ipython\n",
    "%pycodestyle_on"
   ]
  },
  {
   "cell_type": "code",
   "execution_count": 2,
   "metadata": {},
   "outputs": [],
   "source": [
    "import doctest"
   ]
  },
  {
   "cell_type": "code",
   "execution_count": 3,
   "metadata": {},
   "outputs": [
    {
     "output_type": "execute_result",
     "data": {
      "text/plain": [
       "TestResults(failed=0, attempted=3)"
      ]
     },
     "metadata": {},
     "execution_count": 3
    }
   ],
   "source": [
    "import heapq\n",
    "\n",
    "\"\"\"\n",
    "\n",
    ">>> nums = [1, 8, 2, 23, 7, -4, 18, 23, 42, 37, 2]\n",
    ">>> heapq.nlargest(3, nums)\n",
    "[42, 37, 23]\n",
    ">>> heapq.nsmallest(3, nums)\n",
    "[-4, 1, 2]\n",
    "\"\"\"\n",
    "\n",
    "doctest.testmod()"
   ]
  },
  {
   "cell_type": "code",
   "execution_count": 4,
   "metadata": {},
   "outputs": [
    {
     "output_type": "execute_result",
     "data": {
      "text/plain": [
       "TestResults(failed=0, attempted=5)"
      ]
     },
     "metadata": {},
     "execution_count": 4
    }
   ],
   "source": [
    "import heapq\n",
    "import operator\n",
    "\n",
    "\"\"\"\n",
    "\n",
    ">>> portfolio = [\n",
    "...     {'name': 'IBM', 'shares': 100, 'price': 91.1},\n",
    "...     {'name': 'AAPL', 'shares': 50, 'price': 543.22},\n",
    "...     {'name': 'FB', 'shares': 200, 'price': 21.09},\n",
    "...     {'name': 'HPQ', 'shares': 35, 'price': 31.75},\n",
    "...     {'name': 'YHOO', 'shares': 45, 'price': 16.35},\n",
    "...     {'name': 'ACME', 'shares': 75, 'price': 115.65},\n",
    "... ]\n",
    ">>> cheap = heapq.nsmallest(3, portfolio, key=operator.itemgetter('price'))\n",
    ">>> cheap  # doctest: +NORMALIZE_WHITESPACE\n",
    "    [{'name': 'YHOO', 'shares': 45, 'price': 16.35},\n",
    "     {'name': 'FB', 'shares': 200, 'price': 21.09},\n",
    "     {'name': 'HPQ', 'shares': 35, 'price': 31.75}]\n",
    ">>> expensive = heapq.nlargest(3, portfolio, key=operator.itemgetter('price'))\n",
    ">>> expensive  # doctest: +NORMALIZE_WHITESPACE\n",
    "    [{'name': 'AAPL', 'shares': 50, 'price': 543.22},\n",
    "     {'name': 'ACME', 'shares': 75, 'price': 115.65},\n",
    "     {'name': 'IBM', 'shares': 100, 'price': 91.1}]\n",
    "\"\"\"\n",
    "\n",
    "doctest.testmod()"
   ]
  },
  {
   "cell_type": "code",
   "execution_count": 5,
   "metadata": {},
   "outputs": [
    {
     "output_type": "execute_result",
     "data": {
      "text/plain": [
       "TestResults(failed=0, attempted=7)"
      ]
     },
     "metadata": {},
     "execution_count": 5
    }
   ],
   "source": [
    "import heapq\n",
    "\n",
    "\"\"\"\n",
    "\n",
    ">>> nums = [1, 8, 2, 23, 7, -4, 18, 23, 42, 37, 2]\n",
    ">>> heap = nums[:]\n",
    ">>> heapq.heapify(heap)\n",
    ">>> heap\n",
    "[-4, 2, 1, 23, 7, 2, 18, 23, 42, 37, 8]\n",
    ">>> heapq.heappop(heap)\n",
    "-4\n",
    ">>> heapq.heappop(heap)\n",
    "1\n",
    ">>> heapq.heappop(heap)\n",
    "2\n",
    "\"\"\"\n",
    "\n",
    "doctest.testmod()"
   ]
  },
  {
   "cell_type": "code",
   "execution_count": null,
   "metadata": {},
   "outputs": [],
   "source": []
  }
 ]
}