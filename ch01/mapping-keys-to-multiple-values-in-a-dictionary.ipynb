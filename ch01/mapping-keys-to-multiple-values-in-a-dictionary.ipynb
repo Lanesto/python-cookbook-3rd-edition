{
 "metadata": {
  "language_info": {
   "codemirror_mode": {
    "name": "ipython",
    "version": 3
   },
   "file_extension": ".py",
   "mimetype": "text/x-python",
   "name": "python",
   "nbconvert_exporter": "python",
   "pygments_lexer": "ipython3",
   "version": "3.9.1-final"
  },
  "orig_nbformat": 2,
  "kernelspec": {
   "name": "python3",
   "display_name": "Python 3",
   "language": "python"
  }
 },
 "nbformat": 4,
 "nbformat_minor": 2,
 "cells": [
  {
   "cell_type": "code",
   "execution_count": 1,
   "metadata": {},
   "outputs": [],
   "source": [
    "%load_ext pycodestyle_magic\n",
    "%load_ext mypy_ipython\n",
    "%pycodestyle_on"
   ]
  },
  {
   "cell_type": "code",
   "execution_count": 2,
   "metadata": {},
   "outputs": [],
   "source": [
    "import doctest"
   ]
  },
  {
   "cell_type": "code",
   "execution_count": 3,
   "metadata": {},
   "outputs": [
    {
     "output_type": "execute_result",
     "data": {
      "text/plain": [
       "TestResults(failed=0, attempted=11)"
      ]
     },
     "metadata": {},
     "execution_count": 3
    }
   ],
   "source": [
    "from collections import defaultdict\n",
    "\n",
    "\"\"\"\n",
    ">>> d = defaultdict(list)\n",
    ">>> d['a'].append(1)\n",
    ">>> d['a'].append(2)\n",
    ">>> d['b'].append(4)\n",
    ">>> d['a']\n",
    "[1, 2]\n",
    ">>> d['b']\n",
    "[4]\n",
    "\n",
    ">>> d = dict()\n",
    ">>> d.setdefault('a', []).append(1)\n",
    ">>> d.setdefault('a', []).append(2)\n",
    ">>> d.setdefault('b', []).append(4)\n",
    ">>> d\n",
    "{'a': [1, 2], 'b': [4]}\n",
    "\"\"\"\n",
    "\n",
    "doctest.testmod()"
   ]
  },
  {
   "cell_type": "code",
   "execution_count": null,
   "metadata": {},
   "outputs": [],
   "source": []
  }
 ]
}