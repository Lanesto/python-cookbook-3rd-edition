{
 "metadata": {
  "language_info": {
   "codemirror_mode": {
    "name": "ipython",
    "version": 3
   },
   "file_extension": ".py",
   "mimetype": "text/x-python",
   "name": "python",
   "nbconvert_exporter": "python",
   "pygments_lexer": "ipython3",
   "version": "3.9.1-final"
  },
  "orig_nbformat": 2,
  "kernelspec": {
   "name": "python3",
   "display_name": "Python 3",
   "language": "python"
  }
 },
 "nbformat": 4,
 "nbformat_minor": 2,
 "cells": [
  {
   "cell_type": "code",
   "execution_count": 1,
   "metadata": {},
   "outputs": [],
   "source": [
    "%load_ext pycodestyle_magic\n",
    "%load_ext mypy_ipython\n",
    "%pycodestyle_on"
   ]
  },
  {
   "cell_type": "code",
   "execution_count": 2,
   "metadata": {},
   "outputs": [],
   "source": [
    "import doctest"
   ]
  },
  {
   "cell_type": "code",
   "execution_count": 3,
   "metadata": {},
   "outputs": [
    {
     "output_type": "execute_result",
     "data": {
      "text/plain": [
       "TestResults(failed=0, attempted=6)"
      ]
     },
     "metadata": {},
     "execution_count": 3
    }
   ],
   "source": [
    "\"\"\"\n",
    "\n",
    ">>> prices = {\n",
    "...     'ACME': 45.23,\n",
    "...     'AAPL': 612.78,\n",
    "...     'IBM': 205.55,\n",
    "...     'HPQ': 37.20,\n",
    "...     'FB': 10.75\n",
    "... }\n",
    ">>> p1 = dict((key, value) for key, value in prices.items() if value > 200)\n",
    ">>> p1\n",
    "{'AAPL': 612.78, 'IBM': 205.55}\n",
    ">>> tech_names = {'AAPL', 'IBM', 'HPQ', 'MSFT'}\n",
    ">>> p2 = { k: prices[k] for k in prices.keys() & tech_names }\n",
    ">>> p2\n",
    "{'HPQ': 37.2, 'AAPL': 612.78, 'IBM': 205.55}\n",
    "\"\"\"\n",
    "\n",
    "doctest.testmod()"
   ]
  },
  {
   "cell_type": "code",
   "execution_count": null,
   "metadata": {},
   "outputs": [],
   "source": []
  }
 ]
}