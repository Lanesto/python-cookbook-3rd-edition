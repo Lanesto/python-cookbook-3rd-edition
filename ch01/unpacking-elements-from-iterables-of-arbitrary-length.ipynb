{
 "metadata": {
  "language_info": {
   "codemirror_mode": {
    "name": "ipython",
    "version": 3
   },
   "file_extension": ".py",
   "mimetype": "text/x-python",
   "name": "python",
   "nbconvert_exporter": "python",
   "pygments_lexer": "ipython3",
   "version": "3.9.1-final"
  },
  "orig_nbformat": 2,
  "kernelspec": {
   "name": "python3",
   "display_name": "Python 3",
   "language": "python"
  }
 },
 "nbformat": 4,
 "nbformat_minor": 2,
 "cells": [
  {
   "cell_type": "code",
   "execution_count": 1,
   "metadata": {},
   "outputs": [],
   "source": [
    "%load_ext pycodestyle_magic\n",
    "%load_ext mypy_ipython\n",
    "%pycodestyle_on"
   ]
  },
  {
   "cell_type": "code",
   "execution_count": 2,
   "metadata": {},
   "outputs": [],
   "source": [
    "import doctest"
   ]
  },
  {
   "cell_type": "code",
   "execution_count": 3,
   "metadata": {},
   "outputs": [
    {
     "output_type": "execute_result",
     "data": {
      "text/plain": [
       "TestResults(failed=0, attempted=5)"
      ]
     },
     "metadata": {},
     "execution_count": 3
    }
   ],
   "source": [
    "\"\"\"\n",
    "\n",
    ">>> user_record = ('Dave', 'dave@example.com', '773-555-1212', '847-555-1212')  # noqa: E501\n",
    ">>> name, email, *phone_numbers = user_record\n",
    ">>> name\n",
    "'Dave'\n",
    ">>> email\n",
    "'dave@example.com'\n",
    ">>> phone_numbers\n",
    "['773-555-1212', '847-555-1212']\n",
    "\"\"\"\n",
    "\n",
    "doctest.testmod()"
   ]
  },
  {
   "cell_type": "code",
   "execution_count": 4,
   "metadata": {},
   "outputs": [
    {
     "output_type": "execute_result",
     "data": {
      "text/plain": [
       "TestResults(failed=0, attempted=3)"
      ]
     },
     "metadata": {},
     "execution_count": 4
    }
   ],
   "source": [
    "\"\"\"\n",
    "\n",
    ">>> *trailing, current = [10, 8, 7, 1, 9, 5, 10, 3]\n",
    ">>> trailing\n",
    "[10, 8, 7, 1, 9, 5, 10]\n",
    ">>> current\n",
    "3\n",
    "\"\"\"\n",
    "\n",
    "doctest.testmod()"
   ]
  },
  {
   "cell_type": "code",
   "execution_count": 5,
   "metadata": {},
   "outputs": [
    {
     "output_type": "execute_result",
     "data": {
      "text/plain": [
       "TestResults(failed=0, attempted=2)"
      ]
     },
     "metadata": {},
     "execution_count": 5
    }
   ],
   "source": [
    "def do_foo(x, y):\n",
    "    print('foo', x, y)\n",
    "\n",
    "\n",
    "def do_bar(s):\n",
    "    print('bar', s)\n",
    "\n",
    "\n",
    "\"\"\"\n",
    "\n",
    ">>> records = [\n",
    "...     ('foo', 1, 2),\n",
    "...     ('bar', 'hello'),\n",
    "...     ('foo', 3, 4),\n",
    "... ]\n",
    ">>> for tag, *args in records:\n",
    "...     if tag == 'foo':\n",
    "...         do_foo(*args)\n",
    "...     elif tag == 'bar':\n",
    "...         do_bar(*args)\n",
    "foo 1 2\n",
    "bar hello\n",
    "foo 3 4\n",
    "\"\"\"\n",
    "\n",
    "doctest.testmod()"
   ]
  },
  {
   "cell_type": "code",
   "execution_count": 6,
   "metadata": {},
   "outputs": [
    {
     "output_type": "execute_result",
     "data": {
      "text/plain": [
       "TestResults(failed=0, attempted=5)"
      ]
     },
     "metadata": {},
     "execution_count": 6
    }
   ],
   "source": [
    "\"\"\"\n",
    "\n",
    ">>> line = 'nobody:*:-2:-2:Unprivileged User:/var/empty:/usr/bin/false'\n",
    ">>> uname, *fields, homedir, sh = line.split(':')\n",
    ">>> uname\n",
    "'nobody'\n",
    ">>> homedir\n",
    "'/var/empty'\n",
    ">>> sh\n",
    "'/usr/bin/false'\n",
    "\"\"\"\n",
    "\n",
    "doctest.testmod()"
   ]
  },
  {
   "cell_type": "code",
   "execution_count": 7,
   "metadata": {},
   "outputs": [
    {
     "output_type": "execute_result",
     "data": {
      "text/plain": [
       "TestResults(failed=0, attempted=4)"
      ]
     },
     "metadata": {},
     "execution_count": 7
    }
   ],
   "source": [
    "\"\"\"\n",
    "\n",
    ">>> record = ('ACME', 50, 123.45, (12, 18, 2012))\n",
    ">>> name, *_, (*_, year) = record\n",
    ">>> name\n",
    "'ACME'\n",
    ">>> year\n",
    "2012\n",
    "\"\"\"\n",
    "\n",
    "doctest.testmod()"
   ]
  },
  {
   "cell_type": "code",
   "execution_count": 8,
   "metadata": {},
   "outputs": [
    {
     "output_type": "execute_result",
     "data": {
      "text/plain": [
       "TestResults(failed=0, attempted=4)"
      ]
     },
     "metadata": {},
     "execution_count": 8
    }
   ],
   "source": [
    "\"\"\"\n",
    "\n",
    ">>> items = [1, 10, 7, 4, 5, 9]\n",
    ">>> head, *tail = items\n",
    ">>> head\n",
    "1\n",
    ">>> tail\n",
    "[10, 7, 4, 5, 9]\n",
    "\"\"\"\n",
    "\n",
    "doctest.testmod()"
   ]
  },
  {
   "cell_type": "code",
   "execution_count": 9,
   "metadata": {},
   "outputs": [
    {
     "output_type": "execute_result",
     "data": {
      "text/plain": [
       "TestResults(failed=0, attempted=2)"
      ]
     },
     "metadata": {},
     "execution_count": 9
    }
   ],
   "source": [
    "def sum(items):\n",
    "    head, *tail = items\n",
    "    return head + sum(tail) if tail else head\n",
    "\n",
    "\n",
    "\"\"\"\n",
    "\n",
    ">>> items = [1, 10, 7, 4, 5, 9]\n",
    ">>> sum(items)\n",
    "36\n",
    "\"\"\"\n",
    "\n",
    "doctest.testmod()"
   ]
  },
  {
   "cell_type": "code",
   "execution_count": null,
   "metadata": {},
   "outputs": [],
   "source": []
  }
 ]
}