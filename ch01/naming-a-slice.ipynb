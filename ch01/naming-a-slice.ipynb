{
 "metadata": {
  "language_info": {
   "codemirror_mode": {
    "name": "ipython",
    "version": 3
   },
   "file_extension": ".py",
   "mimetype": "text/x-python",
   "name": "python",
   "nbconvert_exporter": "python",
   "pygments_lexer": "ipython3",
   "version": "3.9.1-final"
  },
  "orig_nbformat": 2,
  "kernelspec": {
   "name": "python3",
   "display_name": "Python 3",
   "language": "python"
  }
 },
 "nbformat": 4,
 "nbformat_minor": 2,
 "cells": [
  {
   "cell_type": "code",
   "execution_count": 1,
   "metadata": {},
   "outputs": [],
   "source": [
    "%load_ext pycodestyle_magic\n",
    "%load_ext mypy_ipython\n",
    "%pycodestyle_on"
   ]
  },
  {
   "cell_type": "code",
   "execution_count": 2,
   "metadata": {},
   "outputs": [],
   "source": [
    "import doctest"
   ]
  },
  {
   "cell_type": "code",
   "execution_count": 3,
   "metadata": {},
   "outputs": [
    {
     "output_type": "execute_result",
     "data": {
      "text/plain": [
       "TestResults(failed=0, attempted=8)"
      ]
     },
     "metadata": {},
     "execution_count": 3
    }
   ],
   "source": [
    "\"\"\"\n",
    "\n",
    ">>> items = [0, 1, 2, 3, 4, 5, 6]\n",
    ">>> a = slice(2, 4)\n",
    ">>> items[2:4]\n",
    "[2, 3]\n",
    ">>> items[a]\n",
    "[2, 3]\n",
    ">>> items[a] = [10, 11]\n",
    ">>> items\n",
    "[0, 1, 10, 11, 4, 5, 6]\n",
    ">>> del items[a]\n",
    ">>> items\n",
    "[0, 1, 4, 5, 6]\n",
    "\"\"\"\n",
    "\n",
    "doctest.testmod()"
   ]
  },
  {
   "cell_type": "code",
   "execution_count": 4,
   "metadata": {},
   "outputs": [
    {
     "output_type": "execute_result",
     "data": {
      "text/plain": [
       "TestResults(failed=0, attempted=7)"
      ]
     },
     "metadata": {},
     "execution_count": 4
    }
   ],
   "source": [
    "\"\"\"\n",
    "\n",
    ">>> a = slice(5, 50, 2)\n",
    ">>> a.start\n",
    "5\n",
    ">>> a.stop\n",
    "50\n",
    ">>> a.step\n",
    "2\n",
    ">>> s = 'HelloWorld'\n",
    ">>> a.indices(len(s))\n",
    "(5, 10, 2)\n",
    ">>> for i in range(*a.indices(len(s))):\n",
    "...     print(s[i])\n",
    "W\n",
    "r\n",
    "d\n",
    "\"\"\"\n",
    "\n",
    "doctest.testmod()"
   ]
  }
 ]
}