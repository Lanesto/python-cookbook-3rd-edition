{
 "metadata": {
  "language_info": {
   "codemirror_mode": {
    "name": "ipython",
    "version": 3
   },
   "file_extension": ".py",
   "mimetype": "text/x-python",
   "name": "python",
   "nbconvert_exporter": "python",
   "pygments_lexer": "ipython3",
   "version": "3.9.1-final"
  },
  "orig_nbformat": 2,
  "kernelspec": {
   "name": "python3",
   "display_name": "Python 3",
   "language": "python"
  }
 },
 "nbformat": 4,
 "nbformat_minor": 2,
 "cells": [
  {
   "cell_type": "code",
   "execution_count": 1,
   "metadata": {},
   "outputs": [],
   "source": [
    "%load_ext pycodestyle_magic\n",
    "%load_ext mypy_ipython\n",
    "%pycodestyle_on"
   ]
  },
  {
   "cell_type": "code",
   "execution_count": 2,
   "metadata": {},
   "outputs": [],
   "source": [
    "import doctest"
   ]
  },
  {
   "source": [
    "from collections import OrderedDict\n",
    "import json\n",
    "\n",
    "\"\"\"\n",
    "\n",
    ">>> d = OrderedDict()\n",
    ">>> d['foo'] = 1\n",
    ">>> d['bar'] = 2\n",
    ">>> d['spam'] = 3\n",
    ">>> d['grok'] = 4\n",
    ">>> for key in d:\n",
    "...     print(key, d[key])\n",
    "foo 1\n",
    "bar 2\n",
    "spam 3\n",
    "grok 4\n",
    ">>> d\n",
    "OrderedDict([('foo', 1), ('bar', 2), ('spam', 3), ('grok', 4)])\n",
    ">>> json.dumps(d)\n",
    "'{\"foo\": 1, \"bar\": 2, \"spam\": 3, \"grok\": 4}'\n",
    "\"\"\"\n",
    "\n",
    "doctest.testmod()"
   ],
   "cell_type": "code",
   "metadata": {},
   "execution_count": 3,
   "outputs": [
    {
     "output_type": "execute_result",
     "data": {
      "text/plain": [
       "TestResults(failed=0, attempted=8)"
      ]
     },
     "metadata": {},
     "execution_count": 3
    }
   ]
  },
  {
   "cell_type": "code",
   "execution_count": null,
   "metadata": {},
   "outputs": [],
   "source": []
  }
 ]
}