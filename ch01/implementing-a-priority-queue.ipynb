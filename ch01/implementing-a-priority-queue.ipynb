{
 "metadata": {
  "language_info": {
   "codemirror_mode": {
    "name": "ipython",
    "version": 3
   },
   "file_extension": ".py",
   "mimetype": "text/x-python",
   "name": "python",
   "nbconvert_exporter": "python",
   "pygments_lexer": "ipython3",
   "version": "3.9.1-final"
  },
  "orig_nbformat": 2,
  "kernelspec": {
   "name": "python3",
   "display_name": "Python 3",
   "language": "python"
  }
 },
 "nbformat": 4,
 "nbformat_minor": 2,
 "cells": [
  {
   "cell_type": "code",
   "execution_count": 1,
   "metadata": {},
   "outputs": [],
   "source": [
    "%load_ext pycodestyle_magic\n",
    "%load_ext mypy_ipython\n",
    "%pycodestyle_on"
   ]
  },
  {
   "cell_type": "code",
   "execution_count": 2,
   "metadata": {},
   "outputs": [],
   "source": [
    "import doctest"
   ]
  },
  {
   "cell_type": "code",
   "execution_count": 3,
   "metadata": {},
   "outputs": [
    {
     "output_type": "execute_result",
     "data": {
      "text/plain": [
       "TestResults(failed=0, attempted=22)"
      ]
     },
     "metadata": {},
     "execution_count": 3
    }
   ],
   "source": [
    "import heapq\n",
    "import typing as T\n",
    "\n",
    "\n",
    "class Item:\n",
    "    \"\"\"\n",
    "\n",
    "    >>> a = Item('foo')\n",
    "    >>> b = Item('bar')\n",
    "    >>> a > b\n",
    "    Traceback (most recent call last):\n",
    "        ...\n",
    "    TypeError: '>' not supported between instances of 'Item' and 'Item'\n",
    "\n",
    "    >>> a = (1, Item('foo'))\n",
    "    >>> b = (5, Item('bar'))\n",
    "    >>> a < b\n",
    "    True\n",
    "    >>> c = (1, Item('grok'))\n",
    "    >>> a < c\n",
    "    Traceback (most recent call last):\n",
    "        ...\n",
    "    TypeError: '<' not supported between instances of 'Item' and 'Item'\n",
    "\n",
    "    >>> a = (1, 0, Item('foo'))\n",
    "    >>> b = (5, 1, Item('bar'))\n",
    "    >>> c = (1, 2, Item('grok'))\n",
    "    >>> a < b\n",
    "    True\n",
    "    >>> a < c\n",
    "    True\n",
    "    \"\"\"\n",
    "\n",
    "    def __init__(self, name: str):\n",
    "        self.name = name\n",
    "\n",
    "    def __repr__(self) -> str:\n",
    "        return 'Item({!r})'.format(self.name)\n",
    "\n",
    "\n",
    "class PriorityQueue:\n",
    "    \"\"\"\n",
    "\n",
    "    >>> q = PriorityQueue()\n",
    "    >>> q.push(Item('foo'), 1)\n",
    "    >>> q.push(Item('bar'), 5)\n",
    "    >>> q.push(Item('spam'), 4)\n",
    "    >>> q.push(Item('grok'), 1)\n",
    "    >>> q.pop()\n",
    "    Item('bar')\n",
    "    >>> q.pop()\n",
    "    Item('spam')\n",
    "    >>> q.pop()\n",
    "    Item('foo')\n",
    "    >>> q.pop()\n",
    "    Item('grok')\n",
    "    \"\"\"\n",
    "\n",
    "    def __init__(self):\n",
    "        self._queue: T.List[T.Tuple[int, int, Item]] = []\n",
    "        self._index: int = 0\n",
    "\n",
    "    def push(self, item: T.Any, priority: int):\n",
    "        heapq.heappush(self._queue, (-priority, self._index, item))\n",
    "        self._index += 1\n",
    "\n",
    "    def pop(self) -> Item:\n",
    "        return heapq.heappop(self._queue)[-1]\n",
    "\n",
    "\n",
    "doctest.testmod()"
   ]
  },
  {
   "cell_type": "code",
   "execution_count": 4,
   "metadata": {},
   "outputs": [],
   "source": [
    "%mypy"
   ]
  },
  {
   "cell_type": "code",
   "execution_count": null,
   "metadata": {},
   "outputs": [],
   "source": []
  }
 ]
}