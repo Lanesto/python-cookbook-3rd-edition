{
 "metadata": {
  "language_info": {
   "codemirror_mode": {
    "name": "ipython",
    "version": 3
   },
   "file_extension": ".py",
   "mimetype": "text/x-python",
   "name": "python",
   "nbconvert_exporter": "python",
   "pygments_lexer": "ipython3",
   "version": "3.9.1-final"
  },
  "orig_nbformat": 2,
  "kernelspec": {
   "name": "python3",
   "display_name": "Python 3",
   "language": "python"
  }
 },
 "nbformat": 4,
 "nbformat_minor": 2,
 "cells": [
  {
   "cell_type": "code",
   "execution_count": 1,
   "metadata": {},
   "outputs": [],
   "source": [
    "%load_ext pycodestyle_magic\n",
    "%load_ext mypy_ipython\n",
    "%pycodestyle_on"
   ]
  },
  {
   "cell_type": "code",
   "execution_count": 2,
   "metadata": {},
   "outputs": [],
   "source": [
    "import doctest"
   ]
  },
  {
   "cell_type": "code",
   "execution_count": 3,
   "metadata": {},
   "outputs": [
    {
     "output_type": "execute_result",
     "data": {
      "text/plain": [
       "TestResults(failed=0, attempted=5)"
      ]
     },
     "metadata": {},
     "execution_count": 3
    }
   ],
   "source": [
    "\"\"\"\n",
    "\n",
    ">>> mylist = [1, 4, -5, 10, -7, 2, 3, -1]\n",
    ">>> [n for n in mylist if n > 0]\n",
    "[1, 4, 10, 2, 3]\n",
    ">>> [n for n in mylist if n < 0]\n",
    "[-5, -7, -1]\n",
    ">>> pos = (n for n in mylist if n > 0)\n",
    ">>> for x in pos:\n",
    "...     print(x)\n",
    "1\n",
    "4\n",
    "10\n",
    "2\n",
    "3\n",
    "\"\"\"\n",
    "\n",
    "doctest.testmod()"
   ]
  },
  {
   "cell_type": "code",
   "execution_count": 4,
   "metadata": {},
   "outputs": [
    {
     "output_type": "execute_result",
     "data": {
      "text/plain": [
       "TestResults(failed=0, attempted=2)"
      ]
     },
     "metadata": {},
     "execution_count": 4
    }
   ],
   "source": [
    "def is_int(val):\n",
    "    try:\n",
    "        x = int(val)\n",
    "    except ValueError:\n",
    "        return False\n",
    "\n",
    "    return True\n",
    "\n",
    "\n",
    "\"\"\"\n",
    "\n",
    ">>> values = ['1', '2', '-3', '-', '4', 'N/A', '5']\n",
    ">>> list(filter(is_int, values))\n",
    "['1', '2', '-3', '4', '5']\n",
    "\"\"\"\n",
    "\n",
    "doctest.testmod()"
   ]
  },
  {
   "cell_type": "code",
   "execution_count": 5,
   "metadata": {},
   "outputs": [
    {
     "output_type": "execute_result",
     "data": {
      "text/plain": [
       "TestResults(failed=0, attempted=6)"
      ]
     },
     "metadata": {},
     "execution_count": 5
    }
   ],
   "source": [
    "import math\n",
    "\n",
    "\"\"\"\n",
    "\n",
    ">>> mylist = [1, 4, -5, 10, -7, 2, 3, -1]\n",
    ">>> [math.sqrt(n) for n in mylist if n > 0]\n",
    "[1.0, 2.0, 3.1622776601683795, 1.4142135623730951, 1.7320508075688772]\n",
    ">>> clip_neg = [n if n > 0 else 0 for n in mylist]\n",
    ">>> clip_neg\n",
    "[1, 4, 0, 10, 0, 2, 3, 0]\n",
    ">>> clip_pos = [n if n < 0 else 0 for n in mylist]\n",
    ">>> clip_pos\n",
    "[0, 0, -5, 0, -7, 0, 0, -1]\n",
    "\"\"\"\n",
    "\n",
    "doctest.testmod()"
   ]
  },
  {
   "cell_type": "code",
   "execution_count": 6,
   "metadata": {},
   "outputs": [
    {
     "output_type": "execute_result",
     "data": {
      "text/plain": [
       "TestResults(failed=0, attempted=5)"
      ]
     },
     "metadata": {},
     "execution_count": 6
    }
   ],
   "source": [
    "from itertools import compress\n",
    "\n",
    "\"\"\"\n",
    "\n",
    ">>> addresses = [\n",
    "...     '5412 N CLARK',\n",
    "...     '5148 N CLARK',\n",
    "...     '5800 E 58TH',\n",
    "...     '2122 N CLARK',\n",
    "...     '5645 N RAVENSWOOD',\n",
    "...     '1060 W ADDISON',\n",
    "...     '4801 N BROADWAY',\n",
    "...     '1039 W GRANVILLE'\n",
    "... ]\n",
    ">>> counts = [0, 3, 10, 4, 1, 7, 6, 1]\n",
    ">>> more5 = [n > 5 for n in counts]\n",
    ">>> more5\n",
    "[False, False, True, False, False, True, True, False]\n",
    ">>> list(compress(addresses, more5))\n",
    "['5800 E 58TH', '1060 W ADDISON', '4801 N BROADWAY']\n",
    "\"\"\"\n",
    "\n",
    "doctest.testmod()"
   ]
  },
  {
   "cell_type": "code",
   "execution_count": null,
   "metadata": {},
   "outputs": [],
   "source": []
  }
 ]
}