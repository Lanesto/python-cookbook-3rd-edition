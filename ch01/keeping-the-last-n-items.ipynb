{
 "metadata": {
  "language_info": {
   "codemirror_mode": {
    "name": "ipython",
    "version": 3
   },
   "file_extension": ".py",
   "mimetype": "text/x-python",
   "name": "python",
   "nbconvert_exporter": "python",
   "pygments_lexer": "ipython3",
   "version": "3.9.1-final"
  },
  "orig_nbformat": 2,
  "kernelspec": {
   "name": "python3",
   "display_name": "Python 3",
   "language": "python"
  }
 },
 "nbformat": 4,
 "nbformat_minor": 2,
 "cells": [
  {
   "cell_type": "code",
   "execution_count": 1,
   "metadata": {},
   "outputs": [],
   "source": [
    "%load_ext pycodestyle_magic\n",
    "%load_ext mypy_ipython\n",
    "%pycodestyle_on"
   ]
  },
  {
   "cell_type": "code",
   "execution_count": 2,
   "metadata": {},
   "outputs": [],
   "source": [
    "import doctest"
   ]
  },
  {
   "cell_type": "code",
   "execution_count": 3,
   "metadata": {},
   "outputs": [
    {
     "output_type": "stream",
     "name": "stdout",
     "text": [
      "Keeping a limited history is a perfect use for a `collections.deque`.\n",
      " For example, the following code performs a simple text match on a\n",
      " sequence of lines and prints the matching line along with the previous\n",
      " N lines of context when found:\n",
      " \n",
      "[source,python]\n",
      "--------------------------------------------------------------------------------\n",
      "        previous_lines.append(line)\n",
      " \n",
      " # Example use on a file\n",
      " if __name__ == '__main__':\n",
      "     with open('somefile.txt') as f:\n",
      "         search(f, 'python', 5)\n",
      "--------------------------------------------------------------------------------\n"
     ]
    }
   ],
   "source": [
    "from collections import deque\n",
    "\n",
    "\n",
    "def search(lines, pattern, history=5):\n",
    "    previous_lines = deque(maxlen=history)\n",
    "    for line in lines:\n",
    "        if pattern in line:\n",
    "            yield line, previous_lines\n",
    "\n",
    "        previous_lines.append(line)\n",
    "\n",
    "\n",
    "with open('somefile.txt', 'r') as f:\n",
    "    for line, previous_lines in search(f, 'python', 5):\n",
    "        print(*previous_lines, end='')\n",
    "        print(line, end='')\n",
    "        print('-' * 80)"
   ]
  },
  {
   "cell_type": "code",
   "execution_count": 4,
   "metadata": {},
   "outputs": [
    {
     "output_type": "execute_result",
     "data": {
      "text/plain": [
       "TestResults(failed=0, attempted=9)"
      ]
     },
     "metadata": {},
     "execution_count": 4
    }
   ],
   "source": [
    "from collections import deque\n",
    "\n",
    "\"\"\"\n",
    "\n",
    ">>> q = deque(maxlen=3)\n",
    ">>> q.append(1)\n",
    ">>> q.append(2)\n",
    ">>> q.append(3)\n",
    ">>> q\n",
    "deque([1, 2, 3], maxlen=3)\n",
    ">>> q.append(4)\n",
    ">>> q\n",
    "deque([2, 3, 4], maxlen=3)\n",
    ">>> q.append(5)\n",
    ">>> q\n",
    "deque([3, 4, 5], maxlen=3)\n",
    "\"\"\"\n",
    "\n",
    "doctest.testmod()"
   ]
  },
  {
   "cell_type": "code",
   "execution_count": 5,
   "metadata": {},
   "outputs": [
    {
     "output_type": "execute_result",
     "data": {
      "text/plain": [
       "TestResults(failed=0, attempted=10)"
      ]
     },
     "metadata": {},
     "execution_count": 5
    }
   ],
   "source": [
    "from collections import deque\n",
    "\n",
    "\"\"\"\n",
    "\n",
    ">>> q = deque()\n",
    ">>> q.append(1)\n",
    ">>> q.append(2)\n",
    ">>> q.append(3)\n",
    ">>> q\n",
    "deque([1, 2, 3])\n",
    ">>> q.appendleft(4)\n",
    ">>> q\n",
    "deque([4, 1, 2, 3])\n",
    ">>> q.pop()\n",
    "3\n",
    ">>> q\n",
    "deque([4, 1, 2])\n",
    ">>> q.popleft()\n",
    "4\n",
    "\"\"\"\n",
    "\n",
    "doctest.testmod()"
   ]
  },
  {
   "cell_type": "code",
   "execution_count": null,
   "metadata": {},
   "outputs": [],
   "source": []
  }
 ]
}