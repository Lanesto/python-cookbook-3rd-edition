{
 "metadata": {
  "language_info": {
   "codemirror_mode": {
    "name": "ipython",
    "version": 3
   },
   "file_extension": ".py",
   "mimetype": "text/x-python",
   "name": "python",
   "nbconvert_exporter": "python",
   "pygments_lexer": "ipython3",
   "version": "3.9.1-final"
  },
  "orig_nbformat": 2,
  "kernelspec": {
   "name": "python3",
   "display_name": "Python 3",
   "language": "python"
  }
 },
 "nbformat": 4,
 "nbformat_minor": 2,
 "cells": [
  {
   "cell_type": "code",
   "execution_count": 1,
   "metadata": {},
   "outputs": [],
   "source": [
    "%load_ext pycodestyle_magic\n",
    "%load_ext mypy_ipython\n",
    "%pycodestyle_on"
   ]
  },
  {
   "cell_type": "code",
   "execution_count": 2,
   "metadata": {},
   "outputs": [],
   "source": [
    "import doctest"
   ]
  },
  {
   "cell_type": "code",
   "execution_count": 3,
   "metadata": {},
   "outputs": [
    {
     "output_type": "execute_result",
     "data": {
      "text/plain": [
       "TestResults(failed=0, attempted=15)"
      ]
     },
     "metadata": {},
     "execution_count": 3
    }
   ],
   "source": [
    "from collections import Counter\n",
    "\n",
    "\"\"\"\n",
    "\n",
    ">>> words= [\n",
    "...     'look', 'into', 'my', 'eyes', 'look', 'into', 'my', 'eyes',\n",
    "...     'the', 'eyes', 'the', 'eyes', 'the', 'eyes', 'not', 'around', 'the',\n",
    "...     'eyes', \"don't\", 'look', 'around', 'the', 'eyes', 'look', 'into',\n",
    "...     'my', 'eyes', \"you're\", 'under'\n",
    "... ]\n",
    ">>> word_counts = Counter(words)\n",
    ">>> top_three = word_counts.most_common(3)\n",
    ">>> top_three\n",
    "[('eyes', 8), ('the', 5), ('look', 4)]\n",
    ">>> word_counts['not']\n",
    "1\n",
    ">>> word_counts['eyes']\n",
    "8\n",
    ">>> more_words = ['why', 'are', 'you', 'not', 'looking', 'in', 'my', 'eyes']\n",
    ">>> word_counts.update(more_words)\n",
    ">>> word_counts['eyes']\n",
    "9\n",
    ">>> a = Counter(words)\n",
    ">>> b = Counter(more_words)\n",
    ">>> c = a + b\n",
    ">>> c  # doctest:\n",
    "Counter({'eyes': 9, 'the': 5, 'look': 4, 'my': 4, 'into': 3, 'not': 2, 'around': 2, \"don't\": 1, \"you're\": 1, 'under': 1, 'why': 1, 'are': 1, 'you': 1, 'looking': 1, 'in': 1})\n",
    ">>> d = a - b\n",
    ">>> d\n",
    "Counter({'eyes': 7, 'the': 5, 'look': 4, 'into': 3, 'my': 2, 'around': 2, \"don't\": 1, \"you're\": 1, 'under': 1})\n",
    "\"\"\"  # noqa: E501\n",
    "\n",
    "doctest.testmod()"
   ]
  },
  {
   "cell_type": "code",
   "execution_count": null,
   "metadata": {},
   "outputs": [],
   "source": []
  }
 ]
}