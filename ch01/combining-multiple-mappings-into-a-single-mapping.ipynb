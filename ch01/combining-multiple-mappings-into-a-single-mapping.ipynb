{
 "metadata": {
  "language_info": {
   "codemirror_mode": {
    "name": "ipython",
    "version": 3
   },
   "file_extension": ".py",
   "mimetype": "text/x-python",
   "name": "python",
   "nbconvert_exporter": "python",
   "pygments_lexer": "ipython3",
   "version": "3.9.1-final"
  },
  "orig_nbformat": 2,
  "kernelspec": {
   "name": "python3",
   "display_name": "Python 3",
   "language": "python"
  }
 },
 "nbformat": 4,
 "nbformat_minor": 2,
 "cells": [
  {
   "cell_type": "code",
   "execution_count": 1,
   "metadata": {},
   "outputs": [],
   "source": [
    "%load_ext pycodestyle_magic\n",
    "%load_ext mypy_ipython\n",
    "%pycodestyle_on"
   ]
  },
  {
   "cell_type": "code",
   "execution_count": 2,
   "metadata": {},
   "outputs": [],
   "source": [
    "import doctest"
   ]
  },
  {
   "cell_type": "code",
   "execution_count": 3,
   "metadata": {},
   "outputs": [
    {
     "output_type": "execute_result",
     "data": {
      "text/plain": [
       "TestResults(failed=0, attempted=15)"
      ]
     },
     "metadata": {},
     "execution_count": 3
    }
   ],
   "source": [
    "from collections import ChainMap\n",
    "\n",
    "\"\"\"\n",
    "\n",
    ">>> a = {'x': 1, 'z': 3}\n",
    ">>> b = {'y': 2, 'z': 4}\n",
    ">>> c = ChainMap(a, b)\n",
    ">>> c['x']\n",
    "1\n",
    ">>> c['y']\n",
    "2\n",
    ">>> c['z']\n",
    "3\n",
    ">>> len(c)\n",
    "3\n",
    ">>> list(c.keys())\n",
    "['y', 'z', 'x']\n",
    ">>> list(c.values())\n",
    "[2, 3, 1]\n",
    ">>> c['z'] = 10\n",
    ">>> a['z']\n",
    "10\n",
    ">>> c['w'] = 40\n",
    ">>> del c['x']\n",
    ">>> a\n",
    "{'z': 10, 'w': 40}\n",
    ">>> del c['y']\n",
    "Traceback (most recent call last):\n",
    "    ...\n",
    "KeyError: \"Key not found in the first mapping: 'y'\"\n",
    "\"\"\"\n",
    "\n",
    "doctest.testmod()"
   ]
  },
  {
   "cell_type": "code",
   "execution_count": 4,
   "metadata": {},
   "outputs": [
    {
     "output_type": "execute_result",
     "data": {
      "text/plain": [
       "TestResults(failed=0, attempted=13)"
      ]
     },
     "metadata": {},
     "execution_count": 4
    }
   ],
   "source": [
    "from collections import ChainMap\n",
    "\n",
    "\"\"\"\n",
    "\n",
    ">>> values = ChainMap()\n",
    ">>> values['x'] = 1\n",
    ">>> values = values.new_child()\n",
    ">>> values['x'] = 2\n",
    ">>> values = values.new_child()\n",
    ">>> values['x'] = 3\n",
    ">>> values\n",
    "ChainMap({'x': 3}, {'x': 2}, {'x': 1})\n",
    ">>> values['x']\n",
    "3\n",
    ">>> values = values.parents\n",
    ">>> values['x']\n",
    "2\n",
    ">>> values = values.parents\n",
    ">>> values['x']\n",
    "1\n",
    ">>> values\n",
    "ChainMap({'x': 1})\n",
    "\"\"\"\n",
    "\n",
    "doctest.testmod()"
   ]
  },
  {
   "cell_type": "code",
   "execution_count": 5,
   "metadata": {},
   "outputs": [
    {
     "output_type": "execute_result",
     "data": {
      "text/plain": [
       "TestResults(failed=0, attempted=9)"
      ]
     },
     "metadata": {},
     "execution_count": 5
    }
   ],
   "source": [
    "\"\"\"\n",
    "\n",
    ">>> a = {'x': 1, 'z': 3}\n",
    ">>> b = {'y': 2, 'z': 4}\n",
    ">>> merged = dict(b)\n",
    ">>> merged.update(a)\n",
    ">>> merged['x']\n",
    "1\n",
    ">>> merged['y']\n",
    "2\n",
    ">>> merged['z']\n",
    "3\n",
    ">>> a['x'] = 13\n",
    ">>> merged['x']\n",
    "1\n",
    "\"\"\"\n",
    "\n",
    "doctest.testmod()"
   ]
  },
  {
   "cell_type": "code",
   "execution_count": null,
   "metadata": {},
   "outputs": [],
   "source": []
  }
 ]
}