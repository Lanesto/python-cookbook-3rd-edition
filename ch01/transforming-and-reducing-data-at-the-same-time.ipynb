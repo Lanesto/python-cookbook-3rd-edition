{
 "metadata": {
  "language_info": {
   "codemirror_mode": {
    "name": "ipython",
    "version": 3
   },
   "file_extension": ".py",
   "mimetype": "text/x-python",
   "name": "python",
   "nbconvert_exporter": "python",
   "pygments_lexer": "ipython3",
   "version": "3.9.1-final"
  },
  "orig_nbformat": 2,
  "kernelspec": {
   "name": "python3",
   "display_name": "Python 3",
   "language": "python"
  }
 },
 "nbformat": 4,
 "nbformat_minor": 2,
 "cells": [
  {
   "cell_type": "code",
   "execution_count": 1,
   "metadata": {},
   "outputs": [],
   "source": [
    "%load_ext pycodestyle_magic\n",
    "%load_ext mypy_ipython\n",
    "%pycodestyle_on"
   ]
  },
  {
   "cell_type": "code",
   "execution_count": 2,
   "metadata": {},
   "outputs": [],
   "source": [
    "import doctest"
   ]
  },
  {
   "cell_type": "code",
   "execution_count": 3,
   "metadata": {},
   "outputs": [
    {
     "output_type": "stream",
     "name": "stdout",
     "text": [
      "jupyter notebook file exists\n"
     ]
    }
   ],
   "source": [
    "import os\n",
    "\n",
    "files = os.listdir('.')\n",
    "if any(name.endswith('.ipynb') for name in files):\n",
    "    print('jupyter notebook file exists')\n",
    "else:\n",
    "    print('no jupyter notebook there')"
   ]
  },
  {
   "cell_type": "code",
   "execution_count": 4,
   "metadata": {},
   "outputs": [
    {
     "output_type": "execute_result",
     "data": {
      "text/plain": [
       "TestResults(failed=0, attempted=8)"
      ]
     },
     "metadata": {},
     "execution_count": 4
    }
   ],
   "source": [
    "\"\"\"\n",
    "\n",
    ">>> nums = [1, 2, 3, 4, 5]\n",
    ">>> s = sum(x * x for x in nums)\n",
    ">>> s\n",
    "55\n",
    ">>> s = ('ACME', 50, 123.45)\n",
    ">>> ','.join(str(x) for x in s)\n",
    "'ACME,50,123.45'\n",
    ">>> portfolio = [\n",
    "...     {'name': 'GOOG', 'shares': 50},\n",
    "...     {'name': 'YHOO', 'shares': 75},\n",
    "...     {'name': 'AOL', 'shares': 20},\n",
    "...     {'name': 'SCOX', 'shares': 65}\n",
    "... ]\n",
    ">>> min_shares = min(s['shares'] for s in portfolio)\n",
    ">>> min_shares\n",
    "20\n",
    "\"\"\"\n",
    "\n",
    "doctest.testmod()"
   ]
  },
  {
   "cell_type": "code",
   "execution_count": null,
   "metadata": {},
   "outputs": [],
   "source": []
  }
 ]
}