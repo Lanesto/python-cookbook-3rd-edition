{
 "metadata": {
  "language_info": {
   "codemirror_mode": {
    "name": "ipython",
    "version": 3
   },
   "file_extension": ".py",
   "mimetype": "text/x-python",
   "name": "python",
   "nbconvert_exporter": "python",
   "pygments_lexer": "ipython3",
   "version": "3.9.1-final"
  },
  "orig_nbformat": 2,
  "kernelspec": {
   "name": "python3",
   "display_name": "Python 3",
   "language": "python"
  }
 },
 "nbformat": 4,
 "nbformat_minor": 2,
 "cells": [
  {
   "cell_type": "code",
   "execution_count": 1,
   "metadata": {},
   "outputs": [],
   "source": [
    "%load_ext pycodestyle_magic\n",
    "%load_ext mypy_ipython\n",
    "%pycodestyle_on"
   ]
  },
  {
   "cell_type": "code",
   "execution_count": 2,
   "metadata": {},
   "outputs": [],
   "source": [
    "import doctest"
   ]
  },
  {
   "cell_type": "code",
   "execution_count": 3,
   "metadata": {},
   "outputs": [
    {
     "output_type": "execute_result",
     "data": {
      "text/plain": [
       "TestResults(failed=0, attempted=10)"
      ]
     },
     "metadata": {},
     "execution_count": 3
    }
   ],
   "source": [
    "\"\"\"\n",
    "\n",
    ">>> prices = {\n",
    "...     'ACME': 45.23,\n",
    "...     'AAPL': 612.78,\n",
    "...     'IBM': 205.55,\n",
    "...     'HPQ': 37.20,\n",
    "...     'FB': 10.75\n",
    "... }\n",
    ">>> min_price = min(zip(prices.values(), prices.keys()))\n",
    ">>> min_price\n",
    "(10.75, 'FB')\n",
    ">>> max_price = max(zip(prices.values(), prices.keys()))\n",
    ">>> max_price\n",
    "(612.78, 'AAPL')\n",
    ">>> prices_sorted = sorted(zip(prices.values(), prices.keys()))\n",
    ">>> prices_sorted\n",
    "[(10.75, 'FB'), (37.2, 'HPQ'), (45.23, 'ACME'), (205.55, 'IBM'), (612.78, 'AAPL')]\n",
    "\n",
    ">>> prices_and_names = zip(prices.values(), prices.keys())\n",
    ">>> min(prices_and_names)\n",
    "(10.75, 'FB')\n",
    ">>> max(prices_and_names)\n",
    "Traceback (most recent call last):\n",
    "    ...\n",
    "ValueError: max() arg is an empty sequence\n",
    "\"\"\"  # noqa: E501\n",
    "\n",
    "doctest.testmod()"
   ]
  },
  {
   "cell_type": "code",
   "execution_count": null,
   "metadata": {},
   "outputs": [],
   "source": []
  }
 ]
}