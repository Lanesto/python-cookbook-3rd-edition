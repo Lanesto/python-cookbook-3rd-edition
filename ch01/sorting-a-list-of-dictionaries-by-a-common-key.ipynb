{
 "metadata": {
  "language_info": {
   "codemirror_mode": {
    "name": "ipython",
    "version": 3
   },
   "file_extension": ".py",
   "mimetype": "text/x-python",
   "name": "python",
   "nbconvert_exporter": "python",
   "pygments_lexer": "ipython3",
   "version": "3.9.1-final"
  },
  "orig_nbformat": 2,
  "kernelspec": {
   "name": "python3",
   "display_name": "Python 3",
   "language": "python"
  }
 },
 "nbformat": 4,
 "nbformat_minor": 2,
 "cells": [
  {
   "cell_type": "code",
   "execution_count": 1,
   "metadata": {},
   "outputs": [],
   "source": [
    "%load_ext pycodestyle_magic\n",
    "%load_ext mypy_ipython\n",
    "%pycodestyle_on"
   ]
  },
  {
   "cell_type": "code",
   "execution_count": 2,
   "metadata": {},
   "outputs": [],
   "source": [
    "import doctest"
   ]
  },
  {
   "cell_type": "code",
   "execution_count": 3,
   "metadata": {},
   "outputs": [
    {
     "output_type": "execute_result",
     "data": {
      "text/plain": [
       "TestResults(failed=0, attempted=7)"
      ]
     },
     "metadata": {},
     "execution_count": 3
    }
   ],
   "source": [
    "from operator import itemgetter\n",
    "\n",
    "\"\"\"\n",
    "\n",
    ">>> rows = [\n",
    "...     {'fname': 'Brian', 'lname': 'Jones', 'uid': 1003},\n",
    "...     {'fname': 'David', 'lname': 'Beazley', 'uid': 1002},\n",
    "...     {'fname': 'John', 'lname': 'Cleesse', 'uid': 1001},\n",
    "...     {'fname': 'Big', 'lname': 'Jones', 'uid': 1004}\n",
    "... ]\n",
    ">>> rows_by_fname = sorted(rows, key=itemgetter('fname'))\n",
    ">>> rows_by_fname  # doctest: +NORMALIZE_WHITESPACE\n",
    "[{'fname': 'Big', 'lname': 'Jones', 'uid': 1004},\n",
    " {'fname': 'Brian', 'lname': 'Jones', 'uid': 1003},\n",
    " {'fname': 'David', 'lname': 'Beazley', 'uid': 1002},\n",
    " {'fname': 'John', 'lname': 'Cleesse', 'uid': 1001}]\n",
    ">>> rows_by_uid = sorted(rows, key=itemgetter('uid'))\n",
    ">>> rows_by_uid  # doctest: +NORMALIZE_WHITESPACE\n",
    "[{'fname': 'John', 'lname': 'Cleesse', 'uid': 1001},\n",
    " {'fname': 'David', 'lname': 'Beazley', 'uid': 1002},\n",
    " {'fname': 'Brian', 'lname': 'Jones', 'uid': 1003},\n",
    " {'fname': 'Big', 'lname': 'Jones', 'uid': 1004}]\n",
    ">>> rows_by_lfname = sorted(rows, key=itemgetter('lname', 'fname'))\n",
    ">>> rows_by_lfname  # doctest: +NORMALIZE_WHITESPACE\n",
    "[{'fname': 'David', 'lname': 'Beazley', 'uid': 1002},\n",
    " {'fname': 'John', 'lname': 'Cleesse', 'uid': 1001},\n",
    " {'fname': 'Big', 'lname': 'Jones', 'uid': 1004},\n",
    " {'fname': 'Brian', 'lname': 'Jones', 'uid': 1003}]\n",
    "\"\"\"\n",
    "\n",
    "doctest.testmod()"
   ]
  },
  {
   "cell_type": "code",
   "execution_count": null,
   "metadata": {},
   "outputs": [],
   "source": []
  }
 ]
}