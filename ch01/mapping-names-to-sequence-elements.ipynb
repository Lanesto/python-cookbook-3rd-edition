{
 "metadata": {
  "language_info": {
   "codemirror_mode": {
    "name": "ipython",
    "version": 3
   },
   "file_extension": ".py",
   "mimetype": "text/x-python",
   "name": "python",
   "nbconvert_exporter": "python",
   "pygments_lexer": "ipython3",
   "version": "3.9.1-final"
  },
  "orig_nbformat": 2,
  "kernelspec": {
   "name": "python3",
   "display_name": "Python 3",
   "language": "python"
  }
 },
 "nbformat": 4,
 "nbformat_minor": 2,
 "cells": [
  {
   "cell_type": "code",
   "execution_count": 1,
   "metadata": {},
   "outputs": [],
   "source": [
    "%load_ext pycodestyle_magic\n",
    "%load_ext mypy_ipython\n",
    "%pycodestyle_on"
   ]
  },
  {
   "cell_type": "code",
   "execution_count": 2,
   "metadata": {},
   "outputs": [],
   "source": [
    "import doctest"
   ]
  },
  {
   "cell_type": "code",
   "execution_count": 3,
   "metadata": {},
   "outputs": [
    {
     "output_type": "execute_result",
     "data": {
      "text/plain": [
       "TestResults(failed=0, attempted=8)"
      ]
     },
     "metadata": {},
     "execution_count": 3
    }
   ],
   "source": [
    "from collections import namedtuple\n",
    "\n",
    "Subscriber = namedtuple('Subscriber', ['addr', 'joined'])\n",
    "\n",
    "\"\"\"\n",
    "\n",
    ">>> sub = Subscriber('jonesy@example.com', '2012-10-19')\n",
    ">>> sub\n",
    "Subscriber(addr='jonesy@example.com', joined='2012-10-19')\n",
    ">>> sub.addr\n",
    "'jonesy@example.com'\n",
    ">>> sub.joined\n",
    "'2012-10-19'\n",
    ">>> len(sub)\n",
    "2\n",
    ">>> addr, joined = sub\n",
    ">>> addr\n",
    "'jonesy@example.com'\n",
    ">>> joined\n",
    "'2012-10-19'\n",
    "\"\"\"\n",
    "\n",
    "doctest.testmod()"
   ]
  },
  {
   "cell_type": "code",
   "execution_count": 4,
   "metadata": {},
   "outputs": [
    {
     "output_type": "execute_result",
     "data": {
      "text/plain": [
       "TestResults(failed=0, attempted=5)"
      ]
     },
     "metadata": {},
     "execution_count": 4
    }
   ],
   "source": [
    "from collections import namedtuple\n",
    "\n",
    "Stock = namedtuple('Stock', ['name', 'shares', 'price'])\n",
    "\n",
    "\n",
    "def compute_cost(records):\n",
    "    total = 0.0\n",
    "    for rec in records:\n",
    "        s = Stock(*rec)\n",
    "        total += s.shares * s.price\n",
    "\n",
    "    return total\n",
    "\n",
    "\n",
    "\"\"\"\n",
    "\n",
    ">>> s = Stock(name='ACME', shares=100, price=123.45)\n",
    ">>> s\n",
    "Stock(name='ACME', shares=100, price=123.45)\n",
    ">>> s.shares = 75\n",
    "Traceback (most recent call last):\n",
    "    ...\n",
    "AttributeError: can't set attribute\n",
    ">>> s = s._replace(shares=75)\n",
    ">>> s\n",
    "Stock(name='ACME', shares=75, price=123.45)\n",
    "\"\"\"\n",
    "\n",
    "doctest.testmod()"
   ]
  },
  {
   "cell_type": "code",
   "execution_count": 5,
   "metadata": {},
   "outputs": [
    {
     "output_type": "execute_result",
     "data": {
      "text/plain": [
       "TestResults(failed=0, attempted=4)"
      ]
     },
     "metadata": {},
     "execution_count": 5
    }
   ],
   "source": [
    "from collections import namedtuple\n",
    "\n",
    "Stock = namedtuple('Stock', ['name', 'shares', 'price', 'date', 'time'])\n",
    "\n",
    "stock_prototype = Stock('', 0, 0.0, None, None)\n",
    "\n",
    "\n",
    "def dict_to_stock(s):\n",
    "    return stock_prototype._replace(**s)\n",
    "\n",
    "\n",
    "\"\"\"\n",
    "\n",
    ">>> a = {'name': 'ACME', 'shares': 100, 'price': 123.45}\n",
    ">>> dict_to_stock(a)\n",
    "Stock(name='ACME', shares=100, price=123.45, date=None, time=None)\n",
    ">>> b = {'name': 'ACME', 'shares': 100, 'price': 123.45, 'date': '12/17/2012'}\n",
    ">>> dict_to_stock(b)\n",
    "Stock(name='ACME', shares=100, price=123.45, date='12/17/2012', time=None)\n",
    "\"\"\"\n",
    "\n",
    "doctest.testmod()"
   ]
  },
  {
   "cell_type": "code",
   "execution_count": null,
   "metadata": {},
   "outputs": [],
   "source": []
  }
 ]
}