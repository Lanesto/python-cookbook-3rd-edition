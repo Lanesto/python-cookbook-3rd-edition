{
 "metadata": {
  "language_info": {
   "codemirror_mode": {
    "name": "ipython",
    "version": 3
   },
   "file_extension": ".py",
   "mimetype": "text/x-python",
   "name": "python",
   "nbconvert_exporter": "python",
   "pygments_lexer": "ipython3",
   "version": "3.9.1-final"
  },
  "orig_nbformat": 2,
  "kernelspec": {
   "name": "python3",
   "display_name": "Python 3",
   "language": "python"
  }
 },
 "nbformat": 4,
 "nbformat_minor": 2,
 "cells": [
  {
   "cell_type": "code",
   "execution_count": 1,
   "metadata": {},
   "outputs": [],
   "source": [
    "%load_ext pycodestyle_magic\n",
    "%load_ext mypy_ipython\n",
    "%pycodestyle_on"
   ]
  },
  {
   "cell_type": "code",
   "execution_count": 2,
   "metadata": {},
   "outputs": [],
   "source": [
    "import doctest"
   ]
  },
  {
   "cell_type": "code",
   "execution_count": 3,
   "metadata": {},
   "outputs": [
    {
     "output_type": "execute_result",
     "data": {
      "text/plain": [
       "TestResults(failed=0, attempted=10)"
      ]
     },
     "metadata": {},
     "execution_count": 3
    }
   ],
   "source": [
    "import io\n",
    "\n",
    "\"\"\"\n",
    "\n",
    ">>> s = io.StringIO()\n",
    ">>> s.write('Hello World\\\\n')\n",
    "12\n",
    ">>> print('This is a test', file=s)\n",
    ">>> s.getvalue()\n",
    "'Hello World\\\\nThis is a test\\\\n'\n",
    ">>> s = io.StringIO('Hello\\\\nWorld\\\\n')\n",
    ">>> s.read(4)\n",
    "'Hell'\n",
    ">>> s.read()\n",
    "'o\\\\nWorld\\\\n'\n",
    ">>> b = io.BytesIO()\n",
    ">>> b.write(b'binary data')\n",
    "11\n",
    ">>> b.getvalue()\n",
    "b'binary data'\n",
    "\"\"\"\n",
    "\n",
    "doctest.testmod()"
   ]
  }
 ]
}