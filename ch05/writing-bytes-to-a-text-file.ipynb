{
 "metadata": {
  "language_info": {
   "codemirror_mode": {
    "name": "ipython",
    "version": 3
   },
   "file_extension": ".py",
   "mimetype": "text/x-python",
   "name": "python",
   "nbconvert_exporter": "python",
   "pygments_lexer": "ipython3",
   "version": "3.9.1-final"
  },
  "orig_nbformat": 2,
  "kernelspec": {
   "name": "python3",
   "display_name": "Python 3",
   "language": "python"
  }
 },
 "nbformat": 4,
 "nbformat_minor": 2,
 "cells": [
  {
   "cell_type": "code",
   "execution_count": 1,
   "metadata": {},
   "outputs": [],
   "source": [
    "%load_ext pycodestyle_magic\n",
    "%load_ext mypy_ipython\n",
    "%pycodestyle_on"
   ]
  },
  {
   "cell_type": "code",
   "execution_count": 2,
   "metadata": {},
   "outputs": [],
   "source": [
    "import doctest"
   ]
  },
  {
   "cell_type": "code",
   "execution_count": 3,
   "metadata": {},
   "outputs": [
    {
     "output_type": "stream",
     "name": "stdout",
     "text": [
      "**********************************************************************\nFile \"__main__\", line 8, in __main__\nFailed example:\n    sys.stdout.buffer.write(b'Hello\\n')\nException raised:\n    Traceback (most recent call last):\n      File \"/usr/local/lib/python3.9/doctest.py\", line 1336, in __run\n        exec(compile(example.source, filename, \"single\",\n      File \"<doctest __main__[1]>\", line 1, in <module>\n        sys.stdout.buffer.write(b'Hello\\n')\n    AttributeError: '_SpoofOut' object has no attribute 'buffer'\n**********************************************************************\n1 items had failures:\n   1 of   2 in __main__\n***Test Failed*** 1 failures.\n"
     ]
    },
    {
     "output_type": "execute_result",
     "data": {
      "text/plain": [
       "TestResults(failed=1, attempted=2)"
      ]
     },
     "metadata": {},
     "execution_count": 3
    }
   ],
   "source": [
    "import sys\n",
    "\n",
    "# Not working in ipython kernel environment\n",
    "\n",
    "\"\"\"\n",
    "\n",
    ">>> sys.stdout.write(b'Hello\\\\n')\n",
    "Traceback (most recent call last):\n",
    "    ...\n",
    "TypeError: string argument expected, got 'bytes'\n",
    ">>> sys.stdout.buffer.write(b'Hello\\\\n')\n",
    "Hello\n",
    "6\n",
    "\"\"\"\n",
    "\n",
    "doctest.testmod()"
   ]
  }
 ]
}