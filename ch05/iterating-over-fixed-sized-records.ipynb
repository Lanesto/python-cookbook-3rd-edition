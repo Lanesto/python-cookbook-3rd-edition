{
 "metadata": {
  "language_info": {
   "codemirror_mode": {
    "name": "ipython",
    "version": 3
   },
   "file_extension": ".py",
   "mimetype": "text/x-python",
   "name": "python",
   "nbconvert_exporter": "python",
   "pygments_lexer": "ipython3",
   "version": "3.9.1-final"
  },
  "orig_nbformat": 2,
  "kernelspec": {
   "name": "python3",
   "display_name": "Python 3",
   "language": "python"
  }
 },
 "nbformat": 4,
 "nbformat_minor": 2,
 "cells": [
  {
   "cell_type": "code",
   "execution_count": 1,
   "metadata": {},
   "outputs": [],
   "source": [
    "%load_ext pycodestyle_magic\n",
    "%load_ext mypy_ipython\n",
    "%pycodestyle_on"
   ]
  },
  {
   "cell_type": "code",
   "execution_count": 2,
   "metadata": {},
   "outputs": [],
   "source": [
    "import doctest"
   ]
  },
  {
   "cell_type": "code",
   "execution_count": 3,
   "metadata": {},
   "outputs": [
    {
     "output_type": "stream",
     "name": "stdout",
     "text": [
      "32 b'#\\n# LDAP Defaults\\n#\\n\\n# See ldap.'\n32 b'conf(5) for details\\n# This file '\n32 b'should be world readable but not'\n32 b' world writable.\\n\\n#BASE\\tdc=examp'\n32 b'le,dc=com\\n#URI\\tldap://ldap.examp'\n32 b'le.com ldap://ldap-master.exampl'\n32 b'e.com:666\\n\\n#SIZELIMIT\\t12\\n#TIMELI'\n32 b'MIT\\t15\\n#DEREF\\t\\tnever\\n\\n# TLS cert'\n32 b'ificates (needed for GnuTLS)\\nTLS'\n32 b'_CACERT\\t/etc/ssl/certs/ca-certif'\n12 b'icates.crt\\n\\n'\n"
     ]
    }
   ],
   "source": [
    "from functools import partial\n",
    "\n",
    "RECORD_SIZE = 32\n",
    "\n",
    "with open('/etc/ldap/ldap.conf', mode='rb') as f:\n",
    "    records = iter(partial(f.read, RECORD_SIZE), b'')\n",
    "    for r in records:\n",
    "        print(len(r), r)"
   ]
  }
 ]
}