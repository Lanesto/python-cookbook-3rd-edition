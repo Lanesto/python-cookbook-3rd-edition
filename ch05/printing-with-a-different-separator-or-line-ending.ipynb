{
 "metadata": {
  "language_info": {
   "codemirror_mode": {
    "name": "ipython",
    "version": 3
   },
   "file_extension": ".py",
   "mimetype": "text/x-python",
   "name": "python",
   "nbconvert_exporter": "python",
   "pygments_lexer": "ipython3",
   "version": "3.9.1-final"
  },
  "orig_nbformat": 2,
  "kernelspec": {
   "name": "python3",
   "display_name": "Python 3",
   "language": "python"
  }
 },
 "nbformat": 4,
 "nbformat_minor": 2,
 "cells": [
  {
   "cell_type": "code",
   "execution_count": 1,
   "metadata": {},
   "outputs": [],
   "source": [
    "%load_ext pycodestyle_magic\n",
    "%load_ext mypy_ipython\n",
    "%pycodestyle_on"
   ]
  },
  {
   "cell_type": "code",
   "execution_count": 2,
   "metadata": {},
   "outputs": [],
   "source": [
    "import doctest"
   ]
  },
  {
   "cell_type": "code",
   "execution_count": 3,
   "metadata": {},
   "outputs": [
    {
     "output_type": "execute_result",
     "data": {
      "text/plain": [
       "TestResults(failed=0, attempted=4)"
      ]
     },
     "metadata": {},
     "execution_count": 3
    },
    {
     "output_type": "stream",
     "name": "stderr",
     "text": [
      "11:10: W291 trailing whitespace\n"
     ]
    }
   ],
   "source": [
    "\"\"\"\n",
    "\n",
    ">>> print('ACME', 50, 91.5)\n",
    "ACME 50 91.5\n",
    ">>> print('ACME', 50, 91.5, sep=', ')\n",
    "ACME, 50, 91.5\n",
    ">>> print('ACME', 50, 91.5, sep=', ', end=' $')\n",
    "ACME, 50, 91.5 $\n",
    ">>> for i in reversed(range(5)):\n",
    "...     print(i, end=' ')\n",
    "4 3 2 1 0 \n",
    "\"\"\"\n",
    "\n",
    "doctest.testmod()"
   ]
  },
  {
   "cell_type": "code",
   "execution_count": 4,
   "metadata": {},
   "outputs": [
    {
     "output_type": "execute_result",
     "data": {
      "text/plain": [
       "TestResults(failed=0, attempted=4)"
      ]
     },
     "metadata": {},
     "execution_count": 4
    }
   ],
   "source": [
    "from io import StringIO\n",
    "\n",
    "\"\"\"\n",
    ">>> row = ('ACME', 50, 91.5)\n",
    ">>> print(', '.join(str(col) for col in row))\n",
    "ACME, 50, 91.5\n",
    ">>> with StringIO() as buf:\n",
    "...     print(*row, file=buf, sep=', ')\n",
    "...     output = buf.getvalue().strip()\n",
    ">>> print(output)\n",
    "ACME, 50, 91.5\n",
    "\"\"\"\n",
    "\n",
    "doctest.testmod()"
   ]
  }
 ]
}