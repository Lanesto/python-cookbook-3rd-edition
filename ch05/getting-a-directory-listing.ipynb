{
 "metadata": {
  "language_info": {
   "codemirror_mode": {
    "name": "ipython",
    "version": 3
   },
   "file_extension": ".py",
   "mimetype": "text/x-python",
   "name": "python",
   "nbconvert_exporter": "python",
   "pygments_lexer": "ipython3",
   "version": "3.9.1-final"
  },
  "orig_nbformat": 2,
  "kernelspec": {
   "name": "python3",
   "display_name": "Python 3",
   "language": "python"
  }
 },
 "nbformat": 4,
 "nbformat_minor": 2,
 "cells": [
  {
   "cell_type": "code",
   "execution_count": 1,
   "metadata": {},
   "outputs": [],
   "source": [
    "%load_ext pycodestyle_magic\n",
    "%load_ext mypy_ipython\n",
    "%pycodestyle_on"
   ]
  },
  {
   "cell_type": "code",
   "execution_count": 2,
   "metadata": {},
   "outputs": [],
   "source": [
    "import doctest"
   ]
  },
  {
   "cell_type": "code",
   "execution_count": 3,
   "metadata": {},
   "outputs": [
    {
     "output_type": "execute_result",
     "data": {
      "text/plain": [
       "TestResults(failed=0, attempted=7)"
      ]
     },
     "metadata": {},
     "execution_count": 3
    }
   ],
   "source": [
    "from pathlib import Path\n",
    "\n",
    "\"\"\"\n",
    "\n",
    ">>> p = Path('/etc')\n",
    ">>> fnames = [child for child in p.iterdir() if child.is_file()]\n",
    ">>> fnames  # doctest: +ELLIPSIS\n",
    "[PosixPath(...), ...]\n",
    ">>> dirnames = [child for child in p.iterdir() if child.is_dir()]\n",
    ">>> dirnames  # doctest: +ELLIPSIS\n",
    "[PosixPath(...), ...]\n",
    ">>> confs = [child for child in p.iterdir() if child.suffix == '.conf']\n",
    ">>> confs  # doctest: +ELLIPSIS\n",
    "[PosixPath(...), ...]\n",
    "\"\"\"\n",
    "\n",
    "doctest.testmod()"
   ]
  },
  {
   "cell_type": "code",
   "execution_count": 4,
   "metadata": {},
   "outputs": [
    {
     "output_type": "execute_result",
     "data": {
      "text/plain": [
       "TestResults(failed=0, attempted=4)"
      ]
     },
     "metadata": {},
     "execution_count": 4
    }
   ],
   "source": [
    "import os\n",
    "import glob\n",
    "\n",
    "\n",
    "\"\"\"\n",
    "\n",
    ">>> confs = glob.glob('/etc/*.conf')\n",
    ">>> name_sz_mtime = [(name, os.stat(name).st_size, os.stat(name).st_mtime)\n",
    "...                  for name in confs]\n",
    ">>> length = max(len(name) for (name, *_) in name_sz_mtime)\n",
    ">>> for (name, size, mtime) in name_sz_mtime:  # doctest: +NORMALIZE_WHITESPACE\n",
    "...     print(format(name, f'>{length}'), '\\\\t', size, '\\\\t', mtime)\n",
    "            /etc/gai.conf \t 2584 \t 1533100247.0\n",
    "          /etc/xattr.conf \t 642 \t 1551477801.0\n",
    "          /etc/ld.so.conf \t 34 \t 1520021038.0\n",
    "        /etc/adduser.conf \t 2981 \t 1607556155.0\n",
    "         /etc/resolv.conf \t 79 \t 1609906096.2868383\n",
    "       /etc/nsswitch.conf \t 494 \t 1549815233.0\n",
    "       /etc/libaudit.conf \t 191 \t 1556203652.0\n",
    "        /etc/deluser.conf \t 604 \t 1466971256.0\n",
    "           /etc/host.conf \t 9 \t     1154970849.0\n",
    "            /etc/pam.conf \t 552 \t 1550128127.0\n",
    "         /etc/mke2fs.conf \t 812 \t 1578619197.0\n",
    "        /etc/debconf.conf \t 2969 \t 1551173435.0\n",
    "            /etc/ucf.conf \t 1260 \t 1544777474.0\n",
    "         /etc/sysctl.conf \t 2351 \t 1527759766.0\n",
    "/etc/ca-certificates.conf \t 5434 \t 1608224291.0\n",
    "\"\"\"\n",
    "\n",
    "doctest.testmod()"
   ]
  }
 ]
}