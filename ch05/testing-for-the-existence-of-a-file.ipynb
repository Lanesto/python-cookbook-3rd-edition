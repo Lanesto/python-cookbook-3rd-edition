{
 "metadata": {
  "language_info": {
   "codemirror_mode": {
    "name": "ipython",
    "version": 3
   },
   "file_extension": ".py",
   "mimetype": "text/x-python",
   "name": "python",
   "nbconvert_exporter": "python",
   "pygments_lexer": "ipython3",
   "version": "3.9.1-final"
  },
  "orig_nbformat": 2,
  "kernelspec": {
   "name": "python3",
   "display_name": "Python 3",
   "language": "python"
  }
 },
 "nbformat": 4,
 "nbformat_minor": 2,
 "cells": [
  {
   "cell_type": "code",
   "execution_count": 1,
   "metadata": {},
   "outputs": [],
   "source": [
    "%load_ext pycodestyle_magic\n",
    "%load_ext mypy_ipython\n",
    "%pycodestyle_on"
   ]
  },
  {
   "cell_type": "code",
   "execution_count": 2,
   "metadata": {},
   "outputs": [],
   "source": [
    "import doctest"
   ]
  },
  {
   "cell_type": "code",
   "execution_count": 3,
   "metadata": {},
   "outputs": [
    {
     "output_type": "execute_result",
     "data": {
      "text/plain": [
       "TestResults(failed=0, attempted=10)"
      ]
     },
     "metadata": {},
     "execution_count": 3
    }
   ],
   "source": [
    "import time\n",
    "from pathlib import Path\n",
    "\n",
    "\"\"\"\n",
    "\n",
    ">>> p = Path('/etc/passwd')\n",
    ">>> p.exists()\n",
    "True\n",
    ">>> Path('/spam').exists()\n",
    "False\n",
    ">>> p.is_file()\n",
    "True\n",
    ">>> p.is_dir()\n",
    "False\n",
    ">>> Path('/usr/local/bin/python3').is_symlink()\n",
    "True\n",
    ">>> Path('/usr/local/bin/python3').resolve()\n",
    "PosixPath('/usr/local/bin/python3.9')\n",
    ">>> p.stat().st_size\n",
    "926\n",
    ">>> p.stat().st_mtime\n",
    "1607556155.0\n",
    ">>> time.ctime(p.stat().st_mtime)\n",
    "'Wed Dec  9 23:22:35 2020'\n",
    "\"\"\"\n",
    "\n",
    "doctest.testmod()"
   ]
  }
 ]
}