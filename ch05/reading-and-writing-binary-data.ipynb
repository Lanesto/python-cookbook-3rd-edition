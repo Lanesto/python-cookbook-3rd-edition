{
 "metadata": {
  "language_info": {
   "codemirror_mode": {
    "name": "ipython",
    "version": 3
   },
   "file_extension": ".py",
   "mimetype": "text/x-python",
   "name": "python",
   "nbconvert_exporter": "python",
   "pygments_lexer": "ipython3",
   "version": "3.9.1-final"
  },
  "orig_nbformat": 2,
  "kernelspec": {
   "name": "python3",
   "display_name": "Python 3",
   "language": "python"
  }
 },
 "nbformat": 4,
 "nbformat_minor": 2,
 "cells": [
  {
   "cell_type": "code",
   "execution_count": 1,
   "metadata": {},
   "outputs": [],
   "source": [
    "%load_ext pycodestyle_magic\n",
    "%load_ext mypy_ipython\n",
    "%pycodestyle_on"
   ]
  },
  {
   "cell_type": "code",
   "execution_count": 2,
   "metadata": {},
   "outputs": [],
   "source": [
    "import doctest"
   ]
  },
  {
   "cell_type": "code",
   "execution_count": 3,
   "metadata": {},
   "outputs": [
    {
     "output_type": "execute_result",
     "data": {
      "text/plain": [
       "b'Jalape\\xc3\\xb1o'"
      ]
     },
     "metadata": {},
     "execution_count": 3
    }
   ],
   "source": [
    "with open('sample.bin', 'rb') as f:\n",
    "    data = f.read()\n",
    "\n",
    "data"
   ]
  },
  {
   "cell_type": "code",
   "execution_count": 4,
   "metadata": {},
   "outputs": [
    {
     "output_type": "execute_result",
     "data": {
      "text/plain": [
       "TestResults(failed=0, attempted=4)"
      ]
     },
     "metadata": {},
     "execution_count": 4
    },
    {
     "output_type": "stream",
     "name": "stderr",
     "text": [
      "6:22: W291 trailing whitespace\n",
      "10:41: W291 trailing whitespace\n"
     ]
    }
   ],
   "source": [
    "\"\"\"\n",
    "\n",
    ">>> text = 'Hello World'\n",
    ">>> for char in text:\n",
    "...     print(char, end=' ')\n",
    "H e l l o   W o r l d \n",
    ">>> bin = b'Hello World'\n",
    ">>> for byte in bin:\n",
    "...     print(byte, end=' ')\n",
    "72 101 108 108 111 32 87 111 114 108 100 \n",
    "\"\"\"\n",
    "\n",
    "doctest.testmod()"
   ]
  },
  {
   "cell_type": "code",
   "execution_count": 5,
   "metadata": {},
   "outputs": [
    {
     "output_type": "stream",
     "name": "stdout",
     "text": [
      "array('i', [1, 2, 3, 4, 0, 0, 0, 0])\n"
     ]
    }
   ],
   "source": [
    "from array import array\n",
    "from io import BytesIO\n",
    "\n",
    "nums = array('i', [1, 2, 3, 4])\n",
    "with BytesIO() as f:\n",
    "    f.write(nums)\n",
    "    data = f.getvalue()\n",
    "\n",
    "nums = array('i', [0] * 8)\n",
    "with BytesIO(data) as f:\n",
    "    f.readinto(nums)\n",
    "\n",
    "print(nums)"
   ]
  }
 ]
}