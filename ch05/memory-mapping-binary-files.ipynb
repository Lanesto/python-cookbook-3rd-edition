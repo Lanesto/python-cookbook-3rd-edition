{
 "metadata": {
  "language_info": {
   "codemirror_mode": {
    "name": "ipython",
    "version": 3
   },
   "file_extension": ".py",
   "mimetype": "text/x-python",
   "name": "python",
   "nbconvert_exporter": "python",
   "pygments_lexer": "ipython3",
   "version": "3.9.1-final"
  },
  "orig_nbformat": 2,
  "kernelspec": {
   "name": "python3",
   "display_name": "Python 3",
   "language": "python"
  }
 },
 "nbformat": 4,
 "nbformat_minor": 2,
 "cells": [
  {
   "cell_type": "code",
   "execution_count": 1,
   "metadata": {},
   "outputs": [],
   "source": [
    "%load_ext pycodestyle_magic\n",
    "%load_ext mypy_ipython\n",
    "%pycodestyle_on"
   ]
  },
  {
   "cell_type": "code",
   "execution_count": 2,
   "metadata": {},
   "outputs": [],
   "source": [
    "import doctest"
   ]
  },
  {
   "cell_type": "code",
   "execution_count": 3,
   "metadata": {},
   "outputs": [
    {
     "output_type": "execute_result",
     "data": {
      "text/plain": [
       "TestResults(failed=0, attempted=13)"
      ]
     },
     "metadata": {},
     "execution_count": 3
    }
   ],
   "source": [
    "import os\n",
    "import mmap\n",
    "\n",
    "SIZE = 1000000\n",
    "\n",
    "\n",
    "def memory_map(filename, access=mmap.ACCESS_WRITE):\n",
    "    size = os.path.getsize(filename)\n",
    "    fd = os.open(filename, os.O_RDWR)\n",
    "    return mmap.mmap(fd, size, access=access)\n",
    "\n",
    "\n",
    "with open('sample.dat', 'wb') as f:\n",
    "    f.seek(SIZE - 1)\n",
    "    f.write(b'\\x00')\n",
    "\n",
    "\n",
    "\"\"\"\n",
    "\n",
    ">>> m = memory_map('sample.dat')\n",
    ">>> len(m)\n",
    "1000000\n",
    ">>> m[0:10]\n",
    "b'\\\\x00\\\\x00\\\\x00\\\\x00\\\\x00\\\\x00\\\\x00\\\\x00\\\\x00\\\\x00'\n",
    ">>> m[0]\n",
    "0\n",
    ">>> v = memoryview(m).cast('I')\n",
    ">>> v[0] = 7\n",
    ">>> m[0:4]\n",
    "b'\\\\x07\\\\x00\\\\x00\\\\x00'\n",
    ">>> m[0:4] = b'\\\\x07\\\\x01\\\\x00\\\\x00'\n",
    ">>> v[0]\n",
    "263\n",
    ">>> m[0:11] = b'Hello World'\n",
    ">>> del v\n",
    ">>> m.close()\n",
    ">>> with open('sample.dat', 'rb') as f:\n",
    "...     print(f.read(11))\n",
    "b'Hello World'\n",
    "\"\"\"\n",
    "\n",
    "result = doctest.testmod()\n",
    "os.remove('sample.dat')\n",
    "result"
   ]
  }
 ]
}