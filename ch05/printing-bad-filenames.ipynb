{
 "metadata": {
  "language_info": {
   "codemirror_mode": {
    "name": "ipython",
    "version": 3
   },
   "file_extension": ".py",
   "mimetype": "text/x-python",
   "name": "python",
   "nbconvert_exporter": "python",
   "pygments_lexer": "ipython3",
   "version": "3.9.1-final"
  },
  "orig_nbformat": 2,
  "kernelspec": {
   "name": "python3",
   "display_name": "Python 3",
   "language": "python"
  }
 },
 "nbformat": 4,
 "nbformat_minor": 2,
 "cells": [
  {
   "cell_type": "code",
   "execution_count": 1,
   "metadata": {},
   "outputs": [],
   "source": [
    "%load_ext pycodestyle_magic\n",
    "%load_ext mypy_ipython\n",
    "%pycodestyle_on"
   ]
  },
  {
   "cell_type": "code",
   "execution_count": 2,
   "metadata": {},
   "outputs": [],
   "source": [
    "import doctest"
   ]
  },
  {
   "cell_type": "code",
   "execution_count": 3,
   "metadata": {},
   "outputs": [
    {
     "output_type": "execute_result",
     "data": {
      "text/plain": [
       "TestResults(failed=0, attempted=2)"
      ]
     },
     "metadata": {},
     "execution_count": 3
    }
   ],
   "source": [
    "import sys\n",
    "\n",
    "fsencoding = sys.getfilesystemencoding()\n",
    "\n",
    "\n",
    "def bad_filename(filename):\n",
    "    # return repr(filename)[1:-1]\n",
    "    filename = filename.encode(fsencoding, errors='surrogateescape')\n",
    "    return filename.decode('latin-1')\n",
    "\n",
    "\n",
    "\"\"\"\n",
    "\n",
    ">>> files = ['spam.py', 'b\\\\udce4d.txt', 'foo.txt']\n",
    ">>> for name in files:\n",
    "...     try:\n",
    "...         print(name)\n",
    "...     except UnicodeEncodeError:\n",
    "...         print('wrong unicode:', bad_filename(name))\n",
    "spam.py\n",
    "b\\\\udce4d.txt\n",
    "foo.txt\n",
    "\"\"\"\n",
    "\n",
    "doctest.testmod()"
   ]
  },
  {
   "cell_type": "code",
   "execution_count": null,
   "metadata": {},
   "outputs": [],
   "source": []
  }
 ]
}