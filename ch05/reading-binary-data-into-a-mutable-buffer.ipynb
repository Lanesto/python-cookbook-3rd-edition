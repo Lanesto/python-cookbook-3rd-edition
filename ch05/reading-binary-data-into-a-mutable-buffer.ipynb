{
 "metadata": {
  "language_info": {
   "codemirror_mode": {
    "name": "ipython",
    "version": 3
   },
   "file_extension": ".py",
   "mimetype": "text/x-python",
   "name": "python",
   "nbconvert_exporter": "python",
   "pygments_lexer": "ipython3",
   "version": "3.9.1-final"
  },
  "orig_nbformat": 2,
  "kernelspec": {
   "name": "python3",
   "display_name": "Python 3",
   "language": "python"
  }
 },
 "nbformat": 4,
 "nbformat_minor": 2,
 "cells": [
  {
   "cell_type": "code",
   "execution_count": 1,
   "metadata": {},
   "outputs": [],
   "source": [
    "%load_ext pycodestyle_magic\n",
    "%load_ext mypy_ipython\n",
    "%pycodestyle_on"
   ]
  },
  {
   "cell_type": "code",
   "execution_count": 2,
   "metadata": {},
   "outputs": [],
   "source": [
    "import doctest"
   ]
  },
  {
   "cell_type": "code",
   "execution_count": 3,
   "metadata": {},
   "outputs": [
    {
     "output_type": "execute_result",
     "data": {
      "text/plain": [
       "TestResults(failed=0, attempted=8)"
      ]
     },
     "metadata": {},
     "execution_count": 3
    }
   ],
   "source": [
    "import os.path\n",
    "from io import BytesIO\n",
    "\n",
    "\n",
    "def read_into_buffer(filename):\n",
    "    buf = bytearray(os.path.getsize(filename))\n",
    "    with open(filename, 'rb') as f:\n",
    "        f.readinto(buf)\n",
    "\n",
    "    return buf\n",
    "\n",
    "\n",
    "\"\"\"\n",
    "\n",
    ">>> buf = read_into_buffer('sample.bin')\n",
    ">>> buf\n",
    "bytearray(b'Jalape\\\\xc3\\\\xb1o')\n",
    ">>> with BytesIO() as f:\n",
    "...     _ = f.write(buf)\n",
    "...     data = f.getvalue()\n",
    ">>> data\n",
    "b'Jalape\\\\xc3\\\\xb1o'\n",
    ">>> m1 = memoryview(buf)\n",
    ">>> m2 = m1[-5:]\n",
    ">>> m2[:] = b'apple'\n",
    ">>> buf\n",
    "bytearray(b'Jalaapple')\n",
    "\"\"\"\n",
    "\n",
    "doctest.testmod()"
   ]
  },
  {
   "cell_type": "code",
   "execution_count": 4,
   "metadata": {},
   "outputs": [
    {
     "output_type": "stream",
     "name": "stdout",
     "text": [
      "9 bytearray(b'Jalape\\xc3\\xb1o\\x00\\x00\\x00\\x00\\x00\\x00\\x00\\x00\\x00\\x00\\x00\\x00\\x00\\x00\\x00\\x00\\x00\\x00\\x00\\x00\\x00\\x00\\x00')\n"
     ]
    }
   ],
   "source": [
    "RECORD_SIZE = 32\n",
    "\n",
    "buf = bytearray(RECORD_SIZE)\n",
    "with open('sample.bin', 'rb') as f:\n",
    "    while True:\n",
    "        n = f.readinto(buf)\n",
    "        print(n, buf)\n",
    "        if n < RECORD_SIZE:\n",
    "            break"
   ]
  },
  {
   "cell_type": "code",
   "execution_count": null,
   "metadata": {},
   "outputs": [],
   "source": []
  }
 ]
}