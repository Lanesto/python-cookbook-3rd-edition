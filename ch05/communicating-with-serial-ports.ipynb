{
 "metadata": {
  "language_info": {
   "codemirror_mode": {
    "name": "ipython",
    "version": 3
   },
   "file_extension": ".py",
   "mimetype": "text/x-python",
   "name": "python",
   "nbconvert_exporter": "python",
   "pygments_lexer": "ipython3",
   "version": "3.9.1-final"
  },
  "orig_nbformat": 2,
  "kernelspec": {
   "name": "python3",
   "display_name": "Python 3",
   "language": "python"
  }
 },
 "nbformat": 4,
 "nbformat_minor": 2,
 "cells": [
  {
   "cell_type": "code",
   "execution_count": 1,
   "metadata": {},
   "outputs": [],
   "source": [
    "%load_ext pycodestyle_magic\n",
    "%load_ext mypy_ipython\n",
    "%pycodestyle_on"
   ]
  },
  {
   "cell_type": "code",
   "execution_count": 2,
   "metadata": {},
   "outputs": [],
   "source": [
    "import doctest"
   ]
  },
  {
   "cell_type": "code",
   "execution_count": 3,
   "metadata": {},
   "outputs": [
    {
     "output_type": "stream",
     "name": "stdout",
     "text": [
      "{'c', 'b', 'a'} -> {'c', 'b', 'a'}\n"
     ]
    }
   ],
   "source": [
    "import pickle\n",
    "from io import BytesIO\n",
    "\n",
    "\n",
    "class Node:\n",
    "\n",
    "    def __init__(self, data):\n",
    "        self._data = data\n",
    "\n",
    "\n",
    "node = Node({'a', 'b', 'c'})\n",
    "\n",
    "with BytesIO() as f:\n",
    "    pickle.dump(node, f)\n",
    "    bin = f.getvalue()\n",
    "\n",
    "\n",
    "loaded = pickle.loads(bin)\n",
    "print(node._data, '->', loaded._data)"
   ]
  },
  {
   "cell_type": "code",
   "execution_count": 4,
   "metadata": {},
   "outputs": [
    {
     "output_type": "stream",
     "name": "stdout",
     "text": [
      "T-minus 10\n",
      "T-minus 9\n",
      "T-minus 8\n",
      "T-minus 7\n",
      "T-minus 6\n",
      "T-minus 5\n",
      "T-minus 7\n",
      "T-minus 4\n",
      "T-minus 6\n",
      "T-minus 3\n",
      "T-minus 5\n",
      "T-minus 2\n",
      "T-minus 4\n",
      "T-minus 1\n",
      "T-minus 3\n",
      "T-minus 2\n",
      "T-minus 1\n"
     ]
    }
   ],
   "source": [
    "import time\n",
    "import threading\n",
    "import pickle\n",
    "from tempfile import TemporaryFile\n",
    "\n",
    "\n",
    "class Countdown:\n",
    "\n",
    "    def __init__(self, n):\n",
    "        self.n = n\n",
    "        self.thr = threading.Thread(target=self.run)\n",
    "        self.thr.daemon = True\n",
    "        self.thr.start()\n",
    "\n",
    "    def run(self):\n",
    "        while self.n > 0:\n",
    "            print('T-minus', self.n)\n",
    "            self.n -= 1\n",
    "            time.sleep(1)\n",
    "\n",
    "    def __getstate__(self):\n",
    "        return self.n\n",
    "\n",
    "    def __setstate__(self, n):\n",
    "        self.__init__(n)\n",
    "\n",
    "\n",
    "c = Countdown(10)\n",
    "f = TemporaryFile('w+b')\n",
    "time.sleep(3)\n",
    "pickle.dump(c, f)\n",
    "time.sleep(3)\n",
    "f.seek(0)\n",
    "c = pickle.load(f)\n",
    "c.thr.join()\n",
    "f.close()"
   ]
  },
  {
   "cell_type": "code",
   "execution_count": null,
   "metadata": {},
   "outputs": [],
   "source": []
  }
 ]
}