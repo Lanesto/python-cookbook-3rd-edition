{
 "metadata": {
  "language_info": {
   "codemirror_mode": {
    "name": "ipython",
    "version": 3
   },
   "file_extension": ".py",
   "mimetype": "text/x-python",
   "name": "python",
   "nbconvert_exporter": "python",
   "pygments_lexer": "ipython3",
   "version": "3.9.1-final"
  },
  "orig_nbformat": 2,
  "kernelspec": {
   "name": "python3",
   "display_name": "Python 3",
   "language": "python"
  }
 },
 "nbformat": 4,
 "nbformat_minor": 2,
 "cells": [
  {
   "cell_type": "code",
   "execution_count": 1,
   "metadata": {},
   "outputs": [],
   "source": [
    "%load_ext pycodestyle_magic\n",
    "%load_ext mypy_ipython\n",
    "%pycodestyle_on"
   ]
  },
  {
   "cell_type": "code",
   "execution_count": 2,
   "metadata": {},
   "outputs": [],
   "source": [
    "import doctest"
   ]
  },
  {
   "cell_type": "code",
   "execution_count": 3,
   "metadata": {},
   "outputs": [
    {
     "output_type": "stream",
     "name": "stdout",
     "text": [
      "counter: 1.1729\n"
     ]
    }
   ],
   "source": [
    "import time\n",
    "from contextlib import contextmanager\n",
    "\n",
    "\n",
    "@contextmanager\n",
    "def timeit(label):\n",
    "    start = time.time()\n",
    "    try:\n",
    "        yield\n",
    "    finally:\n",
    "        elapsed = time.time() - start\n",
    "        print(f'{label}: {elapsed:.4f}')\n",
    "\n",
    "\n",
    "with timeit('counter'):\n",
    "    n = 1e+7\n",
    "    while n > 0:\n",
    "        n -= 1"
   ]
  },
  {
   "cell_type": "code",
   "execution_count": 4,
   "metadata": {},
   "outputs": [
    {
     "output_type": "execute_result",
     "data": {
      "text/plain": [
       "TestResults(failed=0, attempted=5)"
      ]
     },
     "metadata": {},
     "execution_count": 4
    }
   ],
   "source": [
    "from contextlib import contextmanager\n",
    "\n",
    "\n",
    "@contextmanager\n",
    "def list_transaction(orig_list):\n",
    "    working = list(orig_list)\n",
    "    yield working\n",
    "    orig_list[:] = working\n",
    "\n",
    "\n",
    "\"\"\"\n",
    "\n",
    ">>> items = [1, 2, 3]\n",
    ">>> with list_transaction(items) as working:\n",
    "...     working.append(4)\n",
    "...     working.append(5)\n",
    ">>> items\n",
    "[1, 2, 3, 4, 5]\n",
    ">>> with list_transaction(items) as working:\n",
    "...     working.append(4)\n",
    "...     working.append(5)\n",
    "...     raise RuntimeError('oops')\n",
    "Traceback (most recent call last):\n",
    "    ...\n",
    "RuntimeError: oops\n",
    ">>> items\n",
    "[1, 2, 3, 4, 5]\n",
    "\"\"\"\n",
    "\n",
    "doctest.testmod()"
   ]
  },
  {
   "cell_type": "code",
   "execution_count": 5,
   "metadata": {},
   "outputs": [
    {
     "output_type": "stream",
     "name": "stdout",
     "text": [
      "counter: 1.1721\n"
     ]
    }
   ],
   "source": [
    "class TimeIt:\n",
    "    def __init__(self, label):\n",
    "        self.label = label\n",
    "\n",
    "    def __enter__(self):\n",
    "        self.start = time.time()\n",
    "\n",
    "    def __exit__(self, exc_type, exc_val, exc_tb):\n",
    "        elapsed = time.time() - self.start\n",
    "        print(f'{self.label}: {elapsed:.4f}')\n",
    "\n",
    "\n",
    "with TimeIt(label='counter'):\n",
    "    n = 1e+7\n",
    "    while n > 0:\n",
    "        n -= 1"
   ]
  }
 ]
}