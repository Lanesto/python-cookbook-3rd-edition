{
 "metadata": {
  "language_info": {
   "codemirror_mode": {
    "name": "ipython",
    "version": 3
   },
   "file_extension": ".py",
   "mimetype": "text/x-python",
   "name": "python",
   "nbconvert_exporter": "python",
   "pygments_lexer": "ipython3",
   "version": "3.9.1-final"
  },
  "orig_nbformat": 2,
  "kernelspec": {
   "name": "python3",
   "display_name": "Python 3",
   "language": "python"
  }
 },
 "nbformat": 4,
 "nbformat_minor": 2,
 "cells": [
  {
   "cell_type": "code",
   "execution_count": 1,
   "metadata": {},
   "outputs": [],
   "source": [
    "%load_ext pycodestyle_magic\n",
    "%load_ext mypy_ipython\n",
    "%pycodestyle_on"
   ]
  },
  {
   "cell_type": "code",
   "execution_count": 2,
   "metadata": {},
   "outputs": [],
   "source": [
    "import doctest"
   ]
  },
  {
   "cell_type": "code",
   "execution_count": 3,
   "metadata": {},
   "outputs": [
    {
     "output_type": "error",
     "ename": "TypeError",
     "evalue": "bad attribute name: fooBar",
     "traceback": [
      "\u001b[0;31m---------------------------------------------------------------------------\u001b[0m",
      "\u001b[0;31mTypeError\u001b[0m                                 Traceback (most recent call last)",
      "\u001b[0;32m<ipython-input-3-4d485e704ffc>\u001b[0m in \u001b[0;36m<module>\u001b[0;34m\u001b[0m\n\u001b[1;32m     16\u001b[0m         \u001b[0;32mpass\u001b[0m\u001b[0;34m\u001b[0m\u001b[0;34m\u001b[0m\u001b[0m\n\u001b[1;32m     17\u001b[0m \u001b[0;34m\u001b[0m\u001b[0m\n\u001b[0;32m---> 18\u001b[0;31m \u001b[0;32mclass\u001b[0m \u001b[0mB\u001b[0m\u001b[0;34m(\u001b[0m\u001b[0mRoot\u001b[0m\u001b[0;34m)\u001b[0m\u001b[0;34m:\u001b[0m\u001b[0;34m\u001b[0m\u001b[0;34m\u001b[0m\u001b[0m\n\u001b[0m\u001b[1;32m     19\u001b[0m     \u001b[0;32mdef\u001b[0m \u001b[0mfooBar\u001b[0m\u001b[0;34m(\u001b[0m\u001b[0mself\u001b[0m\u001b[0;34m)\u001b[0m\u001b[0;34m:\u001b[0m\u001b[0;34m\u001b[0m\u001b[0;34m\u001b[0m\u001b[0m\n\u001b[1;32m     20\u001b[0m         \u001b[0;32mpass\u001b[0m\u001b[0;34m\u001b[0m\u001b[0;34m\u001b[0m\u001b[0m\n",
      "\u001b[0;32m<ipython-input-3-4d485e704ffc>\u001b[0m in \u001b[0;36m__new__\u001b[0;34m(cls, clsname, bases, clsdict)\u001b[0m\n\u001b[1;32m      3\u001b[0m         \u001b[0;32mfor\u001b[0m \u001b[0mname\u001b[0m \u001b[0;32min\u001b[0m \u001b[0mclsdict\u001b[0m\u001b[0;34m:\u001b[0m\u001b[0;34m\u001b[0m\u001b[0;34m\u001b[0m\u001b[0m\n\u001b[1;32m      4\u001b[0m             \u001b[0;32mif\u001b[0m \u001b[0mname\u001b[0m\u001b[0;34m.\u001b[0m\u001b[0mlower\u001b[0m\u001b[0;34m(\u001b[0m\u001b[0;34m)\u001b[0m \u001b[0;34m!=\u001b[0m \u001b[0mname\u001b[0m\u001b[0;34m:\u001b[0m\u001b[0;34m\u001b[0m\u001b[0;34m\u001b[0m\u001b[0m\n\u001b[0;32m----> 5\u001b[0;31m                 \u001b[0;32mraise\u001b[0m \u001b[0mTypeError\u001b[0m\u001b[0;34m(\u001b[0m\u001b[0;34mf'bad attribute name: {name}'\u001b[0m\u001b[0;34m)\u001b[0m\u001b[0;34m\u001b[0m\u001b[0;34m\u001b[0m\u001b[0m\n\u001b[0m\u001b[1;32m      6\u001b[0m \u001b[0;34m\u001b[0m\u001b[0m\n\u001b[1;32m      7\u001b[0m         \u001b[0;32mreturn\u001b[0m \u001b[0msuper\u001b[0m\u001b[0;34m(\u001b[0m\u001b[0;34m)\u001b[0m\u001b[0;34m.\u001b[0m\u001b[0m__new__\u001b[0m\u001b[0;34m(\u001b[0m\u001b[0mcls\u001b[0m\u001b[0;34m,\u001b[0m \u001b[0mclsname\u001b[0m\u001b[0;34m,\u001b[0m \u001b[0mbases\u001b[0m\u001b[0;34m,\u001b[0m \u001b[0mclsdict\u001b[0m\u001b[0;34m)\u001b[0m\u001b[0;34m\u001b[0m\u001b[0;34m\u001b[0m\u001b[0m\n",
      "\u001b[0;31mTypeError\u001b[0m: bad attribute name: fooBar"
     ]
    }
   ],
   "source": [
    "class NameConventionMeta(type):\n",
    "    def __new__(cls, clsname, bases, clsdict):\n",
    "        for name in clsdict:\n",
    "            if name.lower() != name:\n",
    "                raise TypeError(f'bad attribute name: {name}')\n",
    "\n",
    "        return super().__new__(cls, clsname, bases, clsdict)\n",
    "\n",
    "\n",
    "class Root(metaclass=NameConventionMeta):\n",
    "    pass\n",
    "\n",
    "\n",
    "class A(Root):\n",
    "    def foo_bar(self):\n",
    "        pass\n",
    "\n",
    "class B(Root):\n",
    "    def fooBar(self):\n",
    "        pass"
   ]
  },
  {
   "cell_type": "code",
   "execution_count": 16,
   "metadata": {},
   "outputs": [
    {
     "output_type": "stream",
     "name": "stderr",
     "text": [
      "WARNING:root:signature mismatach in B.foo; (self, x, y) != (self, a, b)\n",
      "WARNING:root:signature mismatach in B.spam; (self, x, *, z) != (self, x, z)\n"
     ]
    }
   ],
   "source": [
    "import logging\n",
    "from inspect import signature\n",
    "\n",
    "\n",
    "class MatchSignatureMeta(type):\n",
    "    def __init__(self, clsname, bases, clsdict):\n",
    "        super().__init__(clsname, bases, clsdict)\n",
    "        sup = super(self, self)\n",
    "        for name, value in clsdict.items():\n",
    "            if name.startswith('_') or not callable(value):\n",
    "                continue\n",
    "\n",
    "            prev_dfn = getattr(sup, name, None)\n",
    "            if prev_dfn:\n",
    "                prev_sig = signature(prev_dfn)\n",
    "                val_sig = signature(value)\n",
    "                if prev_sig != val_sig:\n",
    "                    msg = f'signature mismatach in {value.__qualname__}; ' \\\n",
    "                          f'{prev_sig} != {val_sig}'\n",
    "                    logging.warning(msg)\n",
    "\n",
    "\n",
    "class Root(metaclass=MatchSignatureMeta):\n",
    "    pass\n",
    "\n",
    "\n",
    "class A(Root):\n",
    "    def foo(self, x, y):\n",
    "        pass\n",
    "\n",
    "    def spam(self, x, *, z):\n",
    "        pass\n",
    "\n",
    "\n",
    "class B(A):\n",
    "    def foo(self, a, b):\n",
    "        pass\n",
    "\n",
    "    def spam(self, x, z):\n",
    "        pass"
   ]
  }
 ]
}