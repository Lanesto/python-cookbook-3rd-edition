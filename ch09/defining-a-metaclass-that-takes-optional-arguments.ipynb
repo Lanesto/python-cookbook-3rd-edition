{
 "metadata": {
  "language_info": {
   "codemirror_mode": {
    "name": "ipython",
    "version": 3
   },
   "file_extension": ".py",
   "mimetype": "text/x-python",
   "name": "python",
   "nbconvert_exporter": "python",
   "pygments_lexer": "ipython3",
   "version": "3.9.1-final"
  },
  "orig_nbformat": 2,
  "kernelspec": {
   "name": "python3",
   "display_name": "Python 3",
   "language": "python"
  }
 },
 "nbformat": 4,
 "nbformat_minor": 2,
 "cells": [
  {
   "cell_type": "code",
   "execution_count": 1,
   "metadata": {},
   "outputs": [],
   "source": [
    "%load_ext pycodestyle_magic\n",
    "%load_ext mypy_ipython\n",
    "%pycodestyle_on"
   ]
  },
  {
   "cell_type": "code",
   "execution_count": 2,
   "metadata": {},
   "outputs": [],
   "source": [
    "import doctest"
   ]
  },
  {
   "cell_type": "code",
   "execution_count": 3,
   "metadata": {},
   "outputs": [
    {
     "output_type": "stream",
     "name": "stdout",
     "text": [
      "__prepare__.debug set\n__prepare__.synchronize set\n__new__.debug set\n__new__.synchronize set\n__init__.debug set\n__init__.synchronize set\n"
     ]
    }
   ],
   "source": [
    "class Meta(type):\n",
    "    @classmethod\n",
    "    def __prepare__(cls, name, bases, *, debug=False, synchronize=False):\n",
    "        if debug:\n",
    "            print('__prepare__.debug set')\n",
    "\n",
    "        if synchronize:\n",
    "            print('__prepare__.synchronize set')\n",
    "\n",
    "        return super().__prepare__(name, bases)\n",
    "\n",
    "    def __new__(cls, name, bases, ns, *, debug=False, synchronize=False):\n",
    "        if debug:\n",
    "            print('__new__.debug set')\n",
    "\n",
    "        if synchronize:\n",
    "            print('__new__.synchronize set')\n",
    "\n",
    "        return super().__new__(cls, name, bases, ns)\n",
    "\n",
    "    def __init__(self, name, bases, ns, *, debug=False, synchronize=False):\n",
    "        if debug:\n",
    "            print('__init__.debug set')\n",
    "\n",
    "        if synchronize:\n",
    "            print('__init__.synchronize set')\n",
    "\n",
    "        super().__init__(name, bases, ns)\n",
    "\n",
    "\n",
    "class Spam(metaclass=Meta, debug=True, synchronize=True):\n",
    "    pass"
   ]
  }
 ]
}