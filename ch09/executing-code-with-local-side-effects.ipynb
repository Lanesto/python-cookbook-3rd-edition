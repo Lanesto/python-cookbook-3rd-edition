{
 "metadata": {
  "language_info": {
   "codemirror_mode": {
    "name": "ipython",
    "version": 3
   },
   "file_extension": ".py",
   "mimetype": "text/x-python",
   "name": "python",
   "nbconvert_exporter": "python",
   "pygments_lexer": "ipython3",
   "version": "3.9.1-final"
  },
  "orig_nbformat": 2,
  "kernelspec": {
   "name": "python3",
   "display_name": "Python 3",
   "language": "python"
  }
 },
 "nbformat": 4,
 "nbformat_minor": 2,
 "cells": [
  {
   "cell_type": "code",
   "execution_count": 1,
   "metadata": {},
   "outputs": [],
   "source": [
    "%load_ext pycodestyle_magic\n",
    "%load_ext mypy_ipython\n",
    "%pycodestyle_on"
   ]
  },
  {
   "cell_type": "code",
   "execution_count": 2,
   "metadata": {},
   "outputs": [],
   "source": [
    "import doctest"
   ]
  },
  {
   "cell_type": "code",
   "execution_count": 3,
   "metadata": {},
   "outputs": [
    {
     "output_type": "execute_result",
     "data": {
      "text/plain": [
       "TestResults(failed=0, attempted=12)"
      ]
     },
     "metadata": {},
     "execution_count": 3
    }
   ],
   "source": [
    "\"\"\"\n",
    "\n",
    "Global namespace\n",
    "\n",
    "    >>> a = 13\n",
    "    >>> exec('b = a + 1')\n",
    "    >>> print(b)\n",
    "    14\n",
    "    >>> del b\n",
    "\n",
    "Inside function\n",
    "\n",
    "    >>> def test():\n",
    "    ...     a = 13\n",
    "    ...     exec('b = a + 1')\n",
    "    ...     print(b)\n",
    "    >>> test()\n",
    "    Traceback (most recent call last):\n",
    "        ...\n",
    "    NameError: name 'b' is not defined\n",
    "\n",
    "With local()\n",
    "\n",
    "    >>> def test2():\n",
    "    ...     a = 13\n",
    "    ...     loc = locals()\n",
    "    ...     exec('b = a + 1')\n",
    "    ...     b = loc['b']\n",
    "    ...     print(b)\n",
    "    >>> test2()\n",
    "    14\n",
    "\n",
    "Problem with locals()\n",
    "\n",
    "    >>> def test3():\n",
    "    ...     x = 0\n",
    "    ...     loc = locals()\n",
    "    ...     print(loc)\n",
    "    ...     exec('x += 1')\n",
    "    ...     print(loc)\n",
    "    ...     locals()\n",
    "    ...     print(loc)\n",
    "    >>> test3()\n",
    "    {'x': 0}\n",
    "    {'x': 1, 'loc': {...}}\n",
    "    {'x': 0, 'loc': {...}}\n",
    "\n",
    "Best alternative\n",
    "\n",
    "    >>> def test4():\n",
    "    ...     a = 13\n",
    "    ...     loc = {'a': a}\n",
    "    ...     glb = {}\n",
    "    ...     exec('b = a + 1', glb, loc)\n",
    "    ...     b = loc['b']\n",
    "    ...     print(b)\n",
    "    >>> test4()\n",
    "    14\n",
    "\n",
    "\"\"\"\n",
    "\n",
    "doctest.testmod()"
   ]
  }
 ]
}