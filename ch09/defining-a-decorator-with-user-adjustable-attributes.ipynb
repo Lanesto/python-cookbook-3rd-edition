{
 "metadata": {
  "language_info": {
   "codemirror_mode": {
    "name": "ipython",
    "version": 3
   },
   "file_extension": ".py",
   "mimetype": "text/x-python",
   "name": "python",
   "nbconvert_exporter": "python",
   "pygments_lexer": "ipython3",
   "version": "3.9.1-final"
  },
  "orig_nbformat": 2,
  "kernelspec": {
   "name": "python3",
   "display_name": "Python 3",
   "language": "python"
  }
 },
 "nbformat": 4,
 "nbformat_minor": 2,
 "cells": [
  {
   "cell_type": "code",
   "execution_count": 1,
   "metadata": {},
   "outputs": [],
   "source": [
    "%load_ext pycodestyle_magic\n",
    "%load_ext mypy_ipython\n",
    "%pycodestyle_on"
   ]
  },
  {
   "cell_type": "code",
   "execution_count": 2,
   "metadata": {},
   "outputs": [],
   "source": [
    "import doctest"
   ]
  },
  {
   "cell_type": "code",
   "execution_count": 3,
   "metadata": {},
   "outputs": [
    {
     "output_type": "stream",
     "name": "stdout",
     "text": [
      "DEBUG:__main__:add\n",
      "DEBUG:__main__:add called\n",
      "WARNING:__main__:add called\n"
     ]
    },
    {
     "output_type": "execute_result",
     "data": {
      "text/plain": [
       "TestResults(failed=0, attempted=5)"
      ]
     },
     "metadata": {},
     "execution_count": 3
    }
   ],
   "source": [
    "import logging\n",
    "import sys\n",
    "from functools import wraps, partial\n",
    "\n",
    "logging.basicConfig(level=logging.DEBUG, stream=sys.stdout)\n",
    "\n",
    "\n",
    "def attach_wrapper(obj, func=None):\n",
    "    if func is None:\n",
    "        return partial(attach_wrapper, obj)\n",
    "\n",
    "    setattr(obj, func.__name__, func)\n",
    "    return func\n",
    "\n",
    "\n",
    "def logged(level, name=None, message=None):\n",
    "    def decorator(func):\n",
    "        logname = name if name else func.__module__\n",
    "        log = logging.getLogger(logname)\n",
    "        logmsg = message if message else func.__name__\n",
    "\n",
    "        @wraps(func)\n",
    "        def wrapper(*args, **kwargs):\n",
    "            log.log(level, logmsg)\n",
    "            return func(*args, **kwargs)\n",
    "\n",
    "        @attach_wrapper(wrapper)\n",
    "        def set_level(new_level):\n",
    "            nonlocal level\n",
    "            level = new_level\n",
    "\n",
    "        @attach_wrapper(wrapper)\n",
    "        def set_message(new_message):\n",
    "            nonlocal logmsg\n",
    "            logmsg = new_message\n",
    "\n",
    "        return wrapper\n",
    "    return decorator\n",
    "\n",
    "\n",
    "@logged(logging.DEBUG)\n",
    "def add(x, y):\n",
    "    return x + y\n",
    "\n",
    "\n",
    "@logged(logging.CRITICAL, 'example')\n",
    "def spam():\n",
    "    print('spam')\n",
    "\n",
    "\n",
    "\"\"\"\n",
    "\n",
    ">>> add(2, 3)  # DEBUG:__main__:add\n",
    "5\n",
    ">>> add.set_message('add called')\n",
    ">>> add(2, 3)  # DEBUG:__main__:add called\n",
    "5\n",
    ">>> add.set_level(logging.WARNING)\n",
    ">>> add(2, 3)  # WARNING:__main__:add called\n",
    "5\n",
    "\"\"\"\n",
    "\n",
    "doctest.testmod()"
   ]
  }
 ]
}