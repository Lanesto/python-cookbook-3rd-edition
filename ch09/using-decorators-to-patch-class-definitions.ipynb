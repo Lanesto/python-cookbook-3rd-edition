{
 "metadata": {
  "language_info": {
   "codemirror_mode": {
    "name": "ipython",
    "version": 3
   },
   "file_extension": ".py",
   "mimetype": "text/x-python",
   "name": "python",
   "nbconvert_exporter": "python",
   "pygments_lexer": "ipython3",
   "version": "3.9.1-final"
  },
  "orig_nbformat": 2,
  "kernelspec": {
   "name": "python3",
   "display_name": "Python 3",
   "language": "python"
  }
 },
 "nbformat": 4,
 "nbformat_minor": 2,
 "cells": [
  {
   "cell_type": "code",
   "execution_count": 1,
   "metadata": {},
   "outputs": [],
   "source": [
    "%load_ext pycodestyle_magic\n",
    "%load_ext mypy_ipython\n",
    "%pycodestyle_on"
   ]
  },
  {
   "cell_type": "code",
   "execution_count": 2,
   "metadata": {},
   "outputs": [],
   "source": [
    "import doctest"
   ]
  },
  {
   "cell_type": "code",
   "execution_count": 3,
   "metadata": {},
   "outputs": [
    {
     "output_type": "execute_result",
     "data": {
      "text/plain": [
       "TestResults(failed=0, attempted=3)"
      ]
     },
     "metadata": {},
     "execution_count": 3
    }
   ],
   "source": [
    "def log_getattribute(cls):\n",
    "    orig_getattribute = cls.__getattribute__\n",
    "\n",
    "    def new_getattribute(self, name):\n",
    "        print('getting:', name)\n",
    "        return orig_getattribute(self, name)\n",
    "\n",
    "    cls.__getattribute__ = new_getattribute\n",
    "    return cls\n",
    "\n",
    "\n",
    "@log_getattribute\n",
    "class A:\n",
    "    def __init__(self, x):\n",
    "        self.x = x\n",
    "\n",
    "    def spam(self):\n",
    "        pass\n",
    "\n",
    "\n",
    "\"\"\"\n",
    "\n",
    ">>> a = A(42)\n",
    ">>> a.x\n",
    "getting: x\n",
    "42\n",
    ">>> a.spam()\n",
    "getting: spam\n",
    "\"\"\"\n",
    "\n",
    "doctest.testmod()"
   ]
  }
 ]
}