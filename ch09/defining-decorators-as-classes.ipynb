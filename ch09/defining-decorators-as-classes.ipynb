{
 "metadata": {
  "language_info": {
   "codemirror_mode": {
    "name": "ipython",
    "version": 3
   },
   "file_extension": ".py",
   "mimetype": "text/x-python",
   "name": "python",
   "nbconvert_exporter": "python",
   "pygments_lexer": "ipython3",
   "version": "3.9.1-final"
  },
  "orig_nbformat": 2,
  "kernelspec": {
   "name": "python3",
   "display_name": "Python 3",
   "language": "python"
  }
 },
 "nbformat": 4,
 "nbformat_minor": 2,
 "cells": [
  {
   "cell_type": "code",
   "execution_count": 1,
   "metadata": {},
   "outputs": [],
   "source": [
    "%load_ext pycodestyle_magic\n",
    "%load_ext mypy_ipython\n",
    "%pycodestyle_on"
   ]
  },
  {
   "cell_type": "code",
   "execution_count": 2,
   "metadata": {},
   "outputs": [],
   "source": [
    "import doctest"
   ]
  },
  {
   "cell_type": "code",
   "execution_count": 3,
   "metadata": {},
   "outputs": [
    {
     "output_type": "execute_result",
     "data": {
      "text/plain": [
       "TestResults(failed=0, attempted=11)"
      ]
     },
     "metadata": {},
     "execution_count": 3
    }
   ],
   "source": [
    "from functools import wraps\n",
    "import types\n",
    "\n",
    "\n",
    "class Profiled:\n",
    "    def __init__(self, func):\n",
    "        print('Profiled.__init__')\n",
    "        wraps(func)(self)\n",
    "        self.ncalls = 0\n",
    "\n",
    "    def __call__(self, *args, **kwargs):\n",
    "        print('Profiled.__call__')\n",
    "        self.ncalls += 1\n",
    "        return self.__wrapped__(*args, **kwargs)\n",
    "\n",
    "    def __get__(self, obj, objtype):\n",
    "        print('Profiled.__get__')\n",
    "        if obj is None:\n",
    "            return self\n",
    "        else:\n",
    "            return types.MethodType(self, obj)\n",
    "\n",
    "\n",
    "\"\"\"\n",
    "Init\n",
    "\n",
    "    >>> @Profiled\n",
    "    ... def add(x, y):\n",
    "    ...     return x + y\n",
    "    Profiled.__init__\n",
    "    >>> class Spam:\n",
    "    ...     @Profiled\n",
    "    ...     def bar(self, x):\n",
    "    ...         print(self, x)\n",
    "    Profiled.__init__\n",
    "\n",
    "Inspection\n",
    "\n",
    "    >>> add(2, 3)\n",
    "    Profiled.__call__\n",
    "    5\n",
    "    >>> add(4, 5)\n",
    "    Profiled.__call__\n",
    "    9\n",
    "    >>> add.ncalls\n",
    "    2\n",
    "    >>> s = Spam()\n",
    "    >>> s.bar(1)  # doctest: +ELLIPSIS\n",
    "    Profiled.__get__\n",
    "    Profiled.__call__\n",
    "    <__main__.Spam object at ...> 1\n",
    "    >>> s.bar(2)  # doctest: +ELLIPSIS\n",
    "    Profiled.__get__\n",
    "    Profiled.__call__\n",
    "    <__main__.Spam object at ...> 2\n",
    "    >>> Spam.bar.ncalls\n",
    "    Profiled.__get__\n",
    "    2\n",
    "    >>> Spam.bar  # doctest: +ELLIPSIS\n",
    "    Profiled.__get__\n",
    "    <__main__.Profiled object at ...>\n",
    "    >>> s.bar  # doctest: +ELLIPSIS\n",
    "    Profiled.__get__\n",
    "    <bound method Spam.bar of <__main__.Spam object at ...>>\n",
    "\n",
    "\"\"\"\n",
    "\n",
    "doctest.testmod()"
   ]
  },
  {
   "cell_type": "code",
   "execution_count": 4,
   "metadata": {},
   "outputs": [
    {
     "output_type": "execute_result",
     "data": {
      "text/plain": [
       "TestResults(failed=0, attempted=4)"
      ]
     },
     "metadata": {},
     "execution_count": 4
    }
   ],
   "source": [
    "import types\n",
    "from functools import wraps\n",
    "\n",
    "\n",
    "def profiled(func):\n",
    "    ncalls = 0\n",
    "\n",
    "    @wraps(func)\n",
    "    def wrapper(*args, **kwargs):\n",
    "        nonlocal ncalls\n",
    "        ncalls += 1\n",
    "        return func(*args, **kwargs)\n",
    "\n",
    "    wrapper.ncalls = lambda: ncalls\n",
    "    return wrapper\n",
    "\n",
    "\n",
    "\"\"\"\n",
    "\n",
    ">>> @profiled\n",
    "... def add(x, y):\n",
    "...     return x + y\n",
    ">>> add(2, 3)\n",
    "5\n",
    ">>> add(4, 5)\n",
    "9\n",
    ">>> add.ncalls()\n",
    "2\n",
    "\"\"\"\n",
    "\n",
    "doctest.testmod()"
   ]
  },
  {
   "cell_type": "code",
   "execution_count": null,
   "metadata": {},
   "outputs": [],
   "source": []
  }
 ]
}