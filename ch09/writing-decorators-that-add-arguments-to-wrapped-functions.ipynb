{
 "metadata": {
  "language_info": {
   "codemirror_mode": {
    "name": "ipython",
    "version": 3
   },
   "file_extension": ".py",
   "mimetype": "text/x-python",
   "name": "python",
   "nbconvert_exporter": "python",
   "pygments_lexer": "ipython3",
   "version": "3.9.1-final"
  },
  "orig_nbformat": 2,
  "kernelspec": {
   "name": "python3",
   "display_name": "Python 3",
   "language": "python"
  }
 },
 "nbformat": 4,
 "nbformat_minor": 2,
 "cells": [
  {
   "cell_type": "code",
   "execution_count": 1,
   "metadata": {},
   "outputs": [],
   "source": [
    "%load_ext pycodestyle_magic\n",
    "%load_ext mypy_ipython\n",
    "%pycodestyle_on"
   ]
  },
  {
   "cell_type": "code",
   "execution_count": 2,
   "metadata": {},
   "outputs": [],
   "source": [
    "import doctest"
   ]
  },
  {
   "cell_type": "code",
   "execution_count": 3,
   "metadata": {},
   "outputs": [
    {
     "output_type": "execute_result",
     "data": {
      "text/plain": [
       "TestResults(failed=0, attempted=6)"
      ]
     },
     "metadata": {},
     "execution_count": 3
    }
   ],
   "source": [
    "from functools import wraps\n",
    "import inspect\n",
    "\n",
    "\n",
    "def optional_debug(func):\n",
    "    if 'debug' in inspect.getargspec(func).args:\n",
    "        raise TypeError('debug argument already defined')\n",
    "\n",
    "    @wraps(func)\n",
    "    def wrapper(*args, debug=False, **kwargs):\n",
    "        if debug:\n",
    "            print('calling', func.__name__)\n",
    "        return func(*args, **kwargs)\n",
    "\n",
    "    sig = inspect.signature(func)\n",
    "    parms = list(sig.parameters.values())\n",
    "    parms.append(inspect.Parameter('debug',\n",
    "                                   inspect.Parameter.KEYWORD_ONLY,\n",
    "                                   default=False))\n",
    "    wrapper.__signature__ = inspect.Signature(parms)\n",
    "    return wrapper\n",
    "\n",
    "\n",
    "\"\"\"\n",
    "Behavior\n",
    "\n",
    "    >>> @optional_debug\n",
    "    ... def spam(a, b, c):\n",
    "    ...     print(a, b, c)\n",
    "    >>> spam(1, 2, 3)\n",
    "    1 2 3\n",
    "    >>> spam(1, 2, 3, debug=True)\n",
    "    calling spam\n",
    "    1 2 3\n",
    "\n",
    "Details\n",
    "\n",
    "    >>> import inspect\n",
    "    >>> print(inspect.signature(spam))\n",
    "    (a, b, c, *, debug=False)\n",
    "    >>> spam(-1, -2, -3)\n",
    "    -1 -2 -3\n",
    "\n",
    "\"\"\"\n",
    "\n",
    "doctest.testmod()"
   ]
  }
 ]
}