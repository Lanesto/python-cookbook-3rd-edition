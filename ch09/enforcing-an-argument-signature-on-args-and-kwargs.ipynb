{
 "metadata": {
  "language_info": {
   "codemirror_mode": {
    "name": "ipython",
    "version": 3
   },
   "file_extension": ".py",
   "mimetype": "text/x-python",
   "name": "python",
   "nbconvert_exporter": "python",
   "pygments_lexer": "ipython3",
   "version": "3.9.1-final"
  },
  "orig_nbformat": 2,
  "kernelspec": {
   "name": "python3",
   "display_name": "Python 3",
   "language": "python"
  }
 },
 "nbformat": 4,
 "nbformat_minor": 2,
 "cells": [
  {
   "cell_type": "code",
   "execution_count": 1,
   "metadata": {},
   "outputs": [],
   "source": [
    "%load_ext pycodestyle_magic\n",
    "%load_ext mypy_ipython\n",
    "%pycodestyle_on"
   ]
  },
  {
   "cell_type": "code",
   "execution_count": 2,
   "metadata": {},
   "outputs": [],
   "source": [
    "import doctest"
   ]
  },
  {
   "cell_type": "code",
   "execution_count": 3,
   "metadata": {},
   "outputs": [
    {
     "output_type": "execute_result",
     "data": {
      "text/plain": [
       "TestResults(failed=0, attempted=13)"
      ]
     },
     "metadata": {},
     "execution_count": 3
    }
   ],
   "source": [
    "\"\"\"\n",
    "Build from class\n",
    "\n",
    "    >>> from inspect import Signature, Parameter\n",
    "    >>> params = [  # func(x, y=42, *, z=None)\n",
    "    ...     Parameter('x', Parameter.POSITIONAL_OR_KEYWORD),\n",
    "    ...     Parameter('y', Parameter.POSITIONAL_OR_KEYWORD, default=42),\n",
    "    ...     Parameter('z', Parameter.KEYWORD_ONLY, default=None),\n",
    "    ... ]\n",
    "    >>> sig = Signature(params)\n",
    "\n",
    "Build from callable\n",
    "\n",
    "    >>> from inspect import signature\n",
    "    >>> sig = signature(lambda x, y=42, *, z=None: _)\n",
    "\n",
    "Testing\n",
    "\n",
    "    >>> print(sig)\n",
    "    (x, y=42, *, z=None)\n",
    "    >>> def func(*args, **kwargs):\n",
    "    ...     bound_values = sig.bind(*args, **kwargs)\n",
    "    ...     for name, value in bound_values.arguments.items():\n",
    "    ...         print(name, value)\n",
    "    >>> func(1, 2, z=3)\n",
    "    x 1\n",
    "    y 2\n",
    "    z 3\n",
    "    >>> func(1, z=3)\n",
    "    x 1\n",
    "    z 3\n",
    "    >>> func(y=2, x=1)\n",
    "    x 1\n",
    "    y 2\n",
    "    >>> func(1, 2, 3, 4)\n",
    "    Traceback (most recent call last):\n",
    "        ...\n",
    "    TypeError: too many positional arguments\n",
    "    >>> func(y=2)\n",
    "    Traceback (most recent call last):\n",
    "        ...\n",
    "    TypeError: missing a required argument: 'x'\n",
    "    >>> func(1, y=2, x=3)\n",
    "    Traceback (most recent call last):\n",
    "        ...\n",
    "    TypeError: multiple values for argument 'x'\n",
    "\n",
    "\"\"\"\n",
    "\n",
    "doctest.testmod()"
   ]
  },
  {
   "cell_type": "code",
   "execution_count": 4,
   "metadata": {},
   "outputs": [
    {
     "output_type": "execute_result",
     "data": {
      "text/plain": [
       "TestResults(failed=0, attempted=5)"
      ]
     },
     "metadata": {},
     "execution_count": 4
    }
   ],
   "source": [
    "import inspect\n",
    "\n",
    "\n",
    "class Structure:\n",
    "    __signature__ = inspect.Signature()\n",
    "\n",
    "    def __init__(self, *args, **kwargs):\n",
    "        bound_values = self.__signature__.bind(*args, **kwargs)\n",
    "        for name, value in bound_values.arguments.items():\n",
    "            setattr(self, name, value)\n",
    "\n",
    "\n",
    "class Stock(Structure):\n",
    "    __signature__ = inspect.signature(lambda name, shares, price: _)\n",
    "\n",
    "\n",
    "class Point(Structure):\n",
    "    __signature__ = inspect.signature(lambda x, y: _)\n",
    "\n",
    "\n",
    "\"\"\"\n",
    "\n",
    ">>> import inspect\n",
    ">>> print(inspect.signature(Stock))\n",
    "(name, shares, price)\n",
    ">>> s1 = Stock('ACME', 100, 490.1)\n",
    ">>> s2 = Stock('ACME', 100)\n",
    "Traceback (most recent call last):\n",
    "    ...\n",
    "TypeError: missing a required argument: 'price'\n",
    ">>> s3 = Stock('ACME', 100, 490.1, shares=50)\n",
    "Traceback (most recent call last):\n",
    "    ...\n",
    "TypeError: multiple values for argument 'shares'\n",
    "\"\"\"\n",
    "\n",
    "doctest.testmod()"
   ]
  },
  {
   "cell_type": "code",
   "execution_count": 5,
   "metadata": {},
   "outputs": [
    {
     "output_type": "execute_result",
     "data": {
      "text/plain": [
       "TestResults(failed=0, attempted=5)"
      ]
     },
     "metadata": {},
     "execution_count": 5
    }
   ],
   "source": [
    "import inspect\n",
    "\n",
    "\n",
    "def _make_sig(*names):\n",
    "    params = [inspect.Parameter(name, inspect.Parameter.POSITIONAL_OR_KEYWORD)\n",
    "              for name in names]\n",
    "    return inspect.Signature(params)\n",
    "\n",
    "\n",
    "class Meta(type):\n",
    "    def __new__(cls, clsname, bases, clsdict):\n",
    "        clsdict['__signature__'] = _make_sig(*clsdict.get('_fields',))\n",
    "        return super().__new__(cls, clsname, bases, clsdict)\n",
    "\n",
    "\n",
    "class Structure(metaclass=Meta):\n",
    "    _fields = []\n",
    "\n",
    "    def __init__(self, *args, **kwargs):\n",
    "        bound_values = self.__signature__.bind(*args, **kwargs)\n",
    "        for name, value in bound_values.arguments.items():\n",
    "            setattr(self, name, value)\n",
    "\n",
    "\n",
    "class Stock(Structure):\n",
    "    _fields = ('name', 'shares', 'price')\n",
    "\n",
    "\n",
    "class Point(Structure):\n",
    "    _fields = ('x', 'y')\n",
    "\n",
    "\n",
    "\"\"\"\n",
    "\n",
    ">>> import inspect\n",
    ">>> print(inspect.signature(Stock))\n",
    "(name, shares, price)\n",
    ">>> s1 = Stock('ACME', 100, 490.1)\n",
    ">>> s2 = Stock('ACME', 100)\n",
    "Traceback (most recent call last):\n",
    "    ...\n",
    "TypeError: missing a required argument: 'price'\n",
    ">>> s3 = Stock('ACME', 100, 490.1, shares=50)\n",
    "Traceback (most recent call last):\n",
    "    ...\n",
    "TypeError: multiple values for argument 'shares'\n",
    "\"\"\"\n",
    "\n",
    "doctest.testmod()"
   ]
  }
 ]
}