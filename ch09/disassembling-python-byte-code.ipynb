{
 "metadata": {
  "language_info": {
   "codemirror_mode": {
    "name": "ipython",
    "version": 3
   },
   "file_extension": ".py",
   "mimetype": "text/x-python",
   "name": "python",
   "nbconvert_exporter": "python",
   "pygments_lexer": "ipython3",
   "version": "3.9.1-final"
  },
  "orig_nbformat": 2,
  "kernelspec": {
   "name": "python3",
   "display_name": "Python 3",
   "language": "python"
  }
 },
 "nbformat": 4,
 "nbformat_minor": 2,
 "cells": [
  {
   "cell_type": "code",
   "execution_count": 1,
   "metadata": {},
   "outputs": [],
   "source": [
    "%load_ext pycodestyle_magic\n",
    "%load_ext mypy_ipython\n",
    "%pycodestyle_on"
   ]
  },
  {
   "cell_type": "code",
   "execution_count": 2,
   "metadata": {},
   "outputs": [],
   "source": [
    "import doctest"
   ]
  },
  {
   "cell_type": "code",
   "execution_count": 3,
   "metadata": {},
   "outputs": [
    {
     "output_type": "stream",
     "name": "stdout",
     "text": [
      "  5     >>    0 LOAD_FAST                0 (n)\n              2 LOAD_CONST               1 (0)\n              4 COMPARE_OP               4 (>)\n              6 POP_JUMP_IF_FALSE       28\n\n  6           8 LOAD_GLOBAL              0 (print)\n             10 LOAD_CONST               2 ('T-minus')\n             12 LOAD_FAST                0 (n)\n             14 CALL_FUNCTION            2\n             16 POP_TOP\n\n  7          18 LOAD_FAST                0 (n)\n             20 LOAD_CONST               3 (1)\n             22 INPLACE_SUBTRACT\n             24 STORE_FAST               0 (n)\n             26 JUMP_ABSOLUTE            0\n\n  8     >>   28 LOAD_GLOBAL              0 (print)\n             30 LOAD_CONST               4 ('boom')\n             32 CALL_FUNCTION            1\n             34 POP_TOP\n             36 LOAD_CONST               0 (None)\n             38 RETURN_VALUE\nb'|\\x00d\\x01k\\x04r\\x1ct\\x00d\\x02|\\x00\\x83\\x02\\x01\\x00|\\x00d\\x038\\x00}\\x00q\\x00t\\x00d\\x04\\x83\\x01\\x01\\x00d\\x00S\\x00'\n"
     ]
    }
   ],
   "source": [
    "import dis\n",
    "\n",
    "\n",
    "def countdown(n):\n",
    "    while n > 0:\n",
    "        print('T-minus', n)\n",
    "        n -= 1\n",
    "    print('boom')\n",
    "\n",
    "\n",
    "dis.dis(countdown)\n",
    "\n",
    "print(countdown.__code__.co_code)"
   ]
  },
  {
   "cell_type": "code",
   "execution_count": 4,
   "metadata": {},
   "outputs": [
    {
     "output_type": "stream",
     "name": "stdout",
     "text": [
      " 124  LOAD_FAST                       25600\n   1  POP_TOP                         None\n 107  COMPARE_OP                      29188\n  28  INPLACE_FLOOR_DIVIDE            None\n 116  LOAD_GLOBAL                     25600\n   2  ROT_TWO                         None\n 124  LOAD_FAST                       33536\n   2  ROT_TWO                         None\n   1  POP_TOP                         None\n   0  <0>                             None\n 124  LOAD_FAST                       25600\n   3  ROT_THREE                       None\n  56  INPLACE_SUBTRACT                None\n   0  <0>                             None\n 125  STORE_FAST                      28928\n   0  <0>                             None\n 116  LOAD_GLOBAL                     25600\n   4  DUP_TOP                         None\n 131  CALL_FUNCTION                   257\n   0  <0>                             None\n 100  LOAD_CONST                      21248\n   0  <0>                             None\n"
     ]
    }
   ],
   "source": [
    "import opcode\n",
    "\n",
    "\n",
    "def generate_opcodes(codebytes):\n",
    "    extended_arg = 0\n",
    "    i = 0\n",
    "    n = len(codebytes)\n",
    "    while i < n:\n",
    "        op = codebytes[i]\n",
    "        i += 1\n",
    "        if op >= opcode.HAVE_ARGUMENT:\n",
    "            oparg = codebytes[i] + codebytes[i+1] * 256 + extended_arg\n",
    "            extended_arg = 0\n",
    "            i += 2\n",
    "            if op == opcode.EXTENDED_ARG:\n",
    "                extended_arg = oparg * 65536\n",
    "                continue\n",
    "        else:\n",
    "            oparg = None\n",
    "\n",
    "        yield (op, oparg)\n",
    "\n",
    "\n",
    "for op, oparg in generate_opcodes(countdown.__code__.co_code):\n",
    "    print(f'{op:>4}  {opcode.opname[op]:<30}  {oparg}')"
   ]
  },
  {
   "cell_type": "code",
   "execution_count": 5,
   "metadata": {},
   "outputs": [
    {
     "output_type": "error",
     "ename": "SystemError",
     "evalue": "unknown opcode",
     "traceback": [
      "\u001b[0;31m---------------------------------------------------------------------------\u001b[0m",
      "\u001b[0;31mSystemError\u001b[0m                               Traceback (most recent call last)",
      "\u001b[0;32m<ipython-input-5-b765839651f1>\u001b[0m in \u001b[0;36m<module>\u001b[0;34m\u001b[0m\n\u001b[1;32m     14\u001b[0m )\n\u001b[1;32m     15\u001b[0m \u001b[0madd\u001b[0m\u001b[0;34m.\u001b[0m\u001b[0m__code__\u001b[0m \u001b[0;34m=\u001b[0m \u001b[0mnc\u001b[0m\u001b[0;34m\u001b[0m\u001b[0;34m\u001b[0m\u001b[0m\n\u001b[0;32m---> 16\u001b[0;31m \u001b[0madd\u001b[0m\u001b[0;34m(\u001b[0m\u001b[0;36m2\u001b[0m\u001b[0;34m,\u001b[0m \u001b[0;36m3\u001b[0m\u001b[0;34m)\u001b[0m\u001b[0;34m\u001b[0m\u001b[0;34m\u001b[0m\u001b[0m\n\u001b[0m",
      "\u001b[0;32m<ipython-input-5-b765839651f1>\u001b[0m in \u001b[0;36madd\u001b[0;34m(x, y)\u001b[0m\n\u001b[1;32m      3\u001b[0m \u001b[0;34m\u001b[0m\u001b[0m\n\u001b[1;32m      4\u001b[0m \u001b[0;32mdef\u001b[0m \u001b[0madd\u001b[0m\u001b[0;34m(\u001b[0m\u001b[0mx\u001b[0m\u001b[0;34m,\u001b[0m \u001b[0my\u001b[0m\u001b[0;34m)\u001b[0m\u001b[0;34m:\u001b[0m\u001b[0;34m\u001b[0m\u001b[0;34m\u001b[0m\u001b[0m\n\u001b[0;32m----> 5\u001b[0;31m     \u001b[0;32mreturn\u001b[0m \u001b[0mx\u001b[0m \u001b[0;34m+\u001b[0m \u001b[0my\u001b[0m\u001b[0;34m\u001b[0m\u001b[0;34m\u001b[0m\u001b[0m\n\u001b[0m\u001b[1;32m      6\u001b[0m \u001b[0;34m\u001b[0m\u001b[0m\n\u001b[1;32m      7\u001b[0m \u001b[0;34m\u001b[0m\u001b[0m\n",
      "\u001b[0;31mSystemError\u001b[0m: unknown opcode"
     ]
    }
   ],
   "source": [
    "import types\n",
    "\n",
    "\n",
    "def add(x, y):\n",
    "    return x + y\n",
    "\n",
    "\n",
    "c = add.__code__\n",
    "newbytecode = b'xxxxxxx'\n",
    "nc = types.CodeType(\n",
    "    c.co_argcount, c.co_posonlyargcount, c.co_kwonlyargcount, c.co_nlocals, c.co_stacksize,\n",
    "    c.co_flags, newbytecode, c.co_consts, c.co_names, c.co_varnames,\n",
    "    c.co_filename, c.co_name, c.co_firstlineno, c.co_lnotab\n",
    ")\n",
    "add.__code__ = nc\n",
    "add(2, 3)"
   ]
  }
 ]
}