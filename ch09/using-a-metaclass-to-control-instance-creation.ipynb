{
 "metadata": {
  "language_info": {
   "codemirror_mode": {
    "name": "ipython",
    "version": 3
   },
   "file_extension": ".py",
   "mimetype": "text/x-python",
   "name": "python",
   "nbconvert_exporter": "python",
   "pygments_lexer": "ipython3",
   "version": "3.9.1-final"
  },
  "orig_nbformat": 2,
  "kernelspec": {
   "name": "python3",
   "display_name": "Python 3",
   "language": "python"
  }
 },
 "nbformat": 4,
 "nbformat_minor": 2,
 "cells": [
  {
   "cell_type": "code",
   "execution_count": 1,
   "metadata": {},
   "outputs": [],
   "source": [
    "%load_ext pycodestyle_magic\n",
    "%load_ext mypy_ipython\n",
    "%pycodestyle_on"
   ]
  },
  {
   "cell_type": "code",
   "execution_count": 2,
   "metadata": {},
   "outputs": [],
   "source": [
    "import doctest"
   ]
  },
  {
   "cell_type": "code",
   "execution_count": 3,
   "metadata": {},
   "outputs": [
    {
     "output_type": "execute_result",
     "data": {
      "text/plain": [
       "TestResults(failed=0, attempted=2)"
      ]
     },
     "metadata": {},
     "execution_count": 3
    }
   ],
   "source": [
    "class NoInstance(type):\n",
    "    def __call__(self, *args, **kwargs):\n",
    "        raise TypeError(\"can't instantiate directly\")\n",
    "\n",
    "\n",
    "class Spam(metaclass=NoInstance):\n",
    "    @staticmethod\n",
    "    def grok(x):\n",
    "        print(f'Spam.grok: {x}')\n",
    "\n",
    "\n",
    "\"\"\"\n",
    "\n",
    ">>> Spam.grok(42)\n",
    "Spam.grok: 42\n",
    ">>> s = Spam()\n",
    "Traceback (most recent call last):\n",
    "    ...\n",
    "TypeError: can't instantiate directly\n",
    "\"\"\"\n",
    "\n",
    "doctest.testmod()"
   ]
  },
  {
   "cell_type": "code",
   "execution_count": 4,
   "metadata": {},
   "outputs": [
    {
     "output_type": "execute_result",
     "data": {
      "text/plain": [
       "TestResults(failed=0, attempted=6)"
      ]
     },
     "metadata": {},
     "execution_count": 4
    }
   ],
   "source": [
    "class Singleton(type):\n",
    "    def __init__(self, *args, **kwargs):\n",
    "        self.__instance = None\n",
    "        super().__init__(*args, **kwargs)\n",
    "\n",
    "    def __call__(self, *args, **kwargs):\n",
    "        if self.__instance is None:\n",
    "            self.__instance = super().__call__(*args, **kwargs)\n",
    "\n",
    "        return self.__instance\n",
    "\n",
    "\n",
    "class Spam(metaclass=Singleton):\n",
    "    def __init__(self):\n",
    "        print('creating Spam')\n",
    "\n",
    "\n",
    "\"\"\"\n",
    "\n",
    ">>> s1 = Spam()\n",
    "creating Spam\n",
    ">>> s2 = Spam()\n",
    ">>> s1 == s2\n",
    "True\n",
    ">>> s1 is s2\n",
    "True\n",
    ">>> s3 = Spam()\n",
    ">>> s1 is s3\n",
    "True\n",
    "\"\"\"\n",
    "\n",
    "doctest.testmod()"
   ]
  },
  {
   "cell_type": "code",
   "execution_count": 5,
   "metadata": {},
   "outputs": [
    {
     "output_type": "execute_result",
     "data": {
      "text/plain": [
       "TestResults(failed=0, attempted=4)"
      ]
     },
     "metadata": {},
     "execution_count": 5
    }
   ],
   "source": [
    "import weakref\n",
    "\n",
    "\n",
    "class Cached(type):\n",
    "    def __init__(self, *args, **kwargs):\n",
    "        self.__cache = weakref.WeakValueDictionary()\n",
    "        super().__init__(*args, **kwargs)\n",
    "\n",
    "    def __call__(self, *args):\n",
    "        if args in self.__cache:\n",
    "            return self.__cache[args]\n",
    "        else:\n",
    "            obj = super().__call__(*args)\n",
    "            self.__cache[args] = obj\n",
    "            return obj\n",
    "\n",
    "\n",
    "class Spam(metaclass=Cached):\n",
    "    def __init__(self, name):\n",
    "        print('creating Spam with name: {!r}'.format(name))\n",
    "        self.name = name\n",
    "\n",
    "\n",
    "\"\"\"\n",
    "\n",
    ">>> a = Spam('Guido')\n",
    "creating Spam with name: 'Guido'\n",
    ">>> b = Spam('Diana')\n",
    "creating Spam with name: 'Diana'\n",
    ">>> c = Spam('Guido')\n",
    ">>> a is c\n",
    "True\n",
    "\"\"\"\n",
    "\n",
    "doctest.testmod()"
   ]
  }
 ]
}