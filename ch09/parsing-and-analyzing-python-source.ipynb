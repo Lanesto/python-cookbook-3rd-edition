{
 "metadata": {
  "language_info": {
   "codemirror_mode": {
    "name": "ipython",
    "version": 3
   },
   "file_extension": ".py",
   "mimetype": "text/x-python",
   "name": "python",
   "nbconvert_exporter": "python",
   "pygments_lexer": "ipython3",
   "version": "3.9.1-final"
  },
  "orig_nbformat": 2,
  "kernelspec": {
   "name": "python3",
   "display_name": "Python 3",
   "language": "python"
  }
 },
 "nbformat": 4,
 "nbformat_minor": 2,
 "cells": [
  {
   "cell_type": "code",
   "execution_count": 1,
   "metadata": {},
   "outputs": [],
   "source": [
    "%load_ext pycodestyle_magic\n",
    "%load_ext mypy_ipython\n",
    "%pycodestyle_on"
   ]
  },
  {
   "cell_type": "code",
   "execution_count": 2,
   "metadata": {},
   "outputs": [],
   "source": [
    "import doctest"
   ]
  },
  {
   "cell_type": "code",
   "execution_count": 3,
   "metadata": {},
   "outputs": [
    {
     "output_type": "stream",
     "name": "stdout",
     "text": [
      "Expression(body=BinOp(left=BinOp(left=Constant(value=2), op=Add(), right=BinOp(left=Constant(value=3), op=Mult(), right=Constant(value=4))), op=Add(), right=Name(id='x', ctx=Load())))\n\n================================================================================\n\nModule(body=[For(target=Name(id='i', ctx=Store()), iter=Call(func=Name(id='range', ctx=Load()), args=[Constant(value=10)], keywords=[]), body=[Expr(value=Call(func=Name(id='print', ctx=Load()), args=[Name(id='i', ctx=Load())], keywords=[]))], orelse=[])], type_ignores=[])\n\n================================================================================\n\n"
     ]
    }
   ],
   "source": [
    "import ast\n",
    "from collections import namedtuple\n",
    "\n",
    "Case = namedtuple('Case', 'expr mode')\n",
    "\n",
    "cases = [\n",
    "    Case('2 + 3*4 + x', 'eval'),\n",
    "    Case('for i in range(10): print(i)', 'exec')\n",
    "]\n",
    "\n",
    "for case in cases:\n",
    "    ex = ast.parse(case.expr, mode=case.mode)\n",
    "    print(ast.dump(ex))\n",
    "    print('\\n' + '=' * 80 + '\\n')"
   ]
  },
  {
   "cell_type": "code",
   "execution_count": 4,
   "metadata": {},
   "outputs": [
    {
     "output_type": "stream",
     "name": "stdout",
     "text": [
      "loaded: {'i', 'range', 'print'}\nstored: {'i'}\ndeleted: {'i'}\n0\n1\n2\n3\n4\n5\n6\n7\n8\n9\n"
     ]
    }
   ],
   "source": [
    "import ast\n",
    "\n",
    "\n",
    "class CodeAnalyzer(ast.NodeVisitor):\n",
    "    def __init__(self):\n",
    "        self.loaded = set()\n",
    "        self.stored = set()\n",
    "        self.deleted = set()\n",
    "\n",
    "    def visit_Name(self, node):\n",
    "        if isinstance(node.ctx, ast.Load):\n",
    "            self.loaded.add(node.id)\n",
    "        elif isinstance(node.ctx, ast.Store):\n",
    "            self.stored.add(node.id)\n",
    "        elif isinstance(node.ctx, ast.Del):\n",
    "            self.deleted.add(node.id)\n",
    "\n",
    "\n",
    "expr = '''\n",
    "for i in range(10):\n",
    "    print(i)\n",
    "del i\n",
    "'''\n",
    "root = ast.parse(expr, mode='exec')\n",
    "analyzer = CodeAnalyzer()\n",
    "analyzer.visit(root)\n",
    "\n",
    "print('loaded:', analyzer.loaded)\n",
    "print('stored:', analyzer.stored)\n",
    "print('deleted:', analyzer.deleted)\n",
    "\n",
    "exec(compile(root, '<stdin>', 'exec'))"
   ]
  },
  {
   "cell_type": "code",
   "execution_count": 5,
   "metadata": {},
   "outputs": [],
   "source": [
    "import ast\n",
    "import inspect\n",
    "\n",
    "\n",
    "class NameLower(ast.NodeVisitor):\n",
    "    def __init__(self, lowered_names):\n",
    "        self.lowered_names = lowered_names\n",
    "\n",
    "    def visit_FunctionDef(self, node):\n",
    "        code = '__globals = globals()\\n'\n",
    "        code += '\\n'.join(\"{0} = __globals['{0}']\".format(name)\n",
    "                          for name in self.lowered_names)\n",
    "        code_ast = ast.parse(code, mode='exec')\n",
    "        node.body[:0] = code_ast.body\n",
    "        self.func = node\n",
    "\n",
    "\n",
    "def lower_names(*namelist):\n",
    "    def lower(func):\n",
    "        srclines = inspect.getsource(func).splitlines()\n",
    "        for n, line in enumerate(srclines):\n",
    "            if '@lower_names' in line:\n",
    "                break\n",
    "\n",
    "        src = '\\n'.join(srclines[n+1:])\n",
    "        if src.startswith((' ', '\\t')):\n",
    "            src = 'if 1:\\n' + src\n",
    "\n",
    "        top = ast.parse(src, mode='exec')\n",
    "        cl = NameLower(namelist)\n",
    "        cl.visit(top)\n",
    "\n",
    "        temp = {}\n",
    "        exec(compile(top, '', 'exec'), temp, temp)\n",
    "\n",
    "        func.__code__ = temp[func.__name__].__code__\n",
    "        return func\n",
    "\n",
    "    return lower\n",
    "\n",
    "\n",
    "INCR = 1\n",
    "\n",
    "\n",
    "@lower_names('INCR')\n",
    "def countdown(n):\n",
    "    while n > 0:\n",
    "        n -= INCR\n",
    "\n",
    "\n",
    "countdown(1e+7)"
   ]
  }
 ]
}