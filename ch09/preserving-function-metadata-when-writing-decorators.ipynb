{
 "metadata": {
  "language_info": {
   "codemirror_mode": {
    "name": "ipython",
    "version": 3
   },
   "file_extension": ".py",
   "mimetype": "text/x-python",
   "name": "python",
   "nbconvert_exporter": "python",
   "pygments_lexer": "ipython3",
   "version": "3.9.1-final"
  },
  "orig_nbformat": 2,
  "kernelspec": {
   "name": "python3",
   "display_name": "Python 3",
   "language": "python"
  }
 },
 "nbformat": 4,
 "nbformat_minor": 2,
 "cells": [
  {
   "cell_type": "code",
   "execution_count": 1,
   "metadata": {},
   "outputs": [],
   "source": [
    "%load_ext pycodestyle_magic\n",
    "%load_ext mypy_ipython\n",
    "%pycodestyle_on"
   ]
  },
  {
   "cell_type": "code",
   "execution_count": 2,
   "metadata": {},
   "outputs": [],
   "source": [
    "import doctest"
   ]
  },
  {
   "cell_type": "code",
   "execution_count": 3,
   "metadata": {},
   "outputs": [
    {
     "output_type": "execute_result",
     "data": {
      "text/plain": [
       "TestResults(failed=0, attempted=8)"
      ]
     },
     "metadata": {},
     "execution_count": 3
    }
   ],
   "source": [
    "import time\n",
    "from functools import wraps\n",
    "\n",
    "\n",
    "def timeit(func):\n",
    "    @wraps(func)\n",
    "    def wrapper(*args, **kwargs):\n",
    "        start = time.time()\n",
    "        result = func(*args, **kwargs)\n",
    "        end = time.time()\n",
    "        print(f'[{(end - start):.4f}] {func.__name__}')\n",
    "\n",
    "    return wrapper\n",
    "\n",
    "\n",
    "\"\"\"\n",
    "Wrapper with metadata of decorated function\n",
    "\n",
    "    >>> @timeit\n",
    "    ... def countdown(n: int):\n",
    "    ...     '''docstring'''\n",
    "    ...     while n > 0:\n",
    "    ...         n -= 1\n",
    "    >>> countdown(10000)  # doctest: +ELLIPSIS\n",
    "    [...] countdown\n",
    "    >>> countdown.__name__\n",
    "    'countdown'\n",
    "    >>> countdown.__doc__\n",
    "    'docstring'\n",
    "    >>> countdown.__annotations__\n",
    "    {'n': <class 'int'>}\n",
    "    >>> countdown.__wrapped__(10000)\n",
    "\n",
    "Inspection\n",
    "\n",
    "    >>> from inspect import signature\n",
    "    >>> signature(countdown)\n",
    "    <Signature (n: int)>\n",
    "\n",
    "\"\"\"\n",
    "\n",
    "doctest.testmod()"
   ]
  },
  {
   "cell_type": "code",
   "execution_count": 4,
   "metadata": {},
   "outputs": [
    {
     "output_type": "execute_result",
     "data": {
      "text/plain": [
       "TestResults(failed=0, attempted=5)"
      ]
     },
     "metadata": {},
     "execution_count": 4
    }
   ],
   "source": [
    "import time\n",
    "\n",
    "\n",
    "def timeit(func):\n",
    "    def wrapper(*args, **kwargs):\n",
    "        start = time.time()\n",
    "        result = func(*args, **kwargs)\n",
    "        end = time.time()\n",
    "        print(f'[{(end - start):.4f}] {func.__name__}')\n",
    "\n",
    "    return wrapper\n",
    "\n",
    "\n",
    "\"\"\"\n",
    "\n",
    ">>> @timeit\n",
    "... def countdown(n: int):\n",
    "...     '''docstring'''\n",
    "...     while n > 0:\n",
    "...         n -= 1\n",
    ">>> countdown(10000)  # doctest: +ELLIPSIS\n",
    "[...] countdown\n",
    ">>> countdown.__name__\n",
    "'wrapper'\n",
    ">>> countdown.__doc__\n",
    ">>> countdown.__annotations__\n",
    "{}\n",
    "\"\"\"\n",
    "\n",
    "doctest.testmod()"
   ]
  }
 ]
}