{
 "metadata": {
  "language_info": {
   "codemirror_mode": {
    "name": "ipython",
    "version": 3
   },
   "file_extension": ".py",
   "mimetype": "text/x-python",
   "name": "python",
   "nbconvert_exporter": "python",
   "pygments_lexer": "ipython3",
   "version": "3.9.1-final"
  },
  "orig_nbformat": 2,
  "kernelspec": {
   "name": "python3",
   "display_name": "Python 3",
   "language": "python"
  }
 },
 "nbformat": 4,
 "nbformat_minor": 2,
 "cells": [
  {
   "cell_type": "code",
   "execution_count": 1,
   "metadata": {},
   "outputs": [],
   "source": [
    "%load_ext pycodestyle_magic\n",
    "%load_ext mypy_ipython\n",
    "%pycodestyle_on"
   ]
  },
  {
   "cell_type": "code",
   "execution_count": 2,
   "metadata": {},
   "outputs": [],
   "source": [
    "import doctest"
   ]
  },
  {
   "cell_type": "code",
   "execution_count": 3,
   "metadata": {},
   "outputs": [
    {
     "output_type": "execute_result",
     "data": {
      "text/plain": [
       "TestResults(failed=0, attempted=4)"
      ]
     },
     "metadata": {},
     "execution_count": 3
    }
   ],
   "source": [
    "import time\n",
    "from functools import wraps\n",
    "\n",
    "\n",
    "def timeit(func):\n",
    "    @wraps(func)\n",
    "    def wrapper(*args, **kwargs):\n",
    "        start = time.time()\n",
    "        result = func(*args, **kwargs)\n",
    "        elapsed = time.time() - start\n",
    "        print(f'[{elapsed:.8f}] {func.__name__} -> {result}')\n",
    "        return result\n",
    "\n",
    "    return wrapper\n",
    "\n",
    "\n",
    "class Spam:\n",
    "    @timeit\n",
    "    def method(self, n):\n",
    "        print(f'method: {n}')\n",
    "        while n > 0:\n",
    "            n -= 1\n",
    "\n",
    "    @classmethod\n",
    "    @timeit\n",
    "    def classmethod(cls, n):\n",
    "        print(f'classmethod: {n}')\n",
    "        while n > 0:\n",
    "            n -= 1\n",
    "\n",
    "    @staticmethod\n",
    "    @timeit\n",
    "    def staticmethod(n):\n",
    "        print(f'staticmethod: {n}')\n",
    "        while n > 0:\n",
    "            n -= 1\n",
    "\n",
    "    \"\"\"\n",
    "    @timeit\n",
    "    @classmethod\n",
    "    def wrong_classmethod(cls, n):\n",
    "        print(f'wrong_classmethod: {n}')\n",
    "        while n > 0:\n",
    "            n -= 1\n",
    "    \"\"\"\n",
    "\n",
    "\n",
    "\"\"\"\n",
    "\n",
    ">>> s = Spam()\n",
    ">>> s.method(10**6)  # doctest: +ELLIPSIS\n",
    "method: 1000000\n",
    "[...] method -> None\n",
    ">>> Spam.classmethod(10**6)  # doctest: +ELLIPSIS\n",
    "classmethod: 1000000\n",
    "[...] classmethod -> None\n",
    ">>> Spam.staticmethod(10**6)  # doctest: +ELLIPSIS\n",
    "staticmethod: 1000000\n",
    "[...] staticmethod -> None\n",
    "\"\"\"\n",
    "\n",
    "doctest.testmod()"
   ]
  }
 ]
}