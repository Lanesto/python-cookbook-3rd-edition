{
 "metadata": {
  "language_info": {
   "codemirror_mode": {
    "name": "ipython",
    "version": 3
   },
   "file_extension": ".py",
   "mimetype": "text/x-python",
   "name": "python",
   "nbconvert_exporter": "python",
   "pygments_lexer": "ipython3",
   "version": "3.9.1-final"
  },
  "orig_nbformat": 2,
  "kernelspec": {
   "name": "python3",
   "display_name": "Python 3",
   "language": "python"
  }
 },
 "nbformat": 4,
 "nbformat_minor": 2,
 "cells": [
  {
   "cell_type": "code",
   "execution_count": 1,
   "metadata": {},
   "outputs": [],
   "source": [
    "%load_ext pycodestyle_magic\n",
    "%load_ext mypy_ipython\n",
    "%pycodestyle_on"
   ]
  },
  {
   "cell_type": "code",
   "execution_count": 2,
   "metadata": {},
   "outputs": [],
   "source": [
    "import doctest"
   ]
  },
  {
   "cell_type": "code",
   "execution_count": 3,
   "metadata": {},
   "outputs": [
    {
     "output_type": "execute_result",
     "data": {
      "text/plain": [
       "TestResults(failed=0, attempted=6)"
      ]
     },
     "metadata": {},
     "execution_count": 3
    }
   ],
   "source": [
    "import operator\n",
    "\n",
    "\n",
    "class StructTupleMeta(type):\n",
    "    def __init__(cls, *args, **kwargs):\n",
    "        super().__init__(*args, **kwargs)\n",
    "        for i, name in enumerate(cls._fields):\n",
    "            setattr(cls, name, property(operator.itemgetter(i)))\n",
    "\n",
    "\n",
    "class StructTuple(tuple, metaclass=StructTupleMeta):\n",
    "    _fields = []\n",
    "\n",
    "    def __new__(cls, *args):\n",
    "        if len(args) != len(cls._fields):\n",
    "            raise ValueError('{} arguments required'.format(len(cls._fields)))\n",
    "\n",
    "        return super().__new__(cls, args)\n",
    "\n",
    "\n",
    "class Stock(StructTuple):\n",
    "    _fields = ['name', 'shares', 'price']\n",
    "\n",
    "\n",
    "class Point(StructTuple):\n",
    "    _fields = ['x', 'y']\n",
    "\n",
    "\n",
    "\"\"\"\n",
    "\n",
    ">>> s = Stock('ACME', 50, 91.1)\n",
    ">>> s\n",
    "('ACME', 50, 91.1)\n",
    ">>> s[0]\n",
    "'ACME'\n",
    ">>> s.name\n",
    "'ACME'\n",
    ">>> s.shares * s.price\n",
    "4555.0\n",
    ">>> s.shares = 23\n",
    "Traceback (most recent call last):\n",
    "    ...\n",
    "AttributeError: can't set attribute\n",
    "\"\"\"\n",
    "\n",
    "doctest.testmod()"
   ]
  }
 ]
}