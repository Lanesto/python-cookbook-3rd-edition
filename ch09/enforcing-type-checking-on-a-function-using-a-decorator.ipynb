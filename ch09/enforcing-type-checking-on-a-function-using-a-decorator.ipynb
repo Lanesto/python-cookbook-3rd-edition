{
 "metadata": {
  "language_info": {
   "codemirror_mode": {
    "name": "ipython",
    "version": 3
   },
   "file_extension": ".py",
   "mimetype": "text/x-python",
   "name": "python",
   "nbconvert_exporter": "python",
   "pygments_lexer": "ipython3",
   "version": "3.9.1-final"
  },
  "orig_nbformat": 2,
  "kernelspec": {
   "name": "python3",
   "display_name": "Python 3",
   "language": "python"
  }
 },
 "nbformat": 4,
 "nbformat_minor": 2,
 "cells": [
  {
   "cell_type": "code",
   "execution_count": 1,
   "metadata": {},
   "outputs": [],
   "source": [
    "%load_ext pycodestyle_magic\n",
    "%load_ext mypy_ipython\n",
    "%pycodestyle_on"
   ]
  },
  {
   "cell_type": "code",
   "execution_count": 2,
   "metadata": {},
   "outputs": [],
   "source": [
    "import doctest"
   ]
  },
  {
   "cell_type": "code",
   "execution_count": 26,
   "metadata": {},
   "outputs": [
    {
     "output_type": "execute_result",
     "data": {
      "text/plain": [
       "TestResults(failed=0, attempted=25)"
      ]
     },
     "metadata": {},
     "execution_count": 26
    }
   ],
   "source": [
    "from inspect import signature\n",
    "from functools import wraps\n",
    "\n",
    "\n",
    "def typeassert(*ty_args, **ty_kwargs):\n",
    "    def decorator(func):\n",
    "        if not __debug__:\n",
    "            return func\n",
    "\n",
    "        sig = signature(func)\n",
    "        bound_types = sig.bind_partial(*ty_args, **ty_kwargs).arguments\n",
    "\n",
    "        @wraps(func)\n",
    "        def wrapper(*args, **kwargs):\n",
    "            bound_values = sig.bind(*args, **kwargs)\n",
    "            bound_values.apply_defaults()\n",
    "            for name, value in bound_values.arguments.items():\n",
    "                if name in bound_types:\n",
    "                    if not isinstance(value, bound_types[name]):\n",
    "                        msg = 'argument {} must be {}'\n",
    "                        raise TypeError(\n",
    "                            msg.format(name, bound_types[name].__name__)\n",
    "                        )\n",
    "\n",
    "            return func(*args, **kwargs)\n",
    "        return wrapper\n",
    "    return decorator\n",
    "\n",
    "\n",
    "\"\"\"\n",
    "Basic\n",
    "\n",
    "    >>> @typeassert(int, int)\n",
    "    ... def add(x, y):\n",
    "    ...     return x + y\n",
    "    >>> add(2, 3)\n",
    "    5\n",
    "    >>> add(2, 'hello')\n",
    "    Traceback (most recent call last):\n",
    "        ...\n",
    "    TypeError: argument y must be int\n",
    "\n",
    "With only specific fields\n",
    "\n",
    "    >>> @typeassert(int, z=int)\n",
    "    ... def spam(x, y, z=42):\n",
    "    ...     print(x, y, z)\n",
    "    >>> spam(1, 2, 3)\n",
    "    1 2 3\n",
    "    >>> spam(1, 'hello', 3)\n",
    "    1 hello 3\n",
    "    >>> spam(1, 'hello', 'world')\n",
    "    Traceback (most recent call last):\n",
    "        ...\n",
    "    TypeError: argument z must be int\n",
    "\n",
    "Inspecting function signature\n",
    "\n",
    "    >>> spam = spam.__wrapped__\n",
    "    >>> sig = signature(spam)\n",
    "    >>> print(sig)\n",
    "    (x, y, z=42)\n",
    "    >>> sig.parameters  # doctest: +ELLIPSIS\n",
    "    mappingproxy(OrderedDict([('x', <Parameter \"x\">), ('y', <Parameter \"y\">), ('z', <Parameter \"z=42\">)]))\n",
    "    >>> sig.parameters['z'].name\n",
    "    'z'\n",
    "    >>> sig.parameters['z'].default\n",
    "    42\n",
    "    >>> sig.parameters['z'].kind\n",
    "    <_ParameterKind.POSITIONAL_OR_KEYWORD: 1>\n",
    "    >>> bound_types = sig.bind_partial(int, z=int)\n",
    "    >>> bound_types\n",
    "    <BoundArguments (x=<class 'int'>, z=<class 'int'>)>\n",
    "    >>> bound_types.arguments\n",
    "    {'x': <class 'int'>, 'z': <class 'int'>}\n",
    "    >>> bound_values = sig.bind(1, 2)\n",
    "    >>> bound_values.apply_defaults()\n",
    "    >>> bound_values\n",
    "    <BoundArguments (x=1, y=2, z=42)>\n",
    "    >>> bound_values.arguments\n",
    "    {'x': 1, 'y': 2, 'z': 42}\n",
    "\n",
    "Edge-case\n",
    "\n",
    "    >>> @typeassert(int, list)\n",
    "    ... def bar(x, items=None):\n",
    "    ...     if items is None:\n",
    "    ...         items = []\n",
    "    ...     items.append(x)\n",
    "    ...     return items\n",
    "    >>> bar(2)\n",
    "    Traceback (most recent call last):\n",
    "        ...\n",
    "    TypeError: argument items must be list\n",
    "    >>> bar(2, 3)\n",
    "    Traceback (most recent call last):\n",
    "        ...\n",
    "    TypeError: argument items must be list\n",
    "    >>> bar(4, [1, 2, 3])\n",
    "    [1, 2, 3, 4]\n",
    "\n",
    "\"\"\"  # noqa: E501\n",
    "\n",
    "doctest.testmod()"
   ]
  },
  {
   "cell_type": "code",
   "execution_count": null,
   "metadata": {},
   "outputs": [],
   "source": []
  }
 ]
}