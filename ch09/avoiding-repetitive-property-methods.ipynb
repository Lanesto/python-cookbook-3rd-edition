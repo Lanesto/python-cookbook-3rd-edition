{
 "metadata": {
  "language_info": {
   "codemirror_mode": {
    "name": "ipython",
    "version": 3
   },
   "file_extension": ".py",
   "mimetype": "text/x-python",
   "name": "python",
   "nbconvert_exporter": "python",
   "pygments_lexer": "ipython3",
   "version": "3.9.1-final"
  },
  "orig_nbformat": 2,
  "kernelspec": {
   "name": "python3",
   "display_name": "Python 3",
   "language": "python"
  }
 },
 "nbformat": 4,
 "nbformat_minor": 2,
 "cells": [
  {
   "cell_type": "code",
   "execution_count": 1,
   "metadata": {},
   "outputs": [],
   "source": [
    "%load_ext pycodestyle_magic\n",
    "%load_ext mypy_ipython\n",
    "%pycodestyle_on"
   ]
  },
  {
   "cell_type": "code",
   "execution_count": 2,
   "metadata": {},
   "outputs": [],
   "source": [
    "import doctest"
   ]
  },
  {
   "cell_type": "code",
   "execution_count": 3,
   "metadata": {},
   "outputs": [
    {
     "output_type": "execute_result",
     "data": {
      "text/plain": [
       "TestResults(failed=0, attempted=4)"
      ]
     },
     "metadata": {},
     "execution_count": 3
    }
   ],
   "source": [
    "def typed_property(name, expected_type):\n",
    "    storage_name = f'_{name}'\n",
    "\n",
    "    @property\n",
    "    def prop(self):\n",
    "        return getattr(self, storage_name)\n",
    "\n",
    "    @prop.setter\n",
    "    def prop(self, value):\n",
    "        if not isinstance(value, expected_type):\n",
    "            raise TypeError(f'{name} must be a {expected_type}')\n",
    "        setattr(self, storage_name, value)\n",
    "\n",
    "    return prop\n",
    "\n",
    "\n",
    "class Person:\n",
    "    name = typed_property('name', str)\n",
    "    age = typed_property('age', int)\n",
    "\n",
    "    def __init__(self, name, age):\n",
    "        self.name = name\n",
    "        self.age = age\n",
    "\n",
    "\n",
    "\"\"\"\n",
    "\n",
    ">>> p = Person('Andy', 18)\n",
    ">>> p.name, p.age\n",
    "('Andy', 18)\n",
    ">>> p.name = 9\n",
    "Traceback (most recent call last):\n",
    "    ...\n",
    "TypeError: name must be a <class 'str'>\n",
    ">>> p.age = 'h'\n",
    "Traceback (most recent call last):\n",
    "    ...\n",
    "TypeError: age must be a <class 'int'>\n",
    "\"\"\"\n",
    "\n",
    "doctest.testmod()"
   ]
  }
 ]
}