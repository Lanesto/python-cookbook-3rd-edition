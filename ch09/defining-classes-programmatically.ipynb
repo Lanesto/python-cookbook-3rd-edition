{
 "metadata": {
  "language_info": {
   "codemirror_mode": {
    "name": "ipython",
    "version": 3
   },
   "file_extension": ".py",
   "mimetype": "text/x-python",
   "name": "python",
   "nbconvert_exporter": "python",
   "pygments_lexer": "ipython3",
   "version": "3.9.1-final"
  },
  "orig_nbformat": 2,
  "kernelspec": {
   "name": "python3",
   "display_name": "Python 3",
   "language": "python"
  }
 },
 "nbformat": 4,
 "nbformat_minor": 2,
 "cells": [
  {
   "cell_type": "code",
   "execution_count": 1,
   "metadata": {},
   "outputs": [],
   "source": [
    "%load_ext pycodestyle_magic\n",
    "%load_ext mypy_ipython\n",
    "%pycodestyle_on"
   ]
  },
  {
   "cell_type": "code",
   "execution_count": 2,
   "metadata": {},
   "outputs": [],
   "source": [
    "import doctest"
   ]
  },
  {
   "cell_type": "code",
   "execution_count": 3,
   "metadata": {},
   "outputs": [
    {
     "output_type": "execute_result",
     "data": {
      "text/plain": [
       "TestResults(failed=0, attempted=3)"
      ]
     },
     "metadata": {},
     "execution_count": 3
    }
   ],
   "source": [
    "import types\n",
    "\n",
    "\n",
    "def __init__(self, name, shares, price):\n",
    "    self.name = name\n",
    "    self.shares = shares\n",
    "    self.price = price\n",
    "\n",
    "\n",
    "def cost(self):\n",
    "    return self.shares * self.price\n",
    "\n",
    "\n",
    "clsdict = {\n",
    "    '__init__': __init__,\n",
    "    'cost': cost,\n",
    "}\n",
    "\n",
    "Stock = types.new_class('Stock', (), {}, lambda ns: ns.update(clsdict))\n",
    "Stock.__module__ = __name__\n",
    "\n",
    "\n",
    "\"\"\"\n",
    "\n",
    ">>> s = Stock('ACME', 50, 91.1)\n",
    ">>> s  # doctest: +ELLIPSIS\n",
    "<__main__.Stock object at ...>\n",
    ">>> s.cost()\n",
    "4555.0\n",
    "\"\"\"\n",
    "\n",
    "doctest.testmod()"
   ]
  },
  {
   "cell_type": "code",
   "execution_count": 4,
   "metadata": {},
   "outputs": [
    {
     "output_type": "execute_result",
     "data": {
      "text/plain": [
       "TestResults(failed=0, attempted=8)"
      ]
     },
     "metadata": {},
     "execution_count": 4
    }
   ],
   "source": [
    "import operator\n",
    "import types\n",
    "import sys\n",
    "\n",
    "\n",
    "def namedtuple(clsname, field_names):\n",
    "\n",
    "    def __new__(cls, *args):\n",
    "        if len(args) != len(field_names):\n",
    "            raise TypeError('expected {} arguments'.format(len(field_names)))\n",
    "        return tuple.__new__(cls, args)\n",
    "\n",
    "    clsdict = {\n",
    "        name: property(operator.itemgetter(i))\n",
    "        for i, name in enumerate(field_names)\n",
    "    }\n",
    "    clsdict['__new__'] = __new__\n",
    "    cls = types.new_class(clsname, (tuple,), {}, lambda ns: ns.update(clsdict))\n",
    "    cls.__module__ = sys._getframe(1).f_globals['__name__']\n",
    "    return cls\n",
    "\n",
    "\n",
    "\"\"\"\n",
    "\n",
    ">>> Point = namedtuple('Point', ('x', 'y'))\n",
    ">>> Point\n",
    "<class '__main__.Point'>\n",
    ">>> p = Point(4, 5)\n",
    ">>> len(p)\n",
    "2\n",
    ">>> p.x\n",
    "4\n",
    ">>> p.y\n",
    "5\n",
    ">>> p.x = 2\n",
    "Traceback (most recent call last):\n",
    "    ...\n",
    "AttributeError: can't set attribute\n",
    ">>> print(*p)\n",
    "4 5\n",
    "\"\"\"\n",
    "\n",
    "doctest.testmod()"
   ]
  },
  {
   "cell_type": "code",
   "execution_count": null,
   "metadata": {},
   "outputs": [],
   "source": []
  }
 ]
}