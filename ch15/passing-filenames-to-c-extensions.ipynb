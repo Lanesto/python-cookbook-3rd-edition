{
 "metadata": {
  "language_info": {
   "codemirror_mode": {
    "name": "ipython",
    "version": 3
   },
   "file_extension": ".py",
   "mimetype": "text/x-python",
   "name": "python",
   "nbconvert_exporter": "python",
   "pygments_lexer": "ipython3",
   "version": "3.9.1-final"
  },
  "orig_nbformat": 2,
  "kernelspec": {
   "name": "python3",
   "display_name": "Python 3",
   "language": "python"
  }
 },
 "nbformat": 4,
 "nbformat_minor": 2,
 "cells": [
  {
   "cell_type": "code",
   "execution_count": 1,
   "metadata": {},
   "outputs": [],
   "source": [
    "%load_ext pycodestyle_magic\n",
    "%load_ext mypy_ipython\n",
    "%pycodestyle_on"
   ]
  },
  {
   "cell_type": "code",
   "execution_count": 2,
   "metadata": {},
   "outputs": [],
   "source": [
    "import doctest"
   ]
  },
  {
   "cell_type": "code",
   "execution_count": 3,
   "metadata": {},
   "outputs": [
    {
     "output_type": "stream",
     "name": "stdout",
     "text": [
      "accessing-c-code-using-ctypes\nbuild\nbuild.sh\ncalling-python-from-c\nconsuming-an-iterable-from-c.ipynb\ndefining-and-exporting-c-apis-from-extension-modules.ipynb\ndiagnosing-segmentation-faults.ipynb\nlibsample.so\nmanaging-opaque-pointers-in-c-extension-modules.ipynb\nmixing-threads-from-c-and-python.ipynb\npassing-filenames-to-c-extensions.ipynb\npassing-null-terminated-strings-to-c-libraries.ipynb\npassing-unicode-strings-to-c-libraries.ipynb\npt-example.c\nptexample.cpython-39-x86_64-linux-gnu.so\npy-sample.c\npy-sample.h\nreading-file-like-objects-from-c.ipynb\nsample.c\nsample.cpython-39-x86_64-linux-gnu.so\nsample.h\nsetup.py\nturning-a-function-pointer-into-a-callable.ipynb\nusing-cython-to-write-high-performance-array-operations\nwrapping-existing-c-code-with-cython\nwriting-a-simple-c-extension-module.ipynb\nwriting-an-extension-function-that-operates-on-arrays.ipynb\n"
     ]
    }
   ],
   "source": [
    "import os\n",
    "import sample\n",
    "\n",
    "for f in os.listdir():\n",
    "    sample.get_filename(f)\n",
    "    print()"
   ]
  }
 ]
}