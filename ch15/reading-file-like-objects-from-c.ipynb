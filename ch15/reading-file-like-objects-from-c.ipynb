{
 "metadata": {
  "language_info": {
   "codemirror_mode": {
    "name": "ipython",
    "version": 3
   },
   "file_extension": ".py",
   "mimetype": "text/x-python",
   "name": "python",
   "nbconvert_exporter": "python",
   "pygments_lexer": "ipython3",
   "version": "3.9.1-final"
  },
  "orig_nbformat": 2,
  "kernelspec": {
   "name": "python3",
   "display_name": "Python 3",
   "language": "python"
  }
 },
 "nbformat": 4,
 "nbformat_minor": 2,
 "cells": [
  {
   "cell_type": "code",
   "execution_count": 1,
   "metadata": {},
   "outputs": [],
   "source": [
    "%load_ext pycodestyle_magic\n",
    "%load_ext mypy_ipython\n",
    "%pycodestyle_on"
   ]
  },
  {
   "cell_type": "code",
   "execution_count": 2,
   "metadata": {},
   "outputs": [],
   "source": [
    "import doctest"
   ]
  },
  {
   "cell_type": "code",
   "execution_count": 3,
   "metadata": {},
   "outputs": [
    {
     "output_type": "stream",
     "name": "stdout",
     "text": [
      "Hello\nWorld\n\n#include \"Python.h\"\n#define PYSAMPLE_MODULE\n#include \"py-sample.h\"\n\nstatic PyObject *py_gcd(PyObject *self, PyObject *args)\n{\n    int x, y, result;\n    if (!PyArg_ParseTuple(args, \"ii\", &x, &y))\n    {\n        return NULL;\n    }\n    result = gcd(x, y);\n    return Py_BuildValue(\"i\", result);\n}\n\nstatic PyObject *py_in_mandel(PyObject *self, PyObject *args)\n{\n    double x0, y0;\n    int n, result;\n    if (!PyArg_ParseTuple(args, \"ddi\", &x0, &y0, &n))\n    {\n        return NULL;\n    }\n    result = in_mandel(x0, y0, n);\n    return Py_BuildValue(\"i\", result);\n}\n\nstatic PyObject *py_divide(PyObject *self, PyObject *args)\n{\n    int a, b, quotient, remainder;\n    if (!PyArg_ParseTuple(args, \"ii\", &a, &b))\n    {\n        return NULL;\n    }\n    quotient = divide(a, b, &remainder);\n    return Py_BuildValue(\"(ii)\", quotient, remainder);\n}\n\nstatic PyObject *py_avg(PyObject *self, PyObject *args)\n{\n    PyObject *bufobj;\n    Py_buffer view;\n    double result;\n    if (!PyArg_ParseTuple(args, \"O\", &bufobj))... truncated"
     ]
    }
   ],
   "source": [
    "import io\n",
    "import sample\n",
    "\n",
    "with io.StringIO('Hello\\nWorld\\n') as f1, open('py-sample.c', 'rt') as f2:\n",
    "    sample.consume_file(f1)\n",
    "    print()\n",
    "    sample.consume_file(f2)"
   ]
  },
  {
   "cell_type": "code",
   "execution_count": null,
   "metadata": {},
   "outputs": [],
   "source": []
  }
 ]
}