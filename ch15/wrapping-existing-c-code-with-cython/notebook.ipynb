{
 "metadata": {
  "language_info": {
   "codemirror_mode": {
    "name": "ipython",
    "version": 3
   },
   "file_extension": ".py",
   "mimetype": "text/x-python",
   "name": "python",
   "nbconvert_exporter": "python",
   "pygments_lexer": "ipython3",
   "version": "3.9.1-final"
  },
  "orig_nbformat": 2,
  "kernelspec": {
   "name": "python3",
   "display_name": "Python 3",
   "language": "python"
  }
 },
 "nbformat": 4,
 "nbformat_minor": 2,
 "cells": [
  {
   "cell_type": "code",
   "execution_count": 1,
   "metadata": {},
   "outputs": [],
   "source": [
    "%load_ext pycodestyle_magic\n",
    "%load_ext mypy_ipython\n",
    "%pycodestyle_on"
   ]
  },
  {
   "cell_type": "code",
   "execution_count": 2,
   "metadata": {},
   "outputs": [],
   "source": [
    "import doctest"
   ]
  },
  {
   "cell_type": "code",
   "execution_count": 3,
   "metadata": {},
   "outputs": [
    {
     "output_type": "execute_result",
     "data": {
      "text/plain": [
       "TestResults(failed=0, attempted=8)"
      ]
     },
     "metadata": {},
     "execution_count": 3
    }
   ],
   "source": [
    "\"\"\"\n",
    "Point\n",
    "\n",
    "    >>> import sample\n",
    "    >>> p1 = sample.Point(3, 4)\n",
    "    >>> p2 = sample.Point(0, 0)\n",
    "    >>> sample.distance(p1, p2)\n",
    "    5.0\n",
    "\n",
    "C-typed argument\n",
    "\n",
    "    >>> sample.gcd(-2, -3)\n",
    "    Traceback (most recent call last):\n",
    "        ...\n",
    "    OverflowError: can't convert negative value to unsigned int\n",
    "\n",
    "Supports array.array and numpy.array as well\n",
    "\n",
    "    >>> import array, numpy\n",
    "    >>> sample.avg(array.array('d', [1, 2, 3]))\n",
    "    2.0\n",
    "    >>> sample.avg(numpy.array([1.0, 2.0, 3.0]))\n",
    "    2.0\n",
    "\n",
    "\"\"\"\n",
    "\n",
    "doctest.testmod()"
   ]
  },
  {
   "cell_type": "code",
   "execution_count": null,
   "metadata": {},
   "outputs": [],
   "source": []
  }
 ]
}