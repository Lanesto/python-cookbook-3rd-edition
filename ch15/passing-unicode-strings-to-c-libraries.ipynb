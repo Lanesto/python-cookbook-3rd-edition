{
 "metadata": {
  "language_info": {
   "codemirror_mode": {
    "name": "ipython",
    "version": 3
   },
   "file_extension": ".py",
   "mimetype": "text/x-python",
   "name": "python",
   "nbconvert_exporter": "python",
   "pygments_lexer": "ipython3",
   "version": "3.9.1-final"
  },
  "orig_nbformat": 2,
  "kernelspec": {
   "name": "python3",
   "display_name": "Python 3",
   "language": "python"
  }
 },
 "nbformat": 4,
 "nbformat_minor": 2,
 "cells": [
  {
   "cell_type": "code",
   "execution_count": 1,
   "metadata": {},
   "outputs": [],
   "source": [
    "%load_ext pycodestyle_magic\n",
    "%load_ext mypy_ipython\n",
    "%pycodestyle_on"
   ]
  },
  {
   "cell_type": "code",
   "execution_count": 2,
   "metadata": {},
   "outputs": [],
   "source": [
    "import doctest"
   ]
  },
  {
   "cell_type": "code",
   "execution_count": 3,
   "metadata": {},
   "outputs": [
    {
     "output_type": "execute_result",
     "data": {
      "text/plain": [
       "TestResults(failed=0, attempted=8)"
      ]
     },
     "metadata": {},
     "execution_count": 3
    }
   ],
   "source": [
    "\"\"\"\n",
    "\n",
    ">>> import sys\n",
    ">>> import sample\n",
    ">>> s = 'Spicy Jalape\\\\u00f1o'\n",
    ">>> sys.getsizeof(s)\n",
    "87\n",
    ">>> sample.print_chars(s)\n",
    "53 70 69 63 79 20 4a 61 6c 61 70 65 c3 b1 6f \n",
    ">>> sys.getsizeof(s)\n",
    "103\n",
    ">>> sample.print_wchars(s)\n",
    "53 70 69 63 79 20 4a 61 6c 61 70 65 f1 6f \n",
    ">>> sys.getsizeof(s)\n",
    "163\n",
    "\"\"\"  # noqa: W291\n",
    "\n",
    "doctest.testmod()"
   ]
  }
 ]
}