{
 "metadata": {
  "language_info": {
   "codemirror_mode": {
    "name": "ipython",
    "version": 3
   },
   "file_extension": ".py",
   "mimetype": "text/x-python",
   "name": "python",
   "nbconvert_exporter": "python",
   "pygments_lexer": "ipython3",
   "version": "3.9.1-final"
  },
  "orig_nbformat": 2,
  "kernelspec": {
   "name": "python3",
   "display_name": "Python 3",
   "language": "python"
  }
 },
 "nbformat": 4,
 "nbformat_minor": 2,
 "cells": [
  {
   "cell_type": "code",
   "execution_count": 1,
   "metadata": {},
   "outputs": [],
   "source": [
    "%load_ext pycodestyle_magic\n",
    "%load_ext mypy_ipython\n",
    "%pycodestyle_on"
   ]
  },
  {
   "cell_type": "code",
   "execution_count": 2,
   "metadata": {},
   "outputs": [],
   "source": [
    "import doctest"
   ]
  },
  {
   "cell_type": "code",
   "execution_count": 3,
   "metadata": {},
   "outputs": [
    {
     "output_type": "execute_result",
     "data": {
      "text/plain": [
       "TestResults(failed=0, attempted=12)"
      ]
     },
     "metadata": {},
     "execution_count": 3
    }
   ],
   "source": [
    "\"\"\"\n",
    "\n",
    ">>> import sample\n",
    ">>> import array\n",
    ">>> a = array.array('d', [1, -3, 4, 7, 2, 0])\n",
    ">>> sample.clip(a, 1, 4, a)\n",
    ">>> a\n",
    "array('d', [1.0, 1.0, 4.0, 4.0, 2.0, 1.0])\n",
    ">>> import numpy\n",
    ">>> b = numpy.random.uniform(-10, 10, size=1000000)\n",
    ">>> c = numpy.zeros_like(b)\n",
    ">>> sample.clip(b, -5, 5, c)\n",
    ">>> c  # doctest: +ELLIPSIS\n",
    "array([...])\n",
    ">>> min(c)\n",
    "-5.0\n",
    ">>> max(c)\n",
    "5.0\n",
    "\"\"\"\n",
    "\n",
    "doctest.testmod()"
   ]
  }
 ]
}