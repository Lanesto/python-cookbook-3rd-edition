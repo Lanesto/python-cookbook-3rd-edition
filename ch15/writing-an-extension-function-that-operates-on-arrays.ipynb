{
 "metadata": {
  "language_info": {
   "codemirror_mode": {
    "name": "ipython",
    "version": 3
   },
   "file_extension": ".py",
   "mimetype": "text/x-python",
   "name": "python",
   "nbconvert_exporter": "python",
   "pygments_lexer": "ipython3",
   "version": "3.9.1-final"
  },
  "orig_nbformat": 2,
  "kernelspec": {
   "name": "python3",
   "display_name": "Python 3",
   "language": "python"
  }
 },
 "nbformat": 4,
 "nbformat_minor": 2,
 "cells": [
  {
   "cell_type": "code",
   "execution_count": 1,
   "metadata": {},
   "outputs": [],
   "source": [
    "%load_ext pycodestyle_magic\n",
    "%load_ext mypy_ipython\n",
    "%pycodestyle_on"
   ]
  },
  {
   "cell_type": "code",
   "execution_count": 2,
   "metadata": {},
   "outputs": [],
   "source": [
    "import doctest"
   ]
  },
  {
   "cell_type": "code",
   "execution_count": 18,
   "metadata": {},
   "outputs": [
    {
     "output_type": "execute_result",
     "data": {
      "text/plain": [
       "TestResults(failed=0, attempted=10)"
      ]
     },
     "metadata": {},
     "execution_count": 18
    }
   ],
   "source": [
    "\"\"\"\n",
    "Init\n",
    "\n",
    "    >>> import sample\n",
    "\n",
    "With python native\n",
    "\n",
    "    >>> sample.avg(b'Hello')\n",
    "    Traceback (most recent call last):\n",
    "        ...\n",
    "    TypeError: expected an array of doubles\n",
    "\n",
    "With array.array\n",
    "\n",
    "    >>> import array\n",
    "    >>> sample.avg(array.array('d', [1, 2, 3]))\n",
    "    2.0\n",
    "\n",
    "With numpy\n",
    "\n",
    "    >>> import numpy\n",
    "    >>> sample.avg(numpy.array([1.0, 2.0, 3.0]))\n",
    "    2.0\n",
    "    >>> a = numpy.array([[1.0, 2.0, 3.0], [4.0, 5.0, 6.0]])\n",
    "    >>> sample.avg(a[:, 2])\n",
    "    Traceback (most recent call last):\n",
    "        ...\n",
    "    ValueError: ndarray is not contiguous\n",
    "    >>> sample.avg(a)\n",
    "    Traceback (most recent call last):\n",
    "        ...\n",
    "    TypeError: expected a 1-dimensional array\n",
    "    >>> sample.avg(a[0])\n",
    "    2.0\n",
    "\n",
    "\"\"\"\n",
    "\n",
    "doctest.testmod()"
   ]
  },
  {
   "cell_type": "code",
   "execution_count": null,
   "metadata": {},
   "outputs": [],
   "source": []
  }
 ]
}