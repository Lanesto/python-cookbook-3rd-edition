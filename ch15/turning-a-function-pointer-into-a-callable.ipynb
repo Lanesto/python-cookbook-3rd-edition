{
 "metadata": {
  "language_info": {
   "codemirror_mode": {
    "name": "ipython",
    "version": 3
   },
   "file_extension": ".py",
   "mimetype": "text/x-python",
   "name": "python",
   "nbconvert_exporter": "python",
   "pygments_lexer": "ipython3",
   "version": "3.9.1-final"
  },
  "orig_nbformat": 2,
  "kernelspec": {
   "name": "python3",
   "display_name": "Python 3",
   "language": "python"
  }
 },
 "nbformat": 4,
 "nbformat_minor": 2,
 "cells": [
  {
   "cell_type": "code",
   "execution_count": 1,
   "metadata": {},
   "outputs": [],
   "source": [
    "%load_ext pycodestyle_magic\n",
    "%load_ext mypy_ipython\n",
    "%pycodestyle_on"
   ]
  },
  {
   "cell_type": "code",
   "execution_count": 2,
   "metadata": {},
   "outputs": [],
   "source": [
    "import doctest"
   ]
  },
  {
   "cell_type": "code",
   "execution_count": 3,
   "metadata": {},
   "outputs": [
    {
     "output_type": "execute_result",
     "data": {
      "text/plain": [
       "(1.661890671942846, 1.0, 8.286006442322334)"
      ]
     },
     "metadata": {},
     "execution_count": 3
    }
   ],
   "source": [
    "import math\n",
    "import timeit\n",
    "import ctypes\n",
    "\n",
    "lib = ctypes.cdll.LoadLibrary(None)\n",
    "addr = ctypes.cast(lib.sin, ctypes.c_void_p).value\n",
    "csin = ctypes.CFUNCTYPE(ctypes.c_double, ctypes.c_double)(addr)\n",
    "\n",
    "assert abs(math.sin(1.0) - csin(1.0)) < 1e-7\n",
    "\n",
    "pysin = math.sin\n",
    "glob = globals()\n",
    "x = timeit.timeit('math.sin(1.0)', globals=glob)\n",
    "y = timeit.timeit('pysin(1.0)', globals=glob)\n",
    "z = timeit.timeit('csin(1.0)', globals=glob)\n",
    "m = min(x, y, z)\n",
    "(x / m, y / m, z / m)"
   ]
  },
  {
   "cell_type": "code",
   "execution_count": null,
   "metadata": {},
   "outputs": [],
   "source": []
  }
 ]
}