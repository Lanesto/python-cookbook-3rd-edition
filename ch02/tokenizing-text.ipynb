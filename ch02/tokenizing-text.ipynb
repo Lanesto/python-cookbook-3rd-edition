{
 "metadata": {
  "language_info": {
   "codemirror_mode": {
    "name": "ipython",
    "version": 3
   },
   "file_extension": ".py",
   "mimetype": "text/x-python",
   "name": "python",
   "nbconvert_exporter": "python",
   "pygments_lexer": "ipython3",
   "version": "3.9.1-final"
  },
  "orig_nbformat": 2,
  "kernelspec": {
   "name": "python3",
   "display_name": "Python 3",
   "language": "python"
  }
 },
 "nbformat": 4,
 "nbformat_minor": 2,
 "cells": [
  {
   "cell_type": "code",
   "execution_count": 1,
   "metadata": {},
   "outputs": [],
   "source": [
    "%load_ext pycodestyle_magic\n",
    "%load_ext mypy_ipython\n",
    "%pycodestyle_on"
   ]
  },
  {
   "cell_type": "code",
   "execution_count": 2,
   "metadata": {},
   "outputs": [],
   "source": [
    "import doctest"
   ]
  },
  {
   "cell_type": "code",
   "execution_count": 3,
   "metadata": {},
   "outputs": [
    {
     "output_type": "execute_result",
     "data": {
      "text/plain": [
       "TestResults(failed=0, attempted=12)"
      ]
     },
     "metadata": {},
     "execution_count": 3
    }
   ],
   "source": [
    "import typing as T\n",
    "import re\n",
    "from collections import namedtuple\n",
    "\n",
    "NAME = r'(?P<NAME>[a-zA-Z_][a-zA-Z_0-9]*)'\n",
    "NUM = r'(?P<NUM>\\d+)'\n",
    "PLUS = r'(?P<PLUS>\\+)'\n",
    "TIMES = r'(?P<TIMES>\\*)'\n",
    "EQ = r'(?P<EQ>\\=)'\n",
    "WS = r'(?P<WS>\\s+)'\n",
    "\n",
    "master_pat = re.compile('|'.join([\n",
    "    NAME, NUM, PLUS, TIMES, EQ, WS\n",
    "]))\n",
    "\n",
    "\n",
    "class Token(T.NamedTuple):\n",
    "    type: str\n",
    "    value: str\n",
    "\n",
    "\n",
    "def generate_tokens(pat: re.Pattern[str], text: str) -> T.Iterable[Token]:\n",
    "    scanner: re.Scanner = pat.scanner(text)\n",
    "    for m in iter(scanner.match, None):  # type: re.Match\n",
    "        yield Token(\n",
    "            type=str(m.lastgroup),\n",
    "            value=str(m.group())\n",
    "        )\n",
    "\n",
    "\n",
    "\"\"\"\n",
    "\n",
    ">>> scanner = master_pat.scanner('foo = 42')\n",
    ">>> m = scanner.match()\n",
    ">>> m.lastgroup, m.group()\n",
    "('NAME', 'foo')\n",
    ">>> m = scanner.match()\n",
    ">>> m.lastgroup, m.group()\n",
    "('WS', ' ')\n",
    ">>> m = scanner.match()\n",
    ">>> m.lastgroup, m.group()\n",
    "('EQ', '=')\n",
    ">>> m = scanner.match()\n",
    ">>> m.lastgroup, m.group()\n",
    "('WS', ' ')\n",
    ">>> m = scanner.match()\n",
    ">>> m.lastgroup, m.group()\n",
    "('NUM', '42')\n",
    "\n",
    ">>> for token in generate_tokens(master_pat, 'foo = 42'):\n",
    "...     print(token)\n",
    "Token(type='NAME', value='foo')\n",
    "Token(type='WS', value=' ')\n",
    "Token(type='EQ', value='=')\n",
    "Token(type='WS', value=' ')\n",
    "Token(type='NUM', value='42')\n",
    "\"\"\"\n",
    "\n",
    "doctest.testmod()"
   ]
  },
  {
   "cell_type": "code",
   "execution_count": 4,
   "metadata": {},
   "outputs": [
    {
     "output_type": "stream",
     "name": "stderr",
     "text": [
      "Type checking failed\n",
      "note: In function \"generate_tokens\":\n",
      "        scanner: re.Scanner = pat.scanner(text)\n",
      "error: Name 're.Scanner' is not defined\n",
      "        scanner: re.Scanner = pat.scanner(text)\n",
      "error: \"Pattern[str]\" has no attribute \"scanner\"\n",
      "Found 2 errors in 1 file (checked 1 source file)\n"
     ]
    }
   ],
   "source": [
    "%mypy"
   ]
  },
  {
   "cell_type": "code",
   "execution_count": null,
   "metadata": {},
   "outputs": [],
   "source": []
  }
 ]
}