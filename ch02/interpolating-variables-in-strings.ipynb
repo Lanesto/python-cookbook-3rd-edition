{
 "metadata": {
  "language_info": {
   "codemirror_mode": {
    "name": "ipython",
    "version": 3
   },
   "file_extension": ".py",
   "mimetype": "text/x-python",
   "name": "python",
   "nbconvert_exporter": "python",
   "pygments_lexer": "ipython3",
   "version": "3.9.1-final"
  },
  "orig_nbformat": 2,
  "kernelspec": {
   "name": "python3",
   "display_name": "Python 3",
   "language": "python"
  }
 },
 "nbformat": 4,
 "nbformat_minor": 2,
 "cells": [
  {
   "cell_type": "code",
   "execution_count": 1,
   "metadata": {},
   "outputs": [],
   "source": [
    "%load_ext pycodestyle_magic\n",
    "%load_ext mypy_ipython\n",
    "%pycodestyle_on"
   ]
  },
  {
   "cell_type": "code",
   "execution_count": 2,
   "metadata": {},
   "outputs": [],
   "source": [
    "import doctest"
   ]
  },
  {
   "cell_type": "code",
   "execution_count": 3,
   "metadata": {},
   "outputs": [
    {
     "output_type": "execute_result",
     "data": {
      "text/plain": [
       "TestResults(failed=0, attempted=10)"
      ]
     },
     "metadata": {},
     "execution_count": 3
    }
   ],
   "source": [
    "class Info:\n",
    "    def __init__(self, name, n):\n",
    "        self.name = name\n",
    "        self.n = n\n",
    "\n",
    "\n",
    "class safesub(dict):\n",
    "    def __missing__(self, key):\n",
    "        return '{' + key + '}'\n",
    "\n",
    "\n",
    "\"\"\"\n",
    "\n",
    ">>> s = '{name} has {n} messages'\n",
    ">>> s.format(name='Guido', n=37)\n",
    "'Guido has 37 messages'\n",
    ">>> name = 'Guido'\n",
    ">>> n = 37\n",
    ">>> s.format_map(vars())\n",
    "'Guido has 37 messages'\n",
    ">>> a = Info('Guido', 37)\n",
    ">>> s.format_map(vars(a))\n",
    "'Guido has 37 messages'\n",
    ">>> s.format(name='Guido')\n",
    "Traceback (most recent call last):\n",
    "    ...\n",
    "KeyError: 'n'\n",
    ">>> del n\n",
    ">>> s.format_map(safesub(vars()))\n",
    "'Guido has {n} messages'\n",
    "\"\"\"\n",
    "\n",
    "doctest.testmod()"
   ]
  },
  {
   "cell_type": "code",
   "execution_count": 4,
   "metadata": {},
   "outputs": [
    {
     "output_type": "execute_result",
     "data": {
      "text/plain": [
       "TestResults(failed=0, attempted=6)"
      ]
     },
     "metadata": {},
     "execution_count": 4
    }
   ],
   "source": [
    "class safesub(dict):\n",
    "    def __missing__(self, key):\n",
    "        return '{' + key + '}'\n",
    "\n",
    "\n",
    "def sub(text):\n",
    "    return text.format_map(safesub(sys._getframe(1).f_locals))\n",
    "\n",
    "\n",
    "\"\"\"\n",
    "\n",
    ">>> s = '{name} has {n} messages'\n",
    ">>> name = 'Guido'\n",
    ">>> s.format_map(safesub(vars()))\n",
    "'Guido has {n} messages'\n",
    ">>> n = 37\n",
    ">>> sub(s)\n",
    "'Guido has 37 messages'\n",
    ">>> sub('Format {this}, {name}!')\n",
    "'Format {this}, Guido!'\n",
    "\"\"\"\n",
    "\n",
    "doctest.testmod()"
   ]
  },
  {
   "cell_type": "code",
   "execution_count": 5,
   "metadata": {},
   "outputs": [
    {
     "output_type": "stream",
     "name": "stdout",
     "text": [
      "Guido has 37 messages\n"
     ]
    }
   ],
   "source": [
    "import string\n",
    "\n",
    "s = string.Template('$name has $n messages')\n",
    "name = 'Guido'\n",
    "n = 37\n",
    "print(s.substitute(vars()))"
   ]
  }
 ]
}