{
 "metadata": {
  "language_info": {
   "codemirror_mode": {
    "name": "ipython",
    "version": 3
   },
   "file_extension": ".py",
   "mimetype": "text/x-python",
   "name": "python",
   "nbconvert_exporter": "python",
   "pygments_lexer": "ipython3",
   "version": "3.9.1-final"
  },
  "orig_nbformat": 2,
  "kernelspec": {
   "name": "python3",
   "display_name": "Python 3",
   "language": "python"
  }
 },
 "nbformat": 4,
 "nbformat_minor": 2,
 "cells": [
  {
   "cell_type": "code",
   "execution_count": 1,
   "metadata": {},
   "outputs": [],
   "source": [
    "%load_ext pycodestyle_magic\n",
    "%load_ext mypy_ipython\n",
    "%pycodestyle_on"
   ]
  },
  {
   "cell_type": "code",
   "execution_count": 2,
   "metadata": {},
   "outputs": [],
   "source": [
    "import doctest"
   ]
  },
  {
   "cell_type": "code",
   "execution_count": 3,
   "metadata": {},
   "outputs": [
    {
     "output_type": "execute_result",
     "data": {
      "text/plain": [
       "TestResults(failed=0, attempted=15)"
      ]
     },
     "metadata": {},
     "execution_count": 3
    }
   ],
   "source": [
    "\"\"\"\n",
    "\n",
    ">>> text = 'Hello World'\n",
    ">>> text.ljust(20)\n",
    "'Hello World         '\n",
    ">>> text.rjust(20)\n",
    "'         Hello World'\n",
    ">>> text.center(20)\n",
    "'    Hello World     '\n",
    ">>> text.rjust(20, '=')\n",
    "'=========Hello World'\n",
    ">>> text.center(20, '*')\n",
    "'****Hello World*****'\n",
    ">>> format(text, '>20')\n",
    "'         Hello World'\n",
    ">>> format(text, '<20')\n",
    "'Hello World         '\n",
    ">>> format(text, '^20')\n",
    "'    Hello World     '\n",
    ">>> format(text, '=>20s')\n",
    "'=========Hello World'\n",
    ">>> format(text, '*^20')\n",
    "'****Hello World*****'\n",
    ">>> '{:>10s} {:>10s}'.format('Hello', 'World')\n",
    "'     Hello      World'\n",
    ">>> x = 1.2345\n",
    ">>> format(x, '>10')\n",
    "'    1.2345'\n",
    ">>> format(x, '_^10.2f')\n",
    "'___1.23___'\n",
    "\"\"\"\n",
    "\n",
    "doctest.testmod()"
   ]
  }
 ]
}