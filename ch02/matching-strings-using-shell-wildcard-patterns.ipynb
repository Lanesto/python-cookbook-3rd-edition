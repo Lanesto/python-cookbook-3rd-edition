{
 "metadata": {
  "language_info": {
   "codemirror_mode": {
    "name": "ipython",
    "version": 3
   },
   "file_extension": ".py",
   "mimetype": "text/x-python",
   "name": "python",
   "nbconvert_exporter": "python",
   "pygments_lexer": "ipython3",
   "version": "3.9.1-final"
  },
  "orig_nbformat": 2,
  "kernelspec": {
   "name": "python3",
   "display_name": "Python 3",
   "language": "python"
  }
 },
 "nbformat": 4,
 "nbformat_minor": 2,
 "cells": [
  {
   "cell_type": "code",
   "execution_count": 1,
   "metadata": {},
   "outputs": [],
   "source": [
    "%load_ext pycodestyle_magic\n",
    "%load_ext mypy_ipython\n",
    "%pycodestyle_on"
   ]
  },
  {
   "source": [
    "import doctest"
   ],
   "cell_type": "code",
   "metadata": {},
   "execution_count": 2,
   "outputs": []
  },
  {
   "cell_type": "code",
   "execution_count": 3,
   "metadata": {},
   "outputs": [
    {
     "output_type": "execute_result",
     "data": {
      "text/plain": [
       "TestResults(failed=0, attempted=9)"
      ]
     },
     "metadata": {},
     "execution_count": 3
    }
   ],
   "source": [
    "from fnmatch import fnmatch, fnmatchcase\n",
    "\n",
    "\"\"\"\n",
    "\n",
    ">>> fnmatch('foo.txt', '*.txt')\n",
    "True\n",
    ">>> fnmatch('foo.txt', '?oo.txt')\n",
    "True\n",
    ">>> fnmatch('Dat45.csv', 'Dat[0-9]*')\n",
    "True\n",
    ">>> names = ['Dat1.csv', 'Dat2.csv', 'config.ini', 'foo.py']\n",
    ">>> [name for name in names if fnmatch(name, 'Dat*.csv')]\n",
    "['Dat1.csv', 'Dat2.csv']\n",
    ">>> fnmatch('foo.txt', '*.TXT')\n",
    "False\n",
    ">>> addresses = [\n",
    "...     '5412 N CLARK ST',\n",
    "...     '1060 W ADDISON ST',\n",
    "...     '1039 W GRANVILLE AVE',\n",
    "...     '2122 N CLARK ST',\n",
    "...     '4802 N BROADWAY',\n",
    "... ]\n",
    ">>> [addr for addr in addresses if fnmatchcase(addr, '* ST')]\n",
    "['5412 N CLARK ST', '1060 W ADDISON ST', '2122 N CLARK ST']\n",
    ">>> [addr for addr in addresses if fnmatchcase(addr, '54[0-9][0-9] *CLARK*')]\n",
    "['5412 N CLARK ST']\n",
    "\"\"\"\n",
    "\n",
    "doctest.testmod()"
   ]
  }
 ]
}