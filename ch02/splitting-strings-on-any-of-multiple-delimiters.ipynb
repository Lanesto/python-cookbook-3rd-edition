{
 "metadata": {
  "language_info": {
   "codemirror_mode": {
    "name": "ipython",
    "version": 3
   },
   "file_extension": ".py",
   "mimetype": "text/x-python",
   "name": "python",
   "nbconvert_exporter": "python",
   "pygments_lexer": "ipython3",
   "version": "3.9.1-final"
  },
  "orig_nbformat": 2,
  "kernelspec": {
   "name": "python3",
   "display_name": "Python 3",
   "language": "python"
  }
 },
 "nbformat": 4,
 "nbformat_minor": 2,
 "cells": [
  {
   "cell_type": "code",
   "execution_count": 1,
   "metadata": {},
   "outputs": [],
   "source": [
    "%load_ext pycodestyle_magic\n",
    "%load_ext mypy_ipython\n",
    "%pycodestyle_on"
   ]
  },
  {
   "cell_type": "code",
   "execution_count": 2,
   "metadata": {},
   "outputs": [],
   "source": [
    "import doctest"
   ]
  },
  {
   "cell_type": "code",
   "execution_count": 3,
   "metadata": {},
   "outputs": [
    {
     "output_type": "execute_result",
     "data": {
      "text/plain": [
       "TestResults(failed=0, attempted=9)"
      ]
     },
     "metadata": {},
     "execution_count": 3
    }
   ],
   "source": [
    "import re\n",
    "\n",
    "\"\"\"\n",
    "\n",
    ">>> line = 'asdf fjdk; afed, fjek,asdf,        foo'\n",
    ">>> re.split(r'[;,\\\\s]\\\\s*', line)\n",
    "['asdf', 'fjdk', 'afed', 'fjek', 'asdf', 'foo']\n",
    ">>> fields = re.split(r'(;|,|\\\\s)\\\\s*', line)\n",
    ">>> fields\n",
    "['asdf', ' ', 'fjdk', ';', 'afed', ',', 'fjek', ',', 'asdf', ',', 'foo']\n",
    ">>> values = fields[::2]\n",
    ">>> delimeters = fields[1::2] + ['']\n",
    ">>> values\n",
    "['asdf', 'fjdk', 'afed', 'fjek', 'asdf', 'foo']\n",
    ">>> delimeters\n",
    "[' ', ';', ',', ',', ',', '']\n",
    ">>> re.split(r'(?:;|,|\\\\s)\\\\s*', line)\n",
    "['asdf', 'fjdk', 'afed', 'fjek', 'asdf', 'foo']\n",
    "\"\"\"\n",
    "\n",
    "doctest.testmod()"
   ]
  },
  {
   "cell_type": "code",
   "execution_count": null,
   "metadata": {},
   "outputs": [],
   "source": []
  }
 ]
}