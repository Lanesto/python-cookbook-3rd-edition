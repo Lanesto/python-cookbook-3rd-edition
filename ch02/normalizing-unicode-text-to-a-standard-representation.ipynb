{
 "metadata": {
  "language_info": {
   "codemirror_mode": {
    "name": "ipython",
    "version": 3
   },
   "file_extension": ".py",
   "mimetype": "text/x-python",
   "name": "python",
   "nbconvert_exporter": "python",
   "pygments_lexer": "ipython3",
   "version": "3.9.1-final"
  },
  "orig_nbformat": 2,
  "kernelspec": {
   "name": "python3",
   "display_name": "Python 3",
   "language": "python"
  }
 },
 "nbformat": 4,
 "nbformat_minor": 2,
 "cells": [
  {
   "cell_type": "code",
   "execution_count": 1,
   "metadata": {},
   "outputs": [],
   "source": [
    "%load_ext pycodestyle_magic\n",
    "%load_ext mypy_ipython\n",
    "%pycodestyle_on"
   ]
  },
  {
   "cell_type": "code",
   "execution_count": 2,
   "metadata": {},
   "outputs": [],
   "source": [
    "import doctest"
   ]
  },
  {
   "cell_type": "code",
   "execution_count": 3,
   "metadata": {},
   "outputs": [
    {
     "output_type": "execute_result",
     "data": {
      "text/plain": [
       "TestResults(failed=0, attempted=15)"
      ]
     },
     "metadata": {},
     "execution_count": 3
    }
   ],
   "source": [
    "from unicodedata import normalize\n",
    "from functools import partial\n",
    "\n",
    "nfc = partial(normalize, 'NFC')\n",
    "nfd = partial(normalize, 'NFD')\n",
    "\n",
    "\"\"\"\n",
    "\n",
    ">>> s1 = 'Spicy Jalape\\\\u00f1o'\n",
    ">>> s2 = 'Spicy Jalapen\\\\u0303o'\n",
    ">>> s1\n",
    "'Spicy Jalapeño'\n",
    ">>> s2\n",
    "'Spicy Jalapeño'\n",
    ">>> s1 == s2\n",
    "False\n",
    ">>> len(s1)\n",
    "14\n",
    ">>> len(s2)\n",
    "15\n",
    ">>> t1 = nfc(s1)\n",
    ">>> t2 = nfc(s2)\n",
    ">>> t1 == t2\n",
    "True\n",
    ">>> print(ascii(t1))\n",
    "'Spicy Jalape\\\\xf1o'\n",
    ">>> t3 = nfd(s1)\n",
    ">>> t4 = nfd(s2)\n",
    ">>> t3 == t4\n",
    "True\n",
    ">>> print(ascii(t3))\n",
    "'Spicy Jalapen\\\\u0303o'\n",
    "\"\"\"\n",
    "\n",
    "doctest.testmod()"
   ]
  },
  {
   "cell_type": "code",
   "execution_count": 4,
   "metadata": {},
   "outputs": [
    {
     "output_type": "execute_result",
     "data": {
      "text/plain": [
       "TestResults(failed=0, attempted=8)"
      ]
     },
     "metadata": {},
     "execution_count": 4
    }
   ],
   "source": [
    "import unicodedata\n",
    "\n",
    "\"\"\"\n",
    "\n",
    ">>> s = '\\\\ufb01'\n",
    ">>> s\n",
    "'ﬁ'\n",
    ">>> nfd(s)\n",
    "'ﬁ'\n",
    ">>> normalize('NFKD', s)\n",
    "'fi'\n",
    ">>> normalize('NFKC', s)\n",
    "'fi'\n",
    ">>> s1 = 'Spicy Jalape\\\\u00f1o'\n",
    ">>> t1 = unicodedata.normalize('NFD', s1)\n",
    ">>> ''.join(c for c in t1 if not unicodedata.combining(c))\n",
    "'Spicy Jalapeno'\n",
    "\"\"\"\n",
    "\n",
    "doctest.testmod()"
   ]
  }
 ]
}