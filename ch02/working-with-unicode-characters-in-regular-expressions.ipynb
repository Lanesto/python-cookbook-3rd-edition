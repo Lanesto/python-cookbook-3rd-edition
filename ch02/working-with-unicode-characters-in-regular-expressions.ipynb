{
 "metadata": {
  "language_info": {
   "codemirror_mode": {
    "name": "ipython",
    "version": 3
   },
   "file_extension": ".py",
   "mimetype": "text/x-python",
   "name": "python",
   "nbconvert_exporter": "python",
   "pygments_lexer": "ipython3",
   "version": "3.9.1-final"
  },
  "orig_nbformat": 2,
  "kernelspec": {
   "name": "python3",
   "display_name": "Python 3",
   "language": "python"
  }
 },
 "nbformat": 4,
 "nbformat_minor": 2,
 "cells": [
  {
   "cell_type": "code",
   "execution_count": 1,
   "metadata": {},
   "outputs": [],
   "source": [
    "%load_ext pycodestyle_magic\n",
    "%load_ext mypy_ipython\n",
    "%pycodestyle_on"
   ]
  },
  {
   "cell_type": "code",
   "execution_count": 2,
   "metadata": {},
   "outputs": [],
   "source": [
    "import doctest"
   ]
  },
  {
   "cell_type": "code",
   "execution_count": 3,
   "metadata": {},
   "outputs": [
    {
     "output_type": "execute_result",
     "data": {
      "text/plain": [
       "TestResults(failed=0, attempted=10)"
      ]
     },
     "metadata": {},
     "execution_count": 3
    }
   ],
   "source": [
    "import re\n",
    "\n",
    "\"\"\"\n",
    "\n",
    ">>> num = re.compile('\\\\d+')\n",
    ">>> num.match('123')\n",
    "<re.Match object; span=(0, 3), match='123'>\n",
    ">>> num.match('\\\\u0661\\\\u0662\\\\u0663')\n",
    "<re.Match object; span=(0, 3), match='١٢٣'>\n",
    ">>> arabic = re.compile('[\\\\u0600-\\\\u06ff\\\\u0750-\\\\u077f\\\\u08a0-\\\\u08ff]+')\n",
    ">>> arabic.match('\\\\u0661\\\\u0662\\\\u0663')\n",
    "<re.Match object; span=(0, 3), match='١٢٣'>\n",
    ">>> pat = re.compile('stra\\\\u00dfe', flags=re.IGNORECASE)\n",
    ">>> s = 'straße'\n",
    ">>> pat.match(s)\n",
    "<re.Match object; span=(0, 6), match='straße'>\n",
    ">>> s.upper()\n",
    "'STRASSE'\n",
    ">>> pat.match(s.upper())\n",
    "\"\"\"\n",
    "\n",
    "doctest.testmod()"
   ]
  }
 ]
}