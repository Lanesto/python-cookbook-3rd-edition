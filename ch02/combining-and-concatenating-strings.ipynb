{
 "metadata": {
  "language_info": {
   "codemirror_mode": {
    "name": "ipython",
    "version": 3
   },
   "file_extension": ".py",
   "mimetype": "text/x-python",
   "name": "python",
   "nbconvert_exporter": "python",
   "pygments_lexer": "ipython3",
   "version": "3.9.1-final"
  },
  "orig_nbformat": 2,
  "kernelspec": {
   "name": "python3",
   "display_name": "Python 3",
   "language": "python"
  }
 },
 "nbformat": 4,
 "nbformat_minor": 2,
 "cells": [
  {
   "cell_type": "code",
   "execution_count": 1,
   "metadata": {},
   "outputs": [],
   "source": [
    "%load_ext pycodestyle_magic\n",
    "%load_ext mypy_ipython\n",
    "%pycodestyle_on"
   ]
  },
  {
   "cell_type": "code",
   "execution_count": 2,
   "metadata": {},
   "outputs": [],
   "source": [
    "import doctest"
   ]
  },
  {
   "cell_type": "code",
   "execution_count": 3,
   "metadata": {},
   "outputs": [
    {
     "output_type": "execute_result",
     "data": {
      "text/plain": [
       "TestResults(failed=0, attempted=10)"
      ]
     },
     "metadata": {},
     "execution_count": 3
    }
   ],
   "source": [
    "\"\"\"\n",
    "\n",
    ">>> parts = ['Is', 'Chicago', 'Not', 'Chicago?']\n",
    ">>> ' '.join(parts)\n",
    "'Is Chicago Not Chicago?'\n",
    ">>> ','.join(parts)\n",
    "'Is,Chicago,Not,Chicago?'\n",
    ">>> ''.join(parts)\n",
    "'IsChicagoNotChicago?'\n",
    ">>> a = 'Is Chicago'\n",
    ">>> b = 'Not Chicago?'\n",
    ">>> a + ' ' + b\n",
    "'Is Chicago Not Chicago?'\n",
    ">>> print('{} {}'.format(a, b))\n",
    "Is Chicago Not Chicago?\n",
    ">>> a = 'Hello' 'World'\n",
    ">>> a\n",
    "'HelloWorld'\n",
    "\"\"\"\n",
    "\n",
    "doctest.testmod()"
   ]
  },
  {
   "cell_type": "code",
   "execution_count": 4,
   "metadata": {},
   "outputs": [
    {
     "output_type": "stream",
     "name": "stdout",
     "text": [
      "11.044808299979195\n1.5284087999607436\n"
     ]
    }
   ],
   "source": [
    "from timeit import timeit\n",
    "\n",
    "parts = ['Is', 'Chicago', 'Not', 'Chicago?', *map(str, range(10))]\n",
    "\n",
    "stmt = \"\"\"\n",
    "s = ''\n",
    "for p in parts:\n",
    "    s += p\n",
    "\"\"\"\n",
    "\n",
    "g = globals()\n",
    "\n",
    "print(\n",
    "    timeit(stmt=stmt, globals=g, number=10**7),\n",
    "    timeit(stmt=\"''.join(parts)\", globals=g, number=10**7),\n",
    "    sep='\\n'\n",
    ")"
   ]
  },
  {
   "cell_type": "code",
   "execution_count": 5,
   "metadata": {},
   "outputs": [
    {
     "output_type": "stream",
     "name": "stdout",
     "text": [
      "IsChicago\nNotChicago?\n\n"
     ]
    }
   ],
   "source": [
    "import typing as T\n",
    "\n",
    "\n",
    "def sample() -> T.Iterable[str]:\n",
    "    yield 'Is'\n",
    "    yield 'Chicago'\n",
    "    yield 'Not'\n",
    "    yield 'Chicago?'\n",
    "\n",
    "\n",
    "def buffered(source: T.Iterable[str], buffer_size: int) -> T.Iterable[str]:\n",
    "    parts = []\n",
    "    size = 0\n",
    "    for part in source:\n",
    "        parts.append(part)\n",
    "        size += len(part)\n",
    "        if size > buffer_size:\n",
    "            yield ''.join(parts)\n",
    "            parts = []\n",
    "            size = 0\n",
    "\n",
    "    yield ''.join(parts)\n",
    "\n",
    "\n",
    "for part in buffered(sample(), 6):\n",
    "    print(part)"
   ]
  },
  {
   "cell_type": "code",
   "execution_count": 6,
   "metadata": {},
   "outputs": [],
   "source": [
    "%mypy"
   ]
  }
 ]
}