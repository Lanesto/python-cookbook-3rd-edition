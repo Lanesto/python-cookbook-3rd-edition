{
 "metadata": {
  "language_info": {
   "codemirror_mode": {
    "name": "ipython",
    "version": 3
   },
   "file_extension": ".py",
   "mimetype": "text/x-python",
   "name": "python",
   "nbconvert_exporter": "python",
   "pygments_lexer": "ipython3",
   "version": "3.9.1-final"
  },
  "orig_nbformat": 2,
  "kernelspec": {
   "name": "python3",
   "display_name": "Python 3",
   "language": "python"
  }
 },
 "nbformat": 4,
 "nbformat_minor": 2,
 "cells": [
  {
   "cell_type": "code",
   "execution_count": 1,
   "metadata": {},
   "outputs": [],
   "source": [
    "%load_ext pycodestyle_magic\n",
    "%load_ext mypy_ipython\n",
    "%pycodestyle_on"
   ]
  },
  {
   "cell_type": "code",
   "execution_count": 2,
   "metadata": {},
   "outputs": [],
   "source": [
    "import doctest"
   ]
  },
  {
   "cell_type": "code",
   "execution_count": 3,
   "metadata": {},
   "outputs": [
    {
     "output_type": "execute_result",
     "data": {
      "text/plain": [
       "TestResults(failed=0, attempted=10)"
      ]
     },
     "metadata": {},
     "execution_count": 3
    }
   ],
   "source": [
    "import unicodedata\n",
    "import sys\n",
    "\n",
    "\"\"\"\n",
    "\n",
    ">>> s = 'pýtĥöñ\\\\fis\\\\tawesome\\\\r\\\\n'\n",
    ">>> s\n",
    "'pýtĥöñ\\\\x0cis\\\\tawesome\\\\r\\\\n'\n",
    ">>> remap = {\n",
    "...     ord('\\\\t'): ' ',\n",
    "...     ord('\\\\f'): ' ',\n",
    "...     ord('\\\\r'): None\n",
    "... }\n",
    ">>> a = s.translate(remap)\n",
    ">>> a\n",
    "'pýtĥöñ is awesome\\\\n'\n",
    ">>> cmb_chrs = dict.fromkeys(c for c in range(sys.maxunicode)\n",
    "...                          if unicodedata.combining(chr(c)))\n",
    ">>> cmb_chrs  # doctest: +ELLIPSIS\n",
    "{768: None, 769: None, ...}\n",
    ">>> b = unicodedata.normalize('NFD', a)\n",
    ">>> b\n",
    "'pýtĥöñ is awesome\\\\n'\n",
    ">>> b.translate(cmb_chrs)\n",
    "'python is awesome\\\\n'\n",
    "\"\"\"\n",
    "\n",
    "doctest.testmod()"
   ]
  },
  {
   "cell_type": "code",
   "execution_count": 4,
   "metadata": {},
   "outputs": [
    {
     "output_type": "execute_result",
     "data": {
      "text/plain": [
       "TestResults(failed=0, attempted=4)"
      ]
     },
     "metadata": {},
     "execution_count": 4
    }
   ],
   "source": [
    "import sys\n",
    "import unicodedata\n",
    "\n",
    "\"\"\"\n",
    "\n",
    ">>> digitmap = {c: ord('0') + unicodedata.digit(chr(c))\n",
    "...             for c in range(sys.maxunicode)\n",
    "...             if unicodedata.category(chr(c)) == 'Nd'}\n",
    ">>> len(digitmap)\n",
    "650\n",
    ">>> x = '\\\\u0661\\\\u0662\\\\u0663'\n",
    ">>> x.translate(digitmap)\n",
    "'123'\n",
    "\"\"\"\n",
    "\n",
    "doctest.testmod()"
   ]
  },
  {
   "cell_type": "code",
   "execution_count": 5,
   "metadata": {},
   "outputs": [
    {
     "output_type": "execute_result",
     "data": {
      "text/plain": [
       "TestResults(failed=0, attempted=3)"
      ]
     },
     "metadata": {},
     "execution_count": 5
    }
   ],
   "source": [
    "import unicodedata\n",
    "\n",
    "\"\"\"\n",
    "\n",
    ">>> a = 'pýtĥöñ is awesome\\\\n'\n",
    ">>> b = unicodedata.normalize('NFD', a)\n",
    ">>> b.encode(encoding='ascii', errors='ignore').decode(encoding='ascii')\n",
    "'python is awesome\\\\n'\n",
    "\"\"\"\n",
    "\n",
    "doctest.testmod()"
   ]
  }
 ]
}