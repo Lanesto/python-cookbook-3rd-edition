{
 "metadata": {
  "language_info": {
   "codemirror_mode": {
    "name": "ipython",
    "version": 3
   },
   "file_extension": ".py",
   "mimetype": "text/x-python",
   "name": "python",
   "nbconvert_exporter": "python",
   "pygments_lexer": "ipython3",
   "version": "3.9.1-final"
  },
  "orig_nbformat": 2,
  "kernelspec": {
   "name": "python3",
   "display_name": "Python 3",
   "language": "python"
  }
 },
 "nbformat": 4,
 "nbformat_minor": 2,
 "cells": [
  {
   "cell_type": "code",
   "execution_count": 1,
   "metadata": {},
   "outputs": [],
   "source": [
    "%load_ext pycodestyle_magic\n",
    "%load_ext mypy_ipython\n",
    "%pycodestyle_on"
   ]
  },
  {
   "cell_type": "code",
   "execution_count": 2,
   "metadata": {},
   "outputs": [],
   "source": [
    "import doctest"
   ]
  },
  {
   "cell_type": "code",
   "execution_count": 3,
   "metadata": {},
   "outputs": [
    {
     "output_type": "execute_result",
     "data": {
      "text/plain": [
       "TestResults(failed=0, attempted=4)"
      ]
     },
     "metadata": {},
     "execution_count": 3
    }
   ],
   "source": [
    "import typing as T\n",
    "import re\n",
    "\n",
    "\n",
    "def matchcase(word: str) -> T.Callable[[re.Match], str]:\n",
    "    def replace(m: re.Match) -> str:\n",
    "        text = m.group()\n",
    "        if text.isupper():\n",
    "            return word.upper()\n",
    "        elif text.islower():\n",
    "            return word.lower()\n",
    "        elif text[0].isupper():\n",
    "            return word.capitalize()\n",
    "\n",
    "        return word\n",
    "    return replace\n",
    "\n",
    "\n",
    "\"\"\"\n",
    "\n",
    ">>> text = 'UPPER PYTHON, lower python, Mixed Python'\n",
    ">>> re.findall('python', text, flags=re.IGNORECASE)\n",
    "['PYTHON', 'python', 'Python']\n",
    ">>> re.sub('python', 'snake', text, flags=re.IGNORECASE)\n",
    "'UPPER snake, lower snake, Mixed snake'\n",
    ">>> re.sub('python', matchcase('snake'), text, flags=re.IGNORECASE)\n",
    "'UPPER SNAKE, lower snake, Mixed Snake'\n",
    "\"\"\"\n",
    "\n",
    "doctest.testmod()"
   ]
  },
  {
   "cell_type": "code",
   "execution_count": 4,
   "metadata": {},
   "outputs": [],
   "source": [
    "%mypy"
   ]
  }
 ]
}