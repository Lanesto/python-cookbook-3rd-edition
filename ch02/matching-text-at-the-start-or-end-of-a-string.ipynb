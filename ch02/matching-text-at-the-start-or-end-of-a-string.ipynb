{
 "metadata": {
  "language_info": {
   "codemirror_mode": {
    "name": "ipython",
    "version": 3
   },
   "file_extension": ".py",
   "mimetype": "text/x-python",
   "name": "python",
   "nbconvert_exporter": "python",
   "pygments_lexer": "ipython3",
   "version": "3.9.1-final"
  },
  "orig_nbformat": 2,
  "kernelspec": {
   "name": "python3",
   "display_name": "Python 3",
   "language": "python"
  }
 },
 "nbformat": 4,
 "nbformat_minor": 2,
 "cells": [
  {
   "cell_type": "code",
   "execution_count": 1,
   "metadata": {},
   "outputs": [],
   "source": [
    "%load_ext pycodestyle_magic\n",
    "%load_ext mypy_ipython\n",
    "%pycodestyle_on"
   ]
  },
  {
   "cell_type": "code",
   "execution_count": 2,
   "metadata": {},
   "outputs": [],
   "source": [
    "import doctest"
   ]
  },
  {
   "cell_type": "code",
   "execution_count": 3,
   "metadata": {},
   "outputs": [
    {
     "output_type": "execute_result",
     "data": {
      "text/plain": [
       "TestResults(failed=0, attempted=8)"
      ]
     },
     "metadata": {},
     "execution_count": 3
    }
   ],
   "source": [
    "from pathlib import Path\n",
    "\n",
    "\"\"\"\n",
    "\n",
    ">>> filename = 'spam.txt'\n",
    ">>> filename.endswith('.txt')\n",
    "True\n",
    ">>> filename.startswith('file:')\n",
    "False\n",
    ">>> url = 'http://www.python.org'\n",
    ">>> url.startswith('http:')\n",
    "True\n",
    ">>> filenames = [p.name for p in Path.cwd().iterdir()]\n",
    ">>> filenames  # doctest: +ELLIPSIS\n",
    "[...]\n",
    ">>> any(name.endswith('.ipynb') for name in filenames)\n",
    "True\n",
    "\"\"\"\n",
    "\n",
    "doctest.testmod()"
   ]
  },
  {
   "cell_type": "code",
   "execution_count": 4,
   "metadata": {},
   "outputs": [
    {
     "output_type": "execute_result",
     "data": {
      "text/plain": [
       "TestResults(failed=0, attempted=5)"
      ]
     },
     "metadata": {},
     "execution_count": 4
    }
   ],
   "source": [
    "from urllib.request import urlopen\n",
    "\n",
    "\n",
    "def read_data(name: str) -> str:\n",
    "    if name.startswith(('http:', 'https:', 'ftp:')):\n",
    "        return urlopen(name).read()\n",
    "    else:\n",
    "        return open(name).read()\n",
    "\n",
    "\n",
    "\"\"\"\n",
    "\n",
    ">>> choices = ['http:', 'ftp:']\n",
    ">>> url = 'http://www.python.org'\n",
    ">>> url.startswith(choices)\n",
    "Traceback (most recent call last):\n",
    "    ...\n",
    "TypeError: startswith first arg must be str or a tuple of str, not list\n",
    ">>> url.startswith(tuple(choices))\n",
    "True\n",
    ">>> read_data(url)  # doctest: +ELLIPSIS\n",
    "b'<!doctype html>...</html>\\\\n'\n",
    "\"\"\"\n",
    "\n",
    "doctest.testmod()"
   ]
  },
  {
   "cell_type": "code",
   "execution_count": 5,
   "metadata": {},
   "outputs": [],
   "source": [
    "%mypy"
   ]
  }
 ]
}