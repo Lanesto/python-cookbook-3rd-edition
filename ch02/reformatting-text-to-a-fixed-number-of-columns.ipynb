{
 "metadata": {
  "language_info": {
   "codemirror_mode": {
    "name": "ipython",
    "version": 3
   },
   "file_extension": ".py",
   "mimetype": "text/x-python",
   "name": "python",
   "nbconvert_exporter": "python",
   "pygments_lexer": "ipython3",
   "version": "3.9.1-final"
  },
  "orig_nbformat": 2,
  "kernelspec": {
   "name": "python3",
   "display_name": "Python 3",
   "language": "python"
  }
 },
 "nbformat": 4,
 "nbformat_minor": 2,
 "cells": [
  {
   "cell_type": "code",
   "execution_count": 1,
   "metadata": {},
   "outputs": [],
   "source": [
    "%load_ext pycodestyle_magic\n",
    "%load_ext mypy_ipython\n",
    "%pycodestyle_on"
   ]
  },
  {
   "cell_type": "code",
   "execution_count": 2,
   "metadata": {},
   "outputs": [],
   "source": [
    "import doctest"
   ]
  },
  {
   "cell_type": "code",
   "execution_count": 3,
   "metadata": {},
   "outputs": [
    {
     "output_type": "stream",
     "name": "stdout",
     "text": [
      "\nLook into my eyes, look into my eyes, the eyes, the eyes, the eyes, not around\nthe eyes, don't look around the eyes, look into my eyes, you're under.\n\nLook into my eyes, look into my eyes, the eyes, the eyes,\nthe eyes, not around the eyes, don't look around the eyes,\nlook into my eyes, you're under.\n\n        Look into my eyes, look into my\neyes, the eyes, the eyes, the eyes, not\naround the eyes, don't look around the\neyes, look into my eyes, you're under.\n\nLook into my eyes, look into my eyes,\n        the eyes, the eyes, the eyes,\n        not around the eyes, don't look\n        around the eyes, look into my\n        eyes, you're under.\n\n"
     ]
    }
   ],
   "source": [
    "import os\n",
    "import textwrap\n",
    "\n",
    "s = \"Look into my eyes, look into my eyes, the eyes, the eyes, \" \\\n",
    "    \"the eyes, not around the eyes, don't look around the eyes, \" \\\n",
    "    \"look into my eyes, you're under.\"\n",
    "\n",
    "try:\n",
    "    columns = os.get_terminal_size().columns\n",
    "except OSError as e:\n",
    "    columns = 80\n",
    "\n",
    "print()\n",
    "print(textwrap.fill(s, columns))\n",
    "print()\n",
    "print(textwrap.fill(s, 60))\n",
    "print()\n",
    "print(textwrap.fill(s, 40, initial_indent='        '))\n",
    "print()\n",
    "print(textwrap.fill(s, 40, subsequent_indent='        '))\n",
    "print()"
   ]
  },
  {
   "cell_type": "code",
   "execution_count": null,
   "metadata": {},
   "outputs": [],
   "source": []
  }
 ]
}