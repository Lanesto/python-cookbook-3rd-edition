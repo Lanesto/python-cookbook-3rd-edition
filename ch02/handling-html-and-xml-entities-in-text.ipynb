{
 "metadata": {
  "language_info": {
   "codemirror_mode": {
    "name": "ipython",
    "version": 3
   },
   "file_extension": ".py",
   "mimetype": "text/x-python",
   "name": "python",
   "nbconvert_exporter": "python",
   "pygments_lexer": "ipython3",
   "version": "3.9.1-final"
  },
  "orig_nbformat": 2,
  "kernelspec": {
   "name": "python3",
   "display_name": "Python 3",
   "language": "python"
  }
 },
 "nbformat": 4,
 "nbformat_minor": 2,
 "cells": [
  {
   "cell_type": "code",
   "execution_count": 1,
   "metadata": {},
   "outputs": [],
   "source": [
    "%load_ext pycodestyle_magic\n",
    "%load_ext mypy_ipython\n",
    "%pycodestyle_on"
   ]
  },
  {
   "cell_type": "code",
   "execution_count": 2,
   "metadata": {},
   "outputs": [],
   "source": [
    "import doctest"
   ]
  },
  {
   "cell_type": "code",
   "execution_count": 3,
   "metadata": {},
   "outputs": [
    {
     "output_type": "execute_result",
     "data": {
      "text/plain": [
       "TestResults(failed=0, attempted=3)"
      ]
     },
     "metadata": {},
     "execution_count": 3
    }
   ],
   "source": [
    "import html\n",
    "\n",
    "\"\"\"\n",
    "\n",
    ">>> s = 'Elements are written as \"<tag>text</tag>\".'\n",
    ">>> html.escape(s)\n",
    "'Elements are written as &quot;&lt;tag&gt;text&lt;/tag&gt;&quot;.'\n",
    ">>> html.escape(s, quote=False)\n",
    "'Elements are written as \"&lt;tag&gt;text&lt;/tag&gt;\".'\n",
    "\"\"\"\n",
    "\n",
    "doctest.testmod()"
   ]
  },
  {
   "cell_type": "code",
   "execution_count": 4,
   "metadata": {},
   "outputs": [
    {
     "output_type": "execute_result",
     "data": {
      "text/plain": [
       "TestResults(failed=0, attempted=6)"
      ]
     },
     "metadata": {},
     "execution_count": 4
    }
   ],
   "source": [
    "import html\n",
    "import xml.sax.saxutils as xml\n",
    "\n",
    "\"\"\"\n",
    "\n",
    ">>> s = \"Spicy Jalapeño\"\n",
    ">>> s.encode(encoding='ascii', errors='xmlcharrefreplace')\n",
    "b'Spicy Jalape&#241;o'\n",
    ">>> s = 'Spicy &quot;Jalape&#241;o&quot.'\n",
    ">>> html.unescape(s)\n",
    "'Spicy \"Jalapeño\".'\n",
    ">>> t = 'The prompt is &gt;&gt;&gt;'\n",
    ">>> xml.unescape(t)\n",
    "'The prompt is >>>'\n",
    "\"\"\"\n",
    "\n",
    "doctest.testmod()"
   ]
  }
 ]
}