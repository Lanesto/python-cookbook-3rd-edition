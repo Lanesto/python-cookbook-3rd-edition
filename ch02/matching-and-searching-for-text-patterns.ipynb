{
 "metadata": {
  "language_info": {
   "codemirror_mode": {
    "name": "ipython",
    "version": 3
   },
   "file_extension": ".py",
   "mimetype": "text/x-python",
   "name": "python",
   "nbconvert_exporter": "python",
   "pygments_lexer": "ipython3",
   "version": "3.9.1-final"
  },
  "orig_nbformat": 2,
  "kernelspec": {
   "name": "python3",
   "display_name": "Python 3",
   "language": "python"
  }
 },
 "nbformat": 4,
 "nbformat_minor": 2,
 "cells": [
  {
   "cell_type": "code",
   "execution_count": 1,
   "metadata": {},
   "outputs": [],
   "source": [
    "%load_ext pycodestyle_magic\n",
    "%load_ext mypy_ipython\n",
    "%pycodestyle_on"
   ]
  },
  {
   "cell_type": "code",
   "execution_count": 2,
   "metadata": {},
   "outputs": [],
   "source": [
    "import doctest"
   ]
  },
  {
   "cell_type": "code",
   "execution_count": 3,
   "metadata": {},
   "outputs": [
    {
     "output_type": "execute_result",
     "data": {
      "text/plain": [
       "TestResults(failed=0, attempted=14)"
      ]
     },
     "metadata": {},
     "execution_count": 3
    }
   ],
   "source": [
    "import re\n",
    "\n",
    "\"\"\"\n",
    "\n",
    ">>> text = 'yeah, but no, but yeah, but no, but yeah'\n",
    ">>> text == 'yeah'\n",
    "False\n",
    ">>> text.startswith('yeah')\n",
    "True\n",
    ">>> text.endswith('no')\n",
    "False\n",
    ">>> text.find('no')\n",
    "10\n",
    ">>> text1 = '11/27/2012'\n",
    ">>> text2 = 'Nov 27, 2012'\n",
    ">>> print('YES' if re.match(r'\\\\d+/\\\\d+/\\\\d+', text1) else 'NO')\n",
    "YES\n",
    ">>> print('YES' if re.match(r'\\\\d+/\\\\d+/\\\\d+', text2) else 'NO')\n",
    "NO\n",
    ">>> datepat = re.compile(r'\\\\d+/\\\\d+/\\\\d+')\n",
    ">>> print('YES' if datepat.match(text1) else 'NO')\n",
    "YES\n",
    ">>> print('YES' if datepat.match(text2) else 'NO')\n",
    "NO\n",
    ">>> text = 'Today is 11/27/2012. PyCon starts at 3/13/2013.'\n",
    ">>> datepat.findall(text)\n",
    "['11/27/2012', '3/13/2013']\n",
    "\"\"\"\n",
    "\n",
    "doctest.testmod()"
   ]
  },
  {
   "cell_type": "code",
   "execution_count": 4,
   "metadata": {},
   "outputs": [
    {
     "output_type": "execute_result",
     "data": {
      "text/plain": [
       "TestResults(failed=0, attempted=12)"
      ]
     },
     "metadata": {},
     "execution_count": 4
    }
   ],
   "source": [
    "import re\n",
    "\n",
    "\"\"\"\n",
    "\n",
    ">>> datepat = re.compile(r'(\\\\d+)/(\\\\d+)/(\\\\d+)')\n",
    ">>> m = datepat.match('11/27/2012')\n",
    ">>> m.group(0)\n",
    "'11/27/2012'\n",
    ">>> m.group(1)\n",
    "'11'\n",
    ">>> m.group(2)\n",
    "'27'\n",
    ">>> m.group(3)\n",
    "'2012'\n",
    ">>> month, day, year = m.groups()\n",
    ">>> month, day, year\n",
    "('11', '27', '2012')\n",
    ">>> text = 'Today is 11/27/2012. PyCon starts at 3/13/2013.'\n",
    ">>> datepat.findall(text)\n",
    "[('11', '27', '2012'), ('3', '13', '2013')]\n",
    ">>> for month, day, year in datepat.findall(text):\n",
    "...     print(f'{year}-{month}-{day}')\n",
    "2012-11-27\n",
    "2013-3-13\n",
    ">>> for m in datepat.finditer(text):\n",
    "...     month, day, year = m.groups()\n",
    "...     print(f'{year}-{month}-{day}')\n",
    "2012-11-27\n",
    "2013-3-13\n",
    "\"\"\"\n",
    "\n",
    "doctest.testmod()"
   ]
  },
  {
   "cell_type": "code",
   "execution_count": 5,
   "metadata": {},
   "outputs": [
    {
     "output_type": "execute_result",
     "data": {
      "text/plain": [
       "TestResults(failed=0, attempted=6)"
      ]
     },
     "metadata": {},
     "execution_count": 5
    }
   ],
   "source": [
    "import re\n",
    "\n",
    "\"\"\"\n",
    "\n",
    ">>> m = re.match(r'(\\\\d+)/(\\\\d+)/(\\\\d+)', '11/27/2012abcdef')\n",
    ">>> m.group()\n",
    "'11/27/2012'\n",
    ">>> m = re.match(r'(\\\\d+)/(\\\\d+)/(\\\\d+)$', '11/27/2012abcdef')\n",
    ">>> m\n",
    ">>> m = re.match(r'(\\\\d+)/(\\\\d+)/(\\\\d+)$', '11/27/2012')\n",
    ">>> m.group()\n",
    "'11/27/2012'\n",
    "\"\"\"\n",
    "\n",
    "doctest.testmod()"
   ]
  },
  {
   "cell_type": "code",
   "execution_count": null,
   "metadata": {},
   "outputs": [],
   "source": []
  }
 ]
}