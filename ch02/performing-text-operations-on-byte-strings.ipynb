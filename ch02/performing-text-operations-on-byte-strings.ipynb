{
 "metadata": {
  "language_info": {
   "codemirror_mode": {
    "name": "ipython",
    "version": 3
   },
   "file_extension": ".py",
   "mimetype": "text/x-python",
   "name": "python",
   "nbconvert_exporter": "python",
   "pygments_lexer": "ipython3",
   "version": "3.9.1-final"
  },
  "orig_nbformat": 2,
  "kernelspec": {
   "name": "python3",
   "display_name": "Python 3",
   "language": "python"
  }
 },
 "nbformat": 4,
 "nbformat_minor": 2,
 "cells": [
  {
   "cell_type": "code",
   "execution_count": 1,
   "metadata": {},
   "outputs": [],
   "source": [
    "%load_ext pycodestyle_magic\n",
    "%load_ext mypy_ipython\n",
    "%pycodestyle_on"
   ]
  },
  {
   "cell_type": "code",
   "execution_count": 2,
   "metadata": {},
   "outputs": [],
   "source": [
    "import doctest"
   ]
  },
  {
   "cell_type": "code",
   "execution_count": 3,
   "metadata": {},
   "outputs": [
    {
     "output_type": "execute_result",
     "data": {
      "text/plain": [
       "TestResults(failed=0, attempted=10)"
      ]
     },
     "metadata": {},
     "execution_count": 3
    }
   ],
   "source": [
    "\"\"\"\n",
    "\n",
    ">>> data = b'Hello World'\n",
    ">>> data[0:5]\n",
    "b'Hello'\n",
    ">>> data.startswith(b'Hello')\n",
    "True\n",
    ">>> data.split()\n",
    "[b'Hello', b'World']\n",
    ">>> data.replace(b'Hello', b'Hello Cruel')\n",
    "b'Hello Cruel World'\n",
    "\n",
    ">>> data = bytearray(b'Hello World')\n",
    ">>> data[0:5]\n",
    "bytearray(b'Hello')\n",
    ">>> data.startswith(b'Hello')\n",
    "True\n",
    ">>> data.split()\n",
    "[bytearray(b'Hello'), bytearray(b'World')]\n",
    ">>> data.replace(b'Hello', b'Hello Cruel')\n",
    "bytearray(b'Hello Cruel World')\n",
    "\n",
    "\"\"\"\n",
    "\n",
    "doctest.testmod()"
   ]
  },
  {
   "cell_type": "code",
   "execution_count": 4,
   "metadata": {},
   "outputs": [
    {
     "output_type": "execute_result",
     "data": {
      "text/plain": [
       "TestResults(failed=0, attempted=3)"
      ]
     },
     "metadata": {},
     "execution_count": 4
    }
   ],
   "source": [
    "import re\n",
    "\n",
    "\"\"\"\n",
    "\n",
    ">>> data = b'FOO:BAR,SPAM'\n",
    ">>> re.split('[:,]', data)\n",
    "Traceback (most recent call last):\n",
    "    ...\n",
    "TypeError: cannot use a string pattern on a bytes-like object\n",
    ">>> re.split(b'[:,]', data)\n",
    "[b'FOO', b'BAR', b'SPAM']\n",
    "\"\"\"\n",
    "\n",
    "doctest.testmod()"
   ]
  },
  {
   "cell_type": "code",
   "execution_count": 5,
   "metadata": {},
   "outputs": [
    {
     "output_type": "execute_result",
     "data": {
      "text/plain": [
       "TestResults(failed=0, attempted=12)"
      ]
     },
     "metadata": {},
     "execution_count": 5
    }
   ],
   "source": [
    "\"\"\"\n",
    "\n",
    ">>> a = 'Hello World'\n",
    ">>> a[0]\n",
    "'H'\n",
    ">>> a[1]\n",
    "'e'\n",
    ">>> b = b'Hello World'\n",
    ">>> b[0]\n",
    "72\n",
    ">>> b[1]\n",
    "101\n",
    ">>> s = b'Hello World'\n",
    ">>> print(s)\n",
    "b'Hello World'\n",
    ">>> print(s.decode('ascii'))\n",
    "Hello World\n",
    ">>> b'%10s %10d %10.2f' % (b'ACME', 100, 490.1)\n",
    "b'      ACME        100     490.10'\n",
    ">>> b'{} {} {}'.format(b'ACME', 100, 490.1)\n",
    "Traceback (most recent call last):\n",
    "    ...\n",
    "AttributeError: 'bytes' object has no attribute 'format'\n",
    ">>> '{:>10s} {:>10d} {:>10.2f}'.format('ACME', 100, 490.1).encode('ascii')\n",
    "b'      ACME        100     490.10'\n",
    "\"\"\"\n",
    "\n",
    "doctest.testmod()"
   ]
  },
  {
   "cell_type": "code",
   "execution_count": 6,
   "metadata": {},
   "outputs": [
    {
     "output_type": "execute_result",
     "data": {
      "text/plain": [
       "TestResults(failed=0, attempted=4)"
      ]
     },
     "metadata": {},
     "execution_count": 6
    }
   ],
   "source": [
    "from os import listdir\n",
    "from pathlib import Path\n",
    "\n",
    "\"\"\"\n",
    "\n",
    ">>> p = Path.cwd() / 'Jalapeño.txt'\n",
    ">>> p.touch()\n",
    ">>> os.listdir('.')  # doctest: +ELLIPSIS\n",
    "[...'Jalapeño.txt'...]\n",
    ">>> os.listdir(b'.')  # doctest: +ELLIPSIS\n",
    "[...b'Jalape\\\\xc3\\\\xb1o.txt'...]\n",
    "\"\"\"\n",
    "\n",
    "doctest.testmod()"
   ]
  }
 ]
}