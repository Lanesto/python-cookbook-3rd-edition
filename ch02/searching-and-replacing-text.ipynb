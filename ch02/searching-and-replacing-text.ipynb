{
 "metadata": {
  "language_info": {
   "codemirror_mode": {
    "name": "ipython",
    "version": 3
   },
   "file_extension": ".py",
   "mimetype": "text/x-python",
   "name": "python",
   "nbconvert_exporter": "python",
   "pygments_lexer": "ipython3",
   "version": "3.9.1-final"
  },
  "orig_nbformat": 2,
  "kernelspec": {
   "name": "python3",
   "display_name": "Python 3",
   "language": "python"
  }
 },
 "nbformat": 4,
 "nbformat_minor": 2,
 "cells": [
  {
   "cell_type": "code",
   "execution_count": 1,
   "metadata": {},
   "outputs": [],
   "source": [
    "%load_ext pycodestyle_magic\n",
    "%load_ext mypy_ipython\n",
    "%pycodestyle_on"
   ]
  },
  {
   "cell_type": "code",
   "execution_count": 2,
   "metadata": {},
   "outputs": [],
   "source": [
    "import doctest"
   ]
  },
  {
   "cell_type": "code",
   "execution_count": 3,
   "metadata": {},
   "outputs": [
    {
     "output_type": "execute_result",
     "data": {
      "text/plain": [
       "TestResults(failed=0, attempted=10)"
      ]
     },
     "metadata": {},
     "execution_count": 3
    }
   ],
   "source": [
    "import re\n",
    "from calendar import month_abbr\n",
    "\n",
    "\n",
    "def change_date(m: re.Match) -> str:\n",
    "    mon_name = month_abbr[int(m.group(1))]\n",
    "    return '{} {} {}'.format(m.group(2), mon_name, m.group(3))\n",
    "\n",
    "\n",
    "\"\"\"\n",
    "\n",
    ">>> text = 'yeah, but no, but yeah, but no, but yeah'\n",
    ">>> text.replace('yeah', 'yep')\n",
    "'yep, but no, but yep, but no, but yep'\n",
    ">>> text = 'Today is 11/27/2012. PyCon starts 3/13/2013.'\n",
    ">>> re.sub(r'(\\\\d+)/(\\\\d+)/(\\\\d+)', r'\\\\3-\\\\1-\\\\2', text)\n",
    "'Today is 2012-11-27. PyCon starts 2013-3-13.'\n",
    ">>> datepat = re.compile(r'(\\\\d+)/(\\\\d+)/(\\\\d+)')\n",
    ">>> datepat.sub(r'\\\\3-\\\\1-\\\\2', text)\n",
    "'Today is 2012-11-27. PyCon starts 2013-3-13.'\n",
    ">>> datepat.sub(change_date, text)\n",
    "'Today is 27 Nov 2012. PyCon starts 13 Mar 2013.'\n",
    ">>> newtext, n = datepat.subn(r'\\\\3-\\\\1-\\\\2', text)\n",
    ">>> newtext\n",
    "'Today is 2012-11-27. PyCon starts 2013-3-13.'\n",
    ">>> n\n",
    "2\n",
    "\"\"\"\n",
    "\n",
    "doctest.testmod()"
   ]
  },
  {
   "cell_type": "code",
   "execution_count": 4,
   "metadata": {},
   "outputs": [],
   "source": [
    "%mypy"
   ]
  }
 ]
}