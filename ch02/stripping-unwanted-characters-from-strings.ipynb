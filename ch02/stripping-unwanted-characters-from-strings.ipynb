{
 "metadata": {
  "language_info": {
   "codemirror_mode": {
    "name": "ipython",
    "version": 3
   },
   "file_extension": ".py",
   "mimetype": "text/x-python",
   "name": "python",
   "nbconvert_exporter": "python",
   "pygments_lexer": "ipython3",
   "version": "3.9.1-final"
  },
  "orig_nbformat": 2,
  "kernelspec": {
   "name": "python3",
   "display_name": "Python 3",
   "language": "python"
  }
 },
 "nbformat": 4,
 "nbformat_minor": 2,
 "cells": [
  {
   "cell_type": "code",
   "execution_count": 1,
   "metadata": {},
   "outputs": [],
   "source": [
    "%load_ext pycodestyle_magic\n",
    "%load_ext mypy_ipython\n",
    "%pycodestyle_on"
   ]
  },
  {
   "cell_type": "code",
   "execution_count": 2,
   "metadata": {},
   "outputs": [],
   "source": [
    "import doctest"
   ]
  },
  {
   "cell_type": "code",
   "execution_count": 3,
   "metadata": {},
   "outputs": [
    {
     "output_type": "execute_result",
     "data": {
      "text/plain": [
       "TestResults(failed=0, attempted=12)"
      ]
     },
     "metadata": {},
     "execution_count": 3
    }
   ],
   "source": [
    "import re\n",
    "\n",
    "\"\"\"\n",
    "\n",
    ">>> s = '    hello world\\\\n'\n",
    ">>> s.strip()\n",
    "'hello world'\n",
    ">>> s.lstrip()\n",
    "'hello world\\\\n'\n",
    ">>> s.rstrip()\n",
    "'    hello world'\n",
    ">>> t = '----hello====='\n",
    ">>> t.lstrip('-')\n",
    "'hello====='\n",
    ">>> t.rstrip('=')\n",
    "'----hello'\n",
    ">>> s = '  hello     world  \\\\n'\n",
    ">>> s = s.strip()\n",
    ">>> s\n",
    "'hello     world'\n",
    ">>> s.replace(' ', '')\n",
    "'helloworld'\n",
    ">>> re.sub('\\\\s+', ' ', s)\n",
    "'hello world'\n",
    "\"\"\"\n",
    "\n",
    "doctest.testmod()"
   ]
  }
 ]
}