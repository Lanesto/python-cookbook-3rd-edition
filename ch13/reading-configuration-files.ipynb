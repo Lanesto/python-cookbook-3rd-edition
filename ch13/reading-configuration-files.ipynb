{
 "metadata": {
  "language_info": {
   "codemirror_mode": {
    "name": "ipython",
    "version": 3
   },
   "file_extension": ".py",
   "mimetype": "text/x-python",
   "name": "python",
   "nbconvert_exporter": "python",
   "pygments_lexer": "ipython3",
   "version": "3.9.1-final"
  },
  "orig_nbformat": 2,
  "kernelspec": {
   "name": "python3",
   "display_name": "Python 3",
   "language": "python"
  }
 },
 "nbformat": 4,
 "nbformat_minor": 2,
 "cells": [
  {
   "cell_type": "code",
   "execution_count": 1,
   "metadata": {},
   "outputs": [],
   "source": [
    "%load_ext pycodestyle_magic\n",
    "%load_ext mypy_ipython\n",
    "%pycodestyle_on"
   ]
  },
  {
   "cell_type": "code",
   "execution_count": 2,
   "metadata": {},
   "outputs": [],
   "source": [
    "import doctest"
   ]
  },
  {
   "cell_type": "code",
   "execution_count": 3,
   "metadata": {},
   "outputs": [
    {
     "output_type": "execute_result",
     "data": {
      "text/plain": [
       "TestResults(failed=0, attempted=12)"
      ]
     },
     "metadata": {},
     "execution_count": 3
    }
   ],
   "source": [
    "\"\"\"\n",
    "\n",
    ">>> import configparser\n",
    ">>> parser = configparser.ConfigParser()\n",
    ">>> parser.read('sample.ini')\n",
    "['sample.ini']\n",
    ">>> parser.sections()\n",
    "['installation', 'debug', 'server']\n",
    ">>> parser.get('installation', 'library')\n",
    "'/usr/local/lib'\n",
    ">>> parser.getboolean('debug', 'log_errors')\n",
    "True\n",
    ">>> parser.getint('server', 'port')\n",
    "8080\n",
    ">>> parser.getint('server', 'nworkers')\n",
    "32\n",
    ">>> print(parser.get('server', 'signature').strip())\n",
    "=====================================\n",
    "brought to you by the python cookbook\n",
    "=====================================\n",
    ">>> parser.read('sample-patch.ini')\n",
    "['sample-patch.ini']\n",
    ">>> parser.get('installation', 'prefix')\n",
    "'/usr'\n",
    ">>> parser.get('installation', 'library')\n",
    "'/usr/lib'\n",
    "\"\"\"\n",
    "\n",
    "doctest.testmod()"
   ]
  }
 ]
}