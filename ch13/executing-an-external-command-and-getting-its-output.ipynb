{
 "metadata": {
  "language_info": {
   "codemirror_mode": {
    "name": "ipython",
    "version": 3
   },
   "file_extension": ".py",
   "mimetype": "text/x-python",
   "name": "python",
   "nbconvert_exporter": "python",
   "pygments_lexer": "ipython3",
   "version": "3.9.1-final"
  },
  "orig_nbformat": 2,
  "kernelspec": {
   "name": "python3",
   "display_name": "Python 3",
   "language": "python"
  }
 },
 "nbformat": 4,
 "nbformat_minor": 2,
 "cells": [
  {
   "cell_type": "code",
   "execution_count": 1,
   "metadata": {},
   "outputs": [],
   "source": [
    "%load_ext pycodestyle_magic\n",
    "%load_ext mypy_ipython\n",
    "%pycodestyle_on"
   ]
  },
  {
   "cell_type": "code",
   "execution_count": 2,
   "metadata": {},
   "outputs": [],
   "source": [
    "import doctest"
   ]
  },
  {
   "cell_type": "code",
   "execution_count": 3,
   "metadata": {},
   "outputs": [
    {
     "output_type": "stream",
     "name": "stdout",
     "text": [
      ".\n..\naccepting-script-input-via-redirection,-pipes,-or-input-files\nadding-logging-to-libraries.ipynb\nadding-logging-to-simple-scripts.ipynb\ncopying-or-moving-files-and-directories.ipynb\ncreating-and-unpacking-archives.ipynb\nexecuting-an-external-command-and-getting-its-output.ipynb\nfinding-files-by-name.ipynb\ngetting-the-terminal-size\nlaunching-a-web-browser.ipynb\nmaking-a-stopwatch-timer.ipynb\nparsing-command-line-options\nprompting-for-a-password-at-runtime\nputting-limits-on-memory-and-cpu-usage.ipynb\nreading-configuration-files.ipynb\nterminating-a-program-with-an-error-message\n\n"
     ]
    }
   ],
   "source": [
    "import subprocess\n",
    "\n",
    "\n",
    "out_bytes = subprocess.check_output(['ls', '-a'])\n",
    "print(out_bytes.decode('utf-8'))"
   ]
  },
  {
   "cell_type": "code",
   "execution_count": 4,
   "metadata": {},
   "outputs": [
    {
     "output_type": "stream",
     "name": "stdout",
     "text": [
      "127 \n"
     ]
    }
   ],
   "source": [
    "import subprocess\n",
    "\n",
    "try:\n",
    "    out_bytes = subprocess.check_output(['cmd', 'arg1', 'arg2'], shell=True)\n",
    "except subprocess.CalledProcessError as e:\n",
    "    out_bytes = e.output\n",
    "    code = e.returncode\n",
    "\n",
    "print(code, out_bytes.decode('utf-8'))"
   ]
  },
  {
   "cell_type": "code",
   "execution_count": 5,
   "metadata": {},
   "outputs": [
    {
     "output_type": "stream",
     "name": "stderr",
     "text": [
      "19:1: W391 blank line at end of file\n",
      "out      3       7      35\n",
      "\n"
     ]
    }
   ],
   "source": [
    "import subprocess\n",
    "\n",
    "text = b'''\\\n",
    "hello world\n",
    "this is a test\n",
    "goodbye\n",
    "'''\n",
    "\n",
    "p = subprocess.Popen(['wc'], stdin=subprocess.PIPE, stdout=subprocess.PIPE)\n",
    "stdout, stderr = p.communicate(text)\n",
    "\n",
    "if stdout:\n",
    "    out = stdout.decode('utf-8')\n",
    "    print('out' + out)\n",
    "\n",
    "if stderr:\n",
    "    err = stderr.decode('utf-8')\n",
    "    print('err' + err)\n"
   ]
  }
 ]
}