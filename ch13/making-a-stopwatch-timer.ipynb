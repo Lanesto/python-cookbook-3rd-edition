{
 "metadata": {
  "language_info": {
   "codemirror_mode": {
    "name": "ipython",
    "version": 3
   },
   "file_extension": ".py",
   "mimetype": "text/x-python",
   "name": "python",
   "nbconvert_exporter": "python",
   "pygments_lexer": "ipython3",
   "version": "3.9.1-final"
  },
  "orig_nbformat": 2,
  "kernelspec": {
   "name": "python3",
   "display_name": "Python 3",
   "language": "python"
  }
 },
 "nbformat": 4,
 "nbformat_minor": 2,
 "cells": [
  {
   "cell_type": "code",
   "execution_count": 1,
   "metadata": {},
   "outputs": [],
   "source": [
    "%load_ext pycodestyle_magic\n",
    "%load_ext mypy_ipython\n",
    "%pycodestyle_on"
   ]
  },
  {
   "cell_type": "code",
   "execution_count": 2,
   "metadata": {},
   "outputs": [],
   "source": [
    "import doctest"
   ]
  },
  {
   "cell_type": "code",
   "execution_count": 3,
   "metadata": {},
   "outputs": [
    {
     "output_type": "stream",
     "name": "stdout",
     "text": [
      "0.9194291000021622\n",
      "0.9115408070000002\n"
     ]
    }
   ],
   "source": [
    "import time\n",
    "\n",
    "\n",
    "class Timer:\n",
    "    def __init__(self, func=time.perf_counter):\n",
    "        self.elapsed = 0.0\n",
    "        self._func = func\n",
    "        self._start = None\n",
    "\n",
    "    def start(self):\n",
    "        if self._start is not None:\n",
    "            raise RuntimeError('already started')\n",
    "\n",
    "        self._start = self._func()\n",
    "\n",
    "    def stop(self):\n",
    "        if self._start is None:\n",
    "            raise RuntimeError('not started')\n",
    "\n",
    "        end = self._func()\n",
    "        self.elapsed += (end - self._start)\n",
    "        self._start = None\n",
    "\n",
    "    def reset(self):\n",
    "        self.elapsed = 0.0\n",
    "\n",
    "    @property\n",
    "    def running(self):\n",
    "        return self._start is not None\n",
    "\n",
    "    def __enter__(self):\n",
    "        self.start()\n",
    "        return self\n",
    "\n",
    "    def __exit__(self, *exc):\n",
    "        self.stop()\n",
    "\n",
    "\n",
    "def countdown(n):\n",
    "    while n > 0:\n",
    "        n -= 1\n",
    "\n",
    "\n",
    "# Simple\n",
    "t = Timer()\n",
    "t.start()\n",
    "countdown(1e+7)\n",
    "t.stop()\n",
    "print(t.elapsed)\n",
    "\n",
    "# Context manager\n",
    "t = Timer(func=time.process_time)\n",
    "with t:\n",
    "    countdown(1e+7)\n",
    "\n",
    "print(t.elapsed)"
   ]
  }
 ]
}