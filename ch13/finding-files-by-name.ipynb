{
 "metadata": {
  "language_info": {
   "codemirror_mode": {
    "name": "ipython",
    "version": 3
   },
   "file_extension": ".py",
   "mimetype": "text/x-python",
   "name": "python",
   "nbconvert_exporter": "python",
   "pygments_lexer": "ipython3",
   "version": "3.9.1-final"
  },
  "orig_nbformat": 2,
  "kernelspec": {
   "name": "python3",
   "display_name": "Python 3",
   "language": "python"
  }
 },
 "nbformat": 4,
 "nbformat_minor": 2,
 "cells": [
  {
   "cell_type": "code",
   "execution_count": 1,
   "metadata": {},
   "outputs": [],
   "source": [
    "%load_ext pycodestyle_magic\n",
    "%load_ext mypy_ipython\n",
    "%pycodestyle_on"
   ]
  },
  {
   "cell_type": "code",
   "execution_count": 2,
   "metadata": {},
   "outputs": [],
   "source": [
    "import doctest"
   ]
  },
  {
   "cell_type": "code",
   "execution_count": 3,
   "metadata": {},
   "outputs": [
    {
     "output_type": "stream",
     "name": "stdout",
     "text": [
      "/workspace/ch13/finding-files-by-name.ipynb\n"
     ]
    }
   ],
   "source": [
    "import os\n",
    "\n",
    "\n",
    "def find_file(root, name):\n",
    "    for rel_path, dirs, files in os.walk(root):\n",
    "        if name in files:\n",
    "            full_path = os.path.join(root, rel_path, name)\n",
    "            print(os.path.normpath(os.path.abspath(full_path)))\n",
    "\n",
    "\n",
    "find_file('/workspace', 'finding-files-by-name.ipynb')"
   ]
  },
  {
   "cell_type": "code",
   "execution_count": 4,
   "metadata": {},
   "outputs": [
    {
     "output_type": "stream",
     "name": "stdout",
     "text": [
      "/workspace/ch13/creating-and-unpacking-archives.ipynb\n/workspace/ch13/executing-an-external-command-and-getting-its-output.ipynb\n/workspace/ch13/finding-files-by-name.ipynb\n/workspace/ch13/sample.ini\n"
     ]
    }
   ],
   "source": [
    "import os\n",
    "import time\n",
    "\n",
    "\n",
    "def modified_within(root, seconds):\n",
    "    now = time.time()\n",
    "    for rel_path, dirs, files in os.walk(root):\n",
    "        for name in files:\n",
    "            full_path = os.path.join(rel_path, name)\n",
    "            if os.path.exists(full_path):\n",
    "                mtime = os.path.getmtime(full_path)\n",
    "                if mtime > (now - seconds):\n",
    "                    print(full_path)\n",
    "\n",
    "\n",
    "modified_within('/workspace', 3600)"
   ]
  }
 ]
}