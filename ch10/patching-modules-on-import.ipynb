{
 "metadata": {
  "language_info": {
   "codemirror_mode": {
    "name": "ipython",
    "version": 3
   },
   "file_extension": ".py",
   "mimetype": "text/x-python",
   "name": "python",
   "nbconvert_exporter": "python",
   "pygments_lexer": "ipython3",
   "version": "3.9.1-final"
  },
  "orig_nbformat": 2,
  "kernelspec": {
   "name": "python3",
   "display_name": "Python 3",
   "language": "python"
  }
 },
 "nbformat": 4,
 "nbformat_minor": 2,
 "cells": [
  {
   "cell_type": "code",
   "execution_count": 1,
   "metadata": {},
   "outputs": [],
   "source": [
    "%load_ext pycodestyle_magic\n",
    "%load_ext mypy_ipython\n",
    "%pycodestyle_on"
   ]
  },
  {
   "cell_type": "code",
   "execution_count": 2,
   "metadata": {},
   "outputs": [],
   "source": [
    "import doctest"
   ]
  },
  {
   "cell_type": "code",
   "execution_count": 3,
   "metadata": {},
   "outputs": [
    {
     "output_type": "execute_result",
     "data": {
      "text/plain": [
       "TestResults(failed=0, attempted=8)"
      ]
     },
     "metadata": {},
     "execution_count": 3
    }
   ],
   "source": [
    "import sys\n",
    "import importlib\n",
    "from collections import defaultdict\n",
    "\n",
    "_post_import_hooks = defaultdict(list)\n",
    "\n",
    "\n",
    "class PostImportFinder:\n",
    "    def __init__(self):\n",
    "        self._skip = set()\n",
    "\n",
    "    def find_module(self, fullname, path=None):\n",
    "        if fullname in self._skip:\n",
    "            return None\n",
    "\n",
    "        self._skip.add(fullname)\n",
    "        return PostImportLoader(self)\n",
    "\n",
    "\n",
    "class PostImportLoader:\n",
    "    def __init__(self, finder):\n",
    "        self._finder = finder\n",
    "\n",
    "    def load_module(self, fullname):\n",
    "        importlib.import_module(fullname)\n",
    "        module = sys.modules[fullname]\n",
    "        for func in _post_import_hooks[fullname]:\n",
    "            func(module)\n",
    "\n",
    "        self._finder._skip.remove(fullname)\n",
    "        return module\n",
    "\n",
    "\n",
    "def when_imported(fullname):\n",
    "    def decorate(func):\n",
    "        if fullname in sys.modules:\n",
    "            func(sys.modules[fullname])\n",
    "        else:\n",
    "            _post_import_hooks[fullname].append(func)\n",
    "\n",
    "        return func\n",
    "    return decorate\n",
    "\n",
    "\n",
    "sys.meta_path.insert(0, PostImportFinder())\n",
    "\n",
    "\n",
    "\"\"\"\n",
    "Basic\n",
    "\n",
    "    >>> 'threading' in sys.modules\n",
    "    True\n",
    "    >>> @when_imported('threading')\n",
    "    ... def warn_threads(mod):\n",
    "    ...     print(\"i'm not thread-safe\")\n",
    "    i'm not thread-safe\n",
    "\n",
    "More practical example\n",
    "\n",
    "    >>> from functools import wraps\n",
    "    >>> import sys\n",
    "    >>> def logged(func):\n",
    "    ...     @wraps(func)\n",
    "    ...     def wrapper(*args, **kwargs):\n",
    "    ...         print('calling', func.__name__, args, kwargs)\n",
    "    ...         return func(*args, **kwargs)\n",
    "    ...     return wrapper\n",
    "    >>> @when_imported('math')\n",
    "    ... def add_logging(mod):\n",
    "    ...     mod.cos = logged(mod.cos)\n",
    "    ...     mod.sin = logged(mod.sin)\n",
    "    >>> import math\n",
    "    >>> math.sin(1)\n",
    "    calling sin (1,) {}\n",
    "    0.8414709848078965\n",
    "\n",
    "\"\"\"\n",
    "\n",
    "doctest.testmod()"
   ]
  }
 ]
}