{
 "metadata": {
  "language_info": {
   "codemirror_mode": {
    "name": "ipython",
    "version": 3
   },
   "file_extension": ".py",
   "mimetype": "text/x-python",
   "name": "python",
   "nbconvert_exporter": "python",
   "pygments_lexer": "ipython3",
   "version": "3.9.1-final"
  },
  "orig_nbformat": 2,
  "kernelspec": {
   "name": "python3",
   "display_name": "Python 3",
   "language": "python"
  }
 },
 "nbformat": 4,
 "nbformat_minor": 2,
 "cells": [
  {
   "cell_type": "code",
   "execution_count": 1,
   "metadata": {},
   "outputs": [],
   "source": [
    "%load_ext pycodestyle_magic\n",
    "%load_ext mypy_ipython\n",
    "%pycodestyle_on"
   ]
  },
  {
   "cell_type": "code",
   "execution_count": 2,
   "metadata": {},
   "outputs": [],
   "source": [
    "import doctest"
   ]
  },
  {
   "cell_type": "code",
   "execution_count": 3,
   "metadata": {},
   "outputs": [
    {
     "output_type": "execute_result",
     "data": {
      "text/plain": [
       "TestResults(failed=0, attempted=8)"
      ]
     },
     "metadata": {},
     "execution_count": 3
    }
   ],
   "source": [
    "from itertools import zip_longest\n",
    "\n",
    "\"\"\"\n",
    "\n",
    ">>> a = [1, 5, 4, 2, 10, 7]\n",
    ">>> b = [101, 78, 37, 15, 62, 99]\n",
    ">>> for x, y in zip(a, b):\n",
    "...     print(x, y)\n",
    "1 101\n",
    "5 78\n",
    "4 37\n",
    "2 15\n",
    "10 62\n",
    "7 99\n",
    ">>> a = [1, 2, 3]\n",
    ">>> b = ['w', 'x', 'y', 'z']\n",
    ">>> for i in zip(a, b):\n",
    "...     print(i)\n",
    "(1, 'w')\n",
    "(2, 'x')\n",
    "(3, 'y')\n",
    ">>> for i in zip_longest(a, b):\n",
    "...     print(i)\n",
    "(1, 'w')\n",
    "(2, 'x')\n",
    "(3, 'y')\n",
    "(None, 'z')\n",
    ">>> for i in zip_longest(a, b, fillvalue=0):\n",
    "...     print(i)\n",
    "(1, 'w')\n",
    "(2, 'x')\n",
    "(3, 'y')\n",
    "(0, 'z')\n",
    "\"\"\"\n",
    "\n",
    "doctest.testmod()"
   ]
  },
  {
   "cell_type": "code",
   "execution_count": 4,
   "metadata": {},
   "outputs": [
    {
     "output_type": "execute_result",
     "data": {
      "text/plain": [
       "TestResults(failed=0, attempted=3)"
      ]
     },
     "metadata": {},
     "execution_count": 4
    }
   ],
   "source": [
    "\"\"\"\n",
    "\n",
    ">>> headers = ['name', 'shares', 'price']\n",
    ">>> values = ['ACME', 100, 490.1]\n",
    ">>> for name, value in zip(headers, values):\n",
    "...     print(f'{name} = {value}')\n",
    "name = ACME\n",
    "shares = 100\n",
    "price = 490.1\n",
    "\"\"\"\n",
    "\n",
    "doctest.testmod()"
   ]
  },
  {
   "cell_type": "code",
   "execution_count": 5,
   "metadata": {},
   "outputs": [
    {
     "output_type": "execute_result",
     "data": {
      "text/plain": [
       "TestResults(failed=0, attempted=4)"
      ]
     },
     "metadata": {},
     "execution_count": 5
    }
   ],
   "source": [
    "\"\"\"\n",
    "\n",
    ">>> a = [1, 2, 3]\n",
    ">>> b = [10, 11, 12]\n",
    ">>> c = ['x', 'y', 'z']\n",
    ">>> for i in zip(a, b, c):\n",
    "...     print(i)\n",
    "(1, 10, 'x')\n",
    "(2, 11, 'y')\n",
    "(3, 12, 'z')\n",
    "\"\"\"\n",
    "\n",
    "doctest.testmod()"
   ]
  },
  {
   "cell_type": "code",
   "execution_count": null,
   "metadata": {},
   "outputs": [],
   "source": []
  }
 ]
}