{
 "metadata": {
  "language_info": {
   "codemirror_mode": {
    "name": "ipython",
    "version": 3
   },
   "file_extension": ".py",
   "mimetype": "text/x-python",
   "name": "python",
   "nbconvert_exporter": "python",
   "pygments_lexer": "ipython3",
   "version": "3.9.1-final"
  },
  "orig_nbformat": 2,
  "kernelspec": {
   "name": "python3",
   "display_name": "Python 3",
   "language": "python"
  }
 },
 "nbformat": 4,
 "nbformat_minor": 2,
 "cells": [
  {
   "cell_type": "code",
   "execution_count": 1,
   "metadata": {},
   "outputs": [],
   "source": [
    "%load_ext pycodestyle_magic\n",
    "%load_ext mypy_ipython\n",
    "%pycodestyle_on"
   ]
  },
  {
   "cell_type": "code",
   "execution_count": 2,
   "metadata": {},
   "outputs": [],
   "source": [
    "import doctest"
   ]
  },
  {
   "cell_type": "code",
   "execution_count": 3,
   "metadata": {},
   "outputs": [
    {
     "output_type": "execute_result",
     "data": {
      "text/plain": [
       "TestResults(failed=0, attempted=3)"
      ]
     },
     "metadata": {},
     "execution_count": 3
    }
   ],
   "source": [
    "from itertools import permutations\n",
    "\n",
    "\"\"\"\n",
    "\n",
    ">>> items = ['a', 'b', 'c']\n",
    ">>> for p in permutations(items):\n",
    "...     print(p)\n",
    "('a', 'b', 'c')\n",
    "('a', 'c', 'b')\n",
    "('b', 'a', 'c')\n",
    "('b', 'c', 'a')\n",
    "('c', 'a', 'b')\n",
    "('c', 'b', 'a')\n",
    ">>> for p in permutations(items, 2):\n",
    "...     print(p)\n",
    "('a', 'b')\n",
    "('a', 'c')\n",
    "('b', 'a')\n",
    "('b', 'c')\n",
    "('c', 'a')\n",
    "('c', 'b')\n",
    "\"\"\"\n",
    "\n",
    "doctest.testmod()"
   ]
  },
  {
   "cell_type": "code",
   "execution_count": 4,
   "metadata": {},
   "outputs": [
    {
     "output_type": "execute_result",
     "data": {
      "text/plain": [
       "TestResults(failed=0, attempted=4)"
      ]
     },
     "metadata": {},
     "execution_count": 4
    }
   ],
   "source": [
    "from itertools import combinations, combinations_with_replacement\n",
    "\n",
    "\"\"\"\n",
    "\n",
    ">>> items = ['a', 'b', 'c']\n",
    ">>> for c in combinations(items, 3):\n",
    "...     print(c)\n",
    "('a', 'b', 'c')\n",
    ">>> for c in combinations(items, 2):\n",
    "...     print(c)\n",
    "('a', 'b')\n",
    "('a', 'c')\n",
    "('b', 'c')\n",
    ">>> for c in combinations_with_replacement(items, 3):\n",
    "...     print(c)\n",
    "('a', 'a', 'a')\n",
    "('a', 'a', 'b')\n",
    "('a', 'a', 'c')\n",
    "('a', 'b', 'b')\n",
    "('a', 'b', 'c')\n",
    "('a', 'c', 'c')\n",
    "('b', 'b', 'b')\n",
    "('b', 'b', 'c')\n",
    "('b', 'c', 'c')\n",
    "('c', 'c', 'c')\n",
    "\"\"\"\n",
    "\n",
    "doctest.testmod()"
   ]
  }
 ]
}