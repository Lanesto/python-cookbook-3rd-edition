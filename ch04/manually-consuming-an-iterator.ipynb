{
 "metadata": {
  "language_info": {
   "codemirror_mode": {
    "name": "ipython",
    "version": 3
   },
   "file_extension": ".py",
   "mimetype": "text/x-python",
   "name": "python",
   "nbconvert_exporter": "python",
   "pygments_lexer": "ipython3",
   "version": "3.9.1-final"
  },
  "orig_nbformat": 2,
  "kernelspec": {
   "name": "python3",
   "display_name": "Python 3",
   "language": "python"
  }
 },
 "nbformat": 4,
 "nbformat_minor": 2,
 "cells": [
  {
   "cell_type": "code",
   "execution_count": 1,
   "metadata": {},
   "outputs": [],
   "source": [
    "%load_ext pycodestyle_magic\n",
    "%load_ext mypy_ipython\n",
    "%pycodestyle_on"
   ]
  },
  {
   "cell_type": "code",
   "execution_count": 2,
   "metadata": {},
   "outputs": [],
   "source": [
    "import doctest"
   ]
  },
  {
   "cell_type": "code",
   "execution_count": 3,
   "metadata": {},
   "outputs": [
    {
     "output_type": "stream",
     "name": "stdout",
     "text": [
      "root:*:18605:0:99999:7:::\ndaemon:*:18605:0:99999:7:::\nbin:*:18605:0:99999:7:::\nsys:*:18605:0:99999:7:::\nsync:*:18605:0:99999:7:::\ngames:*:18605:0:99999:7:::\nman:*:18605:0:99999:7:::\nlp:*:18605:0:99999:7:::\nmail:*:18605:0:99999:7:::\nnews:*:18605:0:99999:7:::\nuucp:*:18605:0:99999:7:::\nproxy:*:18605:0:99999:7:::\nwww-data:*:18605:0:99999:7:::\nbackup:*:18605:0:99999:7:::\nlist:*:18605:0:99999:7:::\nirc:*:18605:0:99999:7:::\ngnats:*:18605:0:99999:7:::\nnobody:*:18605:0:99999:7:::\n_apt:*:18605:0:99999:7:::\n"
     ]
    }
   ],
   "source": [
    "with open('/etc/shadow') as f:\n",
    "    try:\n",
    "        while True:\n",
    "            line = next(f)\n",
    "            print(line, end='')\n",
    "    except StopIteration:\n",
    "        pass"
   ]
  },
  {
   "cell_type": "code",
   "execution_count": 4,
   "metadata": {},
   "outputs": [
    {
     "output_type": "stream",
     "name": "stdout",
     "text": [
      "root:*:18605:0:99999:7:::\ndaemon:*:18605:0:99999:7:::\nbin:*:18605:0:99999:7:::\nsys:*:18605:0:99999:7:::\nsync:*:18605:0:99999:7:::\ngames:*:18605:0:99999:7:::\nman:*:18605:0:99999:7:::\nlp:*:18605:0:99999:7:::\nmail:*:18605:0:99999:7:::\nnews:*:18605:0:99999:7:::\nuucp:*:18605:0:99999:7:::\nproxy:*:18605:0:99999:7:::\nwww-data:*:18605:0:99999:7:::\nbackup:*:18605:0:99999:7:::\nlist:*:18605:0:99999:7:::\nirc:*:18605:0:99999:7:::\ngnats:*:18605:0:99999:7:::\nnobody:*:18605:0:99999:7:::\n_apt:*:18605:0:99999:7:::\n"
     ]
    }
   ],
   "source": [
    "with open('/etc/shadow') as f:\n",
    "    while True:\n",
    "        line = next(f, None)\n",
    "        if line is None:\n",
    "            break\n",
    "\n",
    "        print(line, end='')"
   ]
  },
  {
   "cell_type": "code",
   "execution_count": 5,
   "metadata": {},
   "outputs": [
    {
     "output_type": "execute_result",
     "data": {
      "text/plain": [
       "TestResults(failed=0, attempted=6)"
      ]
     },
     "metadata": {},
     "execution_count": 5
    }
   ],
   "source": [
    "\"\"\"\n",
    "\n",
    ">>> items = [1, 2, 3]\n",
    ">>> it = iter(items)\n",
    ">>> next(it)\n",
    "1\n",
    ">>> next(it)\n",
    "2\n",
    ">>> next(it)\n",
    "3\n",
    ">>> next(it)\n",
    "Traceback (most recent call last):\n",
    "    ...\n",
    "StopIteration\n",
    "\"\"\"\n",
    "\n",
    "doctest.testmod()"
   ]
  }
 ]
}