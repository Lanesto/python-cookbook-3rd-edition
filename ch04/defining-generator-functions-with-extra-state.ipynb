{
 "metadata": {
  "language_info": {
   "codemirror_mode": {
    "name": "ipython",
    "version": 3
   },
   "file_extension": ".py",
   "mimetype": "text/x-python",
   "name": "python",
   "nbconvert_exporter": "python",
   "pygments_lexer": "ipython3",
   "version": "3.9.1-final"
  },
  "orig_nbformat": 2,
  "kernelspec": {
   "name": "python3",
   "display_name": "Python 3",
   "language": "python"
  }
 },
 "nbformat": 4,
 "nbformat_minor": 2,
 "cells": [
  {
   "cell_type": "code",
   "execution_count": 1,
   "metadata": {},
   "outputs": [],
   "source": [
    "%load_ext pycodestyle_magic\n",
    "%load_ext mypy_ipython\n",
    "%pycodestyle_on"
   ]
  },
  {
   "cell_type": "code",
   "execution_count": 2,
   "metadata": {},
   "outputs": [],
   "source": [
    "import doctest"
   ]
  },
  {
   "cell_type": "code",
   "execution_count": 3,
   "metadata": {},
   "outputs": [
    {
     "output_type": "execute_result",
     "data": {
      "text/plain": [
       "TestResults(failed=0, attempted=8)"
      ]
     },
     "metadata": {},
     "execution_count": 3
    }
   ],
   "source": [
    "import sys\n",
    "from io import StringIO\n",
    "from contextlib import redirect_stdout\n",
    "from collections import deque\n",
    "\n",
    "if 'this' not in sys.modules:\n",
    "    with StringIO() as buf, redirect_stdout(buf):\n",
    "        import this\n",
    "        content = buf.getvalue()\n",
    "\n",
    "\n",
    "class linehistory:\n",
    "\n",
    "    def __init__(self, lines, histlen=3):\n",
    "        self.lines = lines\n",
    "        self.history = deque(maxlen=histlen)\n",
    "\n",
    "    def __iter__(self):\n",
    "        for lineno, line in enumerate(self.lines):\n",
    "            self.history.append((lineno, line))\n",
    "            yield line\n",
    "\n",
    "    def clear(self):\n",
    "        self.history.clear()\n",
    "\n",
    "\n",
    "\"\"\"\n",
    ">>> f = StringIO(content)\n",
    ">>> lh = linehistory(f, histlen=5)\n",
    ">>> for line in lh:\n",
    "...     if 'never' in line:\n",
    "...         for lineno, hline in lh.history:\n",
    "...             print(f'{lineno}:{hline}', end='')\n",
    "...         print('-' * 80)\n",
    "7:Sparse is better than dense.\n",
    "8:Readability counts.\n",
    "9:Special cases aren't special enough to break the rules.\n",
    "10:Although practicality beats purity.\n",
    "11:Errors should never pass silently.\n",
    "--------------------------------------------------------------------------------\n",
    "12:Unless explicitly silenced.\n",
    "13:In the face of ambiguity, refuse the temptation to guess.\n",
    "14:There should be one-- and preferably only one --obvious way to do it.\n",
    "15:Although that way may not be obvious at first unless you're Dutch.\n",
    "16:Now is better than never.\n",
    "--------------------------------------------------------------------------------\n",
    "13:In the face of ambiguity, refuse the temptation to guess.\n",
    "14:There should be one-- and preferably only one --obvious way to do it.\n",
    "15:Although that way may not be obvious at first unless you're Dutch.\n",
    "16:Now is better than never.\n",
    "17:Although never is often better than *right* now.\n",
    "--------------------------------------------------------------------------------\n",
    ">>> f = StringIO(content)\n",
    ">>> lh = linehistory(f)\n",
    ">>> next(lh)\n",
    "Traceback (most recent call last):\n",
    "    ...\n",
    "TypeError: 'linehistory' object is not an iterator\n",
    ">>> it = iter(lh)\n",
    ">>> next(it)\n",
    "'The Zen of Python, by Tim Peters\\\\n'\n",
    "\"\"\"\n",
    "\n",
    "doctest.testmod()"
   ]
  },
  {
   "cell_type": "code",
   "execution_count": null,
   "metadata": {},
   "outputs": [],
   "source": []
  }
 ]
}