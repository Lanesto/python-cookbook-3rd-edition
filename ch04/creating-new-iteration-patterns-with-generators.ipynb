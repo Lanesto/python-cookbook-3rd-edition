{
 "metadata": {
  "language_info": {
   "codemirror_mode": {
    "name": "ipython",
    "version": 3
   },
   "file_extension": ".py",
   "mimetype": "text/x-python",
   "name": "python",
   "nbconvert_exporter": "python",
   "pygments_lexer": "ipython3",
   "version": "3.9.1-final"
  },
  "orig_nbformat": 2,
  "kernelspec": {
   "name": "python3",
   "display_name": "Python 3",
   "language": "python"
  }
 },
 "nbformat": 4,
 "nbformat_minor": 2,
 "cells": [
  {
   "cell_type": "code",
   "execution_count": 1,
   "metadata": {},
   "outputs": [],
   "source": [
    "%load_ext pycodestyle_magic\n",
    "%load_ext mypy_ipython\n",
    "%pycodestyle_on"
   ]
  },
  {
   "cell_type": "code",
   "execution_count": 2,
   "metadata": {},
   "outputs": [],
   "source": [
    "import doctest"
   ]
  },
  {
   "cell_type": "code",
   "execution_count": 3,
   "metadata": {},
   "outputs": [
    {
     "output_type": "execute_result",
     "data": {
      "text/plain": [
       "TestResults(failed=0, attempted=2)"
      ]
     },
     "metadata": {},
     "execution_count": 3
    }
   ],
   "source": [
    "def frange(start, end, increment):\n",
    "    ret = start\n",
    "    while ret < end:\n",
    "        yield ret\n",
    "        ret += increment\n",
    "\n",
    "\n",
    "\"\"\"\n",
    "\n",
    ">>> for f in frange(0, 4, 0.5):\n",
    "...     print(f)\n",
    "0\n",
    "0.5\n",
    "1.0\n",
    "1.5\n",
    "2.0\n",
    "2.5\n",
    "3.0\n",
    "3.5\n",
    ">>> list(frange(0, 1, 0.125))\n",
    "[0, 0.125, 0.25, 0.375, 0.5, 0.625, 0.75, 0.875]\n",
    "\"\"\"\n",
    "\n",
    "doctest.testmod()"
   ]
  },
  {
   "cell_type": "code",
   "execution_count": 4,
   "metadata": {},
   "outputs": [
    {
     "output_type": "execute_result",
     "data": {
      "text/plain": [
       "TestResults(failed=0, attempted=6)"
      ]
     },
     "metadata": {},
     "execution_count": 4
    }
   ],
   "source": [
    "def countdown(n):\n",
    "    print(f'starting count down: {n}')\n",
    "    while n > 0:\n",
    "        yield n\n",
    "        n -= 1\n",
    "\n",
    "    print('done')\n",
    "\n",
    "\n",
    "\"\"\"\n",
    "\n",
    ">>> c = countdown(3)\n",
    ">>> c  # doctest: +ELLIPSIS\n",
    "<generator object countdown at ...>\n",
    ">>> next(c)\n",
    "starting count down: 3\n",
    "3\n",
    ">>> next(c)\n",
    "2\n",
    ">>> next(c)\n",
    "1\n",
    ">>> try:\n",
    "...     next(c)\n",
    "... except StopIteration:\n",
    "...     pass\n",
    "done\n",
    "\"\"\"\n",
    "\n",
    "doctest.testmod()"
   ]
  }
 ]
}