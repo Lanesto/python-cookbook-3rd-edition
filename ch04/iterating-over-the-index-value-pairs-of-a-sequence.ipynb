{
 "metadata": {
  "language_info": {
   "codemirror_mode": {
    "name": "ipython",
    "version": 3
   },
   "file_extension": ".py",
   "mimetype": "text/x-python",
   "name": "python",
   "nbconvert_exporter": "python",
   "pygments_lexer": "ipython3",
   "version": "3.9.1-final"
  },
  "orig_nbformat": 2,
  "kernelspec": {
   "name": "python3",
   "display_name": "Python 3",
   "language": "python"
  }
 },
 "nbformat": 4,
 "nbformat_minor": 2,
 "cells": [
  {
   "cell_type": "code",
   "execution_count": 1,
   "metadata": {},
   "outputs": [],
   "source": [
    "%load_ext pycodestyle_magic\n",
    "%load_ext mypy_ipython\n",
    "%pycodestyle_on"
   ]
  },
  {
   "cell_type": "code",
   "execution_count": 2,
   "metadata": {},
   "outputs": [],
   "source": [
    "import doctest"
   ]
  },
  {
   "cell_type": "code",
   "execution_count": 3,
   "metadata": {},
   "outputs": [
    {
     "output_type": "execute_result",
     "data": {
      "text/plain": [
       "TestResults(failed=0, attempted=2)"
      ]
     },
     "metadata": {},
     "execution_count": 3
    }
   ],
   "source": [
    "\"\"\"\n",
    "\n",
    ">>> items = ['a', 'b', 'c']\n",
    ">>> for idx, val in enumerate(items, start=1):\n",
    "...     print(idx, val)\n",
    "1 a\n",
    "2 b\n",
    "3 c\n",
    "\"\"\"\n",
    "\n",
    "doctest.testmod()"
   ]
  },
  {
   "cell_type": "code",
   "execution_count": 4,
   "metadata": {},
   "outputs": [
    {
     "output_type": "stream",
     "name": "stdout",
     "text": [
      "           the: 1 10 14 14 19 20\n           zen: 1\n            of: 1 14 21\n        python: 1\n            by: 1\n           tim: 1\n        peters: 1\n     beautiful: 3\n            is: 3 4 5 6 7 8 17 18 19 20\n        better: 3 4 5 6 7 8 17 18\n          than: 3 4 5 6 7 8 17 18\n          ugly: 3\n      explicit: 4\n      implicit: 4\n        simple: 5\n       complex: 5 6\n   complicated: 6\n          flat: 7\n        nested: 7\n        sparse: 8\n         dense: 8\n   readability: 9\n        counts: 9\n       special: 10 10\n         cases: 10\n          aren: 10\n             t: 10\n        enough: 10\n            to: 10 14 15 19 20\n         break: 10\n         rules: 10\n      although: 11 16 18\n  practicality: 11\n         beats: 11\n        purity: 11\n        errors: 12\n        should: 12 15\n         never: 12 17 18\n          pass: 12\n      silently: 12\n        unless: 13 16\n    explicitly: 13\n      silenced: 13\n            in: 14\n          face: 14\n     ambiguity: 14\n        refuse: 14\n    temptation: 14\n         guess: 14\n         there: 15\n            be: 15 16 20\n           one: 15 15 21\n           and: 15\n    preferably: 15\n          only: 15\n       obvious: 15 16\n           way: 15 16\n            do: 15 21\n            it: 15 19 20\n          that: 16\n           may: 16 20\n           not: 16\n            at: 16\n         first: 16\n           you: 16\n            re: 16\n         dutch: 16\n           now: 17 18\n         often: 18\n         right: 18\n            if: 19 20\nimplementation: 19 20\n          hard: 19\n       explain: 19 20\n             s: 19 21\n             a: 19 20\n           bad: 19\n          idea: 19 20 21\n          easy: 20\n          good: 20\n    namespaces: 21\n           are: 21\n       honking: 21\n         great: 21\n           let: 21\n          more: 21\n        those!: 21\n"
     ]
    }
   ],
   "source": [
    "import sys\n",
    "import re\n",
    "from io import StringIO\n",
    "from contextlib import redirect_stdout\n",
    "from collections import defaultdict\n",
    "\n",
    "nonword_pattern = re.compile(r'(?:,|;|\\'|\\s|\\-+|\\*|\\.)\\s*')\n",
    "\n",
    "if 'this' not in sys.modules:\n",
    "    with StringIO() as buf, redirect_stdout(buf):\n",
    "        import this\n",
    "        content = buf.getvalue()\n",
    "\n",
    "f = StringIO(content)\n",
    "\n",
    "\n",
    "word_index = defaultdict(list)\n",
    "for n, line in enumerate(f, start=1):\n",
    "    words = nonword_pattern.split(line)\n",
    "    for w in words:\n",
    "        if w == '':\n",
    "            continue\n",
    "\n",
    "        word_index[w.lower()].append(n)\n",
    "\n",
    "\n",
    "width = max(len(k) for k in word_index.keys())\n",
    "for word, ns in word_index.items():\n",
    "    print(format(word, f'>{width}'), ' '.join(str(n) for n in ns), sep=': ')"
   ]
  },
  {
   "cell_type": "code",
   "execution_count": null,
   "metadata": {},
   "outputs": [],
   "source": []
  }
 ]
}