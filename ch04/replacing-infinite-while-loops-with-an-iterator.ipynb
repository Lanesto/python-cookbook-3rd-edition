{
 "metadata": {
  "language_info": {
   "codemirror_mode": {
    "name": "ipython",
    "version": 3
   },
   "file_extension": ".py",
   "mimetype": "text/x-python",
   "name": "python",
   "nbconvert_exporter": "python",
   "pygments_lexer": "ipython3",
   "version": "3.9.1-final"
  },
  "orig_nbformat": 2,
  "kernelspec": {
   "name": "python3",
   "display_name": "Python 3",
   "language": "python"
  }
 },
 "nbformat": 4,
 "nbformat_minor": 2,
 "cells": [
  {
   "cell_type": "code",
   "execution_count": 2,
   "metadata": {},
   "outputs": [],
   "source": [
    "%load_ext pycodestyle_magic\n",
    "%load_ext mypy_ipython\n",
    "%pycodestyle_on"
   ]
  },
  {
   "cell_type": "code",
   "execution_count": 1,
   "metadata": {},
   "outputs": [],
   "source": [
    "import doctest"
   ]
  },
  {
   "cell_type": "code",
   "execution_count": 3,
   "metadata": {},
   "outputs": [
    {
     "output_type": "stream",
     "name": "stdout",
     "text": [
      "root:*:18605:0:99999:7:::\n",
      "daemon:*:18605:0:99999:7:::\n",
      "bin:*:18605:0:99999:7:::\n",
      "sys:*:18605:0:99999:7:::\n",
      "sync:*:18605:0:99999:7:::\n",
      "games:*:18605:0:99999:7:::\n",
      "man:*:18605:0:99999:7:::\n",
      "lp:*:18605:0:99999:7:::\n",
      "mail:*:18605:0:99999:7:::\n",
      "news:*:18605:0:99999:7:::\n",
      "uucp:*:18605:0:99999:7:::\n",
      "proxy:*:18605:0:99999:7:::\n",
      "www-data:*:18605:0:99999:7:::\n",
      "backup:*:18605:0:99999:7:::\n",
      "list:*:18605:0:99999:7:::\n",
      "irc:*:18605:0:99999:7:::\n",
      "gnats:*:18605:0:99999:7:::\n",
      "nobody:*:18605:0:99999:7:::\n",
      "_apt:*:18605:0:99999:7:::\n"
     ]
    }
   ],
   "source": [
    "with open('/etc/shadow', 'r') as f:\n",
    "    for chunk in iter(lambda: f.read(10), ''):\n",
    "        print(chunk, end='')"
   ]
  },
  {
   "cell_type": "code",
   "execution_count": null,
   "metadata": {},
   "outputs": [],
   "source": []
  }
 ]
}