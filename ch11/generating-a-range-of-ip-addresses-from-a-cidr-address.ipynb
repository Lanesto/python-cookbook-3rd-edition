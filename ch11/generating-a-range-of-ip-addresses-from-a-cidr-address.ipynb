{
 "metadata": {
  "language_info": {
   "codemirror_mode": {
    "name": "ipython",
    "version": 3
   },
   "file_extension": ".py",
   "mimetype": "text/x-python",
   "name": "python",
   "nbconvert_exporter": "python",
   "pygments_lexer": "ipython3",
   "version": "3.9.1-final"
  },
  "orig_nbformat": 2,
  "kernelspec": {
   "name": "python3",
   "display_name": "Python 3",
   "language": "python"
  }
 },
 "nbformat": 4,
 "nbformat_minor": 2,
 "cells": [
  {
   "cell_type": "code",
   "execution_count": 1,
   "metadata": {},
   "outputs": [],
   "source": [
    "%load_ext pycodestyle_magic\n",
    "%load_ext mypy_ipython\n",
    "%pycodestyle_on"
   ]
  },
  {
   "cell_type": "code",
   "execution_count": 2,
   "metadata": {},
   "outputs": [],
   "source": [
    "import doctest"
   ]
  },
  {
   "cell_type": "code",
   "execution_count": 3,
   "metadata": {},
   "outputs": [
    {
     "output_type": "execute_result",
     "data": {
      "text/plain": [
       "TestResults(failed=0, attempted=3)"
      ]
     },
     "metadata": {},
     "execution_count": 3
    }
   ],
   "source": [
    "\"\"\"\n",
    "IPv4\n",
    "\n",
    "    >>> from ipaddress import ip_network\n",
    "    >>> for addr in ip_network('123.45.67.64/27'):  # doctest: +ELLIPSIS\n",
    "    ...     print(addr)\n",
    "    123.45.67.64\n",
    "    123.45.67.65\n",
    "    ...\n",
    "    123.45.67.94\n",
    "    123.45.67.95\n",
    "\n",
    "IPv6\n",
    "\n",
    "    >>> for addr in ip_network('12:3456:78:90ab:cd:ef01:23:30/125'):  # doctest: +ELLIPSIS\n",
    "    ...     print(addr)\n",
    "    12:3456:78:90ab:cd:ef01:23:30\n",
    "    12:3456:78:90ab:cd:ef01:23:31\n",
    "    ...\n",
    "    12:3456:78:90ab:cd:ef01:23:36\n",
    "    12:3456:78:90ab:cd:ef01:23:37\n",
    "\n",
    "\"\"\"  # noqa: E501\n",
    "\n",
    "doctest.testmod()"
   ]
  }
 ]
}