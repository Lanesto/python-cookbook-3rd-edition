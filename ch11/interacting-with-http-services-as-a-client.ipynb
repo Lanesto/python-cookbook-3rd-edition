{
 "metadata": {
  "language_info": {
   "codemirror_mode": {
    "name": "ipython",
    "version": 3
   },
   "file_extension": ".py",
   "mimetype": "text/x-python",
   "name": "python",
   "nbconvert_exporter": "python",
   "pygments_lexer": "ipython3",
   "version": "3.9.1-final"
  },
  "orig_nbformat": 2,
  "kernelspec": {
   "name": "python3",
   "display_name": "Python 3",
   "language": "python"
  }
 },
 "nbformat": 4,
 "nbformat_minor": 2,
 "cells": [
  {
   "cell_type": "code",
   "execution_count": 1,
   "metadata": {},
   "outputs": [],
   "source": [
    "%load_ext pycodestyle_magic\n",
    "%load_ext mypy_ipython\n",
    "%pycodestyle_on"
   ]
  },
  {
   "cell_type": "code",
   "execution_count": 2,
   "metadata": {},
   "outputs": [],
   "source": [
    "import doctest"
   ]
  },
  {
   "cell_type": "code",
   "execution_count": 3,
   "metadata": {},
   "outputs": [
    {
     "output_type": "stream",
     "name": "stdout",
     "text": [
      "{\n  \"args\": {\n    \"name1\": \"value1\", \n    \"name2\": \"value2\"\n  }, \n  \"headers\": {\n    \"Accept-Encoding\": \"identity\", \n    \"Host\": \"httpbin.org\", \n    \"User-Agent\": \"Python-urllib/3.9\", \n    \"X-Amzn-Trace-Id\": \"Root=1-601a34f8-1b2129ef15a529964a62f3a1\"\n  }, \n  \"origin\": \"182.231.167.89\", \n  \"url\": \"http://httpbin.org/get?name1=value1&name2=value2\"\n}\n\n"
     ]
    }
   ],
   "source": [
    "from urllib import request, parse\n",
    "\n",
    "url = 'http://httpbin.org/get'\n",
    "\n",
    "params = {\n",
    "    'name1': 'value1',\n",
    "    'name2': 'value2',\n",
    "}\n",
    "\n",
    "querystring = parse.urlencode(params)\n",
    "\n",
    "u = request.urlopen(url + '?' + querystring)\n",
    "resp = u.read()\n",
    "\n",
    "print(resp.decode('utf-8'))"
   ]
  },
  {
   "cell_type": "code",
   "execution_count": 4,
   "metadata": {},
   "outputs": [
    {
     "output_type": "stream",
     "name": "stdout",
     "text": [
      "{\n  \"args\": {}, \n  \"data\": \"\", \n  \"files\": {}, \n  \"form\": {\n    \"name1\": \"value1\", \n    \"name2\": \"value2\"\n  }, \n  \"headers\": {\n    \"Accept-Encoding\": \"identity\", \n    \"Content-Length\": \"25\", \n    \"Content-Type\": \"application/x-www-form-urlencoded\", \n    \"Host\": \"httpbin.org\", \n    \"User-Agent\": \"Python-urllib/3.9\", \n    \"X-Amzn-Trace-Id\": \"Root=1-601a34f9-585c6be11d5e105560a87cdb\"\n  }, \n  \"json\": null, \n  \"origin\": \"182.231.167.89\", \n  \"url\": \"http://httpbin.org/post\"\n}\n\n"
     ]
    }
   ],
   "source": [
    "from urllib import request, parse\n",
    "\n",
    "url = 'http://httpbin.org/post'\n",
    "\n",
    "params = {\n",
    "    'name1': 'value1',\n",
    "    'name2': 'value2',\n",
    "}\n",
    "\n",
    "querystring = parse.urlencode(params)\n",
    "\n",
    "u = request.urlopen(url, querystring.encode('ascii'))\n",
    "resp = u.read()\n",
    "\n",
    "print(resp.decode('utf-8'))"
   ]
  },
  {
   "cell_type": "code",
   "execution_count": 5,
   "metadata": {},
   "outputs": [
    {
     "output_type": "stream",
     "name": "stdout",
     "text": [
      "{\n  \"args\": {}, \n  \"data\": \"\", \n  \"files\": {}, \n  \"form\": {\n    \"key\": \"pair\", \n    \"name\": \"value\"\n  }, \n  \"headers\": {\n    \"Accept-Encoding\": \"identity\", \n    \"Content-Length\": \"19\", \n    \"Content-Type\": \"application/x-www-form-urlencoded\", \n    \"Host\": \"httpbin.org\", \n    \"User-Agent\": \"none/lanesto\", \n    \"X-Amzn-Trace-Id\": \"Root=1-601a34f9-41b08672684fd6177b8558ac\", \n    \"X-Custom-Spam\": \"Lunch; hello\"\n  }, \n  \"json\": null, \n  \"origin\": \"182.231.167.89\", \n  \"url\": \"http://httpbin.org/post\"\n}\n\n"
     ]
    }
   ],
   "source": [
    "from urllib import request, parse\n",
    "\n",
    "url = 'http://httpbin.org/post'\n",
    "\n",
    "params = {\n",
    "    'name': 'value',\n",
    "    'key': 'pair',\n",
    "}\n",
    "\n",
    "querystring = parse.urlencode(params)\n",
    "\n",
    "headers = {\n",
    "    'User-Agent': 'none/lanesto',\n",
    "    'X-Custom-Spam': 'Lunch; hello'\n",
    "}\n",
    "\n",
    "req = request.Request(url, querystring.encode('ascii'), headers=headers)\n",
    "u = request.urlopen(req)\n",
    "print(u.read().decode('utf-8'))"
   ]
  },
  {
   "cell_type": "code",
   "execution_count": 6,
   "metadata": {},
   "outputs": [
    {
     "output_type": "stream",
     "name": "stdout",
     "text": [
      "{\n  \"args\": {}, \n  \"data\": \"\", \n  \"files\": {}, \n  \"form\": {\n    \"key\": \"pair\", \n    \"name\": \"value\"\n  }, \n  \"headers\": {\n    \"Accept\": \"*/*\", \n    \"Accept-Encoding\": \"gzip, deflate\", \n    \"Content-Length\": \"19\", \n    \"Content-Type\": \"application/x-www-form-urlencoded\", \n    \"Host\": \"httpbin.org\", \n    \"Spam\": \"Lunch; hello\", \n    \"User-Agent\": \"none/lanesto\", \n    \"X-Amzn-Trace-Id\": \"Root=1-601a34fa-204563d57e357b5d2ee07d9c\"\n  }, \n  \"json\": null, \n  \"origin\": \"182.231.167.89\", \n  \"url\": \"http://httpbin.org/post\"\n}\n\n"
     ]
    }
   ],
   "source": [
    "import requests\n",
    "\n",
    "url = 'http://httpbin.org/post'\n",
    "\n",
    "params = {\n",
    "    'name': 'value',\n",
    "    'key': 'pair',\n",
    "}\n",
    "\n",
    "headers = {\n",
    "    'User-Agent': 'none/lanesto',\n",
    "    'Spam': 'Lunch; hello'\n",
    "}\n",
    "\n",
    "resp = requests.post(url, data=params, headers=headers)\n",
    "txt = resp.text\n",
    "print(txt)"
   ]
  },
  {
   "cell_type": "code",
   "execution_count": 7,
   "metadata": {},
   "outputs": [
    {
     "output_type": "stream",
     "name": "stdout",
     "text": [
      "<RequestsCookieJar[<Cookie PM_CK_loc=793b32acd92a3d8c43743edcbe27aabbbdb9bc4f81a613414eeeaab9dca44326 for www.naver.com/>]>\n<RequestsCookieJar[<Cookie PM_CK_loc=793b32acd92a3d8c43743edcbe27aabbbdb9bc4f81a613414eeeaab9dca44326 for www.naver.com/>]>\n"
     ]
    }
   ],
   "source": [
    "import requests\n",
    "\n",
    "url = 'http://www.naver.com/'\n",
    "\n",
    "resp = requests.get(url)\n",
    "print(resp.cookies)\n",
    "\n",
    "resp = requests.get(url,\n",
    "                    cookies=resp.cookies.update({'JarStaled': '1-as32-33'}))\n",
    "print(resp.cookies)"
   ]
  },
  {
   "cell_type": "code",
   "execution_count": 8,
   "metadata": {},
   "outputs": [
    {
     "output_type": "stream",
     "name": "stdout",
     "text": [
      "{\n  \"args\": {}, \n  \"data\": \"\", \n  \"files\": {\n    \"file\": \"\\na,b,c,d,e\\n1,2,3,4,5\\n\"\n  }, \n  \"form\": {}, \n  \"headers\": {\n    \"Accept\": \"*/*\", \n    \"Accept-Encoding\": \"gzip, deflate\", \n    \"Content-Length\": \"165\", \n    \"Content-Type\": \"multipart/form-data; boundary=344476e77230330d111921a86cedcb16\", \n    \"Host\": \"httpbin.org\", \n    \"User-Agent\": \"python-requests/2.25.1\", \n    \"X-Amzn-Trace-Id\": \"Root=1-601a34fb-6c448aad62d4d5d63da421b5\"\n  }, \n  \"json\": null, \n  \"origin\": \"182.231.167.89\", \n  \"url\": \"http://httpbin.org/post\"\n}\n\n"
     ]
    }
   ],
   "source": [
    "import requests\n",
    "import io\n",
    "\n",
    "url = 'http://httpbin.org/post'\n",
    "\n",
    "data = b'''\n",
    "a,b,c,d,e\n",
    "1,2,3,4,5\n",
    "'''\n",
    "with io.BytesIO(data) as f:\n",
    "    files = {'file': ('data.csv', f)}\n",
    "    resp = requests.post(url, files=files)\n",
    "\n",
    "print(resp.text)"
   ]
  }
 ]
}