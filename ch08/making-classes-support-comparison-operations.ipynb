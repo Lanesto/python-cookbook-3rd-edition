{
 "metadata": {
  "language_info": {
   "codemirror_mode": {
    "name": "ipython",
    "version": 3
   },
   "file_extension": ".py",
   "mimetype": "text/x-python",
   "name": "python",
   "nbconvert_exporter": "python",
   "pygments_lexer": "ipython3",
   "version": "3.9.1-final"
  },
  "orig_nbformat": 2,
  "kernelspec": {
   "name": "python3",
   "display_name": "Python 3",
   "language": "python"
  }
 },
 "nbformat": 4,
 "nbformat_minor": 2,
 "cells": [
  {
   "cell_type": "code",
   "execution_count": 1,
   "metadata": {},
   "outputs": [],
   "source": [
    "%load_ext pycodestyle_magic\n",
    "%load_ext mypy_ipython\n",
    "%pycodestyle_on"
   ]
  },
  {
   "cell_type": "code",
   "execution_count": 2,
   "metadata": {},
   "outputs": [],
   "source": [
    "import doctest"
   ]
  },
  {
   "cell_type": "code",
   "execution_count": 3,
   "metadata": {},
   "outputs": [
    {
     "output_type": "execute_result",
     "data": {
      "text/plain": [
       "TestResults(failed=0, attempted=20)"
      ]
     },
     "metadata": {},
     "execution_count": 3
    }
   ],
   "source": [
    "from functools import total_ordering\n",
    "\n",
    "\n",
    "class Room:\n",
    "\n",
    "    def __init__(self, name, length, width):\n",
    "        self.name = name\n",
    "        self.length = length\n",
    "        self.width = width\n",
    "        self.square_feet = self.length * self.width\n",
    "\n",
    "\n",
    "@total_ordering\n",
    "class House:\n",
    "\n",
    "    def __init__(self, name, style):\n",
    "        self.name = name\n",
    "        self.style = style\n",
    "        self.rooms = []\n",
    "\n",
    "    @property\n",
    "    def living_space_footage(self):\n",
    "        return sum(r.square_feet for r in self.rooms)\n",
    "\n",
    "    def add_room(self, room):\n",
    "        self.rooms.append(room)\n",
    "\n",
    "    def __str__(self):\n",
    "        fmt = '{.name}: {.living_space_footage} square foot {.style}'\n",
    "        return fmt.format(self)\n",
    "\n",
    "    def __eq__(self, other):\n",
    "        return self.living_space_footage == other.living_space_footage\n",
    "\n",
    "    def __lt__(self, other):\n",
    "        return self.living_space_footage < other.living_space_footage\n",
    "\n",
    "\n",
    "\"\"\"\n",
    "\n",
    ">>> h1 = House('h1', 'Cape')\n",
    ">>> h1.add_room(Room('Master Bedroom', 14, 21))\n",
    ">>> h1.add_room(Room('Living Room', 18, 20))\n",
    ">>> h1.add_room(Room('Kitchen', 12, 16))\n",
    ">>> h1.add_room(Room('Office', 12, 12))\n",
    "\n",
    ">>> h2 = House('h2', 'Ranch')\n",
    ">>> h2.add_room(Room('Master Bedroom', 14, 21))\n",
    ">>> h2.add_room(Room('Living Room', 18, 20))\n",
    ">>> h2.add_room(Room('Kitchen', 12, 16))\n",
    "\n",
    ">>> h3 = House('h3', 'Split')\n",
    ">>> h3.add_room(Room('Master Bedroom', 14, 21))\n",
    ">>> h3.add_room(Room('Living Room', 18, 20))\n",
    ">>> h3.add_room(Room('Kitchen', 15, 17))\n",
    ">>> h3.add_room(Room('Office', 12, 16))\n",
    "\n",
    ">>> houses = [h1, h2, h3]\n",
    ">>> h1 > h2\n",
    "True\n",
    ">>> h2 < h3\n",
    "True\n",
    ">>> h1 == h2\n",
    "False\n",
    ">>> max(houses)  # doctest: +ELLIPSIS\n",
    "<__main__.House object at ...>\n",
    ">>> min(houses)  # doctest: +ELLIPSIS\n",
    "<__main__.House object at ...>\n",
    "\"\"\"\n",
    "\n",
    "doctest.testmod()"
   ]
  }
 ]
}