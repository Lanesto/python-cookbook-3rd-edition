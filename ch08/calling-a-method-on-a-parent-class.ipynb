{
 "metadata": {
  "language_info": {
   "codemirror_mode": {
    "name": "ipython",
    "version": 3
   },
   "file_extension": ".py",
   "mimetype": "text/x-python",
   "name": "python",
   "nbconvert_exporter": "python",
   "pygments_lexer": "ipython3",
   "version": "3.9.1-final"
  },
  "orig_nbformat": 2,
  "kernelspec": {
   "name": "python3",
   "display_name": "Python 3",
   "language": "python"
  }
 },
 "nbformat": 4,
 "nbformat_minor": 2,
 "cells": [
  {
   "cell_type": "code",
   "execution_count": 1,
   "metadata": {},
   "outputs": [],
   "source": [
    "%load_ext pycodestyle_magic\n",
    "%load_ext mypy_ipython\n",
    "%pycodestyle_on"
   ]
  },
  {
   "cell_type": "code",
   "execution_count": 2,
   "metadata": {},
   "outputs": [],
   "source": [
    "import doctest"
   ]
  },
  {
   "cell_type": "code",
   "execution_count": 3,
   "metadata": {},
   "outputs": [
    {
     "output_type": "execute_result",
     "data": {
      "text/plain": [
       "TestResults(failed=0, attempted=7)"
      ]
     },
     "metadata": {},
     "execution_count": 3
    }
   ],
   "source": [
    "class Proxy:\n",
    "\n",
    "    def __init__(self, obj):\n",
    "        self._obj = obj\n",
    "\n",
    "    def __getattr__(self, name):\n",
    "        return getattr(self._obj, name)\n",
    "\n",
    "    def __setattr__(self, name, value):\n",
    "        if name.startswith('_'):\n",
    "            super().__setattr__(name, value)\n",
    "        else:\n",
    "            setattr(self._obj, name, value)\n",
    "\n",
    "\n",
    "\"\"\"\n",
    "\n",
    ">>> class X: pass\n",
    ">>> x = X()\n",
    ">>> proxy = Proxy(x)\n",
    ">>> proxy.a = 1\n",
    ">>> proxy._b = 2\n",
    ">>> dir(proxy)  # doctest: +ELLIPSIS\n",
    "[...'_b'...]\n",
    ">>> dir(x)  # doctest: +ELLIPSIS\n",
    "[...'a'...]\n",
    "\"\"\"\n",
    "\n",
    "doctest.testmod()"
   ]
  },
  {
   "cell_type": "code",
   "execution_count": 4,
   "metadata": {},
   "outputs": [
    {
     "output_type": "execute_result",
     "data": {
      "text/plain": [
       "TestResults(failed=0, attempted=1)"
      ]
     },
     "metadata": {},
     "execution_count": 4
    }
   ],
   "source": [
    "class Base:\n",
    "\n",
    "    def __init__(self):\n",
    "        print('Base.__init__')\n",
    "\n",
    "\n",
    "class A(Base):\n",
    "\n",
    "    def __init__(self):\n",
    "        Base.__init__(self)\n",
    "        print('A.__init__')\n",
    "\n",
    "\n",
    "class B(Base):\n",
    "\n",
    "    def __init__(self):\n",
    "        Base.__init__(self)\n",
    "        print('B.__init__')\n",
    "\n",
    "\n",
    "class C(A, B):\n",
    "\n",
    "    def __init__(self):\n",
    "        A.__init__(self)\n",
    "        B.__init__(self)\n",
    "        print('C.__init__')\n",
    "\n",
    "\n",
    "\"\"\"\n",
    "\n",
    ">>> c = C()\n",
    "Base.__init__\n",
    "A.__init__\n",
    "Base.__init__\n",
    "B.__init__\n",
    "C.__init__\n",
    "\"\"\"\n",
    "\n",
    "doctest.testmod()"
   ]
  },
  {
   "cell_type": "code",
   "execution_count": 5,
   "metadata": {},
   "outputs": [
    {
     "output_type": "execute_result",
     "data": {
      "text/plain": [
       "TestResults(failed=0, attempted=2)"
      ]
     },
     "metadata": {},
     "execution_count": 5
    }
   ],
   "source": [
    "class Base:\n",
    "\n",
    "    def __init__(self):\n",
    "        print('Base.__init__')\n",
    "\n",
    "\n",
    "class A(Base):\n",
    "\n",
    "    def __init__(self):\n",
    "        super().__init__()\n",
    "        print('A.__init__')\n",
    "\n",
    "\n",
    "class B(Base):\n",
    "\n",
    "    def __init__(self):\n",
    "        super().__init__()\n",
    "        print('B.__init__')\n",
    "\n",
    "\n",
    "class C(A, B):\n",
    "\n",
    "    def __init__(self):\n",
    "        super().__init__()\n",
    "        print('C.__init__')\n",
    "\n",
    "\n",
    "\"\"\"\n",
    "\n",
    ">>> c = C()\n",
    "Base.__init__\n",
    "B.__init__\n",
    "A.__init__\n",
    "C.__init__\n",
    ">>> C.__mro__\n",
    "(<class '__main__.C'>, <class '__main__.A'>, <class '__main__.B'>, <class '__main__.Base'>, <class 'object'>)\n",
    "\"\"\"  # noqa: E501\n",
    "\n",
    "doctest.testmod()"
   ]
  },
  {
   "cell_type": "code",
   "execution_count": 6,
   "metadata": {},
   "outputs": [
    {
     "output_type": "execute_result",
     "data": {
      "text/plain": [
       "TestResults(failed=0, attempted=2)"
      ]
     },
     "metadata": {},
     "execution_count": 6
    }
   ],
   "source": [
    "class A:\n",
    "\n",
    "    def spam(self):\n",
    "        print('A spam')\n",
    "        super().spam()\n",
    "\n",
    "\n",
    "class B:\n",
    "\n",
    "    def spam(self):\n",
    "        print('B spam')\n",
    "\n",
    "\n",
    "class C(A, B):\n",
    "    pass\n",
    "\n",
    "\n",
    "\"\"\"\n",
    "\n",
    ">>> c = C()\n",
    ">>> c.spam()\n",
    "A spam\n",
    "B spam\n",
    "\"\"\"\n",
    "\n",
    "doctest.testmod()"
   ]
  },
  {
   "cell_type": "code",
   "execution_count": null,
   "metadata": {},
   "outputs": [],
   "source": []
  }
 ]
}