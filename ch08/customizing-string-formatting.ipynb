{
 "metadata": {
  "language_info": {
   "codemirror_mode": {
    "name": "ipython",
    "version": 3
   },
   "file_extension": ".py",
   "mimetype": "text/x-python",
   "name": "python",
   "nbconvert_exporter": "python",
   "pygments_lexer": "ipython3",
   "version": "3.9.1-final"
  },
  "orig_nbformat": 2,
  "kernelspec": {
   "name": "python3",
   "display_name": "Python 3",
   "language": "python"
  }
 },
 "nbformat": 4,
 "nbformat_minor": 2,
 "cells": [
  {
   "cell_type": "code",
   "execution_count": 1,
   "metadata": {},
   "outputs": [],
   "source": [
    "%load_ext pycodestyle_magic\n",
    "%load_ext mypy_ipython\n",
    "%pycodestyle_on"
   ]
  },
  {
   "cell_type": "code",
   "execution_count": 2,
   "metadata": {},
   "outputs": [],
   "source": [
    "import doctest"
   ]
  },
  {
   "cell_type": "code",
   "execution_count": 3,
   "metadata": {},
   "outputs": [
    {
     "output_type": "execute_result",
     "data": {
      "text/plain": [
       "TestResults(failed=0, attempted=4)"
      ]
     },
     "metadata": {},
     "execution_count": 3
    }
   ],
   "source": [
    "class Date:\n",
    "    _formats = {\n",
    "        'ymd': '{d.year}-{d.month}-{d.day}',\n",
    "        'mdy': '{d.month}-{d.day}-{d.year}',\n",
    "        'dmy': '{d.day}-{d.month}-{d.year}'\n",
    "    }\n",
    "\n",
    "    def __init__(self, year, month, day):\n",
    "        self.year = year\n",
    "        self.month = month\n",
    "        self.day = day\n",
    "\n",
    "    def __format__(self, fmt_spec):\n",
    "        fmt = self._formats.get(fmt_spec, '{d.year}-{d.month}-{d.day}')\n",
    "        return fmt.format(d=self)\n",
    "\n",
    "\n",
    "\"\"\"\n",
    "\n",
    ">>> d = Date(2012, 12, 21)\n",
    ">>> format(d)\n",
    "'2012-12-21'\n",
    ">>> format(d, '??')\n",
    "'2012-12-21'\n",
    ">>> format(d, 'mdy')\n",
    "'12-21-2012'\n",
    "\"\"\"\n",
    "\n",
    "doctest.testmod()"
   ]
  }
 ]
}