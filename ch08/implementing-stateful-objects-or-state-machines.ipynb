{
 "metadata": {
  "language_info": {
   "codemirror_mode": {
    "name": "ipython",
    "version": 3
   },
   "file_extension": ".py",
   "mimetype": "text/x-python",
   "name": "python",
   "nbconvert_exporter": "python",
   "pygments_lexer": "ipython3",
   "version": "3.9.1-final"
  },
  "orig_nbformat": 2,
  "kernelspec": {
   "name": "python3",
   "display_name": "Python 3",
   "language": "python"
  }
 },
 "nbformat": 4,
 "nbformat_minor": 2,
 "cells": [
  {
   "cell_type": "code",
   "execution_count": 1,
   "metadata": {},
   "outputs": [],
   "source": [
    "%load_ext pycodestyle_magic\n",
    "%load_ext mypy_ipython\n",
    "%pycodestyle_on"
   ]
  },
  {
   "cell_type": "code",
   "execution_count": 2,
   "metadata": {},
   "outputs": [],
   "source": [
    "import doctest"
   ]
  },
  {
   "cell_type": "code",
   "execution_count": 3,
   "metadata": {},
   "outputs": [
    {
     "output_type": "execute_result",
     "data": {
      "text/plain": [
       "TestResults(failed=0, attempted=8)"
      ]
     },
     "metadata": {},
     "execution_count": 3
    }
   ],
   "source": [
    "import abc\n",
    "\n",
    "\n",
    "class ConnectionBase(metaclass=abc.ABCMeta):\n",
    "\n",
    "    @abc.abstractmethod\n",
    "    def transition(self, new_state):\n",
    "        pass\n",
    "\n",
    "    @abc.abstractmethod\n",
    "    def read(self):\n",
    "        pass\n",
    "\n",
    "    @abc.abstractmethod\n",
    "    def write(self, data):\n",
    "        pass\n",
    "\n",
    "    @abc.abstractmethod\n",
    "    def open(self):\n",
    "        pass\n",
    "\n",
    "    @abc.abstractmethod\n",
    "    def close(self):\n",
    "        pass\n",
    "\n",
    "\n",
    "class Connection(ConnectionBase):\n",
    "\n",
    "    def __init__(self):\n",
    "        self.transition(ClosedConnection)\n",
    "\n",
    "    def transition(self, new_state):\n",
    "        self.__class__ = new_state\n",
    "\n",
    "    def read(self):\n",
    "        raise NotImplementedError()\n",
    "\n",
    "    def write(self, data):\n",
    "        raise NotImplementedError()\n",
    "\n",
    "    def open(self):\n",
    "        raise NotImplementedError()\n",
    "\n",
    "    def close(self):\n",
    "        raise NotImplementedError()\n",
    "\n",
    "\n",
    "class ClosedConnection(Connection):\n",
    "\n",
    "    def read(self):\n",
    "        raise RuntimeError('connection is closed')\n",
    "\n",
    "    def write(self, data):\n",
    "        raise RuntimeError('connection is closed')\n",
    "\n",
    "    def open(self):\n",
    "        self.transition(OpenConnection)\n",
    "\n",
    "    def close(self):\n",
    "        raise RuntimeError('connection is already closed')\n",
    "\n",
    "\n",
    "class OpenConnection(Connection):\n",
    "\n",
    "    def read(self):\n",
    "        print('reading')\n",
    "\n",
    "    def write(self, data):\n",
    "        print('writing')\n",
    "\n",
    "    def open(self):\n",
    "        raise RuntimeError('connection is already open')\n",
    "\n",
    "    def close(self):\n",
    "        self.transition(ClosedConnection)\n",
    "\n",
    "\n",
    "\"\"\"\n",
    "\n",
    ">>> c = Connection()\n",
    ">>> c  # doctest: +ELLIPSIS\n",
    "<__main__.ClosedConnection object at ...>\n",
    ">>> c.read()\n",
    "Traceback (most recent call last):\n",
    "    ...\n",
    "RuntimeError: connection is closed\n",
    ">>> c.open()\n",
    ">>> c  # doctest: +ELLIPSIS\n",
    "<__main__.OpenConnection object at ...>\n",
    ">>> c.read()\n",
    "reading\n",
    ">>> c.close()\n",
    ">>> c  # doctest: +ELLIPSIS\n",
    "<__main__.ClosedConnection object at ...>\n",
    "\"\"\"\n",
    "\n",
    "doctest.testmod()"
   ]
  }
 ]
}