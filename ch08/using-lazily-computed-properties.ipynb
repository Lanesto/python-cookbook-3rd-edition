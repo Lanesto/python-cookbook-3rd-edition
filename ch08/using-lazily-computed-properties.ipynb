{
 "metadata": {
  "language_info": {
   "codemirror_mode": {
    "name": "ipython",
    "version": 3
   },
   "file_extension": ".py",
   "mimetype": "text/x-python",
   "name": "python",
   "nbconvert_exporter": "python",
   "pygments_lexer": "ipython3",
   "version": "3.9.1-final"
  },
  "orig_nbformat": 2,
  "kernelspec": {
   "name": "python3",
   "display_name": "Python 3",
   "language": "python"
  }
 },
 "nbformat": 4,
 "nbformat_minor": 2,
 "cells": [
  {
   "cell_type": "code",
   "execution_count": 1,
   "metadata": {},
   "outputs": [],
   "source": [
    "%load_ext pycodestyle_magic\n",
    "%load_ext mypy_ipython\n",
    "%pycodestyle_on"
   ]
  },
  {
   "cell_type": "code",
   "execution_count": 2,
   "metadata": {},
   "outputs": [],
   "source": [
    "import doctest"
   ]
  },
  {
   "cell_type": "code",
   "execution_count": 3,
   "metadata": {},
   "outputs": [
    {
     "output_type": "stream",
     "name": "stdout",
     "text": [
      "lazyproperty.__init__\nlazyproperty.__init__\n"
     ]
    },
    {
     "output_type": "execute_result",
     "data": {
      "text/plain": [
       "TestResults(failed=0, attempted=8)"
      ]
     },
     "metadata": {},
     "execution_count": 3
    }
   ],
   "source": [
    "import math\n",
    "\n",
    "\n",
    "class lazyproperty:\n",
    "\n",
    "    def __init__(self, func):\n",
    "        print('lazyproperty.__init__')\n",
    "        self.func = func\n",
    "\n",
    "    def __get__(self, instance, cls):\n",
    "        if instance is None:\n",
    "            return self\n",
    "        else:\n",
    "            value = self.func(instance)\n",
    "            setattr(instance, self.func.__name__, value)\n",
    "            return value\n",
    "\n",
    "\n",
    "class Circle:\n",
    "\n",
    "    def __init__(self, radius):\n",
    "        self.radius = radius\n",
    "\n",
    "    @lazyproperty\n",
    "    def area(self):\n",
    "        print('computing area')\n",
    "        return math.pi * self.radius ** 2\n",
    "\n",
    "    @lazyproperty\n",
    "    def perimeter(self):\n",
    "        print('computing perimeter')\n",
    "        return 2 * math.pi * self.radius\n",
    "\n",
    "\n",
    "\"\"\"\n",
    "\n",
    ">>> c = Circle(4.0)\n",
    ">>> c.radius\n",
    "4.0\n",
    ">>> c.__dict__\n",
    "{'radius': 4.0}\n",
    ">>> c.area\n",
    "computing area\n",
    "50.26548245743669\n",
    ">>> c.area\n",
    "50.26548245743669\n",
    ">>> c.perimeter\n",
    "computing perimeter\n",
    "25.132741228718345\n",
    ">>> c.perimeter\n",
    "25.132741228718345\n",
    ">>> c.__dict__\n",
    "{'radius': 4.0, 'area': 50.26548245743669, 'perimeter': 25.132741228718345}\n",
    "\"\"\"\n",
    "\n",
    "doctest.testmod()"
   ]
  },
  {
   "cell_type": "code",
   "execution_count": 4,
   "metadata": {},
   "outputs": [
    {
     "output_type": "execute_result",
     "data": {
      "text/plain": [
       "TestResults(failed=0, attempted=4)"
      ]
     },
     "metadata": {},
     "execution_count": 4
    }
   ],
   "source": [
    "def lazyproperty(func):\n",
    "    name = '_lazy_' + func.__name__\n",
    "\n",
    "    @property\n",
    "    def lazy(self):\n",
    "        if hasattr(self, name):\n",
    "            return getattr(self, name)\n",
    "        else:\n",
    "            value = func(self)\n",
    "            setattr(self, name, value)\n",
    "            return value\n",
    "\n",
    "    return lazy\n",
    "\n",
    "\n",
    "class Circle:\n",
    "\n",
    "    def __init__(self, radius):\n",
    "        self.radius = radius\n",
    "\n",
    "    @lazyproperty\n",
    "    def area(self):\n",
    "        print('computing area')\n",
    "        return math.pi * self.radius ** 2\n",
    "\n",
    "    @lazyproperty\n",
    "    def perimeter(self):\n",
    "        print('computing perimeter')\n",
    "        return 2 * math.pi * self.radius\n",
    "\n",
    "\n",
    "\"\"\"\n",
    "\n",
    ">>> c = Circle(4.0)\n",
    ">>> c.radius\n",
    "4.0\n",
    ">>> c.area\n",
    "computing area\n",
    "50.26548245743669\n",
    ">>> c.area = 25\n",
    "Traceback (most recent call last):\n",
    "    ...\n",
    "AttributeError: can't set attribute\n",
    "\"\"\"\n",
    "\n",
    "doctest.testmod()"
   ]
  }
 ]
}