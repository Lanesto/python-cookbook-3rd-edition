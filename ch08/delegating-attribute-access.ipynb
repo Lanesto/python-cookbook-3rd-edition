{
 "metadata": {
  "language_info": {
   "codemirror_mode": {
    "name": "ipython",
    "version": 3
   },
   "file_extension": ".py",
   "mimetype": "text/x-python",
   "name": "python",
   "nbconvert_exporter": "python",
   "pygments_lexer": "ipython3",
   "version": "3.9.1-final"
  },
  "orig_nbformat": 2,
  "kernelspec": {
   "name": "python3",
   "display_name": "Python 3",
   "language": "python"
  }
 },
 "nbformat": 4,
 "nbformat_minor": 2,
 "cells": [
  {
   "cell_type": "code",
   "execution_count": 1,
   "metadata": {},
   "outputs": [],
   "source": [
    "%load_ext pycodestyle_magic\n",
    "%load_ext mypy_ipython\n",
    "%pycodestyle_on"
   ]
  },
  {
   "cell_type": "code",
   "execution_count": 2,
   "metadata": {},
   "outputs": [],
   "source": [
    "import doctest"
   ]
  },
  {
   "cell_type": "code",
   "execution_count": 3,
   "metadata": {},
   "outputs": [
    {
     "output_type": "execute_result",
     "data": {
      "text/plain": [
       "TestResults(failed=0, attempted=3)"
      ]
     },
     "metadata": {},
     "execution_count": 3
    }
   ],
   "source": [
    "class A:\n",
    "\n",
    "    def spam(self, x):\n",
    "        print('A.spam:', x)\n",
    "\n",
    "    def foo(self):\n",
    "        print('A.foo')\n",
    "\n",
    "\n",
    "class B:\n",
    "\n",
    "    def __init__(self):\n",
    "        self._a = A()\n",
    "\n",
    "    def bar(self):\n",
    "        print('B.bar')\n",
    "\n",
    "    def __getattr__(self, name):\n",
    "        return getattr(self._a, name)\n",
    "\n",
    "\n",
    "\"\"\"\n",
    "\n",
    ">>> b = B()\n",
    ">>> b.bar()\n",
    "B.bar\n",
    ">>> b.spam(42)\n",
    "A.spam: 42\n",
    "\"\"\"\n",
    "\n",
    "doctest.testmod()"
   ]
  },
  {
   "cell_type": "code",
   "execution_count": 4,
   "metadata": {},
   "outputs": [
    {
     "output_type": "execute_result",
     "data": {
      "text/plain": [
       "TestResults(failed=0, attempted=9)"
      ]
     },
     "metadata": {},
     "execution_count": 4
    }
   ],
   "source": [
    "class Proxy:\n",
    "\n",
    "    def __init__(self, obj):\n",
    "        self._obj = obj\n",
    "\n",
    "    def __getattr__(self, name):\n",
    "        print('getattr:', name)\n",
    "        return getattr(self._obj, name)\n",
    "\n",
    "    def __setattr__(self, name, value):\n",
    "        if name.startswith('_'):\n",
    "            super().__setattr__(name, value)\n",
    "        else:\n",
    "            print('setattr:', name, value)\n",
    "            setattr(self._obj, name, value)\n",
    "\n",
    "    def __delattr__(self, name):\n",
    "        if name.startswith('_'):\n",
    "            super().__delattr__(name)\n",
    "        else:\n",
    "            print('delattr:', name)\n",
    "            delattr(self._obj, name)\n",
    "\n",
    "\n",
    "class Spam:\n",
    "\n",
    "    def __init__(self, x):\n",
    "        self.x = x\n",
    "\n",
    "    def bar(self, y):\n",
    "        print('Spam.bar:', self.x, y)\n",
    "\n",
    "\n",
    "\"\"\"\n",
    "\n",
    ">>> s = Spam(2)\n",
    ">>> p = Proxy(s)\n",
    ">>> print(p.x)\n",
    "getattr: x\n",
    "2\n",
    ">>> p.bar(3)\n",
    "getattr: bar\n",
    "Spam.bar: 2 3\n",
    ">>> p.x = 37\n",
    "setattr: x 37\n",
    ">>> print(p.x)\n",
    "getattr: x\n",
    "37\n",
    ">>> p._z = -1\n",
    ">>> print(p._z)\n",
    "-1\n",
    ">>> s._z\n",
    "Traceback (most recent call last):\n",
    "    ...\n",
    "AttributeError: 'Spam' object has no attribute '_z'\n",
    "\"\"\"\n",
    "\n",
    "doctest.testmod()"
   ]
  },
  {
   "cell_type": "code",
   "execution_count": 5,
   "metadata": {},
   "outputs": [
    {
     "output_type": "execute_result",
     "data": {
      "text/plain": [
       "TestResults(failed=0, attempted=6)"
      ]
     },
     "metadata": {},
     "execution_count": 5
    }
   ],
   "source": [
    "from functools import partial\n",
    "\n",
    "\n",
    "class A:\n",
    "\n",
    "    def spam(self, x):\n",
    "        print('A.spam:', x)\n",
    "\n",
    "    def foo(self):\n",
    "        print('A.foo')\n",
    "\n",
    "\n",
    "class B:\n",
    "\n",
    "    def __init__(self, *, delegate=None):\n",
    "        self.delegate = delegate\n",
    "\n",
    "    def __getattr__(self, name):\n",
    "        if self.delegate is not None:\n",
    "            return getattr(self.delegate, name)\n",
    "\n",
    "    def spam(self, x):\n",
    "        print('B.spam:', x)\n",
    "        if self.delegate is not None:\n",
    "            self.delegate.spam(x)\n",
    "\n",
    "    def bar(self):\n",
    "        print('B.bar')\n",
    "\n",
    "\n",
    "\"\"\"\n",
    "\n",
    ">>> a = A()\n",
    ">>> b = B(delegate=a)\n",
    ">>> b.spam(1)\n",
    "B.spam: 1\n",
    "A.spam: 1\n",
    ">>> b.bar()\n",
    "B.bar\n",
    ">>> b2 = B()\n",
    ">>> b2.spam(2)\n",
    "B.spam: 2\n",
    "\"\"\"\n",
    "\n",
    "doctest.testmod()"
   ]
  },
  {
   "cell_type": "code",
   "execution_count": 6,
   "metadata": {},
   "outputs": [
    {
     "output_type": "execute_result",
     "data": {
      "text/plain": [
       "TestResults(failed=0, attempted=6)"
      ]
     },
     "metadata": {},
     "execution_count": 6
    }
   ],
   "source": [
    "class ListLike:\n",
    "\n",
    "    def __init__(self):\n",
    "        self._items = []\n",
    "\n",
    "    def __getattr__(self, name):\n",
    "        return getattr(self._items, name)\n",
    "\n",
    "\n",
    "\"\"\"\n",
    "\n",
    ">>> a = ListLike()\n",
    ">>> a.append(2)\n",
    ">>> a.insert(0, 1)\n",
    ">>> a.sort()\n",
    ">>> len(a)\n",
    "Traceback (most recent call last):\n",
    "    ...\n",
    "TypeError: object of type 'ListLike' has no len()\n",
    ">>> a[0]\n",
    "Traceback (most recent call last):\n",
    "    ...\n",
    "TypeError: 'ListLike' object is not subscriptable\n",
    "\"\"\"\n",
    "\n",
    "doctest.testmod()"
   ]
  },
  {
   "cell_type": "code",
   "execution_count": null,
   "metadata": {},
   "outputs": [],
   "source": []
  }
 ]
}