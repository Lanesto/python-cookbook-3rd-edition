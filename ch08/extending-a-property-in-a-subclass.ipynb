{
 "metadata": {
  "language_info": {
   "codemirror_mode": {
    "name": "ipython",
    "version": 3
   },
   "file_extension": ".py",
   "mimetype": "text/x-python",
   "name": "python",
   "nbconvert_exporter": "python",
   "pygments_lexer": "ipython3",
   "version": "3.9.1-final"
  },
  "orig_nbformat": 2,
  "kernelspec": {
   "name": "python3",
   "display_name": "Python 3",
   "language": "python"
  }
 },
 "nbformat": 4,
 "nbformat_minor": 2,
 "cells": [
  {
   "cell_type": "code",
   "execution_count": 1,
   "metadata": {},
   "outputs": [],
   "source": [
    "%load_ext pycodestyle_magic\n",
    "%load_ext mypy_ipython\n",
    "%pycodestyle_on"
   ]
  },
  {
   "cell_type": "code",
   "execution_count": 2,
   "metadata": {},
   "outputs": [],
   "source": [
    "import doctest"
   ]
  },
  {
   "cell_type": "code",
   "execution_count": 3,
   "metadata": {},
   "outputs": [
    {
     "output_type": "execute_result",
     "data": {
      "text/plain": [
       "TestResults(failed=0, attempted=8)"
      ]
     },
     "metadata": {},
     "execution_count": 3
    }
   ],
   "source": [
    "class Person:\n",
    "\n",
    "    def __init__(self, name):\n",
    "        self.name = name\n",
    "\n",
    "    @property\n",
    "    def name(self):\n",
    "        return self._name\n",
    "\n",
    "    @name.setter\n",
    "    def name(self, value):\n",
    "        if not isinstance(value, str):\n",
    "            raise TypeError(f'expected str but got {type(value).__name__}')\n",
    "\n",
    "        self._name = value\n",
    "\n",
    "    @name.deleter\n",
    "    def name(self):\n",
    "        raise AttributeError(\"can't delete this attribute\")\n",
    "\n",
    "\n",
    "class SubPerson(Person):\n",
    "    @property\n",
    "    def name(self):\n",
    "        print('getting name')\n",
    "        return super().name\n",
    "\n",
    "    @name.setter\n",
    "    def name(self, value):\n",
    "        print('setting name to', value)\n",
    "        super(SubPerson, type(self)).name.__set__(self, value)\n",
    "\n",
    "    @name.deleter\n",
    "    def name(self):\n",
    "        print('deleting name')\n",
    "        super(SubPerson, type(self)).name.__delete__(self)\n",
    "\n",
    "\n",
    "class SubPerson2(Person):\n",
    "    @Person.name.getter\n",
    "    def name(self):\n",
    "        print('getting name from SubPerson2')\n",
    "        return super().name\n",
    "\n",
    "\n",
    "\"\"\"\n",
    "\n",
    ">>> s = SubPerson('Guido')\n",
    "setting name to Guido\n",
    ">>> s.name\n",
    "getting name\n",
    "'Guido'\n",
    ">>> s.name = 'Larry'\n",
    "setting name to Larry\n",
    ">>> s.name = 42\n",
    "Traceback (most recent call last):\n",
    "    ...\n",
    "TypeError: expected str but got int\n",
    ">>> del s.name\n",
    "Traceback (most recent call last):\n",
    "    ...\n",
    "AttributeError: can't delete this attribute\n",
    ">>> s2 = SubPerson2('Guido')\n",
    ">>> s2.name\n",
    "getting name from SubPerson2\n",
    "'Guido'\n",
    ">>> s2.name = 42\n",
    "Traceback (most recent call last):\n",
    "    ...\n",
    "TypeError: expected str but got int\n",
    "\"\"\"\n",
    "\n",
    "doctest.testmod()"
   ]
  }
 ]
}