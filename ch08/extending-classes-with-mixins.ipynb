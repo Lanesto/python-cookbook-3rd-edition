{
 "metadata": {
  "language_info": {
   "codemirror_mode": {
    "name": "ipython",
    "version": 3
   },
   "file_extension": ".py",
   "mimetype": "text/x-python",
   "name": "python",
   "nbconvert_exporter": "python",
   "pygments_lexer": "ipython3",
   "version": "3.9.1-final"
  },
  "orig_nbformat": 2,
  "kernelspec": {
   "name": "python3",
   "display_name": "Python 3",
   "language": "python"
  }
 },
 "nbformat": 4,
 "nbformat_minor": 2,
 "cells": [
  {
   "cell_type": "code",
   "execution_count": 1,
   "metadata": {},
   "outputs": [],
   "source": [
    "%load_ext pycodestyle_magic\n",
    "%load_ext mypy_ipython\n",
    "%pycodestyle_on"
   ]
  },
  {
   "cell_type": "code",
   "execution_count": 2,
   "metadata": {},
   "outputs": [],
   "source": [
    "import doctest"
   ]
  },
  {
   "cell_type": "code",
   "execution_count": 3,
   "metadata": {},
   "outputs": [
    {
     "output_type": "execute_result",
     "data": {
      "text/plain": [
       "TestResults(failed=0, attempted=17)"
      ]
     },
     "metadata": {},
     "execution_count": 3
    }
   ],
   "source": [
    "class LoggedMappingMixin:\n",
    "\n",
    "    __slots__ = ()\n",
    "\n",
    "    def __getitem__(self, key):\n",
    "        print(f'getting {key}')\n",
    "        return super().__getitem__(key)\n",
    "\n",
    "    def __setitem__(self, key, value):\n",
    "        print(f'setting {key} {value}')\n",
    "        return super().__setitem__(key, value)\n",
    "\n",
    "    def __delitem__(self, key):\n",
    "        print(f'deleting {key}')\n",
    "        return super().__delitem__(key)\n",
    "\n",
    "\n",
    "class SetOnceMappingMixin:\n",
    "\n",
    "    __slots__ = ()\n",
    "\n",
    "    def __setitem__(self, key, value):\n",
    "        if key in self:\n",
    "            raise KeyError(f'{key} already set')\n",
    "\n",
    "        super().__setitem__(key, value)\n",
    "\n",
    "\n",
    "class StringKeysMappingMixin:\n",
    "\n",
    "    __slots__ = ()\n",
    "\n",
    "    def __setitem__(self, key, value):\n",
    "        if not isinstance(key, str):\n",
    "            raise TypeError(f'key must be str but got {type(key).__name__}')\n",
    "\n",
    "        return super().__setitem__(key, value)\n",
    "\n",
    "\n",
    "\"\"\"\n",
    "\n",
    ">>> m = LoggedMappingMixin()\n",
    ">>> m['a'] = 1\n",
    "Traceback (most recent call last):\n",
    "    ...\n",
    "AttributeError: 'super' object has no attribute '__setitem__'\n",
    "\n",
    ">>> class LoggedDict(LoggedMappingMixin, dict): pass\n",
    ">>> d = LoggedDict()\n",
    ">>> d['x'] = 23\n",
    "setting x 23\n",
    "\n",
    ">>> from collections import defaultdict\n",
    ">>> class SetOnceDefaultDict(SetOnceMappingMixin, defaultdict): pass\n",
    ">>> d = SetOnceDefaultDict(list)\n",
    ">>> d['x'].append(2)\n",
    ">>> d['x'].append(3)\n",
    ">>> d['x'] = 23\n",
    "Traceback (most recent call last):\n",
    "    ...\n",
    "KeyError: 'x already set'\n",
    "\n",
    ">>> from collections import OrderedDict\n",
    ">>> class StringOrderedDict(StringKeysMappingMixin, SetOnceMappingMixin, OrderedDict): pass\n",
    ">>> d = StringOrderedDict()\n",
    ">>> d['x'] = 23\n",
    ">>> d[42] = 10\n",
    "Traceback (most recent call last):\n",
    "    ...\n",
    "TypeError: key must be str but got int\n",
    ">>> d['x'] = 24\n",
    "Traceback (most recent call last):\n",
    "    ...\n",
    "KeyError: 'x already set'\n",
    "\"\"\"  # noqa: E501\n",
    "\n",
    "doctest.testmod()"
   ]
  },
  {
   "cell_type": "code",
   "execution_count": 4,
   "metadata": {},
   "outputs": [
    {
     "output_type": "execute_result",
     "data": {
      "text/plain": [
       "TestResults(failed=0, attempted=6)"
      ]
     },
     "metadata": {},
     "execution_count": 4
    }
   ],
   "source": [
    "class RestrictKeysMixin:\n",
    "\n",
    "    def __init__(self, *args, _restrict_key_type, **kwargs):\n",
    "        self.__restrict_key_type = _restrict_key_type\n",
    "        super().__init__(*args, **kwargs)\n",
    "\n",
    "    def __setitem__(self, key, value):\n",
    "        if not isinstance(key, self.__restrict_key_type):\n",
    "            raise TypeError(f'keys must be {self.__restrict_key_type!s}')\n",
    "\n",
    "        super().__setitem__(key, value)\n",
    "\n",
    "\n",
    "\"\"\"\n",
    "\n",
    ">>> class RDict(RestrictKeysMixin, dict): pass\n",
    ">>> d = RDict(_restrict_key_type=str)\n",
    ">>> e = RDict([('name', 'Dave'), ('n', 37)], _restrict_key_type=str)\n",
    ">>> f = RDict(name='Dave', n=37, _restrict_key_type=str)\n",
    ">>> f\n",
    "{'name': 'Dave', 'n': 37}\n",
    ">>> f[42] = 10\n",
    "Traceback (most recent call last):\n",
    "    ...\n",
    "TypeError: keys must be <class 'str'>\n",
    "\"\"\"\n",
    "\n",
    "doctest.testmod()"
   ]
  },
  {
   "cell_type": "code",
   "execution_count": 5,
   "metadata": {},
   "outputs": [
    {
     "output_type": "stream",
     "name": "stdout",
     "text": [
      "setting x 23\nsetting x 1\n"
     ]
    }
   ],
   "source": [
    "def LoggedMapping(cls):\n",
    "    cls_getitem = cls.__getitem__\n",
    "    cls_setitem = cls.__setitem__\n",
    "    cls_delitem = cls.__delitem__\n",
    "\n",
    "    def __getitem__(self, key):\n",
    "        print(f'getting {key}')\n",
    "        return cls_getitem(self, key)\n",
    "\n",
    "    def __setitem__(self, key, value):\n",
    "        print(f'setting {key} {value}')\n",
    "        return cls_setitem(self, key, value)\n",
    "\n",
    "    def __delitem__(self, key):\n",
    "        print(f'deleting {key}')\n",
    "        return cls_delitem(self, key)\n",
    "\n",
    "    cls.__getitem__ = __getitem__\n",
    "    cls.__setitem__ = __setitem__\n",
    "    cls.__delitem__ = __delitem__\n",
    "    return cls\n",
    "\n",
    "\n",
    "@LoggedMapping\n",
    "class LoggedDict(dict):\n",
    "    pass\n",
    "\n",
    "\n",
    "d = LoggedDict()\n",
    "d['x'] = 23\n",
    "d['x'] = 1"
   ]
  }
 ]
}