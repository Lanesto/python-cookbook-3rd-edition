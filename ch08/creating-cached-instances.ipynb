{
 "metadata": {
  "language_info": {
   "codemirror_mode": {
    "name": "ipython",
    "version": 3
   },
   "file_extension": ".py",
   "mimetype": "text/x-python",
   "name": "python",
   "nbconvert_exporter": "python",
   "pygments_lexer": "ipython3",
   "version": "3.9.1-final"
  },
  "orig_nbformat": 2,
  "kernelspec": {
   "name": "python3",
   "display_name": "Python 3",
   "language": "python"
  }
 },
 "nbformat": 4,
 "nbformat_minor": 2,
 "cells": [
  {
   "cell_type": "code",
   "execution_count": 1,
   "metadata": {},
   "outputs": [],
   "source": [
    "%load_ext pycodestyle_magic\n",
    "%load_ext mypy_ipython\n",
    "%pycodestyle_on"
   ]
  },
  {
   "cell_type": "code",
   "execution_count": 2,
   "metadata": {},
   "outputs": [],
   "source": [
    "import doctest"
   ]
  },
  {
   "cell_type": "code",
   "execution_count": 3,
   "metadata": {},
   "outputs": [
    {
     "output_type": "execute_result",
     "data": {
      "text/plain": [
       "TestResults(failed=0, attempted=5)"
      ]
     },
     "metadata": {},
     "execution_count": 3
    }
   ],
   "source": [
    "import weakref\n",
    "\n",
    "_spam_cache = weakref.WeakValueDictionary()\n",
    "\n",
    "\n",
    "class Spam:\n",
    "\n",
    "    def __init__(self, name):\n",
    "        self.name = name\n",
    "\n",
    "\n",
    "def get_spam(name):\n",
    "    if name not in _spam_cache:\n",
    "        s = _spam_cache[name] = Spam(name)\n",
    "    else:\n",
    "        s = _spam_cache[name]\n",
    "\n",
    "    return s\n",
    "\n",
    "\n",
    "\"\"\"\n",
    "\n",
    ">>> a = get_spam('foo')\n",
    ">>> b = get_spam('bar')\n",
    ">>> a is b\n",
    "False\n",
    ">>> c = get_spam('foo')\n",
    ">>> a is c\n",
    "True\n",
    "\"\"\"\n",
    "\n",
    "doctest.testmod()"
   ]
  },
  {
   "cell_type": "code",
   "execution_count": 4,
   "metadata": {},
   "outputs": [
    {
     "output_type": "execute_result",
     "data": {
      "text/plain": [
       "TestResults(failed=0, attempted=3)"
      ]
     },
     "metadata": {},
     "execution_count": 4
    }
   ],
   "source": [
    "import weakref\n",
    "\n",
    "\n",
    "class Spam:\n",
    "    _spam_cache = weakref.WeakValueDictionary()\n",
    "\n",
    "    def __new__(cls, name):\n",
    "        if name in cls._spam_cache:\n",
    "            return cls._spam_cache[name]\n",
    "        else:\n",
    "            self = super().__new__(cls)\n",
    "            cls._spam_cache[name] = self\n",
    "            return self\n",
    "\n",
    "    def __init__(self, name):\n",
    "        print('initializing spam')\n",
    "        self.name = name\n",
    "\n",
    "\n",
    "\"\"\"\n",
    "\n",
    ">>> s = Spam('dave')\n",
    "initializing spam\n",
    ">>> t = Spam('dave')\n",
    "initializing spam\n",
    ">>> s is t\n",
    "True\n",
    "\"\"\"\n",
    "\n",
    "doctest.testmod()"
   ]
  },
  {
   "cell_type": "code",
   "execution_count": 5,
   "metadata": {},
   "outputs": [
    {
     "output_type": "execute_result",
     "data": {
      "text/plain": [
       "TestResults(failed=0, attempted=5)"
      ]
     },
     "metadata": {},
     "execution_count": 5
    }
   ],
   "source": [
    "import weakref\n",
    "\n",
    "\n",
    "class CachedSpamManager:\n",
    "\n",
    "    def __init__(self):\n",
    "        self._cache = weakref.WeakValueDictionary()\n",
    "\n",
    "    def get_spam(self, name):\n",
    "        if name not in self._cache:\n",
    "            self._cache[name] = s = Spam(name)\n",
    "        else:\n",
    "            s = self._cache[name]\n",
    "\n",
    "        return s\n",
    "\n",
    "    def clear(self):\n",
    "        self._cache.clear()\n",
    "\n",
    "\n",
    "class Spam:\n",
    "    manager = CachedSpamManager()\n",
    "\n",
    "    def __init__(self, name):\n",
    "        self.name = name\n",
    "\n",
    "\n",
    "def get_spam(name):\n",
    "    return Spam.manager.get_spam(name)\n",
    "\n",
    "\n",
    "\"\"\"\n",
    "\n",
    ">>> a = get_spam('foo')\n",
    ">>> b = get_spam('bar')\n",
    ">>> a is b\n",
    "False\n",
    ">>> c = get_spam('foo')\n",
    ">>> a is c\n",
    "True\n",
    "\"\"\"\n",
    "\n",
    "doctest.testmod()"
   ]
  },
  {
   "cell_type": "code",
   "execution_count": null,
   "metadata": {},
   "outputs": [],
   "source": []
  }
 ]
}