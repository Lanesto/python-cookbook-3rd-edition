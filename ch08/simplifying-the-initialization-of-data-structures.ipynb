{
 "metadata": {
  "language_info": {
   "codemirror_mode": {
    "name": "ipython",
    "version": 3
   },
   "file_extension": ".py",
   "mimetype": "text/x-python",
   "name": "python",
   "nbconvert_exporter": "python",
   "pygments_lexer": "ipython3",
   "version": "3.9.1-final"
  },
  "orig_nbformat": 2,
  "kernelspec": {
   "name": "python3",
   "display_name": "Python 3",
   "language": "python"
  }
 },
 "nbformat": 4,
 "nbformat_minor": 2,
 "cells": [
  {
   "cell_type": "code",
   "execution_count": 1,
   "metadata": {},
   "outputs": [],
   "source": [
    "%load_ext pycodestyle_magic\n",
    "%load_ext mypy_ipython\n",
    "%pycodestyle_on"
   ]
  },
  {
   "cell_type": "code",
   "execution_count": 2,
   "metadata": {},
   "outputs": [],
   "source": [
    "import doctest"
   ]
  },
  {
   "cell_type": "code",
   "execution_count": 3,
   "metadata": {},
   "outputs": [
    {
     "output_type": "execute_result",
     "data": {
      "text/plain": [
       "TestResults(failed=0, attempted=7)"
      ]
     },
     "metadata": {},
     "execution_count": 3
    }
   ],
   "source": [
    "class Structure:\n",
    "    _fields = []\n",
    "\n",
    "    def __init__(self, *args, **kwargs):\n",
    "        if len(args) > len(self._fields):\n",
    "            raise TypeError(f'expected {len(self._fields)} arguments'\n",
    "                            f' but got {len(args)}')\n",
    "\n",
    "        for name, value in zip(self._fields, args):\n",
    "            setattr(self, name, value)\n",
    "\n",
    "        for name in self._fields[len(args):]:\n",
    "            setattr(self, name, kwargs.pop(name))\n",
    "\n",
    "        extra_args = kwargs.keys() - self._fields\n",
    "        for name in extra_args:\n",
    "            setattr(self, name, kwargs.pop(name))\n",
    "\n",
    "        if kwargs:\n",
    "            raise TypeError('invalid argument(s): {}'.format(', '.join(kwargs)))  # noqa: E501\n",
    "\n",
    "\n",
    "class Stock(Structure):\n",
    "    _fields = ['name', 'shares', 'price']\n",
    "\n",
    "\n",
    "class Point(Structure):\n",
    "    _fields = ['x', 'y']\n",
    "\n",
    "\n",
    "class Circle(Structure):\n",
    "    _fields = ['radius']\n",
    "\n",
    "\n",
    "\"\"\"\n",
    "\n",
    ">>> s = Stock('ACME', 50, 91.1)\n",
    ">>> s2 = Stock('ACME', shares=50, price=91.1)\n",
    ">>> s3 = Stock('ACME', 50)\n",
    "Traceback (most recent call last):\n",
    "    ...\n",
    "KeyError: 'price'\n",
    ">>> p = Point(2, 3)\n",
    ">>> p2 = Point(3, 9, name='Point 2')\n",
    ">>> p2.name\n",
    "'Point 2'\n",
    ">>> c = Circle(4.5)\n",
    "\"\"\"\n",
    "\n",
    "doctest.testmod()"
   ]
  },
  {
   "cell_type": "code",
   "execution_count": null,
   "metadata": {},
   "outputs": [],
   "source": []
  }
 ]
}