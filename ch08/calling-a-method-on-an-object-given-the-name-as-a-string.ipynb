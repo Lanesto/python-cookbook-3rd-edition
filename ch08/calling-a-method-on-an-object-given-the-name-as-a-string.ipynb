{
 "metadata": {
  "language_info": {
   "codemirror_mode": {
    "name": "ipython",
    "version": 3
   },
   "file_extension": ".py",
   "mimetype": "text/x-python",
   "name": "python",
   "nbconvert_exporter": "python",
   "pygments_lexer": "ipython3",
   "version": "3.9.1-final"
  },
  "orig_nbformat": 2,
  "kernelspec": {
   "name": "python3",
   "display_name": "Python 3",
   "language": "python"
  }
 },
 "nbformat": 4,
 "nbformat_minor": 2,
 "cells": [
  {
   "cell_type": "code",
   "execution_count": 1,
   "metadata": {},
   "outputs": [],
   "source": [
    "%load_ext pycodestyle_magic\n",
    "%load_ext mypy_ipython\n",
    "%pycodestyle_on"
   ]
  },
  {
   "cell_type": "code",
   "execution_count": 2,
   "metadata": {},
   "outputs": [],
   "source": [
    "import doctest"
   ]
  },
  {
   "cell_type": "code",
   "execution_count": 3,
   "metadata": {},
   "outputs": [
    {
     "output_type": "execute_result",
     "data": {
      "text/plain": [
       "TestResults(failed=0, attempted=8)"
      ]
     },
     "metadata": {},
     "execution_count": 3
    }
   ],
   "source": [
    "import math\n",
    "\n",
    "\n",
    "class Point:\n",
    "\n",
    "    def __init__(self, x, y):\n",
    "        self.x = x\n",
    "        self.y = y\n",
    "\n",
    "    def __repr__(self):\n",
    "        return f'{type(self).__name__}({self.x}, {self.y})'\n",
    "\n",
    "    def distance(self, *other):\n",
    "        x, y = other\n",
    "        return math.hypot(self.x - x, self.y - y)\n",
    "\n",
    "\n",
    "\"\"\"\n",
    "\n",
    ">>> p = Point(3, 4)\n",
    ">>> getattr(p, 'distance')(0, 0)\n",
    "5.0\n",
    ">>> from operator import methodcaller\n",
    ">>> distance = methodcaller('distance', 0, 0)\n",
    ">>> distance(p)\n",
    "5.0\n",
    ">>> points = [\n",
    "...    Point(1, 2),\n",
    "...    Point(3, 0),\n",
    "...    Point(10, -3),\n",
    "...    Point(-5, -7),\n",
    "...    Point(-1, 8),\n",
    "...    Point(3, 2),\n",
    "... ]\n",
    ">>> points.sort(key=distance)\n",
    ">>> points\n",
    "[Point(1, 2), Point(3, 0), Point(3, 2), Point(-1, 8), Point(-5, -7), Point(10, -3)]\n",
    "\"\"\"  # noqa: E501\n",
    "\n",
    "doctest.testmod()"
   ]
  },
  {
   "cell_type": "code",
   "execution_count": null,
   "metadata": {},
   "outputs": [],
   "source": []
  }
 ]
}