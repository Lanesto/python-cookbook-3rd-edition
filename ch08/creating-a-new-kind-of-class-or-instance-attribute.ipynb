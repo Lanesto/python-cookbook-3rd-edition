{
 "metadata": {
  "language_info": {
   "codemirror_mode": {
    "name": "ipython",
    "version": 3
   },
   "file_extension": ".py",
   "mimetype": "text/x-python",
   "name": "python",
   "nbconvert_exporter": "python",
   "pygments_lexer": "ipython3",
   "version": "3.9.1-final"
  },
  "orig_nbformat": 2,
  "kernelspec": {
   "name": "python3",
   "display_name": "Python 3",
   "language": "python"
  }
 },
 "nbformat": 4,
 "nbformat_minor": 2,
 "cells": [
  {
   "cell_type": "code",
   "execution_count": 1,
   "metadata": {},
   "outputs": [],
   "source": [
    "%load_ext pycodestyle_magic\n",
    "%load_ext mypy_ipython\n",
    "%pycodestyle_on"
   ]
  },
  {
   "cell_type": "code",
   "execution_count": 2,
   "metadata": {},
   "outputs": [],
   "source": [
    "import doctest"
   ]
  },
  {
   "cell_type": "code",
   "execution_count": 3,
   "metadata": {},
   "outputs": [
    {
     "output_type": "execute_result",
     "data": {
      "text/plain": [
       "TestResults(failed=0, attempted=4)"
      ]
     },
     "metadata": {},
     "execution_count": 3
    }
   ],
   "source": [
    "class Integer:\n",
    "\n",
    "    def __init__(self, name):\n",
    "        self.name = name\n",
    "\n",
    "    def __get__(self, instance, cls):\n",
    "        if instance is None:\n",
    "            return self\n",
    "        else:\n",
    "            return instance.__dict__[self.name]\n",
    "\n",
    "    def __set__(self, instance, value):\n",
    "        if not isinstance(value, int):\n",
    "            raise TypeError(f'expected int but got {type(value).__name__}')\n",
    "\n",
    "        instance.__dict__[self.name] = value\n",
    "\n",
    "    def __delete__(self, instance):\n",
    "        del instance.__dict__[self.name]\n",
    "\n",
    "\n",
    "class Point:\n",
    "    x = Integer('x')\n",
    "    y = Integer('y')\n",
    "\n",
    "    def __init__(self, x, y):\n",
    "        self.x = x\n",
    "        self.y = y\n",
    "\n",
    "\n",
    "\"\"\"\n",
    "\n",
    ">>> p = Point(2, 3)\n",
    ">>> p.x\n",
    "2\n",
    ">>> p.y = 5\n",
    ">>> p.x = 1.23\n",
    "Traceback (most recent call last):\n",
    "    ...\n",
    "TypeError: expected int but got float\n",
    "\"\"\"\n",
    "\n",
    "doctest.testmod()"
   ]
  },
  {
   "cell_type": "code",
   "execution_count": 4,
   "metadata": {},
   "outputs": [
    {
     "output_type": "execute_result",
     "data": {
      "text/plain": [
       "TestResults(failed=0, attempted=4)"
      ]
     },
     "metadata": {},
     "execution_count": 4
    }
   ],
   "source": [
    "class Typed:\n",
    "\n",
    "    def __init__(self, name, type_expected):\n",
    "        self.name = name\n",
    "        self.type_expected = type_expected\n",
    "\n",
    "    def __get__(self, instance, cls):\n",
    "        if instance is None:\n",
    "            return self\n",
    "        else:\n",
    "            return instance.__dict__[self.name]\n",
    "\n",
    "    def __set__(self, instance, value):\n",
    "        if not isinstance(value, self.type_expected):\n",
    "            raise TypeError(f'expected {self.type_expected.__name__}'\n",
    "                            f' but got {type(value).__name__}')\n",
    "\n",
    "        instance.__dict__[self.name] = value\n",
    "\n",
    "    def __delete__(self, instance):\n",
    "        del instance.__dict__[self.name]\n",
    "\n",
    "\n",
    "def typeassert(**kwargs):\n",
    "    def decorator(cls):\n",
    "        for name, expected_type in kwargs.items():\n",
    "            setattr(cls, name, Typed(name, expected_type))\n",
    "        return cls\n",
    "\n",
    "    return decorator\n",
    "\n",
    "\n",
    "@typeassert(name=str, shares=int, price=float)\n",
    "class Stock:\n",
    "\n",
    "    def __init__(self, name, shares, price):\n",
    "        self.name = name\n",
    "        self.shares = shares\n",
    "        self.price = price\n",
    "\n",
    "\n",
    "\"\"\"\n",
    "\n",
    ">>> s = Stock('pencil', 3, 0.5)\n",
    ">>> s.name = 0\n",
    "Traceback (most recent call last):\n",
    "    ...\n",
    "TypeError: expected str but got int\n",
    ">>> s.shares = '1'\n",
    "Traceback (most recent call last):\n",
    "    ...\n",
    "TypeError: expected int but got str\n",
    ">>> s.price = 'pumpkin'\n",
    "Traceback (most recent call last):\n",
    "    ...\n",
    "TypeError: expected float but got str\n",
    "\"\"\"\n",
    "\n",
    "doctest.testmod()"
   ]
  }
 ]
}