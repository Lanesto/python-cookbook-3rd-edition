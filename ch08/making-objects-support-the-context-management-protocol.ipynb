{
 "metadata": {
  "language_info": {
   "codemirror_mode": {
    "name": "ipython",
    "version": 3
   },
   "file_extension": ".py",
   "mimetype": "text/x-python",
   "name": "python",
   "nbconvert_exporter": "python",
   "pygments_lexer": "ipython3",
   "version": "3.9.1-final"
  },
  "orig_nbformat": 2,
  "kernelspec": {
   "name": "python3",
   "display_name": "Python 3",
   "language": "python"
  }
 },
 "nbformat": 4,
 "nbformat_minor": 2,
 "cells": [
  {
   "cell_type": "code",
   "execution_count": 1,
   "metadata": {},
   "outputs": [],
   "source": [
    "%load_ext pycodestyle_magic\n",
    "%load_ext mypy_ipython\n",
    "%pycodestyle_on"
   ]
  },
  {
   "cell_type": "code",
   "execution_count": 2,
   "metadata": {},
   "outputs": [],
   "source": [
    "import doctest"
   ]
  },
  {
   "cell_type": "code",
   "execution_count": 3,
   "metadata": {},
   "outputs": [
    {
     "output_type": "stream",
     "name": "stdout",
     "text": [
      "HTTP/1.1 301 Moved Permanently\nServer: Varnish\nRetry-After: 0\nLocation: https://www.python.org/index.html\nContent-Length: 0\nAccept-Ranges: bytes\nDate: Wed, 13 Jan 2021 08:33:52 GMT\nVia: 1.1 varnish\nConnection: close\nX-Served-By: cache-hkg17930-HKG\nX-Cache: HIT\nX-Cache-Hits: 0\nX-Timer: S1610526833.547901,VS0,VE0\nStrict-Transport-Security: max-age=63072000; includeSubDomains\n\n\n"
     ]
    }
   ],
   "source": [
    "from socket import socket, AF_INET, SOCK_STREAM\n",
    "from functools import partial\n",
    "\n",
    "\n",
    "class LazyConnection:\n",
    "\n",
    "    def __init__(self, addr, family=AF_INET, type=SOCK_STREAM):\n",
    "        self.addr = addr\n",
    "        self.family = family\n",
    "        self.type = type\n",
    "        self.sock = None\n",
    "\n",
    "    def __enter__(self):\n",
    "        if self.sock is not None:\n",
    "            raise RuntimeError('already connected')\n",
    "\n",
    "        self.sock = socket(self.family, self.type)\n",
    "        self.sock.connect(self.addr)\n",
    "        return self.sock\n",
    "\n",
    "    def __exit__(self, exc_ty, exc_val, exc_tb):\n",
    "        self.sock.close()\n",
    "        self.sock = None\n",
    "\n",
    "\n",
    "conn = LazyConnection(('www.python.org', 80))\n",
    "with conn as sock:\n",
    "    sock.send(b'GET /index.html HTTP/1.1\\r\\n')\n",
    "    sock.send(b'Host: www.python.org\\r\\n')\n",
    "    sock.send(b'\\r\\n')\n",
    "    resp = b''.join(iter(partial(sock.recv, 8192), b''))\n",
    "\n",
    "print(resp.decode('utf-8'))"
   ]
  }
 ]
}