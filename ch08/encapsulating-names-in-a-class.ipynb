{
 "metadata": {
  "language_info": {
   "codemirror_mode": {
    "name": "ipython",
    "version": 3
   },
   "file_extension": ".py",
   "mimetype": "text/x-python",
   "name": "python",
   "nbconvert_exporter": "python",
   "pygments_lexer": "ipython3",
   "version": "3.9.1-final"
  },
  "orig_nbformat": 2,
  "kernelspec": {
   "name": "python3",
   "display_name": "Python 3",
   "language": "python"
  }
 },
 "nbformat": 4,
 "nbformat_minor": 2,
 "cells": [
  {
   "cell_type": "code",
   "execution_count": 1,
   "metadata": {},
   "outputs": [],
   "source": [
    "%load_ext pycodestyle_magic\n",
    "%load_ext mypy_ipython\n",
    "%pycodestyle_on"
   ]
  },
  {
   "cell_type": "code",
   "execution_count": 2,
   "metadata": {},
   "outputs": [],
   "source": [
    "import doctest"
   ]
  },
  {
   "cell_type": "code",
   "execution_count": 3,
   "metadata": {},
   "outputs": [
    {
     "output_type": "execute_result",
     "data": {
      "text/plain": [
       "TestResults(failed=0, attempted=8)"
      ]
     },
     "metadata": {},
     "execution_count": 3
    }
   ],
   "source": [
    "class A:\n",
    "\n",
    "    def __init__(self):\n",
    "        self.public = 1\n",
    "        self._protected = 0\n",
    "        self.__private = 2\n",
    "\n",
    "    def public_method(self):\n",
    "        pass\n",
    "\n",
    "    def _protected_method(self):\n",
    "        pass\n",
    "\n",
    "    def __private_method(self):\n",
    "        print(self.__private)  # self._A__private\n",
    "\n",
    "\n",
    "class B(A):\n",
    "\n",
    "    def __init__(self):\n",
    "        super().__init__()\n",
    "        self.__private = -2\n",
    "\n",
    "    def __private_method(self):\n",
    "        print(self.__private)  # self._B__private\n",
    "\n",
    "\n",
    "\"\"\"\n",
    "\n",
    ">>> a = A()\n",
    ">>> a._A__private\n",
    "2\n",
    ">>> a._A__private_method()\n",
    "2\n",
    ">>> b = B()\n",
    ">>> b._B__private\n",
    "-2\n",
    ">>> b._B__private_method()\n",
    "-2\n",
    ">>> b.__dict__\n",
    "{'public': 1, '_protected': 0, '_A__private': 2, '_B__private': -2}\n",
    ">>> a._A__private_method is b._B__private_method\n",
    "False\n",
    "\"\"\"\n",
    "\n",
    "doctest.testmod()"
   ]
  }
 ]
}