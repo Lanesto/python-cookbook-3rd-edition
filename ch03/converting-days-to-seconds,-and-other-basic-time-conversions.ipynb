{
 "metadata": {
  "language_info": {
   "codemirror_mode": {
    "name": "ipython",
    "version": 3
   },
   "file_extension": ".py",
   "mimetype": "text/x-python",
   "name": "python",
   "nbconvert_exporter": "python",
   "pygments_lexer": "ipython3",
   "version": "3.9.1-final"
  },
  "orig_nbformat": 2,
  "kernelspec": {
   "name": "python3",
   "display_name": "Python 3",
   "language": "python"
  }
 },
 "nbformat": 4,
 "nbformat_minor": 2,
 "cells": [
  {
   "cell_type": "code",
   "execution_count": 1,
   "metadata": {},
   "outputs": [],
   "source": [
    "%load_ext pycodestyle_magic\n",
    "%load_ext mypy_ipython\n",
    "%pycodestyle_on"
   ]
  },
  {
   "cell_type": "code",
   "execution_count": 2,
   "metadata": {},
   "outputs": [],
   "source": [
    "import doctest"
   ]
  },
  {
   "cell_type": "code",
   "execution_count": 3,
   "metadata": {},
   "outputs": [
    {
     "output_type": "execute_result",
     "data": {
      "text/plain": [
       "TestResults(failed=0, attempted=7)"
      ]
     },
     "metadata": {},
     "execution_count": 3
    }
   ],
   "source": [
    "from datetime import timedelta\n",
    "\n",
    "\"\"\"\n",
    "\n",
    ">>> a = timedelta(days=2, hours=6)\n",
    ">>> b = timedelta(hours=4.5)\n",
    ">>> c = a + b\n",
    ">>> c.days\n",
    "2\n",
    ">>> c.seconds\n",
    "37800\n",
    ">>> c.seconds / 3600\n",
    "10.5\n",
    ">>> c.total_seconds() / 3600\n",
    "58.5\n",
    "\"\"\"\n",
    "\n",
    "doctest.testmod()"
   ]
  },
  {
   "cell_type": "code",
   "execution_count": 4,
   "metadata": {},
   "outputs": [
    {
     "output_type": "execute_result",
     "data": {
      "text/plain": [
       "TestResults(failed=0, attempted=9)"
      ]
     },
     "metadata": {},
     "execution_count": 4
    }
   ],
   "source": [
    "from datetime import datetime, timedelta\n",
    "\n",
    "\"\"\"\n",
    "\n",
    ">>> a = datetime(2012, 9, 23)\n",
    ">>> print(a + timedelta(days=10))\n",
    "2012-10-03 00:00:00\n",
    ">>> b = datetime(2012, 12, 21)\n",
    ">>> d = b - a\n",
    ">>> d.days\n",
    "89\n",
    ">>> a = datetime(2012, 3, 1)\n",
    ">>> b = datetime(2012, 2, 28)\n",
    ">>> a - b\n",
    "datetime.timedelta(days=2)\n",
    ">>> datetime(2013, 3, 1) - datetime(2013, 2, 28)\n",
    "datetime.timedelta(days=1)\n",
    "\"\"\"\n",
    "\n",
    "doctest.testmod()"
   ]
  },
  {
   "cell_type": "code",
   "execution_count": 5,
   "metadata": {},
   "outputs": [
    {
     "output_type": "execute_result",
     "data": {
      "text/plain": [
       "TestResults(failed=0, attempted=6)"
      ]
     },
     "metadata": {},
     "execution_count": 5
    }
   ],
   "source": [
    "from datetime import datetime, timedelta\n",
    "from dateutil.relativedelta import relativedelta\n",
    "\n",
    "\"\"\"\n",
    "\n",
    ">>> a = datetime(2012, 9, 23)\n",
    ">>> a + timedelta(months=1)\n",
    "Traceback (most recent call last):\n",
    "    ...\n",
    "TypeError: 'months' is an invalid keyword argument for __new__()\n",
    ">>> a + relativedelta(months=+1)\n",
    "datetime.datetime(2012, 10, 23, 0, 0)\n",
    ">>> a + relativedelta(months=+4)\n",
    "datetime.datetime(2013, 1, 23, 0, 0)\n",
    ">>> b = datetime(2012, 12, 21)\n",
    ">>> relativedelta(b, a)\n",
    "relativedelta(months=+2, days=+28)\n",
    "\"\"\"\n",
    "\n",
    "doctest.testmod()"
   ]
  }
 ]
}