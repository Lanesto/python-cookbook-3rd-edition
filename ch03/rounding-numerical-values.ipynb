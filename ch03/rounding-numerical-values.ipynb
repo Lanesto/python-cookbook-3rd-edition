{
 "metadata": {
  "language_info": {
   "codemirror_mode": {
    "name": "ipython",
    "version": 3
   },
   "file_extension": ".py",
   "mimetype": "text/x-python",
   "name": "python",
   "nbconvert_exporter": "python",
   "pygments_lexer": "ipython3",
   "version": "3.9.1-final"
  },
  "orig_nbformat": 2,
  "kernelspec": {
   "name": "python3",
   "display_name": "Python 3",
   "language": "python"
  }
 },
 "nbformat": 4,
 "nbformat_minor": 2,
 "cells": [
  {
   "cell_type": "code",
   "execution_count": 1,
   "metadata": {},
   "outputs": [],
   "source": [
    "%load_ext pycodestyle_magic\n",
    "%load_ext mypy_ipython\n",
    "%pycodestyle_on"
   ]
  },
  {
   "cell_type": "code",
   "execution_count": 2,
   "metadata": {},
   "outputs": [],
   "source": [
    "import doctest"
   ]
  },
  {
   "cell_type": "code",
   "execution_count": 3,
   "metadata": {},
   "outputs": [
    {
     "output_type": "execute_result",
     "data": {
      "text/plain": [
       "TestResults(failed=0, attempted=8)"
      ]
     },
     "metadata": {},
     "execution_count": 3
    }
   ],
   "source": [
    "\"\"\"\n",
    "\n",
    ">>> round(1.23, 1)\n",
    "1.2\n",
    ">>> round(1.27, 1)\n",
    "1.3\n",
    ">>> round(-1.27, 1)\n",
    "-1.3\n",
    ">>> round(1.25361, 3)\n",
    "1.254\n",
    ">>> a = 1627731\n",
    ">>> round(a, -1)\n",
    "1627730\n",
    ">>> round(a, -2)\n",
    "1627700\n",
    ">>> round(a, -3)\n",
    "1628000\n",
    "\"\"\"\n",
    "\n",
    "doctest.testmod()"
   ]
  },
  {
   "cell_type": "code",
   "execution_count": 4,
   "metadata": {},
   "outputs": [
    {
     "output_type": "execute_result",
     "data": {
      "text/plain": [
       "TestResults(failed=0, attempted=10)"
      ]
     },
     "metadata": {},
     "execution_count": 4
    }
   ],
   "source": [
    "\"\"\"\n",
    "\n",
    ">>> x = 1.23456\n",
    ">>> format(x, '0.2f')\n",
    "'1.23'\n",
    ">>> format(x, '0.3f')\n",
    "'1.235'\n",
    ">>> f'value is {x:0.3f}'\n",
    "'value is 1.235'\n",
    ">>> a = 2.1\n",
    ">>> b = 4.2\n",
    ">>> c = a + b\n",
    ">>> c\n",
    "6.300000000000001\n",
    ">>> c = round(c, 2)\n",
    ">>> c\n",
    "6.3\n",
    "\"\"\"\n",
    "\n",
    "doctest.testmod()"
   ]
  },
  {
   "cell_type": "code",
   "execution_count": null,
   "metadata": {},
   "outputs": [],
   "source": []
  }
 ]
}