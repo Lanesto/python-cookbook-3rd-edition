{
 "metadata": {
  "language_info": {
   "codemirror_mode": {
    "name": "ipython",
    "version": 3
   },
   "file_extension": ".py",
   "mimetype": "text/x-python",
   "name": "python",
   "nbconvert_exporter": "python",
   "pygments_lexer": "ipython3",
   "version": "3.9.1-final"
  },
  "orig_nbformat": 2,
  "kernelspec": {
   "name": "python3",
   "display_name": "Python 3",
   "language": "python"
  }
 },
 "nbformat": 4,
 "nbformat_minor": 2,
 "cells": [
  {
   "cell_type": "code",
   "execution_count": 1,
   "metadata": {},
   "outputs": [],
   "source": [
    "%load_ext pycodestyle_magic\n",
    "%load_ext mypy_ipython\n",
    "%pycodestyle_on"
   ]
  },
  {
   "cell_type": "code",
   "execution_count": 2,
   "metadata": {},
   "outputs": [],
   "source": [
    "import doctest"
   ]
  },
  {
   "cell_type": "code",
   "execution_count": 3,
   "metadata": {},
   "outputs": [
    {
     "output_type": "execute_result",
     "data": {
      "text/plain": [
       "TestResults(failed=0, attempted=14)"
      ]
     },
     "metadata": {},
     "execution_count": 3
    }
   ],
   "source": [
    "\"\"\"\n",
    "\n",
    ">>> x = 1234.56789\n",
    ">>> format(x, '0.2f')\n",
    "'1234.57'\n",
    ">>> format(x, '>10.1f')\n",
    "'    1234.6'\n",
    ">>> format(x, '<10.1f')\n",
    "'1234.6    '\n",
    ">>> format(x, '^10.1f')\n",
    "'  1234.6  '\n",
    ">>> format(x, ',')\n",
    "'1,234.56789'\n",
    ">>> format(x, '0,.1f')\n",
    "'1,234.6'\n",
    ">>> format(x, 'e')\n",
    "'1.234568e+03'\n",
    ">>> format(x, '0.2E')\n",
    "'1.23E+03'\n",
    ">>> f'The value is {x:0,.2f}'\n",
    "'The value is 1,234.57'\n",
    ">>> format(x, '0.1f')\n",
    "'1234.6'\n",
    ">>> format(-x, '0.1f')\n",
    "'-1234.6'\n",
    ">>> swap_generators = {ord('.'): ',', ord(','): '.'}\n",
    ">>> format(x, ',').translate(swap_generators)\n",
    "'1.234,56789'\n",
    "\"\"\"\n",
    "\n",
    "doctest.testmod()"
   ]
  },
  {
   "cell_type": "code",
   "execution_count": null,
   "metadata": {},
   "outputs": [],
   "source": []
  }
 ]
}