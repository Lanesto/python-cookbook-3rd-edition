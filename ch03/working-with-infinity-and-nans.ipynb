{
 "metadata": {
  "language_info": {
   "codemirror_mode": {
    "name": "ipython",
    "version": 3
   },
   "file_extension": ".py",
   "mimetype": "text/x-python",
   "name": "python",
   "nbconvert_exporter": "python",
   "pygments_lexer": "ipython3",
   "version": "3.9.1-final"
  },
  "orig_nbformat": 2,
  "kernelspec": {
   "name": "python3",
   "display_name": "Python 3",
   "language": "python"
  }
 },
 "nbformat": 4,
 "nbformat_minor": 2,
 "cells": [
  {
   "cell_type": "code",
   "execution_count": 1,
   "metadata": {},
   "outputs": [],
   "source": [
    "%load_ext pycodestyle_magic\n",
    "%load_ext mypy_ipython\n",
    "%pycodestyle_on"
   ]
  },
  {
   "cell_type": "code",
   "execution_count": 2,
   "metadata": {},
   "outputs": [],
   "source": [
    "import doctest"
   ]
  },
  {
   "cell_type": "code",
   "execution_count": 3,
   "metadata": {},
   "outputs": [
    {
     "output_type": "execute_result",
     "data": {
      "text/plain": [
       "TestResults(failed=0, attempted=21)"
      ]
     },
     "metadata": {},
     "execution_count": 3
    }
   ],
   "source": [
    "import math\n",
    "\n",
    "\"\"\"\n",
    "\n",
    ">>> a = float('inf')\n",
    ">>> b = float('-inf')\n",
    ">>> c = float('nan')\n",
    ">>> a\n",
    "inf\n",
    ">>> b\n",
    "-inf\n",
    ">>> c\n",
    "nan\n",
    ">>> math.isinf(a)\n",
    "True\n",
    ">>> math.isinf(b)\n",
    "True\n",
    ">>> math.isnan(c)\n",
    "True\n",
    ">>> a + 45\n",
    "inf\n",
    ">>> a * 10\n",
    "inf\n",
    ">>> 10 / a\n",
    "0.0\n",
    ">>> a / a\n",
    "nan\n",
    ">>> a + b\n",
    "nan\n",
    ">>> c + 23\n",
    "nan\n",
    ">>> c / 2\n",
    "nan\n",
    ">>> c * 2\n",
    "nan\n",
    ">>> math.sqrt(c)\n",
    "nan\n",
    ">>> d = float('nan')\n",
    ">>> c == d\n",
    "False\n",
    ">>> c is d\n",
    "False\n",
    "\"\"\"\n",
    "\n",
    "doctest.testmod()"
   ]
  },
  {
   "cell_type": "code",
   "execution_count": null,
   "metadata": {},
   "outputs": [],
   "source": []
  },
  {
   "cell_type": "code",
   "execution_count": null,
   "metadata": {},
   "outputs": [],
   "source": []
  }
 ]
}