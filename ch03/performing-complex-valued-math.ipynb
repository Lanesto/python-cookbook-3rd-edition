{
 "metadata": {
  "language_info": {
   "codemirror_mode": {
    "name": "ipython",
    "version": 3
   },
   "file_extension": ".py",
   "mimetype": "text/x-python",
   "name": "python",
   "nbconvert_exporter": "python",
   "pygments_lexer": "ipython3",
   "version": "3.9.1-final"
  },
  "orig_nbformat": 2,
  "kernelspec": {
   "name": "python3",
   "display_name": "Python 3",
   "language": "python"
  }
 },
 "nbformat": 4,
 "nbformat_minor": 2,
 "cells": [
  {
   "cell_type": "code",
   "execution_count": 1,
   "metadata": {},
   "outputs": [],
   "source": [
    "%load_ext pycodestyle_magic\n",
    "%load_ext mypy_ipython\n",
    "%pycodestyle_on"
   ]
  },
  {
   "cell_type": "code",
   "execution_count": 2,
   "metadata": {},
   "outputs": [],
   "source": [
    "import doctest"
   ]
  },
  {
   "cell_type": "code",
   "execution_count": 3,
   "metadata": {},
   "outputs": [
    {
     "output_type": "execute_result",
     "data": {
      "text/plain": [
       "TestResults(failed=0, attempted=13)"
      ]
     },
     "metadata": {},
     "execution_count": 3
    }
   ],
   "source": [
    "import cmath\n",
    "\n",
    "\"\"\"\n",
    "\n",
    ">>> a = complex(2, 4)\n",
    ">>> b = 3 - 5j\n",
    ">>> a\n",
    "(2+4j)\n",
    ">>> b\n",
    "(3-5j)\n",
    ">>> a.real, a.imag\n",
    "(2.0, 4.0)\n",
    ">>> a.conjugate()\n",
    "(2-4j)\n",
    ">>> a + b\n",
    "(5-1j)\n",
    ">>> a * b\n",
    "(26+2j)\n",
    ">>> a / b\n",
    "(-0.4117647058823529+0.6470588235294118j)\n",
    ">>> abs(a)\n",
    "4.47213595499958\n",
    ">>> cmath.sin(a)\n",
    "(24.83130584894638-11.356612711218173j)\n",
    ">>> cmath.cos(a)\n",
    "(-11.36423470640106-24.814651485634183j)\n",
    ">>> cmath.exp(a)\n",
    "(-4.829809383269385-5.5920560936409816j)\n",
    "\"\"\"\n",
    "\n",
    "doctest.testmod()"
   ]
  },
  {
   "cell_type": "code",
   "execution_count": 4,
   "metadata": {},
   "outputs": [
    {
     "output_type": "execute_result",
     "data": {
      "text/plain": [
       "TestResults(failed=0, attempted=4)"
      ]
     },
     "metadata": {},
     "execution_count": 4
    }
   ],
   "source": [
    "import numpy as np\n",
    "\n",
    "\"\"\"\n",
    "\n",
    ">>> a = np.array([2+3j, 4+5j, 6-7j, 8+9j])\n",
    ">>> a\n",
    "array([2.+3.j, 4.+5.j, 6.-7.j, 8.+9.j])\n",
    ">>> a + 2\n",
    "array([ 4.+3.j,  6.+5.j,  8.-7.j, 10.+9.j])\n",
    ">>> np.sin(a)\n",
    "array([   9.15449915  -4.16890696j,  -56.16227422 -48.50245524j,\n",
    "       -153.20827755-526.47684926j, 4008.42651446-589.49948373j])\n",
    "\"\"\"\n",
    "\n",
    "doctest.testmod()"
   ]
  },
  {
   "cell_type": "code",
   "execution_count": 5,
   "metadata": {},
   "outputs": [
    {
     "output_type": "execute_result",
     "data": {
      "text/plain": [
       "TestResults(failed=0, attempted=2)"
      ]
     },
     "metadata": {},
     "execution_count": 5
    }
   ],
   "source": [
    "import math\n",
    "import cmath\n",
    "\n",
    "\"\"\"\n",
    "\n",
    ">>> math.sqrt(-1)\n",
    "Traceback (most recent call last):\n",
    "    ...\n",
    "ValueError: math domain error\n",
    ">>> cmath.sqrt(-1)\n",
    "1j\n",
    "\"\"\"\n",
    "\n",
    "doctest.testmod()"
   ]
  },
  {
   "cell_type": "code",
   "execution_count": null,
   "metadata": {},
   "outputs": [],
   "source": []
  }
 ]
}