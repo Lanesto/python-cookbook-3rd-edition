{
 "metadata": {
  "language_info": {
   "codemirror_mode": {
    "name": "ipython",
    "version": 3
   },
   "file_extension": ".py",
   "mimetype": "text/x-python",
   "name": "python",
   "nbconvert_exporter": "python",
   "pygments_lexer": "ipython3",
   "version": "3.9.1-final"
  },
  "orig_nbformat": 2,
  "kernelspec": {
   "name": "python3",
   "display_name": "Python 3",
   "language": "python"
  }
 },
 "nbformat": 4,
 "nbformat_minor": 2,
 "cells": [
  {
   "cell_type": "code",
   "execution_count": 1,
   "metadata": {},
   "outputs": [],
   "source": [
    "%load_ext pycodestyle_magic\n",
    "%load_ext mypy_ipython\n",
    "%pycodestyle_on"
   ]
  },
  {
   "cell_type": "code",
   "execution_count": 2,
   "metadata": {},
   "outputs": [],
   "source": [
    "import doctest"
   ]
  },
  {
   "cell_type": "code",
   "execution_count": 3,
   "metadata": {},
   "outputs": [
    {
     "output_type": "execute_result",
     "data": {
      "text/plain": [
       "TestResults(failed=0, attempted=13)"
      ]
     },
     "metadata": {},
     "execution_count": 3
    }
   ],
   "source": [
    "import numpy as np\n",
    "import numpy.linalg as la\n",
    "\n",
    "\"\"\"\n",
    "\n",
    ">>> m = np.matrix([[1, -2, 3], [0, 4, 5], [7, 8, -9]])\n",
    ">>> m\n",
    "matrix([[ 1, -2,  3],\n",
    "        [ 0,  4,  5],\n",
    "        [ 7,  8, -9]])\n",
    ">>> m.T\n",
    "matrix([[ 1,  0,  7],\n",
    "        [-2,  4,  8],\n",
    "        [ 3,  5, -9]])\n",
    ">>> m.I\n",
    "matrix([[ 0.33043478, -0.02608696,  0.09565217],\n",
    "        [-0.15217391,  0.13043478,  0.02173913],\n",
    "        [ 0.12173913,  0.09565217, -0.0173913 ]])\n",
    ">>> v = np.matrix([[2], [3], [4]])\n",
    ">>> v\n",
    "matrix([[2],\n",
    "        [3],\n",
    "        [4]])\n",
    ">>> m * v\n",
    "matrix([[ 8],\n",
    "        [32],\n",
    "        [ 2]])\n",
    ">>> la.det(m)\n",
    "-229.99999999999983\n",
    ">>> la.eigvals(m)\n",
    "array([-13.11474312,   2.75956154,   6.35518158])\n",
    ">>> x = la.solve(m, v)\n",
    ">>> x\n",
    "matrix([[0.96521739],\n",
    "        [0.17391304],\n",
    "        [0.46086957]])\n",
    ">>> m * x\n",
    "matrix([[2.],\n",
    "        [3.],\n",
    "        [4.]])\n",
    ">>> v\n",
    "matrix([[2],\n",
    "        [3],\n",
    "        [4]])\n",
    "\"\"\"\n",
    "\n",
    "doctest.testmod()"
   ]
  },
  {
   "cell_type": "code",
   "execution_count": null,
   "metadata": {},
   "outputs": [],
   "source": []
  }
 ]
}