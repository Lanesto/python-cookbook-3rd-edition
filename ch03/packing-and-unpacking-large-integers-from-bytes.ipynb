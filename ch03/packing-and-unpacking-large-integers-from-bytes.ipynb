{
 "metadata": {
  "language_info": {
   "codemirror_mode": {
    "name": "ipython",
    "version": 3
   },
   "file_extension": ".py",
   "mimetype": "text/x-python",
   "name": "python",
   "nbconvert_exporter": "python",
   "pygments_lexer": "ipython3",
   "version": "3.9.1-final"
  },
  "orig_nbformat": 2,
  "kernelspec": {
   "name": "python3",
   "display_name": "Python 3",
   "language": "python"
  }
 },
 "nbformat": 4,
 "nbformat_minor": 2,
 "cells": [
  {
   "cell_type": "code",
   "execution_count": 1,
   "metadata": {},
   "outputs": [],
   "source": [
    "%load_ext pycodestyle_magic\n",
    "%load_ext mypy_ipython\n",
    "%pycodestyle_on"
   ]
  },
  {
   "cell_type": "code",
   "execution_count": 2,
   "metadata": {},
   "outputs": [],
   "source": [
    "import doctest"
   ]
  },
  {
   "cell_type": "code",
   "execution_count": 3,
   "metadata": {},
   "outputs": [
    {
     "output_type": "execute_result",
     "data": {
      "text/plain": [
       "TestResults(failed=0, attempted=7)"
      ]
     },
     "metadata": {},
     "execution_count": 3
    }
   ],
   "source": [
    "\"\"\"\n",
    "\n",
    ">>> data = b'\\\\x00\\\\x124V\\\\x00x\\\\x90\\\\xab\\\\x00\\\\xcd\\\\xef\\\\x01\\\\x00#\\\\x004'\n",
    ">>> len(data)\n",
    "16\n",
    ">>> int.from_bytes(data, 'little')\n",
    "69120565665751139577663547927094891008\n",
    ">>> int.from_bytes(data, 'big')\n",
    "94522842520747284487117727783387188\n",
    ">>> x = 94522842520747284487117727783387188\n",
    ">>> x.to_bytes(16, 'big')\n",
    "b'\\\\x00\\\\x124V\\\\x00x\\\\x90\\\\xab\\\\x00\\\\xcd\\\\xef\\\\x01\\\\x00#\\\\x004'\n",
    ">>> x.to_bytes(16, 'little')\n",
    "b'4\\\\x00#\\\\x00\\\\x01\\\\xef\\\\xcd\\\\x00\\\\xab\\\\x90x\\\\x00V4\\\\x12\\\\x00'\n",
    "\"\"\"\n",
    "\n",
    "doctest.testmod()"
   ]
  },
  {
   "cell_type": "code",
   "execution_count": 4,
   "metadata": {},
   "outputs": [
    {
     "output_type": "execute_result",
     "data": {
      "text/plain": [
       "TestResults(failed=0, attempted=12)"
      ]
     },
     "metadata": {},
     "execution_count": 4
    }
   ],
   "source": [
    "import struct\n",
    "\n",
    "\"\"\"\n",
    "\n",
    ">>> data = b'\\\\x00\\\\x124V\\\\x00x\\\\x90\\\\xab\\\\x00\\\\xcd\\\\xef\\\\x01\\\\x00#\\\\x004'\n",
    ">>> hi, lo = struct.unpack('>QQ', data)\n",
    ">>> (hi  << 64) + lo\n",
    "94522842520747284487117727783387188\n",
    ">>> x = 0x01020304\n",
    ">>> x.to_bytes(4, 'big')\n",
    "b'\\\\x01\\\\x02\\\\x03\\\\x04'\n",
    ">>> x.to_bytes(4, 'little')\n",
    "b'\\\\x04\\\\x03\\\\x02\\\\x01'\n",
    ">>> x = 523 ** 23\n",
    ">>> x\n",
    "335381300113661875107536852714019056160355655333978849017944067\n",
    ">>> x.to_bytes(16, 'little')\n",
    "Traceback (most recent call last):\n",
    "...\n",
    "OverflowError: int too big to convert\n",
    ">>> nbytes, rem = divmod(x.bit_length(), 8)\n",
    ">>> nbytes = (nbytes + 1) if (rem > 0) else nbytes\n",
    ">>> x.to_bytes(nbytes, 'little')\n",
    "b'\\\\x03X\\\\xf1\\\\x82iT\\\\x96\\\\xac\\\\xc7c\\\\x16\\\\xf3\\\\xb9\\\\xcf\\\\x18\\\\xee\\\\xec\\\\x91\\\\xd1\\\\x98\\\\xa2\\\\xc8\\\\xd9R\\\\xb5\\\\xd0'\n",
    "\"\"\"\n",
    "\n",
    "doctest.testmod()"
   ]
  },
  {
   "cell_type": "code",
   "execution_count": null,
   "metadata": {},
   "outputs": [],
   "source": []
  }
 ]
}