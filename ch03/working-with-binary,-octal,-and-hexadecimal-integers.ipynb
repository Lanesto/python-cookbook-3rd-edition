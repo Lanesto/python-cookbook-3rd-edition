{
 "metadata": {
  "language_info": {
   "codemirror_mode": {
    "name": "ipython",
    "version": 3
   },
   "file_extension": ".py",
   "mimetype": "text/x-python",
   "name": "python",
   "nbconvert_exporter": "python",
   "pygments_lexer": "ipython3",
   "version": "3.9.1-final"
  },
  "orig_nbformat": 2,
  "kernelspec": {
   "name": "python3",
   "display_name": "Python 3",
   "language": "python"
  }
 },
 "nbformat": 4,
 "nbformat_minor": 2,
 "cells": [
  {
   "cell_type": "code",
   "execution_count": 1,
   "metadata": {},
   "outputs": [],
   "source": [
    "%load_ext pycodestyle_magic\n",
    "%load_ext mypy_ipython\n",
    "%pycodestyle_on"
   ]
  },
  {
   "cell_type": "code",
   "execution_count": 2,
   "metadata": {},
   "outputs": [],
   "source": [
    "import doctest"
   ]
  },
  {
   "cell_type": "code",
   "execution_count": 3,
   "metadata": {},
   "outputs": [
    {
     "output_type": "execute_result",
     "data": {
      "text/plain": [
       "TestResults(failed=0, attempted=14)"
      ]
     },
     "metadata": {},
     "execution_count": 3
    }
   ],
   "source": [
    "\"\"\"\n",
    "\n",
    ">>> x = 1234\n",
    ">>> bin(x)\n",
    "'0b10011010010'\n",
    ">>> oct(x)\n",
    "'0o2322'\n",
    ">>> hex(x)\n",
    "'0x4d2'\n",
    ">>> format(x, 'b')\n",
    "'10011010010'\n",
    ">>> format(x, 'o')\n",
    "'2322'\n",
    ">>> format(x, 'x')\n",
    "'4d2'\n",
    ">>> x = -1234\n",
    ">>> format(x, 'b')\n",
    "'-10011010010'\n",
    ">>> format(x, 'x')\n",
    "'-4d2'\n",
    ">>> format(2**32 + x, 'b')\n",
    "'11111111111111111111101100101110'\n",
    ">>> format(2**32 + x, 'x')\n",
    "'fffffb2e'\n",
    ">>> int('4d2', 16)\n",
    "1234\n",
    ">>> int('10011010010', 2)\n",
    "1234\n",
    "\"\"\"\n",
    "\n",
    "doctest.testmod()"
   ]
  },
  {
   "cell_type": "code",
   "execution_count": null,
   "metadata": {},
   "outputs": [],
   "source": []
  }
 ]
}