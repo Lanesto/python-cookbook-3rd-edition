{
 "metadata": {
  "language_info": {
   "codemirror_mode": {
    "name": "ipython",
    "version": 3
   },
   "file_extension": ".py",
   "mimetype": "text/x-python",
   "name": "python",
   "nbconvert_exporter": "python",
   "pygments_lexer": "ipython3",
   "version": "3.9.1-final"
  },
  "orig_nbformat": 2,
  "kernelspec": {
   "name": "python3",
   "display_name": "Python 3",
   "language": "python"
  }
 },
 "nbformat": 4,
 "nbformat_minor": 2,
 "cells": [
  {
   "cell_type": "code",
   "execution_count": 1,
   "metadata": {},
   "outputs": [],
   "source": [
    "%load_ext pycodestyle_magic\n",
    "%load_ext mypy_ipython\n",
    "%pycodestyle_on"
   ]
  },
  {
   "cell_type": "code",
   "execution_count": 2,
   "metadata": {},
   "outputs": [],
   "source": [
    "import doctest"
   ]
  },
  {
   "cell_type": "code",
   "execution_count": 3,
   "metadata": {},
   "outputs": [
    {
     "output_type": "execute_result",
     "data": {
      "text/plain": [
       "TestResults(failed=0, attempted=15)"
      ]
     },
     "metadata": {},
     "execution_count": 3
    }
   ],
   "source": [
    "import numpy as np\n",
    "\n",
    "\"\"\"\n",
    "\n",
    ">>> x = [1, 2, 3, 4]\n",
    ">>> y = [5, 6, 7, 8]\n",
    ">>> x * 2\n",
    "[1, 2, 3, 4, 1, 2, 3, 4]\n",
    ">>> x + 10\n",
    "Traceback (most recent call last):\n",
    "    ...\n",
    "TypeError: can only concatenate list (not \"int\") to list\n",
    ">>> x + y\n",
    "[1, 2, 3, 4, 5, 6, 7, 8]\n",
    ">>> ax = np.array(x)\n",
    ">>> ay = np.array(y)\n",
    ">>> ax * 2\n",
    "array([2, 4, 6, 8])\n",
    ">>> ax + 10\n",
    "array([11, 12, 13, 14])\n",
    ">>> ax + ay\n",
    "array([ 6,  8, 10, 12])\n",
    ">>> ax * ay\n",
    "array([ 5, 12, 21, 32])\n",
    ">>> f = lambda x: 3 * (x ** 2) - 2 * x + 7\n",
    ">>> f(ax)\n",
    "array([ 8, 15, 28, 47])\n",
    ">>> np.sqrt(ax)\n",
    "array([1.        , 1.41421356, 1.73205081, 2.        ])\n",
    ">>> np.cos(ax)\n",
    "array([ 0.54030231, -0.41614684, -0.9899925 , -0.65364362])\n",
    "\"\"\"\n",
    "\n",
    "doctest.testmod()"
   ]
  },
  {
   "cell_type": "code",
   "execution_count": 4,
   "metadata": {},
   "outputs": [
    {
     "output_type": "execute_result",
     "data": {
      "text/plain": [
       "TestResults(failed=0, attempted=5)"
      ]
     },
     "metadata": {},
     "execution_count": 4
    }
   ],
   "source": [
    "import numpy as np\n",
    "\n",
    "\"\"\"\n",
    "\n",
    ">>> grid = np.zeros(shape=(10000, 10000), dtype=float)\n",
    ">>> grid  # doctest: +ELLIPSIS\n",
    "array([[0., 0., 0., ..., 0., 0., 0.],\n",
    "       [0., 0., 0., ..., 0., 0., 0.],\n",
    "       [0., 0., 0., ..., 0., 0., 0.],\n",
    "       ...,\n",
    "       [0., 0., 0., ..., 0., 0., 0.],\n",
    "       [0., 0., 0., ..., 0., 0., 0.],\n",
    "       [0., 0., 0., ..., 0., 0., 0.]])\n",
    ">>> grid += 10\n",
    ">>> grid\n",
    "array([[10., 10., 10., ..., 10., 10., 10.],\n",
    "       [10., 10., 10., ..., 10., 10., 10.],\n",
    "       [10., 10., 10., ..., 10., 10., 10.],\n",
    "       ...,\n",
    "       [10., 10., 10., ..., 10., 10., 10.],\n",
    "       [10., 10., 10., ..., 10., 10., 10.],\n",
    "       [10., 10., 10., ..., 10., 10., 10.]])\n",
    ">>> np.sin(grid)\n",
    "array([[-0.54402111, -0.54402111, -0.54402111, ..., -0.54402111,\n",
    "        -0.54402111, -0.54402111],\n",
    "       [-0.54402111, -0.54402111, -0.54402111, ..., -0.54402111,\n",
    "        -0.54402111, -0.54402111],\n",
    "       [-0.54402111, -0.54402111, -0.54402111, ..., -0.54402111,\n",
    "        -0.54402111, -0.54402111],\n",
    "       ...,\n",
    "       [-0.54402111, -0.54402111, -0.54402111, ..., -0.54402111,\n",
    "        -0.54402111, -0.54402111],\n",
    "       [-0.54402111, -0.54402111, -0.54402111, ..., -0.54402111,\n",
    "        -0.54402111, -0.54402111],\n",
    "       [-0.54402111, -0.54402111, -0.54402111, ..., -0.54402111,\n",
    "        -0.54402111, -0.54402111]])\n",
    "\"\"\"\n",
    "\n",
    "doctest.testmod()"
   ]
  },
  {
   "cell_type": "code",
   "execution_count": 5,
   "metadata": {},
   "outputs": [
    {
     "output_type": "execute_result",
     "data": {
      "text/plain": [
       "TestResults(failed=0, attempted=11)"
      ]
     },
     "metadata": {},
     "execution_count": 5
    }
   ],
   "source": [
    "import numpy as np\n",
    "\n",
    "\"\"\"\n",
    "\n",
    ">>> a = np.array([[1, 2, 3, 4], [5, 6, 7, 8], [9, 10, 11, 12]])\n",
    ">>> a\n",
    "array([[ 1,  2,  3,  4],\n",
    "       [ 5,  6,  7,  8],\n",
    "       [ 9, 10, 11, 12]])\n",
    ">>> a[1]\n",
    "array([5, 6, 7, 8])\n",
    ">>> a[:, 1]\n",
    "array([ 2,  6, 10])\n",
    ">>> a[1:3, 1:3]\n",
    "array([[ 6,  7],\n",
    "       [10, 11]])\n",
    ">>> a[1:3, 1:3] += 10\n",
    ">>> a\n",
    "array([[ 1,  2,  3,  4],\n",
    "       [ 5, 16, 17,  8],\n",
    "       [ 9, 20, 21, 12]])\n",
    ">>> a + [100, 101, 102, 103]\n",
    "array([[101, 103, 105, 107],\n",
    "       [105, 117, 119, 111],\n",
    "       [109, 121, 123, 115]])\n",
    ">>> a\n",
    "array([[ 1,  2,  3,  4],\n",
    "       [ 5, 16, 17,  8],\n",
    "       [ 9, 20, 21, 12]])\n",
    ">>> np.where(a < 10, a, 10)\n",
    "array([[ 1,  2,  3,  4],\n",
    "       [ 5, 10, 10,  8],\n",
    "       [ 9, 10, 10, 10]])\n",
    ">>> a < 10\n",
    "array([[ True,  True,  True,  True],\n",
    "       [ True, False, False,  True],\n",
    "       [ True, False, False, False]])\n",
    "\"\"\"\n",
    "\n",
    "doctest.testmod()"
   ]
  },
  {
   "cell_type": "code",
   "execution_count": null,
   "metadata": {},
   "outputs": [],
   "source": []
  }
 ]
}