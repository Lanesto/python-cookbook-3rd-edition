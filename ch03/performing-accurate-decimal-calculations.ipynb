{
 "metadata": {
  "language_info": {
   "codemirror_mode": {
    "name": "ipython",
    "version": 3
   },
   "file_extension": ".py",
   "mimetype": "text/x-python",
   "name": "python",
   "nbconvert_exporter": "python",
   "pygments_lexer": "ipython3",
   "version": "3.9.1-final"
  },
  "orig_nbformat": 2,
  "kernelspec": {
   "name": "python3",
   "display_name": "Python 3",
   "language": "python"
  }
 },
 "nbformat": 4,
 "nbformat_minor": 2,
 "cells": [
  {
   "cell_type": "code",
   "execution_count": 1,
   "metadata": {},
   "outputs": [],
   "source": [
    "%load_ext pycodestyle_magic\n",
    "%load_ext mypy_ipython\n",
    "%pycodestyle_on"
   ]
  },
  {
   "cell_type": "code",
   "execution_count": 2,
   "metadata": {},
   "outputs": [],
   "source": [
    "import doctest"
   ]
  },
  {
   "cell_type": "code",
   "execution_count": 3,
   "metadata": {},
   "outputs": [
    {
     "output_type": "execute_result",
     "data": {
      "text/plain": [
       "TestResults(failed=0, attempted=14)"
      ]
     },
     "metadata": {},
     "execution_count": 3
    }
   ],
   "source": [
    "from decimal import Decimal, localcontext\n",
    "\n",
    "\"\"\"\n",
    "\n",
    ">>> a = 4.2\n",
    ">>> b = 2.1\n",
    ">>> a + b\n",
    "6.300000000000001\n",
    ">>> (a + b) == 6.3\n",
    "False\n",
    ">>> a = Decimal('4.2')\n",
    ">>> b = Decimal('2.1')\n",
    ">>> a + b\n",
    "Decimal('6.3')\n",
    ">>> print(a + b)\n",
    "6.3\n",
    ">>> (a + b) == Decimal('6.3')\n",
    "True\n",
    ">>> a = Decimal('1.3')\n",
    ">>> b = Decimal('1.7')\n",
    ">>> print(a / b)\n",
    "0.7647058823529411764705882353\n",
    ">>> with localcontext() as ctx:\n",
    "...     ctx.prec = 3\n",
    "...     print(a / b)\n",
    "0.765\n",
    ">>> with localcontext() as ctx:\n",
    "...     ctx.prec = 50\n",
    "...     print(a / b)\n",
    "0.76470588235294117647058823529411764705882352941176\n",
    "\"\"\"\n",
    "\n",
    "doctest.testmod()"
   ]
  },
  {
   "cell_type": "code",
   "execution_count": null,
   "metadata": {},
   "outputs": [],
   "source": []
  }
 ]
}