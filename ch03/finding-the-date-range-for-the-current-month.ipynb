{
 "metadata": {
  "language_info": {
   "codemirror_mode": {
    "name": "ipython",
    "version": 3
   },
   "file_extension": ".py",
   "mimetype": "text/x-python",
   "name": "python",
   "nbconvert_exporter": "python",
   "pygments_lexer": "ipython3",
   "version": "3.9.1-final"
  },
  "orig_nbformat": 2,
  "kernelspec": {
   "name": "python3",
   "display_name": "Python 3",
   "language": "python"
  }
 },
 "nbformat": 4,
 "nbformat_minor": 2,
 "cells": [
  {
   "cell_type": "code",
   "execution_count": 1,
   "metadata": {},
   "outputs": [],
   "source": [
    "%load_ext pycodestyle_magic\n",
    "%load_ext mypy_ipython\n",
    "%pycodestyle_on"
   ]
  },
  {
   "cell_type": "code",
   "execution_count": 2,
   "metadata": {},
   "outputs": [],
   "source": [
    "import doctest"
   ]
  },
  {
   "cell_type": "code",
   "execution_count": 3,
   "metadata": {},
   "outputs": [
    {
     "output_type": "execute_result",
     "data": {
      "text/plain": [
       "TestResults(failed=0, attempted=5)"
      ]
     },
     "metadata": {},
     "execution_count": 3
    }
   ],
   "source": [
    "from datetime import datetime, date, timedelta\n",
    "import calendar\n",
    "\n",
    "\n",
    "def get_month_range(start_date=None):\n",
    "    if start_date is None:\n",
    "        start_date = date.today()\n",
    "\n",
    "    start_date = start_date.replace(day=1)\n",
    "    _, days_in_month = calendar.monthrange(start_date.year, start_date.month)\n",
    "    end_date = start_date + timedelta(days=days_in_month)\n",
    "    return (start_date, end_date)\n",
    "\n",
    "\n",
    "def date_range(start, stop, step):\n",
    "    while start < stop:\n",
    "        yield start\n",
    "        start += step\n",
    "\n",
    "\n",
    "\"\"\"\n",
    "\n",
    ">>> a_day = timedelta(days=1)\n",
    ">>> today = datetime(2021, 1, 4)\n",
    ">>> first_day, last_day = get_month_range(start_date=today)\n",
    ">>> while first_day < last_day:  # doctest: +ELLIPSIS\n",
    "...     print(first_day)\n",
    "...     first_day += a_day\n",
    "2021-01-01 00:00:00\n",
    "2021-01-02 00:00:00\n",
    "...\n",
    "2021-01-30 00:00:00\n",
    "2021-01-31 00:00:00\n",
    ">>> for d in date_range(datetime(2012, 9, 1), datetime(2012, 10, 1), timedelta(hours=6)):  # doctest: +ELLIPSIS\n",
    "...     print(d)\n",
    "2012-09-01 00:00:00\n",
    "2012-09-01 06:00:00\n",
    "2012-09-01 12:00:00\n",
    "...\n",
    "2012-09-30 06:00:00\n",
    "2012-09-30 12:00:00\n",
    "2012-09-30 18:00:00\n",
    "\"\"\"  # noqa: E501\n",
    "\n",
    "doctest.testmod()"
   ]
  }
 ]
}