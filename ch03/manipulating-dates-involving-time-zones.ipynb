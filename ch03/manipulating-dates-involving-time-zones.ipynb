{
 "metadata": {
  "language_info": {
   "codemirror_mode": {
    "name": "ipython",
    "version": 3
   },
   "file_extension": ".py",
   "mimetype": "text/x-python",
   "name": "python",
   "nbconvert_exporter": "python",
   "pygments_lexer": "ipython3",
   "version": "3.9.1-final"
  },
  "orig_nbformat": 2,
  "kernelspec": {
   "name": "python3",
   "display_name": "Python 3",
   "language": "python"
  }
 },
 "nbformat": 4,
 "nbformat_minor": 2,
 "cells": [
  {
   "cell_type": "code",
   "execution_count": 1,
   "metadata": {},
   "outputs": [
    {
     "output_type": "stream",
     "name": "stdout",
     "text": [
      "Requirement already satisfied: pytz in /usr/local/lib/python3.9/site-packages (2020.5)\n"
     ]
    }
   ],
   "source": [
    "!pip install pytz"
   ]
  },
  {
   "cell_type": "code",
   "execution_count": 2,
   "metadata": {},
   "outputs": [],
   "source": [
    "%load_ext pycodestyle_magic\n",
    "%load_ext mypy_ipython\n",
    "%pycodestyle_on"
   ]
  },
  {
   "cell_type": "code",
   "execution_count": 3,
   "metadata": {},
   "outputs": [],
   "source": [
    "import doctest"
   ]
  },
  {
   "cell_type": "code",
   "execution_count": 4,
   "metadata": {},
   "outputs": [
    {
     "output_type": "execute_result",
     "data": {
      "text/plain": [
       "TestResults(failed=0, attempted=15)"
      ]
     },
     "metadata": {},
     "execution_count": 4
    }
   ],
   "source": [
    "from datetime import datetime, timedelta\n",
    "from pytz import timezone, country_timezones\n",
    "\n",
    "\"\"\"\n",
    "\n",
    ">>> d = datetime(2012, 12, 21, 9, 30, 0)\n",
    ">>> print(d)\n",
    "2012-12-21 09:30:00\n",
    ">>> central = timezone('US/Central')\n",
    ">>> loc_d = central.localize(d)\n",
    ">>> print(loc_d)\n",
    "2012-12-21 09:30:00-06:00\n",
    ">>> bang_d = loc_d.astimezone(timezone('Asia/Kolkata'))\n",
    ">>> print(bang_d)\n",
    "2012-12-21 21:00:00+05:30\n",
    ">>> d = datetime(2013, 3, 10, 1, 45)\n",
    ">>> loc_d = central.localize(d)\n",
    ">>> print(loc_d)\n",
    "2013-03-10 01:45:00-06:00\n",
    ">>> later = loc_d + timedelta(minutes=30)\n",
    ">>> print(later)  # wrong!\n",
    "2013-03-10 02:15:00-06:00\n",
    ">>> later = central.normalize(loc_d + timedelta(minutes=30))\n",
    ">>> print(later)  # Daylight saving time\n",
    "2013-03-10 03:15:00-05:00\n",
    ">>> country_timezones['KR']\n",
    "['Asia/Seoul']\n",
    "\"\"\"\n",
    "\n",
    "doctest.testmod()"
   ]
  },
  {
   "cell_type": "code",
   "execution_count": null,
   "metadata": {},
   "outputs": [],
   "source": []
  }
 ]
}