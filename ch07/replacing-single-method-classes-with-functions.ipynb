{
 "metadata": {
  "language_info": {
   "codemirror_mode": {
    "name": "ipython",
    "version": 3
   },
   "file_extension": ".py",
   "mimetype": "text/x-python",
   "name": "python",
   "nbconvert_exporter": "python",
   "pygments_lexer": "ipython3",
   "version": "3.9.1-final"
  },
  "orig_nbformat": 2,
  "kernelspec": {
   "name": "python3",
   "display_name": "Python 3",
   "language": "python"
  }
 },
 "nbformat": 4,
 "nbformat_minor": 2,
 "cells": [
  {
   "cell_type": "code",
   "execution_count": 1,
   "metadata": {},
   "outputs": [],
   "source": [
    "%load_ext pycodestyle_magic\n",
    "%load_ext mypy_ipython\n",
    "%pycodestyle_on"
   ]
  },
  {
   "cell_type": "code",
   "execution_count": 2,
   "metadata": {},
   "outputs": [],
   "source": [
    "import doctest"
   ]
  },
  {
   "cell_type": "code",
   "execution_count": 3,
   "metadata": {},
   "outputs": [
    {
     "output_type": "stream",
     "name": "stdout",
     "text": [
      "{\n  \"args\": {\n    \"f\": \"sl1c1v\", \n    \"s\": \"IBM,AAPL,FB\"\n  }, \n  \"headers\": {\n"
     ]
    }
   ],
   "source": [
    "from urllib.request import urlopen\n",
    "\n",
    "\n",
    "class URLTemplate:\n",
    "\n",
    "    def __init__(self, template):\n",
    "        self.template = template\n",
    "\n",
    "    def open(self, **kwargs):\n",
    "        return urlopen(self.template.format_map(kwargs))\n",
    "\n",
    "\n",
    "httpbin = URLTemplate('http://httpbin.org/get?s={names}&f={fields}')\n",
    "for n, line in enumerate(httpbin.open(names='IBM,AAPL,FB', fields='sl1c1v')):\n",
    "    if n > 5:\n",
    "        break\n",
    "\n",
    "    print(line.decode('utf-8'), end='')"
   ]
  },
  {
   "cell_type": "code",
   "execution_count": 4,
   "metadata": {},
   "outputs": [
    {
     "output_type": "stream",
     "name": "stdout",
     "text": [
      "{\n  \"args\": {\n    \"f\": \"sl1c1v\", \n    \"s\": \"IBM,AAPL,FB\"\n  }, \n  \"headers\": {\n"
     ]
    }
   ],
   "source": [
    "def urltemplate(template):\n",
    "    def opener(**kwargs):\n",
    "        return urlopen(template.format_map(kwargs))\n",
    "\n",
    "    return opener\n",
    "\n",
    "\n",
    "httpbin = urltemplate('http://httpbin.org/get?s={names}&f={fields}')\n",
    "for n, line in enumerate(httpbin(names='IBM,AAPL,FB', fields='sl1c1v')):\n",
    "    if n > 5:\n",
    "        break\n",
    "\n",
    "    print(line.decode('utf-8'), end='')"
   ]
  }
 ]
}