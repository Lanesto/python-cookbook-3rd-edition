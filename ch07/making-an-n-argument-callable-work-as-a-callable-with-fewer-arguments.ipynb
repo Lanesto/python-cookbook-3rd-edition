{
 "metadata": {
  "language_info": {
   "codemirror_mode": {
    "name": "ipython",
    "version": 3
   },
   "file_extension": ".py",
   "mimetype": "text/x-python",
   "name": "python",
   "nbconvert_exporter": "python",
   "pygments_lexer": "ipython3",
   "version": "3.9.1-final"
  },
  "orig_nbformat": 2,
  "kernelspec": {
   "name": "python3",
   "display_name": "Python 3",
   "language": "python"
  }
 },
 "nbformat": 4,
 "nbformat_minor": 2,
 "cells": [
  {
   "cell_type": "code",
   "execution_count": 1,
   "metadata": {},
   "outputs": [],
   "source": [
    "%load_ext pycodestyle_magic\n",
    "%load_ext mypy_ipython\n",
    "%pycodestyle_on"
   ]
  },
  {
   "cell_type": "code",
   "execution_count": 2,
   "metadata": {},
   "outputs": [],
   "source": [
    "import doctest"
   ]
  },
  {
   "cell_type": "code",
   "execution_count": 3,
   "metadata": {},
   "outputs": [
    {
     "output_type": "execute_result",
     "data": {
      "text/plain": [
       "TestResults(failed=0, attempted=4)"
      ]
     },
     "metadata": {},
     "execution_count": 3
    }
   ],
   "source": [
    "from functools import partial\n",
    "\n",
    "\n",
    "def spam(a, b, c, d):\n",
    "    print(a, b, c, d)\n",
    "\n",
    "\n",
    "\"\"\"\n",
    "\n",
    ">>> s1 = partial(spam, 1)\n",
    ">>> s1(2, 3, 4)\n",
    "1 2 3 4\n",
    ">>> s3 = partial(spam, 1, d=42)\n",
    ">>> s3(2, 3)\n",
    "1 2 3 42\n",
    "\"\"\"\n",
    "\n",
    "doctest.testmod()"
   ]
  },
  {
   "cell_type": "code",
   "execution_count": 4,
   "metadata": {},
   "outputs": [
    {
     "output_type": "execute_result",
     "data": {
      "text/plain": [
       "[Point(x=3, y=4), Point(x=1, y=2), Point(x=5, y=6), Point(x=7, y=8)]"
      ]
     },
     "metadata": {},
     "execution_count": 4
    }
   ],
   "source": [
    "import math\n",
    "from functools import partial\n",
    "from collections import namedtuple\n",
    "\n",
    "Point = namedtuple('Point', 'x y')\n",
    "\n",
    "\n",
    "def distance(a, b):\n",
    "    return math.hypot(b.x - a.x, b.y - a.y)\n",
    "\n",
    "\n",
    "origin = Point(4, 3)\n",
    "\n",
    "points = [(1, 2), (3, 4), (5, 6), (7, 8)]\n",
    "points = [Point(*p) for p in points]\n",
    "points.sort(key=partial(distance, origin))\n",
    "\n",
    "points"
   ]
  },
  {
   "cell_type": "code",
   "execution_count": 5,
   "metadata": {},
   "outputs": [
    {
     "output_type": "stream",
     "name": "stderr",
     "text": [
      "DEBUG:test:Got: 7\n"
     ]
    }
   ],
   "source": [
    "import logging\n",
    "from multiprocessing import Pool\n",
    "from functools import partial\n",
    "\n",
    "\n",
    "def report(result, log=None):\n",
    "    if log is not None:\n",
    "        log.debug(f'Got: {result!r}')\n",
    "\n",
    "\n",
    "def add(x, y):\n",
    "    return x + y\n",
    "\n",
    "\n",
    "logging.basicConfig(level=logging.DEBUG)\n",
    "log = logging.getLogger('test')\n",
    "\n",
    "p = Pool()\n",
    "p.apply_async(add, (3, 4), callback=partial(report, log=log))\n",
    "p.close()\n",
    "p.join()"
   ]
  }
 ]
}