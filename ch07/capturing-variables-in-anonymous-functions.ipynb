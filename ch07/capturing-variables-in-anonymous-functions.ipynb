{
 "metadata": {
  "language_info": {
   "codemirror_mode": {
    "name": "ipython",
    "version": 3
   },
   "file_extension": ".py",
   "mimetype": "text/x-python",
   "name": "python",
   "nbconvert_exporter": "python",
   "pygments_lexer": "ipython3",
   "version": "3.9.1-final"
  },
  "orig_nbformat": 2,
  "kernelspec": {
   "name": "python3",
   "display_name": "Python 3",
   "language": "python"
  }
 },
 "nbformat": 4,
 "nbformat_minor": 2,
 "cells": [
  {
   "cell_type": "code",
   "execution_count": 1,
   "metadata": {},
   "outputs": [],
   "source": [
    "%load_ext pycodestyle_magic\n",
    "%load_ext mypy_ipython\n",
    "%pycodestyle_on"
   ]
  },
  {
   "cell_type": "code",
   "execution_count": 2,
   "metadata": {},
   "outputs": [],
   "source": [
    "import doctest"
   ]
  },
  {
   "cell_type": "code",
   "execution_count": 3,
   "metadata": {},
   "outputs": [
    {
     "output_type": "execute_result",
     "data": {
      "text/plain": [
       "TestResults(failed=0, attempted=11)"
      ]
     },
     "metadata": {},
     "execution_count": 3
    }
   ],
   "source": [
    "\"\"\"\n",
    "\n",
    ">>> x = 10\n",
    ">>> a = lambda y: x + y\n",
    ">>> x = 20\n",
    ">>> b = lambda y: x + y\n",
    ">>> a(10)\n",
    "30\n",
    ">>> b(10)\n",
    "30\n",
    ">>> x = 5\n",
    ">>> a(1)\n",
    "6\n",
    ">>> c = lambda y, x=x: x + y\n",
    ">>> x = 10\n",
    ">>> c(5)\n",
    "10\n",
    "\"\"\"\n",
    "\n",
    "doctest.testmod()"
   ]
  },
  {
   "cell_type": "code",
   "execution_count": 4,
   "metadata": {},
   "outputs": [
    {
     "output_type": "execute_result",
     "data": {
      "text/plain": [
       "TestResults(failed=0, attempted=4)"
      ]
     },
     "metadata": {},
     "execution_count": 4
    }
   ],
   "source": [
    "\"\"\"\n",
    "\n",
    ">>> funcs = [lambda x: x+n for n in range(5)]\n",
    ">>> for f in funcs:\n",
    "...     print(f(0))\n",
    "4\n",
    "4\n",
    "4\n",
    "4\n",
    "4\n",
    ">>> funcs = [lambda x, n=n: x+n for n in range(5)]\n",
    ">>> for f in funcs:\n",
    "...     print(f(0))\n",
    "0\n",
    "1\n",
    "2\n",
    "3\n",
    "4\n",
    "\"\"\"\n",
    "\n",
    "doctest.testmod()"
   ]
  }
 ]
}