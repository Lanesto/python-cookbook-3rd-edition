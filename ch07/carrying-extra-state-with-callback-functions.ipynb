{
 "metadata": {
  "language_info": {
   "codemirror_mode": {
    "name": "ipython",
    "version": 3
   },
   "file_extension": ".py",
   "mimetype": "text/x-python",
   "name": "python",
   "nbconvert_exporter": "python",
   "pygments_lexer": "ipython3",
   "version": "3.9.1-final"
  },
  "orig_nbformat": 2,
  "kernelspec": {
   "name": "python3",
   "display_name": "Python 3",
   "language": "python"
  }
 },
 "nbformat": 4,
 "nbformat_minor": 2,
 "cells": [
  {
   "cell_type": "code",
   "execution_count": 1,
   "metadata": {},
   "outputs": [],
   "source": [
    "%load_ext pycodestyle_magic\n",
    "%load_ext mypy_ipython\n",
    "%pycodestyle_on"
   ]
  },
  {
   "cell_type": "code",
   "execution_count": 2,
   "metadata": {},
   "outputs": [],
   "source": [
    "import doctest"
   ]
  },
  {
   "cell_type": "code",
   "execution_count": 3,
   "metadata": {},
   "outputs": [
    {
     "output_type": "execute_result",
     "data": {
      "text/plain": [
       "TestResults(failed=0, attempted=3)"
      ]
     },
     "metadata": {},
     "execution_count": 3
    }
   ],
   "source": [
    "from functools import partial\n",
    "from operator import add\n",
    "\n",
    "\n",
    "def apply_async(func, args, *, callback):\n",
    "    result = func(*args)\n",
    "    callback(result)\n",
    "\n",
    "\n",
    "\"\"\"\n",
    "\n",
    ">>> report = partial(print, 'Got:')\n",
    ">>> apply_async(add, (2, 3), callback=report)\n",
    "Got: 5\n",
    ">>> apply_async(add, ('hello', 'world'), callback=report)\n",
    "Got: helloworld\n",
    "\"\"\"\n",
    "\n",
    "doctest.testmod()"
   ]
  },
  {
   "cell_type": "code",
   "execution_count": 4,
   "metadata": {},
   "outputs": [
    {
     "output_type": "execute_result",
     "data": {
      "text/plain": [
       "TestResults(failed=0, attempted=7)"
      ]
     },
     "metadata": {},
     "execution_count": 4
    }
   ],
   "source": [
    "from operator import add\n",
    "\n",
    "\n",
    "class Reporter:\n",
    "\n",
    "    def __init__(self):\n",
    "        self.sequence = 0\n",
    "\n",
    "    def handler(self, result):\n",
    "        self.sequence += 1\n",
    "        print(f'[{self.sequence}] Got: {result}')\n",
    "\n",
    "\n",
    "def apply_async(func, args, *, callback):\n",
    "    result = func(*args)\n",
    "    callback(result)\n",
    "\n",
    "\n",
    "def make_handler():\n",
    "    sequence = 0\n",
    "    while True:\n",
    "        result = yield  # came from .send()\n",
    "        sequence += 1\n",
    "        print(f'[{sequence}] Got: {result}')\n",
    "\n",
    "\n",
    "\"\"\"\n",
    "\n",
    ">>> r = Reporter()\n",
    ">>> apply_async(add, (2, 3), callback=r.handler)\n",
    "[1] Got: 5\n",
    ">>> apply_async(add, ('hello', 'world'), callback=r.handler)\n",
    "[2] Got: helloworld\n",
    ">>> h = make_handler()\n",
    ">>> next(h)\n",
    ">>> apply_async(add, (2, 3), callback=h.send)\n",
    "[1] Got: 5\n",
    ">>> apply_async(add, ('hello', 'world'), callback=h.send)\n",
    "[2] Got: helloworld\n",
    "\"\"\"\n",
    "\n",
    "doctest.testmod()"
   ]
  }
 ]
}