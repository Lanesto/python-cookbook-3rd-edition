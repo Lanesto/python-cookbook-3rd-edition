{
 "metadata": {
  "language_info": {
   "codemirror_mode": {
    "name": "ipython",
    "version": 3
   },
   "file_extension": ".py",
   "mimetype": "text/x-python",
   "name": "python",
   "nbconvert_exporter": "python",
   "pygments_lexer": "ipython3",
   "version": "3.9.1-final"
  },
  "orig_nbformat": 2,
  "kernelspec": {
   "name": "python3",
   "display_name": "Python 3",
   "language": "python"
  }
 },
 "nbformat": 4,
 "nbformat_minor": 2,
 "cells": [
  {
   "cell_type": "code",
   "execution_count": 1,
   "metadata": {},
   "outputs": [],
   "source": [
    "%load_ext pycodestyle_magic\n",
    "%load_ext mypy_ipython\n",
    "%pycodestyle_on"
   ]
  },
  {
   "cell_type": "code",
   "execution_count": 2,
   "metadata": {},
   "outputs": [],
   "source": [
    "import doctest"
   ]
  },
  {
   "cell_type": "code",
   "execution_count": 3,
   "metadata": {},
   "outputs": [
    {
     "output_type": "stream",
     "name": "stdout",
     "text": [
      "Real Python: Develop Data Visualization Interfaces in Python With Dash\nWed, 06 Jan 2021 14:00:00 +0000\nhttps://realpython.com/python-dash/\n\nStack Abuse: How to Access Index in Python's for Loop\nWed, 06 Jan 2021 13:35:00 +0000\nhttps://stackabuse.com/how-to-access-index-in-pythons-for-loop/\n\nLearn PyQt: Toggle &amp; AnimatedToggle — Toggle switch Widget QCheckBox replacement\nWed, 06 Jan 2021 12:04:00 +0000\nhttps://www.learnpyqt.com/widgets/pyqt-toggle-widget/\n\nCodementor: Python Programming Challenge - Validate ISBN-10 Number\nWed, 06 Jan 2021 11:52:30 +0000\nhttps://www.codementor.io/info658/python-programming-challenge-validate-isbn-10-number-1dvfbxmio5\n\nPython Pool: Is it Possible to Negate a Boolean in Python? [Answered]\nWed, 06 Jan 2021 08:52:42 +0000\nhttps://www.pythonpool.com/python-negate-boolean/?utm_source=rss&utm_medium=rss&utm_campaign=python-negate-boolean\n\nPython Bytes: #215 A Visual Introduction to NumPy\nWed, 06 Jan 2021 08:00:00 +0000\nhttps://pythonbytes.fm/episodes/show/215/a-visual-introduction-to-numpy\n\nBrett Cannon: Unravelling the import statement\nWed, 06 Jan 2021 05:34:25 +0000\nhttps://snarky.ca/unravelling-the-import-statement/\n\nListenData: Run SAS in Python without Installation\nWed, 06 Jan 2021 02:45:39 +0000\nhttps://www.listendata.com/2021/01/run-sas-in-python-without-installation.html\n\nPython Pool: Numpy Angle Explained With Examples\nWed, 06 Jan 2021 02:36:48 +0000\nhttps://www.pythonpool.com/numpy-angle/?utm_source=rss&utm_medium=rss&utm_campaign=numpy-angle\n\nPython Pool: Numpy Random Uniform Function Explained in Python\nWed, 06 Jan 2021 02:35:54 +0000\nhttps://www.pythonpool.com/numpy-random-uniform-function/?utm_source=rss&utm_medium=rss&utm_campaign=numpy-random-uniform-function\n\nMike C. Fletcher: PyOpenGL Build Enhancements\nWed, 06 Jan 2021 01:10:09 +0000\nhttp://blog.vrplumber.com/b/2021/01/05/pyopengl-build-enhancements/\n\nMatt Layman: Serving Static Files\nWed, 06 Jan 2021 00:00:00 +0000\nhttps://www.mattlayman.com/understand-django/serving-static-files/\n\nMike Driscoll: Pillow: Image Processing with Python Book Sample\nTue, 05 Jan 2021 20:36:56 +0000\nhttps://www.blog.pythonlibrary.org/2021/01/05/pillow-image-processing-with-python-book-sample/\n\nPyCoder’s Weekly: Issue #454 (Jan. 5, 2021)\nTue, 05 Jan 2021 19:30:00 +0000\nhttps://pycoders.com/issues/454\n\nPython Morsels: What are Dunder Methods?\nTue, 05 Jan 2021 16:00:00 +0000\nhttps://www.pythonmorsels.com/topics/what-are-dunder-methods/\n\nReal Python: Building With Django REST Framework\nTue, 05 Jan 2021 14:00:00 +0000\nhttps://realpython.com/courses/django-rest-framework/\n\nStack Abuse: How to Merge DataFrames in Pandas - merge(), join(), append(), concat() and update()\nTue, 05 Jan 2021 13:30:00 +0000\nhttps://stackabuse.com/how-to-merge-dataframes-in-pandas/\n\nMike Driscoll: New Effective Book Authoring Course from Matt Harrison\nTue, 05 Jan 2021 06:05:28 +0000\nhttps://www.blog.pythonlibrary.org/2021/01/05/new-effective-book-authoring-course-from-matt-harrison/\n\nFull Stack Python: Using Django &amp; AssemblyAI for More Accurate Twilio Call Transcriptions\nTue, 05 Jan 2021 05:00:00 +0000\nhttps://www.fullstackpython.com/blog/django-accurate-twilio-voice-transcriptions.html\n\nPython Pool: Numpy isin Function Explained With Examples in Python\nTue, 05 Jan 2021 03:16:15 +0000\nhttps://www.pythonpool.com/numpy-isin/?utm_source=rss&utm_medium=rss&utm_campaign=numpy-isin\n\nPodcast.__init__: How Python's Evolution Impacts Your Fluency With Luciano Ramalho\nTue, 05 Jan 2021 00:41:35 +0000\nhttps://www.pythonpodcast.com/luciano-ramalho-python-evolution-episode-296/\n\nMatthew Wright: Boolean Indexing in Pandas\nMon, 04 Jan 2021 23:26:29 +0000\nhttps://www.wrighters.io/2021/01/04/boolean-indexing-in-pandas/\n\nErik Marsja: How to Make a Violin plot in Python using Matplotlib and Seaborn\nMon, 04 Jan 2021 22:37:42 +0000\nhttps://www.marsja.se/how-to-make-a-violin-plot-in-python-using-matplotlib-and-seaborn/\n\nWeekly Python StackOverflow Report: 20 best Python questions at stackoverflow in 2020\nMon, 04 Jan 2021 19:27:00 +0000\nhttp://python-weekly.blogspot.com/2021/01/20-best-python-questions-at.html\n\nPython Insider: Python 3.10.0a4 is now available for testing\nMon, 04 Jan 2021 16:38:16 +0000\nhttp://feedproxy.google.com/~r/PythonInsider/~3/N_JPVuqR_Hc/python-3100a4-is-now-available-for.html\n\n"
     ]
    }
   ],
   "source": [
    "from io import StringIO\n",
    "from urllib.request import urlopen\n",
    "from xml.etree.ElementTree import parse\n",
    "\n",
    "u = urlopen('http://planet.python.org/rss20.xml')\n",
    "f = StringIO(u.read().decode('utf-8'))\n",
    "# print(f.getvalue())\n",
    "# print('-' * 80)\n",
    "\n",
    "doc = parse(f)\n",
    "for item in doc.iterfind('channel/item'):\n",
    "    title = item.findtext('title')\n",
    "    date = item.findtext('pubDate')\n",
    "    link = item.findtext('link')\n",
    "    print(title, date, link, sep='\\n')\n",
    "    print()"
   ]
  }
 ]
}