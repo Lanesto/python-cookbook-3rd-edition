{
 "metadata": {
  "language_info": {
   "codemirror_mode": {
    "name": "ipython",
    "version": 3
   },
   "file_extension": ".py",
   "mimetype": "text/x-python",
   "name": "python",
   "nbconvert_exporter": "python",
   "pygments_lexer": "ipython3",
   "version": "3.9.1-final"
  },
  "orig_nbformat": 2,
  "kernelspec": {
   "name": "python3",
   "display_name": "Python 3",
   "language": "python"
  }
 },
 "nbformat": 4,
 "nbformat_minor": 2,
 "cells": [
  {
   "cell_type": "code",
   "execution_count": 1,
   "metadata": {},
   "outputs": [],
   "source": [
    "%load_ext pycodestyle_magic\n",
    "%load_ext mypy_ipython\n",
    "%pycodestyle_on"
   ]
  },
  {
   "cell_type": "code",
   "execution_count": 2,
   "metadata": {},
   "outputs": [],
   "source": [
    "import doctest"
   ]
  },
  {
   "cell_type": "code",
   "execution_count": 3,
   "metadata": {},
   "outputs": [
    {
     "output_type": "stream",
     "name": "stdout",
     "text": [
      "{'name': 'ACME', 'shares': 100, 'price': 542.23}\n"
     ]
    }
   ],
   "source": [
    "import json\n",
    "\n",
    "data = {\n",
    "    'name': 'ACME',\n",
    "    'shares': 100,\n",
    "    'price': 542.23\n",
    "}\n",
    "\n",
    "json_str = json.dumps(data)\n",
    "data = json.loads(json_str)\n",
    "\n",
    "print(data)"
   ]
  },
  {
   "cell_type": "code",
   "execution_count": 4,
   "metadata": {},
   "outputs": [
    {
     "output_type": "stream",
     "name": "stdout",
     "text": [
      "{'a': 123, 'b': [1, 3, 7, True], 'c': {'d': [1, 2], 'e': None, 'f': True}}\n"
     ]
    }
   ],
   "source": [
    "import json\n",
    "from io import StringIO\n",
    "\n",
    "data = {\n",
    "    'a': 123,\n",
    "    'b': [1, 3, 7, True],\n",
    "    'c': {\n",
    "        'd': (1, 2),\n",
    "        'e': None,\n",
    "        'f': True\n",
    "    }\n",
    "}\n",
    "\n",
    "with StringIO() as f:\n",
    "    json.dump(data, f)\n",
    "    f.seek(0)\n",
    "    data = json.load(f)\n",
    "    print(data)"
   ]
  },
  {
   "cell_type": "code",
   "execution_count": 5,
   "metadata": {},
   "outputs": [
    {
     "output_type": "stream",
     "name": "stdout",
     "text": [
      "OrderedDict([('args', OrderedDict()),\n             ('headers',\n              OrderedDict([('Accept-Encoding', 'identity'),\n                           ('Host', 'httpbin.org'),\n                           ('User-Agent', 'Python-urllib/3.9'),\n                           ('X-Amzn-Trace-Id',\n                            'Root=1-5ff6a449-653a9ddd5a1e0b3f5da7684c')])),\n             ('origin', '182.231.167.89'),\n             ('url', 'http://httpbin.org/get')])\n"
     ]
    }
   ],
   "source": [
    "from collections import OrderedDict\n",
    "from urllib.request import urlopen\n",
    "from pprint import pprint\n",
    "import json\n",
    "\n",
    "u = urlopen('http://httpbin.org/get')\n",
    "resp = json.loads(u.read().decode('utf-8'),\n",
    "                  object_pairs_hook=OrderedDict,\n",
    "                  object_hook=tuple)\n",
    "pprint(resp)"
   ]
  },
  {
   "cell_type": "code",
   "execution_count": 6,
   "metadata": {},
   "outputs": [
    {
     "output_type": "execute_result",
     "data": {
      "text/plain": [
       "TestResults(failed=0, attempted=6)"
      ]
     },
     "metadata": {},
     "execution_count": 6
    }
   ],
   "source": [
    "import json\n",
    "\n",
    "\n",
    "class Point:\n",
    "\n",
    "    def __init__(self, x, y):\n",
    "        self.x = x\n",
    "        self.y = y\n",
    "\n",
    "\n",
    "classes = {\n",
    "    'Point': Point\n",
    "}\n",
    "\n",
    "\n",
    "def serialize(obj):\n",
    "    d = {\n",
    "        '__classname__': obj.__class__.__name__,\n",
    "    }\n",
    "    d.update(vars(obj))\n",
    "    return d\n",
    "\n",
    "\n",
    "def unserialize(d):\n",
    "    clsname = d.pop('__classname__', None)\n",
    "    if clsname:\n",
    "        cls = classes[clsname]\n",
    "        obj = cls.__new__(cls)\n",
    "        for key, value in d.items():\n",
    "            setattr(obj, key, value)\n",
    "\n",
    "        return obj\n",
    "    else:\n",
    "        return d\n",
    "\n",
    "\n",
    "\"\"\"\n",
    "\n",
    ">>> p = Point(2, 3)\n",
    ">>> s = json.dumps(p, default=serialize)\n",
    ">>> s\n",
    "'{\"__classname__\": \"Point\", \"x\": 2, \"y\": 3}'\n",
    ">>> a = json.loads(s, object_hook=unserialize)\n",
    ">>> a  # doctest: +ELLIPSIS\n",
    "<__main__.Point object at ...>\n",
    ">>> a.x, a.y\n",
    "(2, 3)\n",
    "\"\"\"\n",
    "\n",
    "doctest.testmod()"
   ]
  }
 ]
}