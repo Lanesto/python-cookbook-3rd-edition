{
 "metadata": {
  "language_info": {
   "codemirror_mode": {
    "name": "ipython",
    "version": 3
   },
   "file_extension": ".py",
   "mimetype": "text/x-python",
   "name": "python",
   "nbconvert_exporter": "python",
   "pygments_lexer": "ipython3",
   "version": "3.9.1-final"
  },
  "orig_nbformat": 2,
  "kernelspec": {
   "name": "python3",
   "display_name": "Python 3",
   "language": "python"
  }
 },
 "nbformat": 4,
 "nbformat_minor": 2,
 "cells": [
  {
   "cell_type": "code",
   "execution_count": 1,
   "metadata": {},
   "outputs": [],
   "source": [
    "%load_ext pycodestyle_magic\n",
    "%load_ext mypy_ipython\n",
    "%pycodestyle_on"
   ]
  },
  {
   "cell_type": "code",
   "execution_count": 2,
   "metadata": {},
   "outputs": [],
   "source": [
    "import doctest"
   ]
  },
  {
   "cell_type": "code",
   "execution_count": 3,
   "metadata": {},
   "outputs": [
    {
     "output_type": "execute_result",
     "data": {
      "text/plain": [
       "TestResults(failed=0, attempted=6)"
      ]
     },
     "metadata": {},
     "execution_count": 3
    }
   ],
   "source": [
    "from xml.etree.ElementTree import Element, tostring\n",
    "\n",
    "\n",
    "def dict_to_xml(tag, d):\n",
    "    elem = Element(tag)\n",
    "    for key, value in d.items():\n",
    "        child = Element(key)\n",
    "        child.text = str(value)\n",
    "        elem.append(child)\n",
    "\n",
    "    return elem\n",
    "\n",
    "\n",
    "\"\"\"\n",
    "\n",
    ">>> s = {'name': 'GOOG', 'shares': 100, 'price': 490.1}\n",
    ">>> e = dict_to_xml('stock', s)\n",
    ">>> e  # doctest: +ELLIPSIS\n",
    "<Element 'stock' at ...>\n",
    ">>> tostring(e)\n",
    "b'<stock><name>GOOG</name><shares>100</shares><price>490.1</price></stock>'\n",
    ">>> e.set('id', '1234')\n",
    ">>> tostring(e)\n",
    "b'<stock id=\"1234\"><name>GOOG</name><shares>100</shares><price>490.1</price></stock>'\n",
    "\n",
    "\"\"\"  # noqa: E501\n",
    "\n",
    "doctest.testmod()"
   ]
  }
 ]
}