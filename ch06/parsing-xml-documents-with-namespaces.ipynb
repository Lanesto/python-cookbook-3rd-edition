{
 "metadata": {
  "language_info": {
   "codemirror_mode": {
    "name": "ipython",
    "version": 3
   },
   "file_extension": ".py",
   "mimetype": "text/x-python",
   "name": "python",
   "nbconvert_exporter": "python",
   "pygments_lexer": "ipython3",
   "version": "3.9.1-final"
  },
  "orig_nbformat": 2,
  "kernelspec": {
   "name": "python3",
   "display_name": "Python 3",
   "language": "python"
  }
 },
 "nbformat": 4,
 "nbformat_minor": 2,
 "cells": [
  {
   "cell_type": "code",
   "execution_count": 1,
   "metadata": {},
   "outputs": [],
   "source": [
    "%load_ext pycodestyle_magic\n",
    "%load_ext mypy_ipython\n",
    "%pycodestyle_on"
   ]
  },
  {
   "cell_type": "code",
   "execution_count": 2,
   "metadata": {},
   "outputs": [],
   "source": [
    "import doctest"
   ]
  },
  {
   "cell_type": "code",
   "execution_count": 3,
   "metadata": {},
   "outputs": [
    {
     "output_type": "execute_result",
     "data": {
      "text/plain": [
       "TestResults(failed=0, attempted=6)"
      ]
     },
     "metadata": {},
     "execution_count": 3
    }
   ],
   "source": [
    "from xml.etree.ElementTree import parse, iterparse\n",
    "\n",
    "\n",
    "class XMLNameSpaces:\n",
    "\n",
    "    def __init__(self, **kwargs):\n",
    "        self.namespaces = {}\n",
    "        for name, uri in kwargs.items():\n",
    "            self.register(name, uri)\n",
    "\n",
    "    def __call__(self, path):\n",
    "        return path.format_map(self.namespaces)\n",
    "\n",
    "    def register(self, name, uri):\n",
    "        self.namespaces[name] = '{' + uri + '}'\n",
    "\n",
    "\n",
    "\"\"\"\n",
    "\n",
    ">>> doc = parse('sample.xml')\n",
    ">>> ns = XMLNameSpaces(html='http://www.w3.org/1999/xhtml')\n",
    ">>> doc.find(ns('content/{html}html'))  # doctest: +ELLIPSIS\n",
    "<Element '{http://www.w3.org/1999/xhtml}html' at ...>\n",
    ">>> ns('content/{html}html/{html}head/{html}title')\n",
    "'content/{http://www.w3.org/1999/xhtml}html/{http://www.w3.org/1999/xhtml}head/{http://www.w3.org/1999/xhtml}title'\n",
    ">>> doc.findtext(ns('content/{html}html/{html}head/{html}title'))\n",
    "'Hello World'\n",
    ">>> for event, element in iterparse('sample.xml', ('end', 'start-ns', 'end-ns')):  # noqa: E501  # doctest: +ELLIPSIS\n",
    "...     print(event, element)\n",
    "end <Element 'author' at ...>\n",
    "start-ns ('', 'http://www.w3.org/1999/xhtml')\n",
    "end <Element '{http://www.w3.org/1999/xhtml}title' at ...>\n",
    "end <Element '{http://www.w3.org/1999/xhtml}head' at ...>\n",
    "end <Element '{http://www.w3.org/1999/xhtml}h1' at ...>\n",
    "end <Element '{http://www.w3.org/1999/xhtml}body' at ...>\n",
    "end <Element '{http://www.w3.org/1999/xhtml}html' at ...>\n",
    "end-ns None\n",
    "end <Element 'content' at ...>\n",
    "end <Element 'top' at ...>\n",
    "\"\"\"\n",
    "\n",
    "doctest.testmod()"
   ]
  }
 ]
}