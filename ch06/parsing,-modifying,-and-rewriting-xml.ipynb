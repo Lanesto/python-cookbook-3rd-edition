{
 "metadata": {
  "language_info": {
   "codemirror_mode": {
    "name": "ipython",
    "version": 3
   },
   "file_extension": ".py",
   "mimetype": "text/x-python",
   "name": "python",
   "nbconvert_exporter": "python",
   "pygments_lexer": "ipython3",
   "version": "3.9.1-final"
  },
  "orig_nbformat": 2,
  "kernelspec": {
   "name": "python3",
   "display_name": "Python 3",
   "language": "python"
  }
 },
 "nbformat": 4,
 "nbformat_minor": 2,
 "cells": [
  {
   "cell_type": "code",
   "execution_count": 1,
   "metadata": {},
   "outputs": [],
   "source": [
    "%load_ext pycodestyle_magic\n",
    "%load_ext mypy_ipython\n",
    "%pycodestyle_on"
   ]
  },
  {
   "cell_type": "code",
   "execution_count": 2,
   "metadata": {},
   "outputs": [],
   "source": [
    "import doctest"
   ]
  },
  {
   "cell_type": "code",
   "execution_count": 3,
   "metadata": {},
   "outputs": [
    {
     "output_type": "execute_result",
     "data": {
      "text/plain": [
       "TestResults(failed=0, attempted=10)"
      ]
     },
     "metadata": {},
     "execution_count": 3
    }
   ],
   "source": [
    "from xml.etree.ElementTree import Element, parse\n",
    "from io import StringIO, BytesIO\n",
    "\n",
    "\n",
    "\"\"\"\n",
    ">>> with open('pred.xml', 'rt') as f, \\\\\n",
    "...      StringIO(f.read()) as g:\n",
    "...     doc = parse(g)\n",
    ">>> root = doc.getroot()\n",
    ">>> root.remove(root.find('sri'))\n",
    ">>> root.remove(root.find('cr'))\n",
    ">>> n = list(root.iter()).index(root.find('nm'))\n",
    ">>> e = Element('spam')\n",
    ">>> e.text = 'A Test'\n",
    ">>> root.insert(n + 1, e)\n",
    ">>> with BytesIO() as h:\n",
    "...     doc.write(h, xml_declaration=True)\n",
    "...     content = h.getvalue()\n",
    ">>> print(content.decode('utf-8'))  # doctest: +NORMALIZE_WHITESPACE\n",
    "<?xml version='1.0' encoding='us-ascii'?>\n",
    "<stop>\n",
    "    <id>14791</id>\n",
    "    <nm>Clark &amp; Balmoral</nm>\n",
    "    <pre>\n",
    "        <pt>5 MIN</pt>\n",
    "        <fd>Howard</fd>\n",
    "        <v>1378</v>\n",
    "        <rn>22</rn>\n",
    "    </pre>\n",
    "    <spam>A Test</spam><pre>\n",
    "        <pt>15 MIN</pt>\n",
    "        <fd>Howard</fd>\n",
    "        <v>1867</v>\n",
    "        <rn>22</rn>\n",
    "    </pre>\n",
    "</stop>\n",
    "\"\"\"\n",
    "\n",
    "doctest.testmod()"
   ]
  },
  {
   "cell_type": "code",
   "execution_count": null,
   "metadata": {},
   "outputs": [],
   "source": []
  }
 ]
}