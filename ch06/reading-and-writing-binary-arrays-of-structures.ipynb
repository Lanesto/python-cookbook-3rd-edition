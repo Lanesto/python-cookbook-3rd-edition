{
 "metadata": {
  "language_info": {
   "codemirror_mode": {
    "name": "ipython",
    "version": 3
   },
   "file_extension": ".py",
   "mimetype": "text/x-python",
   "name": "python",
   "nbconvert_exporter": "python",
   "pygments_lexer": "ipython3",
   "version": "3.9.1-final"
  },
  "orig_nbformat": 2,
  "kernelspec": {
   "name": "python3",
   "display_name": "Python 3",
   "language": "python"
  }
 },
 "nbformat": 4,
 "nbformat_minor": 2,
 "cells": [
  {
   "cell_type": "code",
   "execution_count": 1,
   "metadata": {},
   "outputs": [],
   "source": [
    "%load_ext pycodestyle_magic\n",
    "%load_ext mypy_ipython\n",
    "%pycodestyle_on"
   ]
  },
  {
   "cell_type": "code",
   "execution_count": 2,
   "metadata": {},
   "outputs": [],
   "source": [
    "import doctest"
   ]
  },
  {
   "cell_type": "code",
   "execution_count": 3,
   "metadata": {},
   "outputs": [
    {
     "output_type": "stream",
     "name": "stderr",
     "text": [
      "36:1: W391 blank line at end of file\n",
      "b'\\x01\\x00\\x00\\x00ffffff\\x02@\\x00\\x00\\x00\\x00\\x00\\x00\\x12@\\x06\\x00\\x00\\x00333333\\x1f@\\x00\\x00\\x00\\x00\\x00\\x00\"@\\x0c\\x00\\x00\\x00\\xcd\\xcc\\xcc\\xcc\\xcc\\xcc*@\\x9a\\x99\\x99\\x99\\x99YL@'\n",
      "\n",
      "--------------------------------------------------------------------------------\n",
      "\n",
      "[Record(kind=1, x=2.3, y=4.5), Record(kind=6, x=7.8, y=9.0), Record(kind=12, x=13.4, y=56.7)]\n"
     ]
    }
   ],
   "source": [
    "from io import BytesIO\n",
    "from struct import Struct\n",
    "from collections import namedtuple\n",
    "\n",
    "Record = namedtuple('Record', 'kind x y')\n",
    "\n",
    "\n",
    "def write_records(records, format, f):\n",
    "    record_struct = Struct(format)\n",
    "    for r in records:\n",
    "        f.write(record_struct.pack(*r))\n",
    "\n",
    "\n",
    "def read_records(format, f):\n",
    "    record_struct = Struct(format)\n",
    "    chunks = iter(lambda: f.read(record_struct.size), b'')\n",
    "    return (record_struct.unpack(chunk) for chunk in chunks)\n",
    "\n",
    "\n",
    "records = [Record(1, 2.3, 4.5),\n",
    "           Record(6, 7.8, 9.0),\n",
    "           Record(12, 13.4, 56.7)]\n",
    "\n",
    "with BytesIO() as f:\n",
    "    write_records(records, '<idd', f)\n",
    "    bin_data = f.getvalue()\n",
    "\n",
    "print(bin_data)\n",
    "print()\n",
    "print('-' * 80)\n",
    "print()\n",
    "\n",
    "with BytesIO(bin_data) as f:\n",
    "    records = (Record(*r) for r in read_records('<idd', f))\n",
    "    print(list(records))\n"
   ]
  }
 ]
}