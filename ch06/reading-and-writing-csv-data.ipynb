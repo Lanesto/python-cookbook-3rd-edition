{
 "metadata": {
  "language_info": {
   "codemirror_mode": {
    "name": "ipython",
    "version": 3
   },
   "file_extension": ".py",
   "mimetype": "text/x-python",
   "name": "python",
   "nbconvert_exporter": "python",
   "pygments_lexer": "ipython3",
   "version": "3.9.1-final"
  },
  "orig_nbformat": 2,
  "kernelspec": {
   "name": "python3",
   "display_name": "Python 3",
   "language": "python"
  }
 },
 "nbformat": 4,
 "nbformat_minor": 2,
 "cells": [
  {
   "cell_type": "code",
   "execution_count": 1,
   "metadata": {},
   "outputs": [],
   "source": [
    "%load_ext pycodestyle_magic\n",
    "%load_ext mypy_ipython\n",
    "%pycodestyle_on"
   ]
  },
  {
   "cell_type": "code",
   "execution_count": 2,
   "metadata": {},
   "outputs": [],
   "source": [
    "import doctest"
   ]
  },
  {
   "cell_type": "code",
   "execution_count": 3,
   "metadata": {},
   "outputs": [
    {
     "output_type": "stream",
     "name": "stdout",
     "text": [
      "Row(Symbol='AA', Price='39.48', Date='6/11/2007', Time='9:36am', Change='-0.18', Volume='181800')\nRow(Symbol='AIG', Price='71.38', Date='6/11/2007', Time='9:36am', Change='-0.15', Volume='195500')\nRow(Symbol='AXP', Price='62.58', Date='6/11/2007', Time='9:36am', Change='-0.46', Volume='935000')\nRow(Symbol='BA', Price='98.31', Date='6/11/2007', Time='9:36am', Change='+0.12', Volume='104800')\nRow(Symbol='C', Price='53.08', Date='6/11/2007', Time='9:36am', Change='-0.25', Volume='360900')\nRow(Symbol='CAT', Price='78.29', Date='6/11/2007', Time='9:36am', Change='-0.23', Volume='225400')\n"
     ]
    }
   ],
   "source": [
    "from collections import namedtuple\n",
    "import csv\n",
    "\n",
    "with open('stocks.csv') as f:\n",
    "    f_csv = csv.reader(f)\n",
    "    headers = next(f_csv)\n",
    "    Row = namedtuple('Row', headers)\n",
    "    for row in f_csv:\n",
    "        row = Row(*row)\n",
    "        print(row)"
   ]
  },
  {
   "cell_type": "code",
   "execution_count": 4,
   "metadata": {},
   "outputs": [
    {
     "output_type": "stream",
     "name": "stdout",
     "text": [
      "Symbol,Price,Date,Time,Change,Volume\nAA,39.48,6/11/2007,9:36am,-0.18,181800\nAIG,71.38,6/11/2007,9:36am,-0.15,195500\nAXP,62.58,6/11/2007,9:36am,-0.46,935000\nBA,98.31,6/11/2007,9:36am,+0.12,104800\nC,53.08,6/11/2007,9:36am,-0.25,360900\nCAT,78.29,6/11/2007,9:36am,-0.23,225400\n\n"
     ]
    }
   ],
   "source": [
    "import csv\n",
    "from io import StringIO\n",
    "\n",
    "headers = ['Symbol', 'Price', 'Date', 'Time', 'Change', 'Volume']\n",
    "rows = [\n",
    "    ('AA', '39.48', '6/11/2007', '9:36am', '-0.18', '181800'),\n",
    "    ('AIG', '71.38', '6/11/2007', '9:36am', '-0.15', '195500'),\n",
    "    ('AXP', '62.58', '6/11/2007', '9:36am', '-0.46', '935000'),\n",
    "    ('BA', '98.31', '6/11/2007', '9:36am', '+0.12', '104800'),\n",
    "    ('C', '53.08', '6/11/2007', '9:36am', '-0.25', '360900'),\n",
    "    ('CAT', '78.29', '6/11/2007', '9:36am', '-0.23', '225400')\n",
    "]\n",
    "\n",
    "with StringIO() as f:\n",
    "    f_csv = csv.writer(f)\n",
    "    f_csv.writerow(headers)\n",
    "    f_csv.writerows(rows)\n",
    "    print(f.getvalue())"
   ]
  },
  {
   "cell_type": "code",
   "execution_count": 5,
   "metadata": {},
   "outputs": [
    {
     "output_type": "stream",
     "name": "stdout",
     "text": [
      "Symbol,Price,Date,Time,Change,Volume\nAA,39.48,6/11/2007,9:36am,-0.18,181800\nAIG,71.38,6/11/2007,9:36am,-0.15,195500\nAXP,62.58,6/11/2007,9:36am,-0.46,935000\nBA,98.31,6/11/2007,9:36am,+0.12,104800\nC,53.08,6/11/2007,9:36am,-0.25,360900\nCAT,78.29,6/11/2007,9:36am,-0.23,225400\n\n"
     ]
    }
   ],
   "source": [
    "import csv\n",
    "from io import StringIO\n",
    "\n",
    "headers = ['Symbol', 'Price', 'Date', 'Time', 'Change', 'Volume']\n",
    "rows = [\n",
    "    {'Symbol': 'AA', 'Price': '39.48', 'Date': '6/11/2007', 'Time': '9:36am', 'Change': '-0.18', 'Volume': '181800'},  # noqa: E501\n",
    "    {'Symbol': 'AIG', 'Price': '71.38', 'Date': '6/11/2007', 'Time': '9:36am', 'Change': '-0.15', 'Volume': '195500'},  # noqa: E501\n",
    "    {'Symbol': 'AXP', 'Price': '62.58', 'Date': '6/11/2007', 'Time': '9:36am', 'Change': '-0.46', 'Volume': '935000'},  # noqa: E501\n",
    "    {'Symbol': 'BA', 'Price': '98.31', 'Date': '6/11/2007', 'Time': '9:36am', 'Change': '+0.12', 'Volume': '104800'},  # noqa: E501\n",
    "    {'Symbol': 'C', 'Price': '53.08', 'Date': '6/11/2007', 'Time': '9:36am', 'Change': '-0.25', 'Volume': '360900'},  # noqa: E501\n",
    "    {'Symbol': 'CAT', 'Price': '78.29', 'Date': '6/11/2007', 'Time': '9:36am', 'Change': '-0.23', 'Volume': '225400'},  # noqa: E501\n",
    "]\n",
    "\n",
    "with StringIO() as f:\n",
    "    f_csv = csv.DictWriter(f, headers)\n",
    "    f_csv.writeheader()\n",
    "    f_csv.writerows(rows)\n",
    "    print(f.getvalue())"
   ]
  },
  {
   "cell_type": "code",
   "execution_count": 6,
   "metadata": {},
   "outputs": [
    {
     "output_type": "stream",
     "name": "stdout",
     "text": [
      "Symbol Price Date Time Change Volume\nAA 39.48 6/11/2007 9:36am -0.18 181800\nAIG 71.38 6/11/2007 9:36am -0.15 195500\nAXP 62.58 6/11/2007 9:36am -0.46 935000\nBA 98.31 6/11/2007 9:36am +0.12 104800\nC 53.08 6/11/2007 9:36am -0.25 360900\nCAT 78.29 6/11/2007 9:36am -0.23 225400\n"
     ]
    }
   ],
   "source": [
    "import csv\n",
    "\n",
    "with open('stocks.tsv') as f:\n",
    "    f_tsv = csv.reader(f, delimiter='\\t')\n",
    "    for row in f_tsv:\n",
    "        print(*row)"
   ]
  },
  {
   "cell_type": "code",
   "execution_count": 7,
   "metadata": {},
   "outputs": [
    {
     "output_type": "stream",
     "name": "stdout",
     "text": [
      "Row(Street_Address='5412 N CLARK', Num_Premises=10, Latitude=41.980262, Longitude=-87.668452)\n"
     ]
    }
   ],
   "source": [
    "import csv\n",
    "import re\n",
    "from io import StringIO\n",
    "from collections import namedtuple\n",
    "\n",
    "non_py_identifier = re.compile(r'[^a-zA-Z_]')\n",
    "col_types = (str, int, float, float)\n",
    "\n",
    "f = StringIO(\"Street Address,Num-Premises,Latitude,Longitude\\n\"\n",
    "             \"5412 N CLARK,10,41.980262,-87.668452\")\n",
    "f_csv = csv.reader(f)\n",
    "headers = next(f_csv)\n",
    "headers = [non_py_identifier.sub('_', h) for h in headers]\n",
    "Row = namedtuple('Row', headers)\n",
    "for row in f_csv:\n",
    "    row = tuple(conv(val) for conv, val in zip(col_types, row))\n",
    "    row = Row(*row)\n",
    "    print(row)\n",
    "\n",
    "f.close()"
   ]
  }
 ]
}