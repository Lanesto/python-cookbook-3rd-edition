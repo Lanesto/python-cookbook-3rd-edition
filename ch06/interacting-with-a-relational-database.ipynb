{
 "metadata": {
  "language_info": {
   "codemirror_mode": {
    "name": "ipython",
    "version": 3
   },
   "file_extension": ".py",
   "mimetype": "text/x-python",
   "name": "python",
   "nbconvert_exporter": "python",
   "pygments_lexer": "ipython3",
   "version": "3.9.1-final"
  },
  "orig_nbformat": 2,
  "kernelspec": {
   "name": "python3",
   "display_name": "Python 3",
   "language": "python"
  }
 },
 "nbformat": 4,
 "nbformat_minor": 2,
 "cells": [
  {
   "cell_type": "code",
   "execution_count": 1,
   "metadata": {},
   "outputs": [],
   "source": [
    "%load_ext pycodestyle_magic\n",
    "%load_ext mypy_ipython\n",
    "%pycodestyle_on"
   ]
  },
  {
   "cell_type": "code",
   "execution_count": 2,
   "metadata": {},
   "outputs": [],
   "source": [
    "import doctest"
   ]
  },
  {
   "cell_type": "code",
   "execution_count": 3,
   "metadata": {},
   "outputs": [
    {
     "output_type": "stream",
     "name": "stdout",
     "text": [
      "('GOOG', 100, 490.1)\n('AAPL', 50, 545.75)\n"
     ]
    }
   ],
   "source": [
    "import os\n",
    "import sqlite3\n",
    "\n",
    "db = sqlite3.connect('database.db')\n",
    "cur = db.cursor()\n",
    "\n",
    "cur.execute('''\n",
    "create table portfolio (\n",
    "    symbol text,\n",
    "    shares integer,\n",
    "    price real\n",
    ")''')\n",
    "db.commit()\n",
    "\n",
    "stocks = [\n",
    "    ('GOOG', 100, 490.1),\n",
    "    ('AAPL', 50, 545.75),\n",
    "    ('FB', 150, 7.45),\n",
    "    ('HPQ', 75, 33.2)\n",
    "]\n",
    "cur.executemany('insert into portfolio values (?, ?, ?)', stocks)\n",
    "db.commit()\n",
    "\n",
    "for row in db.execute('select * from portfolio where price >= ?', (100, )):\n",
    "    print(row)\n",
    "\n",
    "os.remove('database.db')"
   ]
  }
 ]
}