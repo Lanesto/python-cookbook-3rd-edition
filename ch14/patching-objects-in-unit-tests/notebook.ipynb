{
 "metadata": {
  "language_info": {
   "codemirror_mode": {
    "name": "ipython",
    "version": 3
   },
   "file_extension": ".py",
   "mimetype": "text/x-python",
   "name": "python",
   "nbconvert_exporter": "python",
   "pygments_lexer": "ipython3",
   "version": "3.9.1-final"
  },
  "orig_nbformat": 2,
  "kernelspec": {
   "name": "python3",
   "display_name": "Python 3",
   "language": "python"
  }
 },
 "nbformat": 4,
 "nbformat_minor": 2,
 "cells": [
  {
   "cell_type": "code",
   "execution_count": 1,
   "metadata": {},
   "outputs": [],
   "source": [
    "%load_ext pycodestyle_magic\n",
    "%load_ext mypy_ipython\n",
    "%pycodestyle_on"
   ]
  },
  {
   "cell_type": "code",
   "execution_count": 2,
   "metadata": {},
   "outputs": [],
   "source": [
    "import doctest"
   ]
  },
  {
   "cell_type": "code",
   "execution_count": 3,
   "metadata": {},
   "outputs": [
    {
     "output_type": "stream",
     "name": "stdout",
     "text": [
      "patched_value\n"
     ]
    }
   ],
   "source": [
    "from unittest.mock import patch\n",
    "\n",
    "x = 42\n",
    "\n",
    "with patch('__main__.x', 'patched_value'):\n",
    "    print(x)"
   ]
  },
  {
   "cell_type": "code",
   "execution_count": 4,
   "metadata": {},
   "outputs": [
    {
     "output_type": "execute_result",
     "data": {
      "text/plain": [
       "TestResults(failed=0, attempted=15)"
      ]
     },
     "metadata": {},
     "execution_count": 4
    }
   ],
   "source": [
    "\"\"\"\n",
    "MagicMock instance\n",
    "\n",
    "    >>> from unittest.mock import MagicMock\n",
    "    >>> m = MagicMock(return_value=10)\n",
    "    >>> m(1, 2, debug=True)\n",
    "    10\n",
    "    >>> m.assert_called_with(1, 2, debug=True)\n",
    "    >>> m.assert_called_with(1, 2, True)\n",
    "    Traceback (most recent call last):\n",
    "        ...\n",
    "    AssertionError: expected call not found.\n",
    "    Expected: mock(1, 2, True)\n",
    "    Actual: mock(1, 2, debug=True)\n",
    "\n",
    "Mock method\n",
    "\n",
    "    >>> m.upper.return_value = 'HELLO'\n",
    "    >>> m.upper('hello')\n",
    "    'HELLO'\n",
    "    >>> m.upper.called\n",
    "    True\n",
    "    >>> m.split.return_value = ['hello', 'world']\n",
    "    >>> m.split.called\n",
    "    False\n",
    "    >>> m.split('hello world')\n",
    "    ['hello', 'world']\n",
    "    >>> m.split.assert_called_with('hello world')\n",
    "    >>> m['blah']  # doctest: +ELLIPSIS\n",
    "    <MagicMock name='mock.__getitem__()' id='...'>\n",
    "    >>> m.__getitem__.called\n",
    "    True\n",
    "    >>> m.__getitem__.assert_called_with('blah')\n",
    "\n",
    "\"\"\"\n",
    "\n",
    "doctest.testmod()"
   ]
  },
  {
   "cell_type": "code",
   "execution_count": null,
   "metadata": {},
   "outputs": [],
   "source": []
  }
 ]
}